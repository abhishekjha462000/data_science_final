{
 "cells": [
  {
   "cell_type": "markdown",
   "id": "edc97e4c",
   "metadata": {},
   "source": [
    "# `pandas datetime remaining topics`"
   ]
  },
  {
   "cell_type": "code",
   "execution_count": 1,
   "id": "02690084",
   "metadata": {},
   "outputs": [],
   "source": [
    "import numpy as np\n",
    "import pandas as pd"
   ]
  },
  {
   "cell_type": "markdown",
   "id": "e821618d",
   "metadata": {},
   "source": [
    "#### `timedelta`\n",
    "\n",
    "    The timedelta object is used to return the difference between two pandas timestamp objects."
   ]
  },
  {
   "cell_type": "code",
   "execution_count": 2,
   "id": "e2041a8a",
   "metadata": {},
   "outputs": [
    {
     "data": {
      "text/plain": [
       "Timestamp('2024-03-26 20:04:00')"
      ]
     },
     "execution_count": 2,
     "metadata": {},
     "output_type": "execute_result"
    }
   ],
   "source": [
    "t1 = pd.Timestamp('26 March 2024 20:04')\n",
    "t1"
   ]
  },
  {
   "cell_type": "code",
   "execution_count": 3,
   "id": "cd5b84d2",
   "metadata": {},
   "outputs": [
    {
     "data": {
      "text/plain": [
       "Timestamp('2024-04-30 20:04:00')"
      ]
     },
     "execution_count": 3,
     "metadata": {},
     "output_type": "execute_result"
    }
   ],
   "source": [
    "t2 = pd.Timestamp('30 April 2024 20:04')\n",
    "t2"
   ]
  },
  {
   "cell_type": "code",
   "execution_count": 4,
   "id": "c8143acb",
   "metadata": {},
   "outputs": [
    {
     "data": {
      "text/plain": [
       "Timedelta('35 days 00:00:00')"
      ]
     },
     "execution_count": 4,
     "metadata": {},
     "output_type": "execute_result"
    }
   ],
   "source": [
    "t2 - t1"
   ]
  },
  {
   "cell_type": "code",
   "execution_count": 5,
   "id": "6f76d9e7",
   "metadata": {},
   "outputs": [
    {
     "data": {
      "text/plain": [
       "pandas._libs.tslibs.timedeltas.Timedelta"
      ]
     },
     "execution_count": 5,
     "metadata": {},
     "output_type": "execute_result"
    }
   ],
   "source": [
    "type(t2 - t1)"
   ]
  },
  {
   "cell_type": "code",
   "execution_count": 6,
   "id": "0a68db47",
   "metadata": {},
   "outputs": [
    {
     "data": {
      "text/plain": [
       "'Timedelta'"
      ]
     },
     "execution_count": 6,
     "metadata": {},
     "output_type": "execute_result"
    }
   ],
   "source": [
    "(t2 - t1).__class__.__name__"
   ]
  },
  {
   "cell_type": "markdown",
   "id": "0591fa11",
   "metadata": {},
   "source": [
    "##### `We can also create a timedelta object manually by using the pd.Timedelta() constructor.`\n",
    "\n",
    "    Available kwargs: {days, seconds, microseconds,\n",
    "    milliseconds, minutes, hours, weeks}"
   ]
  },
  {
   "cell_type": "code",
   "execution_count": 7,
   "id": "13b6744c",
   "metadata": {},
   "outputs": [
    {
     "data": {
      "text/plain": [
       "Timedelta('2 days 00:00:00')"
      ]
     },
     "execution_count": 7,
     "metadata": {},
     "output_type": "execute_result"
    }
   ],
   "source": [
    "pd.Timedelta(days = 2)"
   ]
  },
  {
   "cell_type": "code",
   "execution_count": 8,
   "id": "0bc5a34b",
   "metadata": {},
   "outputs": [
    {
     "data": {
      "text/plain": [
       "Timedelta('16 days 06:18:12')"
      ]
     },
     "execution_count": 8,
     "metadata": {},
     "output_type": "execute_result"
    }
   ],
   "source": [
    "delta = pd.Timedelta(weeks = 2, days = 2, hours = 5, minutes = 78, seconds = 12)\n",
    "delta"
   ]
  },
  {
   "cell_type": "markdown",
   "id": "5025d752",
   "metadata": {},
   "source": [
    "##### `We can also create a timedelta index object. It is a collection of timedelta objects.`"
   ]
  },
  {
   "cell_type": "code",
   "execution_count": 9,
   "id": "6c390d2b",
   "metadata": {},
   "outputs": [
    {
     "data": {
      "text/plain": [
       "TimedeltaIndex(['2 days 00:00:00', '3 days 06:30:40.000090'], dtype='timedelta64[ns]', freq=None)"
      ]
     },
     "execution_count": 9,
     "metadata": {},
     "output_type": "execute_result"
    }
   ],
   "source": [
    "pd.TimedeltaIndex(['2 days', '3 days 6 hours 30 minutes 40 seconds 90 microseconds'])"
   ]
  },
  {
   "cell_type": "markdown",
   "id": "2875dd31",
   "metadata": {},
   "source": [
    "## `Applying methods on DatetimeIndex object`\n",
    "\n",
    "    When we create a pandas DatetimeIndex object using Timestamp objects, we can either use this as a column in our \n",
    "    dataframe or we may chose to use it as index object of our series or dataframe."
   ]
  },
  {
   "cell_type": "code",
   "execution_count": 10,
   "id": "6ef74c9e",
   "metadata": {},
   "outputs": [
    {
     "data": {
      "text/plain": [
       "DatetimeIndex(['2022-03-02', '1899-07-04', '2022-06-21', '2023-09-21'], dtype='datetime64[ns]', freq=None)"
      ]
     },
     "execution_count": 10,
     "metadata": {},
     "output_type": "execute_result"
    }
   ],
   "source": [
    "index = pd.DatetimeIndex(['2 March 2022', '4 July 1899', '21 June 2022', '21 Sep 2023'])\n",
    "index"
   ]
  },
  {
   "cell_type": "markdown",
   "id": "1f5cd237",
   "metadata": {},
   "source": [
    "### `Note`\n",
    "`When we want to use date time methods on index object, then we do not need to use the dt accessor. When only need to use it, when we are dealing with a datetime column of a dataframe.`"
   ]
  },
  {
   "cell_type": "code",
   "execution_count": 11,
   "id": "0d23a7c7",
   "metadata": {},
   "outputs": [
    {
     "data": {
      "text/plain": [
       "Index(['Wednesday', 'Tuesday', 'Tuesday', 'Thursday'], dtype='object')"
      ]
     },
     "execution_count": 11,
     "metadata": {},
     "output_type": "execute_result"
    }
   ],
   "source": [
    "index.month_name()\n",
    "index.day_name()"
   ]
  },
  {
   "cell_type": "code",
   "execution_count": 12,
   "id": "ebef46a2",
   "metadata": {},
   "outputs": [
    {
     "data": {
      "text/plain": [
       "Index([0, 0, 0, 0], dtype='int32')"
      ]
     },
     "execution_count": 12,
     "metadata": {},
     "output_type": "execute_result"
    }
   ],
   "source": [
    "index.quarter\n",
    "index.day\n",
    "index.year\n",
    "index.month\n",
    "index.minute\n",
    "index.hour\n",
    "index.second"
   ]
  },
  {
   "cell_type": "markdown",
   "id": "e2514a7d",
   "metadata": {},
   "source": [
    "# `Time series data`\n",
    "\n",
    "    A time series data is a data which is taken over a period of time. As a data scientist, these types of data are very \n",
    "    important.\n",
    "    \n",
    "    Although we are not going to study time series data, we are going to study their analysis and that too only relative\n",
    "    to our context.\n",
    "    \n",
    "    We can either do time series data analysis or we may do forecasting on time series data.\n",
    "    \n",
    "    Time series is a very broad topic. We are not going to study the analysis or forecasting of time series. We are just\n",
    "    learning to do a bit of analysis on time series data."
   ]
  },
  {
   "cell_type": "code",
   "execution_count": 13,
   "id": "8e3a7940",
   "metadata": {},
   "outputs": [
    {
     "data": {
      "text/html": [
       "<div>\n",
       "<style scoped>\n",
       "    .dataframe tbody tr th:only-of-type {\n",
       "        vertical-align: middle;\n",
       "    }\n",
       "\n",
       "    .dataframe tbody tr th {\n",
       "        vertical-align: top;\n",
       "    }\n",
       "\n",
       "    .dataframe thead th {\n",
       "        text-align: right;\n",
       "    }\n",
       "</style>\n",
       "<table border=\"1\" class=\"dataframe\">\n",
       "  <thead>\n",
       "    <tr style=\"text-align: right;\">\n",
       "      <th></th>\n",
       "      <th>Date</th>\n",
       "      <th>Open</th>\n",
       "      <th>High</th>\n",
       "      <th>Low</th>\n",
       "      <th>Close</th>\n",
       "      <th>Adj Close</th>\n",
       "      <th>Volume</th>\n",
       "    </tr>\n",
       "  </thead>\n",
       "  <tbody>\n",
       "    <tr>\n",
       "      <th>0</th>\n",
       "      <td>2004-08-19</td>\n",
       "      <td>49.813290</td>\n",
       "      <td>51.835709</td>\n",
       "      <td>47.800831</td>\n",
       "      <td>49.982655</td>\n",
       "      <td>49.982655</td>\n",
       "      <td>44871361</td>\n",
       "    </tr>\n",
       "    <tr>\n",
       "      <th>1</th>\n",
       "      <td>2004-08-20</td>\n",
       "      <td>50.316402</td>\n",
       "      <td>54.336334</td>\n",
       "      <td>50.062355</td>\n",
       "      <td>53.952770</td>\n",
       "      <td>53.952770</td>\n",
       "      <td>22942874</td>\n",
       "    </tr>\n",
       "    <tr>\n",
       "      <th>2</th>\n",
       "      <td>2004-08-23</td>\n",
       "      <td>55.168217</td>\n",
       "      <td>56.528118</td>\n",
       "      <td>54.321388</td>\n",
       "      <td>54.495735</td>\n",
       "      <td>54.495735</td>\n",
       "      <td>18342897</td>\n",
       "    </tr>\n",
       "    <tr>\n",
       "      <th>3</th>\n",
       "      <td>2004-08-24</td>\n",
       "      <td>55.412300</td>\n",
       "      <td>55.591629</td>\n",
       "      <td>51.591621</td>\n",
       "      <td>52.239197</td>\n",
       "      <td>52.239197</td>\n",
       "      <td>15319808</td>\n",
       "    </tr>\n",
       "    <tr>\n",
       "      <th>4</th>\n",
       "      <td>2004-08-25</td>\n",
       "      <td>52.284027</td>\n",
       "      <td>53.798351</td>\n",
       "      <td>51.746044</td>\n",
       "      <td>52.802086</td>\n",
       "      <td>52.802086</td>\n",
       "      <td>9232276</td>\n",
       "    </tr>\n",
       "    <tr>\n",
       "      <th>...</th>\n",
       "      <td>...</td>\n",
       "      <td>...</td>\n",
       "      <td>...</td>\n",
       "      <td>...</td>\n",
       "      <td>...</td>\n",
       "      <td>...</td>\n",
       "      <td>...</td>\n",
       "    </tr>\n",
       "    <tr>\n",
       "      <th>4466</th>\n",
       "      <td>2022-05-16</td>\n",
       "      <td>2307.679932</td>\n",
       "      <td>2332.149902</td>\n",
       "      <td>2286.699951</td>\n",
       "      <td>2295.850098</td>\n",
       "      <td>2295.850098</td>\n",
       "      <td>1164100</td>\n",
       "    </tr>\n",
       "    <tr>\n",
       "      <th>4467</th>\n",
       "      <td>2022-05-17</td>\n",
       "      <td>2344.550049</td>\n",
       "      <td>2344.550049</td>\n",
       "      <td>2306.750000</td>\n",
       "      <td>2334.030029</td>\n",
       "      <td>2334.030029</td>\n",
       "      <td>1078800</td>\n",
       "    </tr>\n",
       "    <tr>\n",
       "      <th>4468</th>\n",
       "      <td>2022-05-18</td>\n",
       "      <td>2304.750000</td>\n",
       "      <td>2313.913086</td>\n",
       "      <td>2242.840088</td>\n",
       "      <td>2248.020020</td>\n",
       "      <td>2248.020020</td>\n",
       "      <td>1399100</td>\n",
       "    </tr>\n",
       "    <tr>\n",
       "      <th>4469</th>\n",
       "      <td>2022-05-19</td>\n",
       "      <td>2236.820068</td>\n",
       "      <td>2271.750000</td>\n",
       "      <td>2209.360107</td>\n",
       "      <td>2214.909912</td>\n",
       "      <td>2214.909912</td>\n",
       "      <td>1459600</td>\n",
       "    </tr>\n",
       "    <tr>\n",
       "      <th>4470</th>\n",
       "      <td>2022-05-20</td>\n",
       "      <td>2241.709961</td>\n",
       "      <td>2251.000000</td>\n",
       "      <td>2127.459961</td>\n",
       "      <td>2186.260010</td>\n",
       "      <td>2186.260010</td>\n",
       "      <td>1878100</td>\n",
       "    </tr>\n",
       "  </tbody>\n",
       "</table>\n",
       "<p>4471 rows × 7 columns</p>\n",
       "</div>"
      ],
      "text/plain": [
       "            Date         Open         High          Low        Close  \\\n",
       "0     2004-08-19    49.813290    51.835709    47.800831    49.982655   \n",
       "1     2004-08-20    50.316402    54.336334    50.062355    53.952770   \n",
       "2     2004-08-23    55.168217    56.528118    54.321388    54.495735   \n",
       "3     2004-08-24    55.412300    55.591629    51.591621    52.239197   \n",
       "4     2004-08-25    52.284027    53.798351    51.746044    52.802086   \n",
       "...          ...          ...          ...          ...          ...   \n",
       "4466  2022-05-16  2307.679932  2332.149902  2286.699951  2295.850098   \n",
       "4467  2022-05-17  2344.550049  2344.550049  2306.750000  2334.030029   \n",
       "4468  2022-05-18  2304.750000  2313.913086  2242.840088  2248.020020   \n",
       "4469  2022-05-19  2236.820068  2271.750000  2209.360107  2214.909912   \n",
       "4470  2022-05-20  2241.709961  2251.000000  2127.459961  2186.260010   \n",
       "\n",
       "        Adj Close    Volume  \n",
       "0       49.982655  44871361  \n",
       "1       53.952770  22942874  \n",
       "2       54.495735  18342897  \n",
       "3       52.239197  15319808  \n",
       "4       52.802086   9232276  \n",
       "...           ...       ...  \n",
       "4466  2295.850098   1164100  \n",
       "4467  2334.030029   1078800  \n",
       "4468  2248.020020   1399100  \n",
       "4469  2214.909912   1459600  \n",
       "4470  2186.260010   1878100  \n",
       "\n",
       "[4471 rows x 7 columns]"
      ]
     },
     "execution_count": 13,
     "metadata": {},
     "output_type": "execute_result"
    }
   ],
   "source": [
    "google = pd.read_csv('google.csv')\n",
    "google"
   ]
  },
  {
   "cell_type": "markdown",
   "id": "024d476a",
   "metadata": {},
   "source": [
    "`The first step while doing any time series analysis is to make the date column into a pandas datetime column and then make this a index of the dataframe.`"
   ]
  },
  {
   "cell_type": "code",
   "execution_count": 14,
   "id": "34abcc7d",
   "metadata": {},
   "outputs": [
    {
     "name": "stdout",
     "output_type": "stream",
     "text": [
      "<class 'pandas.core.frame.DataFrame'>\n",
      "RangeIndex: 4471 entries, 0 to 4470\n",
      "Data columns (total 7 columns):\n",
      " #   Column     Non-Null Count  Dtype  \n",
      "---  ------     --------------  -----  \n",
      " 0   Date       4471 non-null   object \n",
      " 1   Open       4471 non-null   float64\n",
      " 2   High       4471 non-null   float64\n",
      " 3   Low        4471 non-null   float64\n",
      " 4   Close      4471 non-null   float64\n",
      " 5   Adj Close  4471 non-null   float64\n",
      " 6   Volume     4471 non-null   int64  \n",
      "dtypes: float64(5), int64(1), object(1)\n",
      "memory usage: 244.6+ KB\n"
     ]
    }
   ],
   "source": [
    "google.info()"
   ]
  },
  {
   "cell_type": "markdown",
   "id": "3c6273cf",
   "metadata": {},
   "source": [
    "#### `As we can see that right now the Date column has data type as Object. Thus we need to change this.`"
   ]
  },
  {
   "cell_type": "code",
   "execution_count": 15,
   "id": "6cc50905",
   "metadata": {},
   "outputs": [
    {
     "name": "stdout",
     "output_type": "stream",
     "text": [
      "<class 'pandas.core.frame.DataFrame'>\n",
      "RangeIndex: 4471 entries, 0 to 4470\n",
      "Data columns (total 7 columns):\n",
      " #   Column     Non-Null Count  Dtype         \n",
      "---  ------     --------------  -----         \n",
      " 0   Date       4471 non-null   datetime64[ns]\n",
      " 1   Open       4471 non-null   float64       \n",
      " 2   High       4471 non-null   float64       \n",
      " 3   Low        4471 non-null   float64       \n",
      " 4   Close      4471 non-null   float64       \n",
      " 5   Adj Close  4471 non-null   float64       \n",
      " 6   Volume     4471 non-null   int64         \n",
      "dtypes: datetime64[ns](1), float64(5), int64(1)\n",
      "memory usage: 244.6 KB\n"
     ]
    }
   ],
   "source": [
    "google['Date'] = pd.to_datetime(google['Date'])\n",
    "google.info()"
   ]
  },
  {
   "cell_type": "markdown",
   "id": "6731e195",
   "metadata": {},
   "source": [
    "#### `Now we need to set this Date column as the index of our dataframe.`"
   ]
  },
  {
   "cell_type": "code",
   "execution_count": 16,
   "id": "c3dadfdd",
   "metadata": {},
   "outputs": [
    {
     "data": {
      "text/html": [
       "<div>\n",
       "<style scoped>\n",
       "    .dataframe tbody tr th:only-of-type {\n",
       "        vertical-align: middle;\n",
       "    }\n",
       "\n",
       "    .dataframe tbody tr th {\n",
       "        vertical-align: top;\n",
       "    }\n",
       "\n",
       "    .dataframe thead th {\n",
       "        text-align: right;\n",
       "    }\n",
       "</style>\n",
       "<table border=\"1\" class=\"dataframe\">\n",
       "  <thead>\n",
       "    <tr style=\"text-align: right;\">\n",
       "      <th></th>\n",
       "      <th>Open</th>\n",
       "      <th>High</th>\n",
       "      <th>Low</th>\n",
       "      <th>Close</th>\n",
       "      <th>Adj Close</th>\n",
       "      <th>Volume</th>\n",
       "    </tr>\n",
       "    <tr>\n",
       "      <th>Date</th>\n",
       "      <th></th>\n",
       "      <th></th>\n",
       "      <th></th>\n",
       "      <th></th>\n",
       "      <th></th>\n",
       "      <th></th>\n",
       "    </tr>\n",
       "  </thead>\n",
       "  <tbody>\n",
       "    <tr>\n",
       "      <th>2004-08-19</th>\n",
       "      <td>49.813290</td>\n",
       "      <td>51.835709</td>\n",
       "      <td>47.800831</td>\n",
       "      <td>49.982655</td>\n",
       "      <td>49.982655</td>\n",
       "      <td>44871361</td>\n",
       "    </tr>\n",
       "    <tr>\n",
       "      <th>2004-08-20</th>\n",
       "      <td>50.316402</td>\n",
       "      <td>54.336334</td>\n",
       "      <td>50.062355</td>\n",
       "      <td>53.952770</td>\n",
       "      <td>53.952770</td>\n",
       "      <td>22942874</td>\n",
       "    </tr>\n",
       "    <tr>\n",
       "      <th>2004-08-23</th>\n",
       "      <td>55.168217</td>\n",
       "      <td>56.528118</td>\n",
       "      <td>54.321388</td>\n",
       "      <td>54.495735</td>\n",
       "      <td>54.495735</td>\n",
       "      <td>18342897</td>\n",
       "    </tr>\n",
       "    <tr>\n",
       "      <th>2004-08-24</th>\n",
       "      <td>55.412300</td>\n",
       "      <td>55.591629</td>\n",
       "      <td>51.591621</td>\n",
       "      <td>52.239197</td>\n",
       "      <td>52.239197</td>\n",
       "      <td>15319808</td>\n",
       "    </tr>\n",
       "    <tr>\n",
       "      <th>2004-08-25</th>\n",
       "      <td>52.284027</td>\n",
       "      <td>53.798351</td>\n",
       "      <td>51.746044</td>\n",
       "      <td>52.802086</td>\n",
       "      <td>52.802086</td>\n",
       "      <td>9232276</td>\n",
       "    </tr>\n",
       "  </tbody>\n",
       "</table>\n",
       "</div>"
      ],
      "text/plain": [
       "                 Open       High        Low      Close  Adj Close    Volume\n",
       "Date                                                                       \n",
       "2004-08-19  49.813290  51.835709  47.800831  49.982655  49.982655  44871361\n",
       "2004-08-20  50.316402  54.336334  50.062355  53.952770  53.952770  22942874\n",
       "2004-08-23  55.168217  56.528118  54.321388  54.495735  54.495735  18342897\n",
       "2004-08-24  55.412300  55.591629  51.591621  52.239197  52.239197  15319808\n",
       "2004-08-25  52.284027  53.798351  51.746044  52.802086  52.802086   9232276"
      ]
     },
     "execution_count": 16,
     "metadata": {},
     "output_type": "execute_result"
    }
   ],
   "source": [
    "google = google.set_index('Date')\n",
    "google.head()"
   ]
  },
  {
   "cell_type": "markdown",
   "id": "b620383a",
   "metadata": {},
   "source": [
    "#### `Fetch the data of 24 August 2004`"
   ]
  },
  {
   "cell_type": "code",
   "execution_count": 17,
   "id": "9a17a575",
   "metadata": {},
   "outputs": [
    {
     "data": {
      "text/plain": [
       "Open         5.541230e+01\n",
       "High         5.559163e+01\n",
       "Low          5.159162e+01\n",
       "Close        5.223920e+01\n",
       "Adj Close    5.223920e+01\n",
       "Volume       1.531981e+07\n",
       "Name: 2004-08-24 00:00:00, dtype: float64"
      ]
     },
     "execution_count": 17,
     "metadata": {},
     "output_type": "execute_result"
    }
   ],
   "source": [
    "google.loc['24 August 2004']\n",
    "# google.loc[2004-08-24]"
   ]
  },
  {
   "cell_type": "markdown",
   "id": "6ab8536e",
   "metadata": {},
   "source": [
    "#### `Fetch the data of the August 2004`"
   ]
  },
  {
   "cell_type": "code",
   "execution_count": 18,
   "id": "add800cd",
   "metadata": {},
   "outputs": [
    {
     "data": {
      "text/html": [
       "<div>\n",
       "<style scoped>\n",
       "    .dataframe tbody tr th:only-of-type {\n",
       "        vertical-align: middle;\n",
       "    }\n",
       "\n",
       "    .dataframe tbody tr th {\n",
       "        vertical-align: top;\n",
       "    }\n",
       "\n",
       "    .dataframe thead th {\n",
       "        text-align: right;\n",
       "    }\n",
       "</style>\n",
       "<table border=\"1\" class=\"dataframe\">\n",
       "  <thead>\n",
       "    <tr style=\"text-align: right;\">\n",
       "      <th></th>\n",
       "      <th>Open</th>\n",
       "      <th>High</th>\n",
       "      <th>Low</th>\n",
       "      <th>Close</th>\n",
       "      <th>Adj Close</th>\n",
       "      <th>Volume</th>\n",
       "    </tr>\n",
       "    <tr>\n",
       "      <th>Date</th>\n",
       "      <th></th>\n",
       "      <th></th>\n",
       "      <th></th>\n",
       "      <th></th>\n",
       "      <th></th>\n",
       "      <th></th>\n",
       "    </tr>\n",
       "  </thead>\n",
       "  <tbody>\n",
       "    <tr>\n",
       "      <th>2004-08-19</th>\n",
       "      <td>49.813290</td>\n",
       "      <td>51.835709</td>\n",
       "      <td>47.800831</td>\n",
       "      <td>49.982655</td>\n",
       "      <td>49.982655</td>\n",
       "      <td>44871361</td>\n",
       "    </tr>\n",
       "    <tr>\n",
       "      <th>2004-08-20</th>\n",
       "      <td>50.316402</td>\n",
       "      <td>54.336334</td>\n",
       "      <td>50.062355</td>\n",
       "      <td>53.952770</td>\n",
       "      <td>53.952770</td>\n",
       "      <td>22942874</td>\n",
       "    </tr>\n",
       "    <tr>\n",
       "      <th>2004-08-23</th>\n",
       "      <td>55.168217</td>\n",
       "      <td>56.528118</td>\n",
       "      <td>54.321388</td>\n",
       "      <td>54.495735</td>\n",
       "      <td>54.495735</td>\n",
       "      <td>18342897</td>\n",
       "    </tr>\n",
       "    <tr>\n",
       "      <th>2004-08-24</th>\n",
       "      <td>55.412300</td>\n",
       "      <td>55.591629</td>\n",
       "      <td>51.591621</td>\n",
       "      <td>52.239197</td>\n",
       "      <td>52.239197</td>\n",
       "      <td>15319808</td>\n",
       "    </tr>\n",
       "    <tr>\n",
       "      <th>2004-08-25</th>\n",
       "      <td>52.284027</td>\n",
       "      <td>53.798351</td>\n",
       "      <td>51.746044</td>\n",
       "      <td>52.802086</td>\n",
       "      <td>52.802086</td>\n",
       "      <td>9232276</td>\n",
       "    </tr>\n",
       "    <tr>\n",
       "      <th>2004-08-26</th>\n",
       "      <td>52.279045</td>\n",
       "      <td>53.773445</td>\n",
       "      <td>52.134586</td>\n",
       "      <td>53.753517</td>\n",
       "      <td>53.753517</td>\n",
       "      <td>7128620</td>\n",
       "    </tr>\n",
       "    <tr>\n",
       "      <th>2004-08-27</th>\n",
       "      <td>53.848164</td>\n",
       "      <td>54.107193</td>\n",
       "      <td>52.647663</td>\n",
       "      <td>52.876804</td>\n",
       "      <td>52.876804</td>\n",
       "      <td>6241307</td>\n",
       "    </tr>\n",
       "    <tr>\n",
       "      <th>2004-08-30</th>\n",
       "      <td>52.443428</td>\n",
       "      <td>52.548038</td>\n",
       "      <td>50.814533</td>\n",
       "      <td>50.814533</td>\n",
       "      <td>50.814533</td>\n",
       "      <td>5221498</td>\n",
       "    </tr>\n",
       "    <tr>\n",
       "      <th>2004-08-31</th>\n",
       "      <td>50.958992</td>\n",
       "      <td>51.661362</td>\n",
       "      <td>50.889256</td>\n",
       "      <td>50.993862</td>\n",
       "      <td>50.993862</td>\n",
       "      <td>4941252</td>\n",
       "    </tr>\n",
       "  </tbody>\n",
       "</table>\n",
       "</div>"
      ],
      "text/plain": [
       "                 Open       High        Low      Close  Adj Close    Volume\n",
       "Date                                                                       \n",
       "2004-08-19  49.813290  51.835709  47.800831  49.982655  49.982655  44871361\n",
       "2004-08-20  50.316402  54.336334  50.062355  53.952770  53.952770  22942874\n",
       "2004-08-23  55.168217  56.528118  54.321388  54.495735  54.495735  18342897\n",
       "2004-08-24  55.412300  55.591629  51.591621  52.239197  52.239197  15319808\n",
       "2004-08-25  52.284027  53.798351  51.746044  52.802086  52.802086   9232276\n",
       "2004-08-26  52.279045  53.773445  52.134586  53.753517  53.753517   7128620\n",
       "2004-08-27  53.848164  54.107193  52.647663  52.876804  52.876804   6241307\n",
       "2004-08-30  52.443428  52.548038  50.814533  50.814533  50.814533   5221498\n",
       "2004-08-31  50.958992  51.661362  50.889256  50.993862  50.993862   4941252"
      ]
     },
     "execution_count": 18,
     "metadata": {},
     "output_type": "execute_result"
    }
   ],
   "source": [
    "google.loc['August 2004']\n",
    "# google.loc['2004-08']"
   ]
  },
  {
   "cell_type": "markdown",
   "id": "1272a155",
   "metadata": {},
   "source": [
    "#### `Fetch the data of year 2006`"
   ]
  },
  {
   "cell_type": "code",
   "execution_count": 19,
   "id": "e4971bc5",
   "metadata": {},
   "outputs": [
    {
     "data": {
      "text/html": [
       "<div>\n",
       "<style scoped>\n",
       "    .dataframe tbody tr th:only-of-type {\n",
       "        vertical-align: middle;\n",
       "    }\n",
       "\n",
       "    .dataframe tbody tr th {\n",
       "        vertical-align: top;\n",
       "    }\n",
       "\n",
       "    .dataframe thead th {\n",
       "        text-align: right;\n",
       "    }\n",
       "</style>\n",
       "<table border=\"1\" class=\"dataframe\">\n",
       "  <thead>\n",
       "    <tr style=\"text-align: right;\">\n",
       "      <th></th>\n",
       "      <th>Open</th>\n",
       "      <th>High</th>\n",
       "      <th>Low</th>\n",
       "      <th>Close</th>\n",
       "      <th>Adj Close</th>\n",
       "      <th>Volume</th>\n",
       "    </tr>\n",
       "    <tr>\n",
       "      <th>Date</th>\n",
       "      <th></th>\n",
       "      <th></th>\n",
       "      <th></th>\n",
       "      <th></th>\n",
       "      <th></th>\n",
       "      <th></th>\n",
       "    </tr>\n",
       "  </thead>\n",
       "  <tbody>\n",
       "    <tr>\n",
       "      <th>2006-01-03</th>\n",
       "      <td>210.471100</td>\n",
       "      <td>217.021545</td>\n",
       "      <td>208.329132</td>\n",
       "      <td>216.802368</td>\n",
       "      <td>216.802368</td>\n",
       "      <td>26340763</td>\n",
       "    </tr>\n",
       "    <tr>\n",
       "      <th>2006-01-04</th>\n",
       "      <td>221.121185</td>\n",
       "      <td>223.641739</td>\n",
       "      <td>219.053925</td>\n",
       "      <td>221.788681</td>\n",
       "      <td>221.788681</td>\n",
       "      <td>30687394</td>\n",
       "    </tr>\n",
       "    <tr>\n",
       "      <th>2006-01-05</th>\n",
       "      <td>222.167267</td>\n",
       "      <td>224.931900</td>\n",
       "      <td>219.925659</td>\n",
       "      <td>224.777481</td>\n",
       "      <td>224.777481</td>\n",
       "      <td>21697624</td>\n",
       "    </tr>\n",
       "    <tr>\n",
       "      <th>2006-01-06</th>\n",
       "      <td>227.581970</td>\n",
       "      <td>234.371521</td>\n",
       "      <td>225.773743</td>\n",
       "      <td>231.960556</td>\n",
       "      <td>231.960556</td>\n",
       "      <td>35646914</td>\n",
       "    </tr>\n",
       "    <tr>\n",
       "      <th>2006-01-09</th>\n",
       "      <td>232.334152</td>\n",
       "      <td>235.816101</td>\n",
       "      <td>229.609375</td>\n",
       "      <td>232.578247</td>\n",
       "      <td>232.578247</td>\n",
       "      <td>25679694</td>\n",
       "    </tr>\n",
       "    <tr>\n",
       "      <th>...</th>\n",
       "      <td>...</td>\n",
       "      <td>...</td>\n",
       "      <td>...</td>\n",
       "      <td>...</td>\n",
       "      <td>...</td>\n",
       "      <td>...</td>\n",
       "    </tr>\n",
       "    <tr>\n",
       "      <th>2006-12-22</th>\n",
       "      <td>227.895798</td>\n",
       "      <td>228.463669</td>\n",
       "      <td>225.519699</td>\n",
       "      <td>226.939377</td>\n",
       "      <td>226.939377</td>\n",
       "      <td>8006498</td>\n",
       "    </tr>\n",
       "    <tr>\n",
       "      <th>2006-12-26</th>\n",
       "      <td>227.407623</td>\n",
       "      <td>228.877106</td>\n",
       "      <td>226.446228</td>\n",
       "      <td>227.910736</td>\n",
       "      <td>227.910736</td>\n",
       "      <td>4164150</td>\n",
       "    </tr>\n",
       "    <tr>\n",
       "      <th>2006-12-27</th>\n",
       "      <td>229.141129</td>\n",
       "      <td>233.166031</td>\n",
       "      <td>228.692810</td>\n",
       "      <td>233.141129</td>\n",
       "      <td>233.141129</td>\n",
       "      <td>8494721</td>\n",
       "    </tr>\n",
       "    <tr>\n",
       "      <th>2006-12-28</th>\n",
       "      <td>232.687836</td>\n",
       "      <td>233.415100</td>\n",
       "      <td>230.261917</td>\n",
       "      <td>230.416336</td>\n",
       "      <td>230.416336</td>\n",
       "      <td>6255761</td>\n",
       "    </tr>\n",
       "    <tr>\n",
       "      <th>2006-12-29</th>\n",
       "      <td>230.187195</td>\n",
       "      <td>231.367783</td>\n",
       "      <td>229.071381</td>\n",
       "      <td>229.380234</td>\n",
       "      <td>229.380234</td>\n",
       "      <td>5137585</td>\n",
       "    </tr>\n",
       "  </tbody>\n",
       "</table>\n",
       "<p>251 rows × 6 columns</p>\n",
       "</div>"
      ],
      "text/plain": [
       "                  Open        High         Low       Close   Adj Close  \\\n",
       "Date                                                                     \n",
       "2006-01-03  210.471100  217.021545  208.329132  216.802368  216.802368   \n",
       "2006-01-04  221.121185  223.641739  219.053925  221.788681  221.788681   \n",
       "2006-01-05  222.167267  224.931900  219.925659  224.777481  224.777481   \n",
       "2006-01-06  227.581970  234.371521  225.773743  231.960556  231.960556   \n",
       "2006-01-09  232.334152  235.816101  229.609375  232.578247  232.578247   \n",
       "...                ...         ...         ...         ...         ...   \n",
       "2006-12-22  227.895798  228.463669  225.519699  226.939377  226.939377   \n",
       "2006-12-26  227.407623  228.877106  226.446228  227.910736  227.910736   \n",
       "2006-12-27  229.141129  233.166031  228.692810  233.141129  233.141129   \n",
       "2006-12-28  232.687836  233.415100  230.261917  230.416336  230.416336   \n",
       "2006-12-29  230.187195  231.367783  229.071381  229.380234  229.380234   \n",
       "\n",
       "              Volume  \n",
       "Date                  \n",
       "2006-01-03  26340763  \n",
       "2006-01-04  30687394  \n",
       "2006-01-05  21697624  \n",
       "2006-01-06  35646914  \n",
       "2006-01-09  25679694  \n",
       "...              ...  \n",
       "2006-12-22   8006498  \n",
       "2006-12-26   4164150  \n",
       "2006-12-27   8494721  \n",
       "2006-12-28   6255761  \n",
       "2006-12-29   5137585  \n",
       "\n",
       "[251 rows x 6 columns]"
      ]
     },
     "execution_count": 19,
     "metadata": {},
     "output_type": "execute_result"
    }
   ],
   "source": [
    "google.loc['2006']"
   ]
  },
  {
   "cell_type": "markdown",
   "id": "d846b325",
   "metadata": {},
   "source": [
    "#### `create new columns month_name and day_name from the index of google stocks.`"
   ]
  },
  {
   "cell_type": "code",
   "execution_count": 20,
   "id": "60fa9946",
   "metadata": {},
   "outputs": [
    {
     "data": {
      "text/html": [
       "<div>\n",
       "<style scoped>\n",
       "    .dataframe tbody tr th:only-of-type {\n",
       "        vertical-align: middle;\n",
       "    }\n",
       "\n",
       "    .dataframe tbody tr th {\n",
       "        vertical-align: top;\n",
       "    }\n",
       "\n",
       "    .dataframe thead th {\n",
       "        text-align: right;\n",
       "    }\n",
       "</style>\n",
       "<table border=\"1\" class=\"dataframe\">\n",
       "  <thead>\n",
       "    <tr style=\"text-align: right;\">\n",
       "      <th></th>\n",
       "      <th>Open</th>\n",
       "      <th>High</th>\n",
       "      <th>Low</th>\n",
       "      <th>Close</th>\n",
       "      <th>Adj Close</th>\n",
       "      <th>Volume</th>\n",
       "      <th>month_name</th>\n",
       "    </tr>\n",
       "    <tr>\n",
       "      <th>Date</th>\n",
       "      <th></th>\n",
       "      <th></th>\n",
       "      <th></th>\n",
       "      <th></th>\n",
       "      <th></th>\n",
       "      <th></th>\n",
       "      <th></th>\n",
       "    </tr>\n",
       "  </thead>\n",
       "  <tbody>\n",
       "    <tr>\n",
       "      <th>2004-08-19</th>\n",
       "      <td>49.813290</td>\n",
       "      <td>51.835709</td>\n",
       "      <td>47.800831</td>\n",
       "      <td>49.982655</td>\n",
       "      <td>49.982655</td>\n",
       "      <td>44871361</td>\n",
       "      <td>August</td>\n",
       "    </tr>\n",
       "    <tr>\n",
       "      <th>2004-08-20</th>\n",
       "      <td>50.316402</td>\n",
       "      <td>54.336334</td>\n",
       "      <td>50.062355</td>\n",
       "      <td>53.952770</td>\n",
       "      <td>53.952770</td>\n",
       "      <td>22942874</td>\n",
       "      <td>August</td>\n",
       "    </tr>\n",
       "    <tr>\n",
       "      <th>2004-08-23</th>\n",
       "      <td>55.168217</td>\n",
       "      <td>56.528118</td>\n",
       "      <td>54.321388</td>\n",
       "      <td>54.495735</td>\n",
       "      <td>54.495735</td>\n",
       "      <td>18342897</td>\n",
       "      <td>August</td>\n",
       "    </tr>\n",
       "    <tr>\n",
       "      <th>2004-08-24</th>\n",
       "      <td>55.412300</td>\n",
       "      <td>55.591629</td>\n",
       "      <td>51.591621</td>\n",
       "      <td>52.239197</td>\n",
       "      <td>52.239197</td>\n",
       "      <td>15319808</td>\n",
       "      <td>August</td>\n",
       "    </tr>\n",
       "    <tr>\n",
       "      <th>2004-08-25</th>\n",
       "      <td>52.284027</td>\n",
       "      <td>53.798351</td>\n",
       "      <td>51.746044</td>\n",
       "      <td>52.802086</td>\n",
       "      <td>52.802086</td>\n",
       "      <td>9232276</td>\n",
       "      <td>August</td>\n",
       "    </tr>\n",
       "  </tbody>\n",
       "</table>\n",
       "</div>"
      ],
      "text/plain": [
       "                 Open       High        Low      Close  Adj Close    Volume  \\\n",
       "Date                                                                          \n",
       "2004-08-19  49.813290  51.835709  47.800831  49.982655  49.982655  44871361   \n",
       "2004-08-20  50.316402  54.336334  50.062355  53.952770  53.952770  22942874   \n",
       "2004-08-23  55.168217  56.528118  54.321388  54.495735  54.495735  18342897   \n",
       "2004-08-24  55.412300  55.591629  51.591621  52.239197  52.239197  15319808   \n",
       "2004-08-25  52.284027  53.798351  51.746044  52.802086  52.802086   9232276   \n",
       "\n",
       "           month_name  \n",
       "Date                   \n",
       "2004-08-19     August  \n",
       "2004-08-20     August  \n",
       "2004-08-23     August  \n",
       "2004-08-24     August  \n",
       "2004-08-25     August  "
      ]
     },
     "execution_count": 20,
     "metadata": {},
     "output_type": "execute_result"
    }
   ],
   "source": [
    "google.loc[::, 'month_name'] = google.index.month_name()\n",
    "google.head()"
   ]
  },
  {
   "cell_type": "code",
   "execution_count": 21,
   "id": "5289d9ed",
   "metadata": {},
   "outputs": [
    {
     "data": {
      "text/html": [
       "<div>\n",
       "<style scoped>\n",
       "    .dataframe tbody tr th:only-of-type {\n",
       "        vertical-align: middle;\n",
       "    }\n",
       "\n",
       "    .dataframe tbody tr th {\n",
       "        vertical-align: top;\n",
       "    }\n",
       "\n",
       "    .dataframe thead th {\n",
       "        text-align: right;\n",
       "    }\n",
       "</style>\n",
       "<table border=\"1\" class=\"dataframe\">\n",
       "  <thead>\n",
       "    <tr style=\"text-align: right;\">\n",
       "      <th></th>\n",
       "      <th>Open</th>\n",
       "      <th>High</th>\n",
       "      <th>Low</th>\n",
       "      <th>Close</th>\n",
       "      <th>Adj Close</th>\n",
       "      <th>Volume</th>\n",
       "      <th>month_name</th>\n",
       "      <th>day_name</th>\n",
       "    </tr>\n",
       "    <tr>\n",
       "      <th>Date</th>\n",
       "      <th></th>\n",
       "      <th></th>\n",
       "      <th></th>\n",
       "      <th></th>\n",
       "      <th></th>\n",
       "      <th></th>\n",
       "      <th></th>\n",
       "      <th></th>\n",
       "    </tr>\n",
       "  </thead>\n",
       "  <tbody>\n",
       "    <tr>\n",
       "      <th>2004-08-19</th>\n",
       "      <td>49.813290</td>\n",
       "      <td>51.835709</td>\n",
       "      <td>47.800831</td>\n",
       "      <td>49.982655</td>\n",
       "      <td>49.982655</td>\n",
       "      <td>44871361</td>\n",
       "      <td>August</td>\n",
       "      <td>Thursday</td>\n",
       "    </tr>\n",
       "    <tr>\n",
       "      <th>2004-08-20</th>\n",
       "      <td>50.316402</td>\n",
       "      <td>54.336334</td>\n",
       "      <td>50.062355</td>\n",
       "      <td>53.952770</td>\n",
       "      <td>53.952770</td>\n",
       "      <td>22942874</td>\n",
       "      <td>August</td>\n",
       "      <td>Friday</td>\n",
       "    </tr>\n",
       "    <tr>\n",
       "      <th>2004-08-23</th>\n",
       "      <td>55.168217</td>\n",
       "      <td>56.528118</td>\n",
       "      <td>54.321388</td>\n",
       "      <td>54.495735</td>\n",
       "      <td>54.495735</td>\n",
       "      <td>18342897</td>\n",
       "      <td>August</td>\n",
       "      <td>Monday</td>\n",
       "    </tr>\n",
       "    <tr>\n",
       "      <th>2004-08-24</th>\n",
       "      <td>55.412300</td>\n",
       "      <td>55.591629</td>\n",
       "      <td>51.591621</td>\n",
       "      <td>52.239197</td>\n",
       "      <td>52.239197</td>\n",
       "      <td>15319808</td>\n",
       "      <td>August</td>\n",
       "      <td>Tuesday</td>\n",
       "    </tr>\n",
       "    <tr>\n",
       "      <th>2004-08-25</th>\n",
       "      <td>52.284027</td>\n",
       "      <td>53.798351</td>\n",
       "      <td>51.746044</td>\n",
       "      <td>52.802086</td>\n",
       "      <td>52.802086</td>\n",
       "      <td>9232276</td>\n",
       "      <td>August</td>\n",
       "      <td>Wednesday</td>\n",
       "    </tr>\n",
       "  </tbody>\n",
       "</table>\n",
       "</div>"
      ],
      "text/plain": [
       "                 Open       High        Low      Close  Adj Close    Volume  \\\n",
       "Date                                                                          \n",
       "2004-08-19  49.813290  51.835709  47.800831  49.982655  49.982655  44871361   \n",
       "2004-08-20  50.316402  54.336334  50.062355  53.952770  53.952770  22942874   \n",
       "2004-08-23  55.168217  56.528118  54.321388  54.495735  54.495735  18342897   \n",
       "2004-08-24  55.412300  55.591629  51.591621  52.239197  52.239197  15319808   \n",
       "2004-08-25  52.284027  53.798351  51.746044  52.802086  52.802086   9232276   \n",
       "\n",
       "           month_name   day_name  \n",
       "Date                              \n",
       "2004-08-19     August   Thursday  \n",
       "2004-08-20     August     Friday  \n",
       "2004-08-23     August     Monday  \n",
       "2004-08-24     August    Tuesday  \n",
       "2004-08-25     August  Wednesday  "
      ]
     },
     "execution_count": 21,
     "metadata": {},
     "output_type": "execute_result"
    }
   ],
   "source": [
    "google.loc[::, 'day_name'] = google.index.day_name()\n",
    "google.head()"
   ]
  },
  {
   "cell_type": "markdown",
   "id": "b47db020",
   "metadata": {},
   "source": [
    "#### `create a new column named quarter which stores the quarter of the year the current data lies in.`"
   ]
  },
  {
   "cell_type": "code",
   "execution_count": 22,
   "id": "e2d2470d",
   "metadata": {},
   "outputs": [
    {
     "data": {
      "text/html": [
       "<div>\n",
       "<style scoped>\n",
       "    .dataframe tbody tr th:only-of-type {\n",
       "        vertical-align: middle;\n",
       "    }\n",
       "\n",
       "    .dataframe tbody tr th {\n",
       "        vertical-align: top;\n",
       "    }\n",
       "\n",
       "    .dataframe thead th {\n",
       "        text-align: right;\n",
       "    }\n",
       "</style>\n",
       "<table border=\"1\" class=\"dataframe\">\n",
       "  <thead>\n",
       "    <tr style=\"text-align: right;\">\n",
       "      <th></th>\n",
       "      <th>Open</th>\n",
       "      <th>High</th>\n",
       "      <th>Low</th>\n",
       "      <th>Close</th>\n",
       "      <th>Adj Close</th>\n",
       "      <th>Volume</th>\n",
       "      <th>month_name</th>\n",
       "      <th>day_name</th>\n",
       "      <th>quarter</th>\n",
       "    </tr>\n",
       "    <tr>\n",
       "      <th>Date</th>\n",
       "      <th></th>\n",
       "      <th></th>\n",
       "      <th></th>\n",
       "      <th></th>\n",
       "      <th></th>\n",
       "      <th></th>\n",
       "      <th></th>\n",
       "      <th></th>\n",
       "      <th></th>\n",
       "    </tr>\n",
       "  </thead>\n",
       "  <tbody>\n",
       "    <tr>\n",
       "      <th>2004-08-19</th>\n",
       "      <td>49.813290</td>\n",
       "      <td>51.835709</td>\n",
       "      <td>47.800831</td>\n",
       "      <td>49.982655</td>\n",
       "      <td>49.982655</td>\n",
       "      <td>44871361</td>\n",
       "      <td>August</td>\n",
       "      <td>Thursday</td>\n",
       "      <td>3</td>\n",
       "    </tr>\n",
       "    <tr>\n",
       "      <th>2004-08-20</th>\n",
       "      <td>50.316402</td>\n",
       "      <td>54.336334</td>\n",
       "      <td>50.062355</td>\n",
       "      <td>53.952770</td>\n",
       "      <td>53.952770</td>\n",
       "      <td>22942874</td>\n",
       "      <td>August</td>\n",
       "      <td>Friday</td>\n",
       "      <td>3</td>\n",
       "    </tr>\n",
       "    <tr>\n",
       "      <th>2004-08-23</th>\n",
       "      <td>55.168217</td>\n",
       "      <td>56.528118</td>\n",
       "      <td>54.321388</td>\n",
       "      <td>54.495735</td>\n",
       "      <td>54.495735</td>\n",
       "      <td>18342897</td>\n",
       "      <td>August</td>\n",
       "      <td>Monday</td>\n",
       "      <td>3</td>\n",
       "    </tr>\n",
       "    <tr>\n",
       "      <th>2004-08-24</th>\n",
       "      <td>55.412300</td>\n",
       "      <td>55.591629</td>\n",
       "      <td>51.591621</td>\n",
       "      <td>52.239197</td>\n",
       "      <td>52.239197</td>\n",
       "      <td>15319808</td>\n",
       "      <td>August</td>\n",
       "      <td>Tuesday</td>\n",
       "      <td>3</td>\n",
       "    </tr>\n",
       "    <tr>\n",
       "      <th>2004-08-25</th>\n",
       "      <td>52.284027</td>\n",
       "      <td>53.798351</td>\n",
       "      <td>51.746044</td>\n",
       "      <td>52.802086</td>\n",
       "      <td>52.802086</td>\n",
       "      <td>9232276</td>\n",
       "      <td>August</td>\n",
       "      <td>Wednesday</td>\n",
       "      <td>3</td>\n",
       "    </tr>\n",
       "  </tbody>\n",
       "</table>\n",
       "</div>"
      ],
      "text/plain": [
       "                 Open       High        Low      Close  Adj Close    Volume  \\\n",
       "Date                                                                          \n",
       "2004-08-19  49.813290  51.835709  47.800831  49.982655  49.982655  44871361   \n",
       "2004-08-20  50.316402  54.336334  50.062355  53.952770  53.952770  22942874   \n",
       "2004-08-23  55.168217  56.528118  54.321388  54.495735  54.495735  18342897   \n",
       "2004-08-24  55.412300  55.591629  51.591621  52.239197  52.239197  15319808   \n",
       "2004-08-25  52.284027  53.798351  51.746044  52.802086  52.802086   9232276   \n",
       "\n",
       "           month_name   day_name  quarter  \n",
       "Date                                       \n",
       "2004-08-19     August   Thursday        3  \n",
       "2004-08-20     August     Friday        3  \n",
       "2004-08-23     August     Monday        3  \n",
       "2004-08-24     August    Tuesday        3  \n",
       "2004-08-25     August  Wednesday        3  "
      ]
     },
     "execution_count": 22,
     "metadata": {},
     "output_type": "execute_result"
    }
   ],
   "source": [
    "google.loc[::, 'quarter'] = google.index.quarter\n",
    "google.head()"
   ]
  },
  {
   "cell_type": "markdown",
   "id": "ea18a0a4",
   "metadata": {},
   "source": [
    "#### `Find all the rows from 17 December 2007 to 21 Jan 2008`"
   ]
  },
  {
   "cell_type": "code",
   "execution_count": 23,
   "id": "c6259bb5",
   "metadata": {},
   "outputs": [
    {
     "data": {
      "text/html": [
       "<div>\n",
       "<style scoped>\n",
       "    .dataframe tbody tr th:only-of-type {\n",
       "        vertical-align: middle;\n",
       "    }\n",
       "\n",
       "    .dataframe tbody tr th {\n",
       "        vertical-align: top;\n",
       "    }\n",
       "\n",
       "    .dataframe thead th {\n",
       "        text-align: right;\n",
       "    }\n",
       "</style>\n",
       "<table border=\"1\" class=\"dataframe\">\n",
       "  <thead>\n",
       "    <tr style=\"text-align: right;\">\n",
       "      <th></th>\n",
       "      <th>Open</th>\n",
       "      <th>High</th>\n",
       "      <th>Low</th>\n",
       "      <th>Close</th>\n",
       "      <th>Adj Close</th>\n",
       "      <th>Volume</th>\n",
       "      <th>month_name</th>\n",
       "      <th>day_name</th>\n",
       "      <th>quarter</th>\n",
       "    </tr>\n",
       "    <tr>\n",
       "      <th>Date</th>\n",
       "      <th></th>\n",
       "      <th></th>\n",
       "      <th></th>\n",
       "      <th></th>\n",
       "      <th></th>\n",
       "      <th></th>\n",
       "      <th></th>\n",
       "      <th></th>\n",
       "      <th></th>\n",
       "    </tr>\n",
       "  </thead>\n",
       "  <tbody>\n",
       "    <tr>\n",
       "      <th>2007-12-17</th>\n",
       "      <td>342.715424</td>\n",
       "      <td>346.411560</td>\n",
       "      <td>330.595856</td>\n",
       "      <td>333.365479</td>\n",
       "      <td>333.365479</td>\n",
       "      <td>11013126</td>\n",
       "      <td>December</td>\n",
       "      <td>Monday</td>\n",
       "      <td>4</td>\n",
       "    </tr>\n",
       "    <tr>\n",
       "      <th>2007-12-18</th>\n",
       "      <td>335.821259</td>\n",
       "      <td>337.091492</td>\n",
       "      <td>325.031708</td>\n",
       "      <td>335.417786</td>\n",
       "      <td>335.417786</td>\n",
       "      <td>14387125</td>\n",
       "      <td>December</td>\n",
       "      <td>Tuesday</td>\n",
       "      <td>4</td>\n",
       "    </tr>\n",
       "    <tr>\n",
       "      <th>2007-12-19</th>\n",
       "      <td>335.846161</td>\n",
       "      <td>338.481293</td>\n",
       "      <td>333.250885</td>\n",
       "      <td>337.420258</td>\n",
       "      <td>337.420258</td>\n",
       "      <td>8875343</td>\n",
       "      <td>December</td>\n",
       "      <td>Wednesday</td>\n",
       "      <td>4</td>\n",
       "    </tr>\n",
       "    <tr>\n",
       "      <th>2007-12-20</th>\n",
       "      <td>341.634460</td>\n",
       "      <td>344.209808</td>\n",
       "      <td>339.034210</td>\n",
       "      <td>343.557251</td>\n",
       "      <td>343.557251</td>\n",
       "      <td>8877551</td>\n",
       "      <td>December</td>\n",
       "      <td>Thursday</td>\n",
       "      <td>4</td>\n",
       "    </tr>\n",
       "    <tr>\n",
       "      <th>2007-12-21</th>\n",
       "      <td>347.636963</td>\n",
       "      <td>348.324402</td>\n",
       "      <td>345.325623</td>\n",
       "      <td>347.044189</td>\n",
       "      <td>347.044189</td>\n",
       "      <td>10804346</td>\n",
       "      <td>December</td>\n",
       "      <td>Friday</td>\n",
       "      <td>4</td>\n",
       "    </tr>\n",
       "    <tr>\n",
       "      <th>2007-12-24</th>\n",
       "      <td>346.197357</td>\n",
       "      <td>349.056641</td>\n",
       "      <td>345.235962</td>\n",
       "      <td>349.056641</td>\n",
       "      <td>349.056641</td>\n",
       "      <td>3269007</td>\n",
       "      <td>December</td>\n",
       "      <td>Monday</td>\n",
       "      <td>4</td>\n",
       "    </tr>\n",
       "    <tr>\n",
       "      <th>2007-12-26</th>\n",
       "      <td>348.189911</td>\n",
       "      <td>355.278320</td>\n",
       "      <td>347.801361</td>\n",
       "      <td>354.092773</td>\n",
       "      <td>354.092773</td>\n",
       "      <td>5078966</td>\n",
       "      <td>December</td>\n",
       "      <td>Wednesday</td>\n",
       "      <td>4</td>\n",
       "    </tr>\n",
       "    <tr>\n",
       "      <th>2007-12-27</th>\n",
       "      <td>352.214813</td>\n",
       "      <td>356.663147</td>\n",
       "      <td>349.061646</td>\n",
       "      <td>349.061646</td>\n",
       "      <td>349.061646</td>\n",
       "      <td>5907058</td>\n",
       "      <td>December</td>\n",
       "      <td>Thursday</td>\n",
       "      <td>4</td>\n",
       "    </tr>\n",
       "    <tr>\n",
       "      <th>2007-12-28</th>\n",
       "      <td>351.148804</td>\n",
       "      <td>352.653168</td>\n",
       "      <td>346.969482</td>\n",
       "      <td>349.953278</td>\n",
       "      <td>349.953278</td>\n",
       "      <td>5144611</td>\n",
       "      <td>December</td>\n",
       "      <td>Friday</td>\n",
       "      <td>4</td>\n",
       "    </tr>\n",
       "    <tr>\n",
       "      <th>2007-12-31</th>\n",
       "      <td>347.980682</td>\n",
       "      <td>349.933350</td>\n",
       "      <td>344.000610</td>\n",
       "      <td>344.448914</td>\n",
       "      <td>344.448914</td>\n",
       "      <td>4770213</td>\n",
       "      <td>December</td>\n",
       "      <td>Monday</td>\n",
       "      <td>4</td>\n",
       "    </tr>\n",
       "    <tr>\n",
       "      <th>2008-01-02</th>\n",
       "      <td>345.141327</td>\n",
       "      <td>347.382935</td>\n",
       "      <td>337.599579</td>\n",
       "      <td>341.315674</td>\n",
       "      <td>341.315674</td>\n",
       "      <td>8646087</td>\n",
       "      <td>January</td>\n",
       "      <td>Wednesday</td>\n",
       "      <td>1</td>\n",
       "    </tr>\n",
       "    <tr>\n",
       "      <th>2008-01-03</th>\n",
       "      <td>341.350525</td>\n",
       "      <td>342.142578</td>\n",
       "      <td>336.996857</td>\n",
       "      <td>341.385406</td>\n",
       "      <td>341.385406</td>\n",
       "      <td>6529382</td>\n",
       "      <td>January</td>\n",
       "      <td>Thursday</td>\n",
       "      <td>1</td>\n",
       "    </tr>\n",
       "    <tr>\n",
       "      <th>2008-01-04</th>\n",
       "      <td>338.575928</td>\n",
       "      <td>339.208557</td>\n",
       "      <td>326.277039</td>\n",
       "      <td>327.273285</td>\n",
       "      <td>327.273285</td>\n",
       "      <td>10759780</td>\n",
       "      <td>January</td>\n",
       "      <td>Friday</td>\n",
       "      <td>1</td>\n",
       "    </tr>\n",
       "    <tr>\n",
       "      <th>2008-01-07</th>\n",
       "      <td>325.749023</td>\n",
       "      <td>329.903442</td>\n",
       "      <td>317.484985</td>\n",
       "      <td>323.412781</td>\n",
       "      <td>323.412781</td>\n",
       "      <td>12854803</td>\n",
       "      <td>January</td>\n",
       "      <td>Monday</td>\n",
       "      <td>1</td>\n",
       "    </tr>\n",
       "    <tr>\n",
       "      <th>2008-01-08</th>\n",
       "      <td>325.280762</td>\n",
       "      <td>328.747772</td>\n",
       "      <td>314.321838</td>\n",
       "      <td>314.660583</td>\n",
       "      <td>314.660583</td>\n",
       "      <td>10718225</td>\n",
       "      <td>January</td>\n",
       "      <td>Tuesday</td>\n",
       "      <td>1</td>\n",
       "    </tr>\n",
       "    <tr>\n",
       "      <th>2008-01-09</th>\n",
       "      <td>313.843628</td>\n",
       "      <td>325.450134</td>\n",
       "      <td>310.092682</td>\n",
       "      <td>325.380402</td>\n",
       "      <td>325.380402</td>\n",
       "      <td>13529924</td>\n",
       "      <td>January</td>\n",
       "      <td>Wednesday</td>\n",
       "      <td>1</td>\n",
       "    </tr>\n",
       "    <tr>\n",
       "      <th>2008-01-10</th>\n",
       "      <td>321.300690</td>\n",
       "      <td>327.372925</td>\n",
       "      <td>318.859833</td>\n",
       "      <td>322.157471</td>\n",
       "      <td>322.157471</td>\n",
       "      <td>12715884</td>\n",
       "      <td>January</td>\n",
       "      <td>Thursday</td>\n",
       "      <td>1</td>\n",
       "    </tr>\n",
       "    <tr>\n",
       "      <th>2008-01-11</th>\n",
       "      <td>320.149994</td>\n",
       "      <td>323.522369</td>\n",
       "      <td>313.878510</td>\n",
       "      <td>317.933319</td>\n",
       "      <td>317.933319</td>\n",
       "      <td>9991310</td>\n",
       "      <td>January</td>\n",
       "      <td>Friday</td>\n",
       "      <td>1</td>\n",
       "    </tr>\n",
       "    <tr>\n",
       "      <th>2008-01-14</th>\n",
       "      <td>324.354248</td>\n",
       "      <td>327.472565</td>\n",
       "      <td>321.420227</td>\n",
       "      <td>325.689240</td>\n",
       "      <td>325.689240</td>\n",
       "      <td>8928341</td>\n",
       "      <td>January</td>\n",
       "      <td>Monday</td>\n",
       "      <td>1</td>\n",
       "    </tr>\n",
       "    <tr>\n",
       "      <th>2008-01-15</th>\n",
       "      <td>321.744019</td>\n",
       "      <td>323.313141</td>\n",
       "      <td>316.503662</td>\n",
       "      <td>317.634430</td>\n",
       "      <td>317.634430</td>\n",
       "      <td>11178142</td>\n",
       "      <td>January</td>\n",
       "      <td>Tuesday</td>\n",
       "      <td>1</td>\n",
       "    </tr>\n",
       "    <tr>\n",
       "      <th>2008-01-16</th>\n",
       "      <td>313.310638</td>\n",
       "      <td>318.800049</td>\n",
       "      <td>299.841125</td>\n",
       "      <td>306.824951</td>\n",
       "      <td>306.824951</td>\n",
       "      <td>21199163</td>\n",
       "      <td>January</td>\n",
       "      <td>Wednesday</td>\n",
       "      <td>1</td>\n",
       "    </tr>\n",
       "    <tr>\n",
       "      <th>2008-01-17</th>\n",
       "      <td>309.220978</td>\n",
       "      <td>311.701660</td>\n",
       "      <td>297.888428</td>\n",
       "      <td>299.273254</td>\n",
       "      <td>299.273254</td>\n",
       "      <td>16495197</td>\n",
       "      <td>January</td>\n",
       "      <td>Thursday</td>\n",
       "      <td>1</td>\n",
       "    </tr>\n",
       "    <tr>\n",
       "      <th>2008-01-18</th>\n",
       "      <td>303.044128</td>\n",
       "      <td>303.856079</td>\n",
       "      <td>298.107605</td>\n",
       "      <td>299.004272</td>\n",
       "      <td>299.004272</td>\n",
       "      <td>17143217</td>\n",
       "      <td>January</td>\n",
       "      <td>Friday</td>\n",
       "      <td>1</td>\n",
       "    </tr>\n",
       "  </tbody>\n",
       "</table>\n",
       "</div>"
      ],
      "text/plain": [
       "                  Open        High         Low       Close   Adj Close  \\\n",
       "Date                                                                     \n",
       "2007-12-17  342.715424  346.411560  330.595856  333.365479  333.365479   \n",
       "2007-12-18  335.821259  337.091492  325.031708  335.417786  335.417786   \n",
       "2007-12-19  335.846161  338.481293  333.250885  337.420258  337.420258   \n",
       "2007-12-20  341.634460  344.209808  339.034210  343.557251  343.557251   \n",
       "2007-12-21  347.636963  348.324402  345.325623  347.044189  347.044189   \n",
       "2007-12-24  346.197357  349.056641  345.235962  349.056641  349.056641   \n",
       "2007-12-26  348.189911  355.278320  347.801361  354.092773  354.092773   \n",
       "2007-12-27  352.214813  356.663147  349.061646  349.061646  349.061646   \n",
       "2007-12-28  351.148804  352.653168  346.969482  349.953278  349.953278   \n",
       "2007-12-31  347.980682  349.933350  344.000610  344.448914  344.448914   \n",
       "2008-01-02  345.141327  347.382935  337.599579  341.315674  341.315674   \n",
       "2008-01-03  341.350525  342.142578  336.996857  341.385406  341.385406   \n",
       "2008-01-04  338.575928  339.208557  326.277039  327.273285  327.273285   \n",
       "2008-01-07  325.749023  329.903442  317.484985  323.412781  323.412781   \n",
       "2008-01-08  325.280762  328.747772  314.321838  314.660583  314.660583   \n",
       "2008-01-09  313.843628  325.450134  310.092682  325.380402  325.380402   \n",
       "2008-01-10  321.300690  327.372925  318.859833  322.157471  322.157471   \n",
       "2008-01-11  320.149994  323.522369  313.878510  317.933319  317.933319   \n",
       "2008-01-14  324.354248  327.472565  321.420227  325.689240  325.689240   \n",
       "2008-01-15  321.744019  323.313141  316.503662  317.634430  317.634430   \n",
       "2008-01-16  313.310638  318.800049  299.841125  306.824951  306.824951   \n",
       "2008-01-17  309.220978  311.701660  297.888428  299.273254  299.273254   \n",
       "2008-01-18  303.044128  303.856079  298.107605  299.004272  299.004272   \n",
       "\n",
       "              Volume month_name   day_name  quarter  \n",
       "Date                                                 \n",
       "2007-12-17  11013126   December     Monday        4  \n",
       "2007-12-18  14387125   December    Tuesday        4  \n",
       "2007-12-19   8875343   December  Wednesday        4  \n",
       "2007-12-20   8877551   December   Thursday        4  \n",
       "2007-12-21  10804346   December     Friday        4  \n",
       "2007-12-24   3269007   December     Monday        4  \n",
       "2007-12-26   5078966   December  Wednesday        4  \n",
       "2007-12-27   5907058   December   Thursday        4  \n",
       "2007-12-28   5144611   December     Friday        4  \n",
       "2007-12-31   4770213   December     Monday        4  \n",
       "2008-01-02   8646087    January  Wednesday        1  \n",
       "2008-01-03   6529382    January   Thursday        1  \n",
       "2008-01-04  10759780    January     Friday        1  \n",
       "2008-01-07  12854803    January     Monday        1  \n",
       "2008-01-08  10718225    January    Tuesday        1  \n",
       "2008-01-09  13529924    January  Wednesday        1  \n",
       "2008-01-10  12715884    January   Thursday        1  \n",
       "2008-01-11   9991310    January     Friday        1  \n",
       "2008-01-14   8928341    January     Monday        1  \n",
       "2008-01-15  11178142    January    Tuesday        1  \n",
       "2008-01-16  21199163    January  Wednesday        1  \n",
       "2008-01-17  16495197    January   Thursday        1  \n",
       "2008-01-18  17143217    January     Friday        1  "
      ]
     },
     "execution_count": 23,
     "metadata": {},
     "output_type": "execute_result"
    }
   ],
   "source": [
    "google.loc['17 December 2007': '21 Jan 2008']"
   ]
  },
  {
   "cell_type": "markdown",
   "id": "ce36e161",
   "metadata": {},
   "source": [
    "## `plotting graphs`"
   ]
  },
  {
   "cell_type": "code",
   "execution_count": 24,
   "id": "0f6e1e46",
   "metadata": {},
   "outputs": [
    {
     "data": {
      "text/plain": [
       "<Axes: xlabel='Date'>"
      ]
     },
     "execution_count": 24,
     "metadata": {},
     "output_type": "execute_result"
    },
    {
     "data": {
      "image/png": "[encoded data removed]",
      "text/plain": [
       "<Figure size 640x480 with 1 Axes>"
      ]
     },
     "metadata": {},
     "output_type": "display_data"
    }
   ],
   "source": [
    "google.loc['2021']['Close'].plot()"
   ]
  },
  {
   "cell_type": "markdown",
   "id": "e68ec349",
   "metadata": {},
   "source": [
    "#### `Plot the trend of opening stock prices of google stocks in 2010.`"
   ]
  },
  {
   "cell_type": "code",
   "execution_count": 25,
   "id": "d5a4ba90",
   "metadata": {},
   "outputs": [
    {
     "data": {
      "text/plain": [
       "<Axes: xlabel='Date'>"
      ]
     },
     "execution_count": 25,
     "metadata": {},
     "output_type": "execute_result"
    },
    {
     "data": {
      "image/png": "[encoded data removed]",
      "text/plain": [
       "<Figure size 640x480 with 1 Axes>"
      ]
     },
     "metadata": {},
     "output_type": "display_data"
    }
   ],
   "source": [
    "google.loc['2010']['Open'].plot()"
   ]
  },
  {
   "cell_type": "code",
   "execution_count": 26,
   "id": "4cd6f547",
   "metadata": {},
   "outputs": [
    {
     "data": {
      "text/plain": [
       "<Axes: xlabel='day_name'>"
      ]
     },
     "execution_count": 26,
     "metadata": {},
     "output_type": "execute_result"
    },
    {
     "data": {
      "image/png": "[encoded data removed]",
      "text/plain": [
       "<Figure size 640x480 with 1 Axes>"
      ]
     },
     "metadata": {},
     "output_type": "display_data"
    }
   ],
   "source": [
    "google.groupby('day_name')['Open'].mean().plot(kind = 'bar')"
   ]
  },
  {
   "cell_type": "code",
   "execution_count": null,
   "id": "9c9a7db6",
   "metadata": {},
   "outputs": [],
   "source": []
  },
  {
   "cell_type": "markdown",
   "id": "3a207251",
   "metadata": {},
   "source": [
    "# `Moving Averages(Smoothning)`\n",
    "\n",
    "    The concept of moving averages is used to smoothen the time series data. In this method we create a rolling\n",
    "    window of size m, and then perform some aggregate operation of this rolling window."
   ]
  },
  {
   "cell_type": "code",
   "execution_count": 27,
   "id": "ffb46d6f",
   "metadata": {},
   "outputs": [
    {
     "data": {
      "text/plain": [
       "0      3\n",
       "1     23\n",
       "2     43\n",
       "3     63\n",
       "4     83\n",
       "5    103\n",
       "6    123\n",
       "7    143\n",
       "8    163\n",
       "9    183\n",
       "dtype: int64"
      ]
     },
     "execution_count": 27,
     "metadata": {},
     "output_type": "execute_result"
    }
   ],
   "source": [
    "ser = pd.Series([20* i + 3 for i in range(10)], index = range(10))\n",
    "ser"
   ]
  },
  {
   "cell_type": "code",
   "execution_count": 28,
   "id": "a75998e7",
   "metadata": {},
   "outputs": [
    {
     "data": {
      "text/plain": [
       "0      NaN\n",
       "1      NaN\n",
       "2     69.0\n",
       "3    129.0\n",
       "4    189.0\n",
       "5    249.0\n",
       "6    309.0\n",
       "7    369.0\n",
       "8    429.0\n",
       "9    489.0\n",
       "dtype: float64"
      ]
     },
     "execution_count": 28,
     "metadata": {},
     "output_type": "execute_result"
    }
   ],
   "source": [
    "ser.rolling(3).sum()"
   ]
  },
  {
   "cell_type": "code",
   "execution_count": 29,
   "id": "8b6598d1",
   "metadata": {},
   "outputs": [
    {
     "data": {
      "text/plain": [
       "0      NaN\n",
       "1      NaN\n",
       "2      NaN\n",
       "3     33.0\n",
       "4     53.0\n",
       "5     73.0\n",
       "6     93.0\n",
       "7    113.0\n",
       "8    133.0\n",
       "9    153.0\n",
       "dtype: float64"
      ]
     },
     "execution_count": 29,
     "metadata": {},
     "output_type": "execute_result"
    }
   ],
   "source": [
    "ser.rolling(4).mean()"
   ]
  },
  {
   "cell_type": "code",
   "execution_count": 30,
   "id": "0e0b787e",
   "metadata": {},
   "outputs": [
    {
     "data": {
      "text/plain": [
       "<Axes: xlabel='Date'>"
      ]
     },
     "execution_count": 30,
     "metadata": {},
     "output_type": "execute_result"
    },
    {
     "data": {
      "image/png": "[encoded data removed]",
      "text/plain": [
       "<Figure size 640x480 with 1 Axes>"
      ]
     },
     "metadata": {},
     "output_type": "display_data"
    }
   ],
   "source": [
    "google['Open'].plot()"
   ]
  },
  {
   "cell_type": "code",
   "execution_count": 31,
   "id": "f633112e",
   "metadata": {},
   "outputs": [
    {
     "data": {
      "text/plain": [
       "<Axes: xlabel='Date'>"
      ]
     },
     "execution_count": 31,
     "metadata": {},
     "output_type": "execute_result"
    },
    {
     "data": {
      "image/png": "[encoded data removed]",
      "text/plain": [
       "<Figure size 640x480 with 1 Axes>"
      ]
     },
     "metadata": {},
     "output_type": "display_data"
    }
   ],
   "source": [
    "# After smoothning\n",
    "google['Open'].rolling(45).mean().plot()"
   ]
  },
  {
   "cell_type": "code",
   "execution_count": 32,
   "id": "c6d1b1ef",
   "metadata": {},
   "outputs": [
    {
     "data": {
      "text/plain": [
       "<Axes: xlabel='Date'>"
      ]
     },
     "execution_count": 32,
     "metadata": {},
     "output_type": "execute_result"
    },
    {
     "data": {
      "image/png": "[encoded data removed]",
      "text/plain": [
       "<Figure size 640x480 with 1 Axes>"
      ]
     },
     "metadata": {},
     "output_type": "display_data"
    }
   ],
   "source": [
    "# exponentially weighted average(ewm)\n",
    "google['Open'].ewm(45).mean().plot()"
   ]
  },
  {
   "cell_type": "markdown",
   "id": "ddd1ce2c",
   "metadata": {},
   "source": [
    "# `Shifting`\n",
    "\n",
    "    The concept of shifting is used to shift the values of a series or a dataframe by a specified number of units.\n",
    "    \n",
    "    For example, s.shift(1) will shift the series by 1.\n",
    "    \n",
    "    shift(-2) will shift the series upwards by 2."
   ]
  },
  {
   "cell_type": "code",
   "execution_count": 33,
   "id": "bd902474",
   "metadata": {},
   "outputs": [
    {
     "data": {
      "text/plain": [
       "0      3\n",
       "1     23\n",
       "2     43\n",
       "3     63\n",
       "4     83\n",
       "5    103\n",
       "6    123\n",
       "7    143\n",
       "8    163\n",
       "9    183\n",
       "dtype: int64"
      ]
     },
     "execution_count": 33,
     "metadata": {},
     "output_type": "execute_result"
    }
   ],
   "source": [
    "ser = pd.Series([20* i + 3 for i in range(10)], index = range(10))\n",
    "ser"
   ]
  },
  {
   "cell_type": "code",
   "execution_count": 34,
   "id": "c116f8b7",
   "metadata": {},
   "outputs": [
    {
     "data": {
      "text/plain": [
       "0      NaN\n",
       "1      3.0\n",
       "2     23.0\n",
       "3     43.0\n",
       "4     63.0\n",
       "5     83.0\n",
       "6    103.0\n",
       "7    123.0\n",
       "8    143.0\n",
       "9    163.0\n",
       "dtype: float64"
      ]
     },
     "execution_count": 34,
     "metadata": {},
     "output_type": "execute_result"
    }
   ],
   "source": [
    "ser.shift(1) # shifted whole series downward by 1"
   ]
  },
  {
   "cell_type": "code",
   "execution_count": 35,
   "id": "03891213",
   "metadata": {},
   "outputs": [
    {
     "data": {
      "text/plain": [
       "0     43.0\n",
       "1     63.0\n",
       "2     83.0\n",
       "3    103.0\n",
       "4    123.0\n",
       "5    143.0\n",
       "6    163.0\n",
       "7    183.0\n",
       "8      NaN\n",
       "9      NaN\n",
       "dtype: float64"
      ]
     },
     "execution_count": 35,
     "metadata": {},
     "output_type": "execute_result"
    }
   ],
   "source": [
    "ser.shift(-2) # shifted whole series upward by 2"
   ]
  },
  {
   "cell_type": "markdown",
   "id": "436136ee",
   "metadata": {},
   "source": [
    "### `Example of shift`"
   ]
  },
  {
   "cell_type": "code",
   "execution_count": 36,
   "id": "f97e66c4",
   "metadata": {},
   "outputs": [
    {
     "data": {
      "text/html": [
       "<div>\n",
       "<style scoped>\n",
       "    .dataframe tbody tr th:only-of-type {\n",
       "        vertical-align: middle;\n",
       "    }\n",
       "\n",
       "    .dataframe tbody tr th {\n",
       "        vertical-align: top;\n",
       "    }\n",
       "\n",
       "    .dataframe thead th {\n",
       "        text-align: right;\n",
       "    }\n",
       "</style>\n",
       "<table border=\"1\" class=\"dataframe\">\n",
       "  <thead>\n",
       "    <tr style=\"text-align: right;\">\n",
       "      <th></th>\n",
       "      <th>1</th>\n",
       "      <th>466</th>\n",
       "      <th>2017-01-07 18:24:07</th>\n",
       "      <th>Unnamed: 3</th>\n",
       "    </tr>\n",
       "  </thead>\n",
       "  <tbody>\n",
       "    <tr>\n",
       "      <th>0</th>\n",
       "      <td>2</td>\n",
       "      <td>466</td>\n",
       "      <td>2017-01-07 18:24:55</td>\n",
       "      <td>NaN</td>\n",
       "    </tr>\n",
       "    <tr>\n",
       "      <th>1</th>\n",
       "      <td>3</td>\n",
       "      <td>458</td>\n",
       "      <td>2017-01-07 18:25:18</td>\n",
       "      <td>NaN</td>\n",
       "    </tr>\n",
       "    <tr>\n",
       "      <th>2</th>\n",
       "      <td>4</td>\n",
       "      <td>458</td>\n",
       "      <td>2017-01-07 18:26:21</td>\n",
       "      <td>NaN</td>\n",
       "    </tr>\n",
       "    <tr>\n",
       "      <th>3</th>\n",
       "      <td>5</td>\n",
       "      <td>592</td>\n",
       "      <td>2017-01-07 19:09:59</td>\n",
       "      <td>NaN</td>\n",
       "    </tr>\n",
       "    <tr>\n",
       "      <th>4</th>\n",
       "      <td>6</td>\n",
       "      <td>393</td>\n",
       "      <td>2017-01-08 00:41:19</td>\n",
       "      <td>NaN</td>\n",
       "    </tr>\n",
       "    <tr>\n",
       "      <th>...</th>\n",
       "      <td>...</td>\n",
       "      <td>...</td>\n",
       "      <td>...</td>\n",
       "      <td>...</td>\n",
       "    </tr>\n",
       "    <tr>\n",
       "      <th>2997</th>\n",
       "      <td>2999</td>\n",
       "      <td>1307</td>\n",
       "      <td>2018-01-04 10:48:28</td>\n",
       "      <td>183.82.121.201</td>\n",
       "    </tr>\n",
       "    <tr>\n",
       "      <th>2998</th>\n",
       "      <td>3000</td>\n",
       "      <td>1230</td>\n",
       "      <td>2018-01-04 11:22:00</td>\n",
       "      <td>47.247.147.114</td>\n",
       "    </tr>\n",
       "    <tr>\n",
       "      <th>2999</th>\n",
       "      <td>3001</td>\n",
       "      <td>1307</td>\n",
       "      <td>2018-01-04 13:13:44</td>\n",
       "      <td>183.82.121.201</td>\n",
       "    </tr>\n",
       "    <tr>\n",
       "      <th>3000</th>\n",
       "      <td>3002</td>\n",
       "      <td>1307</td>\n",
       "      <td>2018-01-04 13:13:45</td>\n",
       "      <td>183.82.121.201</td>\n",
       "    </tr>\n",
       "    <tr>\n",
       "      <th>3001</th>\n",
       "      <td>3003</td>\n",
       "      <td>1224</td>\n",
       "      <td>2018-01-04 14:10:04</td>\n",
       "      <td>182.75.77.58</td>\n",
       "    </tr>\n",
       "  </tbody>\n",
       "</table>\n",
       "<p>3002 rows × 4 columns</p>\n",
       "</div>"
      ],
      "text/plain": [
       "         1   466  2017-01-07 18:24:07      Unnamed: 3\n",
       "0        2   466  2017-01-07 18:24:55             NaN\n",
       "1        3   458  2017-01-07 18:25:18             NaN\n",
       "2        4   458  2017-01-07 18:26:21             NaN\n",
       "3        5   592  2017-01-07 19:09:59             NaN\n",
       "4        6   393  2017-01-08 00:41:19             NaN\n",
       "...    ...   ...                  ...             ...\n",
       "2997  2999  1307  2018-01-04 10:48:28  183.82.121.201\n",
       "2998  3000  1230  2018-01-04 11:22:00  47.247.147.114\n",
       "2999  3001  1307  2018-01-04 13:13:44  183.82.121.201\n",
       "3000  3002  1307  2018-01-04 13:13:45  183.82.121.201\n",
       "3001  3003  1224  2018-01-04 14:10:04    182.75.77.58\n",
       "\n",
       "[3002 rows x 4 columns]"
      ]
     },
     "execution_count": 36,
     "metadata": {},
     "output_type": "execute_result"
    }
   ],
   "source": [
    "pd.read_csv('login.csv')"
   ]
  },
  {
   "cell_type": "code",
   "execution_count": 37,
   "id": "43f6b08f",
   "metadata": {},
   "outputs": [
    {
     "data": {
      "text/html": [
       "<div>\n",
       "<style scoped>\n",
       "    .dataframe tbody tr th:only-of-type {\n",
       "        vertical-align: middle;\n",
       "    }\n",
       "\n",
       "    .dataframe tbody tr th {\n",
       "        vertical-align: top;\n",
       "    }\n",
       "\n",
       "    .dataframe thead th {\n",
       "        text-align: right;\n",
       "    }\n",
       "</style>\n",
       "<table border=\"1\" class=\"dataframe\">\n",
       "  <thead>\n",
       "    <tr style=\"text-align: right;\">\n",
       "      <th></th>\n",
       "      <th>0</th>\n",
       "      <th>1</th>\n",
       "      <th>2</th>\n",
       "      <th>3</th>\n",
       "    </tr>\n",
       "  </thead>\n",
       "  <tbody>\n",
       "    <tr>\n",
       "      <th>0</th>\n",
       "      <td>1</td>\n",
       "      <td>466</td>\n",
       "      <td>2017-01-07 18:24:07</td>\n",
       "      <td>Unnamed: 3</td>\n",
       "    </tr>\n",
       "    <tr>\n",
       "      <th>1</th>\n",
       "      <td>2</td>\n",
       "      <td>466</td>\n",
       "      <td>2017-01-07 18:24:55</td>\n",
       "      <td>NaN</td>\n",
       "    </tr>\n",
       "    <tr>\n",
       "      <th>2</th>\n",
       "      <td>3</td>\n",
       "      <td>458</td>\n",
       "      <td>2017-01-07 18:25:18</td>\n",
       "      <td>NaN</td>\n",
       "    </tr>\n",
       "    <tr>\n",
       "      <th>3</th>\n",
       "      <td>4</td>\n",
       "      <td>458</td>\n",
       "      <td>2017-01-07 18:26:21</td>\n",
       "      <td>NaN</td>\n",
       "    </tr>\n",
       "    <tr>\n",
       "      <th>4</th>\n",
       "      <td>5</td>\n",
       "      <td>592</td>\n",
       "      <td>2017-01-07 19:09:59</td>\n",
       "      <td>NaN</td>\n",
       "    </tr>\n",
       "    <tr>\n",
       "      <th>...</th>\n",
       "      <td>...</td>\n",
       "      <td>...</td>\n",
       "      <td>...</td>\n",
       "      <td>...</td>\n",
       "    </tr>\n",
       "    <tr>\n",
       "      <th>2998</th>\n",
       "      <td>2999</td>\n",
       "      <td>1307</td>\n",
       "      <td>2018-01-04 10:48:28</td>\n",
       "      <td>183.82.121.201</td>\n",
       "    </tr>\n",
       "    <tr>\n",
       "      <th>2999</th>\n",
       "      <td>3000</td>\n",
       "      <td>1230</td>\n",
       "      <td>2018-01-04 11:22:00</td>\n",
       "      <td>47.247.147.114</td>\n",
       "    </tr>\n",
       "    <tr>\n",
       "      <th>3000</th>\n",
       "      <td>3001</td>\n",
       "      <td>1307</td>\n",
       "      <td>2018-01-04 13:13:44</td>\n",
       "      <td>183.82.121.201</td>\n",
       "    </tr>\n",
       "    <tr>\n",
       "      <th>3001</th>\n",
       "      <td>3002</td>\n",
       "      <td>1307</td>\n",
       "      <td>2018-01-04 13:13:45</td>\n",
       "      <td>183.82.121.201</td>\n",
       "    </tr>\n",
       "    <tr>\n",
       "      <th>3002</th>\n",
       "      <td>3003</td>\n",
       "      <td>1224</td>\n",
       "      <td>2018-01-04 14:10:04</td>\n",
       "      <td>182.75.77.58</td>\n",
       "    </tr>\n",
       "  </tbody>\n",
       "</table>\n",
       "<p>3003 rows × 4 columns</p>\n",
       "</div>"
      ],
      "text/plain": [
       "         0     1                    2               3\n",
       "0        1   466  2017-01-07 18:24:07      Unnamed: 3\n",
       "1        2   466  2017-01-07 18:24:55             NaN\n",
       "2        3   458  2017-01-07 18:25:18             NaN\n",
       "3        4   458  2017-01-07 18:26:21             NaN\n",
       "4        5   592  2017-01-07 19:09:59             NaN\n",
       "...    ...   ...                  ...             ...\n",
       "2998  2999  1307  2018-01-04 10:48:28  183.82.121.201\n",
       "2999  3000  1230  2018-01-04 11:22:00  47.247.147.114\n",
       "3000  3001  1307  2018-01-04 13:13:44  183.82.121.201\n",
       "3001  3002  1307  2018-01-04 13:13:45  183.82.121.201\n",
       "3002  3003  1224  2018-01-04 14:10:04    182.75.77.58\n",
       "\n",
       "[3003 rows x 4 columns]"
      ]
     },
     "execution_count": 37,
     "metadata": {},
     "output_type": "execute_result"
    }
   ],
   "source": [
    "pd.read_csv('login.csv', header = None)"
   ]
  },
  {
   "cell_type": "code",
   "execution_count": 38,
   "id": "57d07967",
   "metadata": {},
   "outputs": [
    {
     "data": {
      "text/html": [
       "<div>\n",
       "<style scoped>\n",
       "    .dataframe tbody tr th:only-of-type {\n",
       "        vertical-align: middle;\n",
       "    }\n",
       "\n",
       "    .dataframe tbody tr th {\n",
       "        vertical-align: top;\n",
       "    }\n",
       "\n",
       "    .dataframe thead th {\n",
       "        text-align: right;\n",
       "    }\n",
       "</style>\n",
       "<table border=\"1\" class=\"dataframe\">\n",
       "  <thead>\n",
       "    <tr style=\"text-align: right;\">\n",
       "      <th></th>\n",
       "      <th>user_id</th>\n",
       "      <th>login_time</th>\n",
       "    </tr>\n",
       "  </thead>\n",
       "  <tbody>\n",
       "    <tr>\n",
       "      <th>0</th>\n",
       "      <td>466</td>\n",
       "      <td>2017-01-07 18:24:07</td>\n",
       "    </tr>\n",
       "    <tr>\n",
       "      <th>1</th>\n",
       "      <td>466</td>\n",
       "      <td>2017-01-07 18:24:55</td>\n",
       "    </tr>\n",
       "    <tr>\n",
       "      <th>2</th>\n",
       "      <td>458</td>\n",
       "      <td>2017-01-07 18:25:18</td>\n",
       "    </tr>\n",
       "    <tr>\n",
       "      <th>3</th>\n",
       "      <td>458</td>\n",
       "      <td>2017-01-07 18:26:21</td>\n",
       "    </tr>\n",
       "    <tr>\n",
       "      <th>4</th>\n",
       "      <td>592</td>\n",
       "      <td>2017-01-07 19:09:59</td>\n",
       "    </tr>\n",
       "  </tbody>\n",
       "</table>\n",
       "</div>"
      ],
      "text/plain": [
       "   user_id           login_time\n",
       "0      466  2017-01-07 18:24:07\n",
       "1      466  2017-01-07 18:24:55\n",
       "2      458  2017-01-07 18:25:18\n",
       "3      458  2017-01-07 18:26:21\n",
       "4      592  2017-01-07 19:09:59"
      ]
     },
     "execution_count": 38,
     "metadata": {},
     "output_type": "execute_result"
    }
   ],
   "source": [
    "login = pd.read_csv('login.csv', header = None)[[1,2]]\n",
    "login.rename(columns = {1: 'user_id', 2: 'login_time'}, inplace = True)\n",
    "login.head()"
   ]
  },
  {
   "cell_type": "markdown",
   "id": "f11aada2",
   "metadata": {},
   "source": [
    "### `Find the average returning time of most frequent visitor.`"
   ]
  },
  {
   "cell_type": "code",
   "execution_count": 39,
   "id": "5fce145d",
   "metadata": {},
   "outputs": [
    {
     "data": {
      "text/plain": [
       "413"
      ]
     },
     "execution_count": 39,
     "metadata": {},
     "output_type": "execute_result"
    }
   ],
   "source": [
    "_id = login['user_id'].value_counts().head(1).index[0]\n",
    "_id"
   ]
  },
  {
   "cell_type": "markdown",
   "id": "d5281a34",
   "metadata": {},
   "source": [
    "`The user_id 413 has visited the website most number of times. We now need to find the average returning time of this user.`"
   ]
  },
  {
   "cell_type": "code",
   "execution_count": 40,
   "id": "23926735",
   "metadata": {},
   "outputs": [
    {
     "data": {
      "text/html": [
       "<div>\n",
       "<style scoped>\n",
       "    .dataframe tbody tr th:only-of-type {\n",
       "        vertical-align: middle;\n",
       "    }\n",
       "\n",
       "    .dataframe tbody tr th {\n",
       "        vertical-align: top;\n",
       "    }\n",
       "\n",
       "    .dataframe thead th {\n",
       "        text-align: right;\n",
       "    }\n",
       "</style>\n",
       "<table border=\"1\" class=\"dataframe\">\n",
       "  <thead>\n",
       "    <tr style=\"text-align: right;\">\n",
       "      <th></th>\n",
       "      <th>user_id</th>\n",
       "      <th>login_time</th>\n",
       "    </tr>\n",
       "  </thead>\n",
       "  <tbody>\n",
       "    <tr>\n",
       "      <th>11</th>\n",
       "      <td>413</td>\n",
       "      <td>2017-01-09 12:29:25</td>\n",
       "    </tr>\n",
       "    <tr>\n",
       "      <th>12</th>\n",
       "      <td>413</td>\n",
       "      <td>2017-01-09 12:40:39</td>\n",
       "    </tr>\n",
       "    <tr>\n",
       "      <th>14</th>\n",
       "      <td>413</td>\n",
       "      <td>2017-01-09 14:08:04</td>\n",
       "    </tr>\n",
       "    <tr>\n",
       "      <th>33</th>\n",
       "      <td>413</td>\n",
       "      <td>2017-01-10 14:36:23</td>\n",
       "    </tr>\n",
       "    <tr>\n",
       "      <th>35</th>\n",
       "      <td>413</td>\n",
       "      <td>2017-01-10 15:22:45</td>\n",
       "    </tr>\n",
       "    <tr>\n",
       "      <th>...</th>\n",
       "      <td>...</td>\n",
       "      <td>...</td>\n",
       "    </tr>\n",
       "    <tr>\n",
       "      <th>2958</th>\n",
       "      <td>413</td>\n",
       "      <td>2017-12-29 18:20:32</td>\n",
       "    </tr>\n",
       "    <tr>\n",
       "      <th>2963</th>\n",
       "      <td>413</td>\n",
       "      <td>2017-12-30 13:41:21</td>\n",
       "    </tr>\n",
       "    <tr>\n",
       "      <th>2974</th>\n",
       "      <td>413</td>\n",
       "      <td>2018-01-01 15:16:25</td>\n",
       "    </tr>\n",
       "    <tr>\n",
       "      <th>2982</th>\n",
       "      <td>413</td>\n",
       "      <td>2018-01-02 18:15:45</td>\n",
       "    </tr>\n",
       "    <tr>\n",
       "      <th>2997</th>\n",
       "      <td>413</td>\n",
       "      <td>2018-01-04 10:43:43</td>\n",
       "    </tr>\n",
       "  </tbody>\n",
       "</table>\n",
       "<p>222 rows × 2 columns</p>\n",
       "</div>"
      ],
      "text/plain": [
       "      user_id           login_time\n",
       "11        413  2017-01-09 12:29:25\n",
       "12        413  2017-01-09 12:40:39\n",
       "14        413  2017-01-09 14:08:04\n",
       "33        413  2017-01-10 14:36:23\n",
       "35        413  2017-01-10 15:22:45\n",
       "...       ...                  ...\n",
       "2958      413  2017-12-29 18:20:32\n",
       "2963      413  2017-12-30 13:41:21\n",
       "2974      413  2018-01-01 15:16:25\n",
       "2982      413  2018-01-02 18:15:45\n",
       "2997      413  2018-01-04 10:43:43\n",
       "\n",
       "[222 rows x 2 columns]"
      ]
     },
     "execution_count": 40,
     "metadata": {},
     "output_type": "execute_result"
    }
   ],
   "source": [
    "mask = login['user_id'] == _id\n",
    "user_df = login[mask]\n",
    "\n",
    "user_df"
   ]
  },
  {
   "cell_type": "code",
   "execution_count": 41,
   "id": "47da6625",
   "metadata": {},
   "outputs": [
    {
     "name": "stdout",
     "output_type": "stream",
     "text": [
      "<class 'pandas.core.frame.DataFrame'>\n",
      "Index: 222 entries, 11 to 2997\n",
      "Data columns (total 2 columns):\n",
      " #   Column      Non-Null Count  Dtype         \n",
      "---  ------      --------------  -----         \n",
      " 0   user_id     222 non-null    int64         \n",
      " 1   login_time  222 non-null    datetime64[ns]\n",
      "dtypes: datetime64[ns](1), int64(1)\n",
      "memory usage: 5.2 KB\n"
     ]
    },
    {
     "name": "stderr",
     "output_type": "stream",
     "text": [
      "C:\\Users\\HU496FA\\AppData\\Local\\Temp\\ipykernel_29060\\1093887548.py:2: SettingWithCopyWarning: \n",
      "A value is trying to be set on a copy of a slice from a DataFrame.\n",
      "Try using .loc[row_indexer,col_indexer] = value instead\n",
      "\n",
      "See the caveats in the documentation: https://pandas.pydata.org/pandas-docs/stable/user_guide/indexing.html#returning-a-view-versus-a-copy\n",
      "  user_df['login_time'] = pd.to_datetime(user_df['login_time'])\n"
     ]
    }
   ],
   "source": [
    "# change the data type of login_time column to datetime64[ns]\n",
    "user_df['login_time'] = pd.to_datetime(user_df['login_time'])\n",
    "user_df.info()"
   ]
  },
  {
   "cell_type": "code",
   "execution_count": 42,
   "id": "6747b48e",
   "metadata": {},
   "outputs": [
    {
     "data": {
      "text/plain": [
       "11                     NaT\n",
       "12     2017-01-09 12:29:25\n",
       "14     2017-01-09 12:40:39\n",
       "33     2017-01-09 14:08:04\n",
       "35     2017-01-10 14:36:23\n",
       "               ...        \n",
       "2958   2017-12-29 18:19:48\n",
       "2963   2017-12-29 18:20:32\n",
       "2974   2017-12-30 13:41:21\n",
       "2982   2018-01-01 15:16:25\n",
       "2997   2018-01-02 18:15:45\n",
       "Name: login_time, Length: 222, dtype: datetime64[ns]"
      ]
     },
     "execution_count": 42,
     "metadata": {},
     "output_type": "execute_result"
    }
   ],
   "source": [
    "user_df['login_time'].shift(1)"
   ]
  },
  {
   "cell_type": "code",
   "execution_count": 43,
   "id": "8cc5f195",
   "metadata": {},
   "outputs": [
    {
     "name": "stderr",
     "output_type": "stream",
     "text": [
      "C:\\Users\\HU496FA\\AppData\\Local\\Temp\\ipykernel_29060\\2186726288.py:1: SettingWithCopyWarning: \n",
      "A value is trying to be set on a copy of a slice from a DataFrame.\n",
      "Try using .loc[row_indexer,col_indexer] = value instead\n",
      "\n",
      "See the caveats in the documentation: https://pandas.pydata.org/pandas-docs/stable/user_guide/indexing.html#returning-a-view-versus-a-copy\n",
      "  user_df['shifted_login_time'] = user_df['login_time'].shift(1)\n"
     ]
    },
    {
     "data": {
      "text/html": [
       "<div>\n",
       "<style scoped>\n",
       "    .dataframe tbody tr th:only-of-type {\n",
       "        vertical-align: middle;\n",
       "    }\n",
       "\n",
       "    .dataframe tbody tr th {\n",
       "        vertical-align: top;\n",
       "    }\n",
       "\n",
       "    .dataframe thead th {\n",
       "        text-align: right;\n",
       "    }\n",
       "</style>\n",
       "<table border=\"1\" class=\"dataframe\">\n",
       "  <thead>\n",
       "    <tr style=\"text-align: right;\">\n",
       "      <th></th>\n",
       "      <th>user_id</th>\n",
       "      <th>login_time</th>\n",
       "      <th>shifted_login_time</th>\n",
       "    </tr>\n",
       "  </thead>\n",
       "  <tbody>\n",
       "    <tr>\n",
       "      <th>11</th>\n",
       "      <td>413</td>\n",
       "      <td>2017-01-09 12:29:25</td>\n",
       "      <td>NaT</td>\n",
       "    </tr>\n",
       "    <tr>\n",
       "      <th>12</th>\n",
       "      <td>413</td>\n",
       "      <td>2017-01-09 12:40:39</td>\n",
       "      <td>2017-01-09 12:29:25</td>\n",
       "    </tr>\n",
       "    <tr>\n",
       "      <th>14</th>\n",
       "      <td>413</td>\n",
       "      <td>2017-01-09 14:08:04</td>\n",
       "      <td>2017-01-09 12:40:39</td>\n",
       "    </tr>\n",
       "    <tr>\n",
       "      <th>33</th>\n",
       "      <td>413</td>\n",
       "      <td>2017-01-10 14:36:23</td>\n",
       "      <td>2017-01-09 14:08:04</td>\n",
       "    </tr>\n",
       "    <tr>\n",
       "      <th>35</th>\n",
       "      <td>413</td>\n",
       "      <td>2017-01-10 15:22:45</td>\n",
       "      <td>2017-01-10 14:36:23</td>\n",
       "    </tr>\n",
       "    <tr>\n",
       "      <th>...</th>\n",
       "      <td>...</td>\n",
       "      <td>...</td>\n",
       "      <td>...</td>\n",
       "    </tr>\n",
       "    <tr>\n",
       "      <th>2958</th>\n",
       "      <td>413</td>\n",
       "      <td>2017-12-29 18:20:32</td>\n",
       "      <td>2017-12-29 18:19:48</td>\n",
       "    </tr>\n",
       "    <tr>\n",
       "      <th>2963</th>\n",
       "      <td>413</td>\n",
       "      <td>2017-12-30 13:41:21</td>\n",
       "      <td>2017-12-29 18:20:32</td>\n",
       "    </tr>\n",
       "    <tr>\n",
       "      <th>2974</th>\n",
       "      <td>413</td>\n",
       "      <td>2018-01-01 15:16:25</td>\n",
       "      <td>2017-12-30 13:41:21</td>\n",
       "    </tr>\n",
       "    <tr>\n",
       "      <th>2982</th>\n",
       "      <td>413</td>\n",
       "      <td>2018-01-02 18:15:45</td>\n",
       "      <td>2018-01-01 15:16:25</td>\n",
       "    </tr>\n",
       "    <tr>\n",
       "      <th>2997</th>\n",
       "      <td>413</td>\n",
       "      <td>2018-01-04 10:43:43</td>\n",
       "      <td>2018-01-02 18:15:45</td>\n",
       "    </tr>\n",
       "  </tbody>\n",
       "</table>\n",
       "<p>222 rows × 3 columns</p>\n",
       "</div>"
      ],
      "text/plain": [
       "      user_id          login_time  shifted_login_time\n",
       "11        413 2017-01-09 12:29:25                 NaT\n",
       "12        413 2017-01-09 12:40:39 2017-01-09 12:29:25\n",
       "14        413 2017-01-09 14:08:04 2017-01-09 12:40:39\n",
       "33        413 2017-01-10 14:36:23 2017-01-09 14:08:04\n",
       "35        413 2017-01-10 15:22:45 2017-01-10 14:36:23\n",
       "...       ...                 ...                 ...\n",
       "2958      413 2017-12-29 18:20:32 2017-12-29 18:19:48\n",
       "2963      413 2017-12-30 13:41:21 2017-12-29 18:20:32\n",
       "2974      413 2018-01-01 15:16:25 2017-12-30 13:41:21\n",
       "2982      413 2018-01-02 18:15:45 2018-01-01 15:16:25\n",
       "2997      413 2018-01-04 10:43:43 2018-01-02 18:15:45\n",
       "\n",
       "[222 rows x 3 columns]"
      ]
     },
     "execution_count": 43,
     "metadata": {},
     "output_type": "execute_result"
    }
   ],
   "source": [
    "user_df['shifted_login_time'] = user_df['login_time'].shift(1)\n",
    "user_df"
   ]
  },
  {
   "cell_type": "code",
   "execution_count": 44,
   "id": "a184d179",
   "metadata": {},
   "outputs": [
    {
     "data": {
      "text/plain": [
       "11                 NaT\n",
       "12     0 days 00:11:14\n",
       "14     0 days 01:27:25\n",
       "33     1 days 00:28:19\n",
       "35     0 days 00:46:22\n",
       "             ...      \n",
       "2958   0 days 00:00:44\n",
       "2963   0 days 19:20:49\n",
       "2974   2 days 01:35:04\n",
       "2982   1 days 02:59:20\n",
       "2997   1 days 16:27:58\n",
       "Length: 222, dtype: timedelta64[ns]"
      ]
     },
     "execution_count": 44,
     "metadata": {},
     "output_type": "execute_result"
    }
   ],
   "source": [
    "user_df['login_time'] - user_df['shifted_login_time']"
   ]
  },
  {
   "cell_type": "code",
   "execution_count": 45,
   "id": "be701de7",
   "metadata": {},
   "outputs": [
    {
     "data": {
      "text/plain": [
       "Timedelta('1 days 15:05:13.384615384')"
      ]
     },
     "execution_count": 45,
     "metadata": {},
     "output_type": "execute_result"
    }
   ],
   "source": [
    "(user_df['login_time'] - user_df['shifted_login_time']).mean()"
   ]
  },
  {
   "cell_type": "markdown",
   "id": "26a704b9",
   "metadata": {},
   "source": [
    "#### `Thus, the most frequent visitor visits the website on an average after every 1 day 15 hours 5 minutes.`"
   ]
  },
  {
   "cell_type": "code",
   "execution_count": null,
   "id": "6467ba39",
   "metadata": {},
   "outputs": [],
   "source": []
  }
 ],
 "metadata": {
  "kernelspec": {
   "display_name": "Python 3 (ipykernel)",
   "language": "python",
   "name": "python3"
  },
  "language_info": {
   "codemirror_mode": {
    "name": "ipython",
    "version": 3
   },
   "file_extension": ".py",
   "mimetype": "text/x-python",
   "name": "python",
   "nbconvert_exporter": "python",
   "pygments_lexer": "ipython3",
   "version": "3.11.5"
  }
 },
 "nbformat": 4,
 "nbformat_minor": 5
}
