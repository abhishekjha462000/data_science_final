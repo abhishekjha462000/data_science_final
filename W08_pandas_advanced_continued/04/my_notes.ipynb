{
 "cells": [
  {
   "cell_type": "code",
   "execution_count": 1,
   "id": "7ce2b6a3",
   "metadata": {},
   "outputs": [],
   "source": [
    "import numpy as np\n",
    "import pandas as pd"
   ]
  },
  {
   "cell_type": "markdown",
   "id": "a56ef63e",
   "metadata": {},
   "source": [
    "# `pivot table`\n",
    "    \n",
    "    The pivot table is a special kind of table."
   ]
  },
  {
   "cell_type": "code",
   "execution_count": null,
   "id": "f8f083b3",
   "metadata": {},
   "outputs": [],
   "source": [
    "import seaborn as sns"
   ]
  },
  {
   "cell_type": "code",
   "execution_count": null,
   "id": "61fa6901",
   "metadata": {},
   "outputs": [],
   "source": [
    "tips = sns.load_dataset('tips')\n",
    "tips"
   ]
  },
  {
   "cell_type": "markdown",
   "id": "6ab7ce7b",
   "metadata": {},
   "source": [
    "#### `Example 1`\n",
    "\n",
    "    In this example we are using the sex column as the index of our pivot table which means that all the categories\n",
    "    inside the sex columns will be made as rows. \n",
    "    Similarily, we are providing smoker column as the column of our pivot table. \n",
    "    \n",
    "    This means that categories inside the smoker column of the dataframe will be made as columns of the pivot table.\n",
    "    \n",
    "    values = 'total_bill'\n",
    "    \n",
    "    This will make the entries of the pivot table as mean of the total_bill. By default if we do not provide an aggregate\n",
    "    function, mean() is taken.\n",
    "    \n",
    "    We can however specify the aggfunc to be used. "
   ]
  },
  {
   "cell_type": "code",
   "execution_count": null,
   "id": "a3bd42ef",
   "metadata": {},
   "outputs": [],
   "source": [
    "tips.pivot_table(index = 'sex', columns = 'smoker', values = 'total_bill', aggfunc = 'sum')"
   ]
  },
  {
   "cell_type": "code",
   "execution_count": null,
   "id": "57f10d84",
   "metadata": {},
   "outputs": [],
   "source": [
    "tips.pivot_table(index = 'day', columns = 'sex', values = 'tip')"
   ]
  },
  {
   "cell_type": "code",
   "execution_count": null,
   "id": "e66c9b4e",
   "metadata": {},
   "outputs": [],
   "source": [
    "tips.groupby(['day', 'sex'])['tip'].mean()"
   ]
  },
  {
   "cell_type": "markdown",
   "id": "e44a8b00",
   "metadata": {},
   "source": [
    "#### `You can compare the above two cells. Pivot tables are not a new concept. They are just a syntactical sugar.`"
   ]
  },
  {
   "cell_type": "markdown",
   "id": "9172ebd7",
   "metadata": {},
   "source": [
    "### `Example 2`"
   ]
  },
  {
   "cell_type": "code",
   "execution_count": null,
   "id": "b301e9d7",
   "metadata": {},
   "outputs": [],
   "source": [
    "tips"
   ]
  },
  {
   "cell_type": "code",
   "execution_count": null,
   "id": "6a50552e",
   "metadata": {},
   "outputs": [],
   "source": [
    "tips.pivot_table(\n",
    "                    index = ['sex', 'smoker'], \n",
    "                    columns = ['day', 'time'], \n",
    "                    values = 'total_bill', \n",
    "                    aggfunc = {'total_bill':'sum'}\n",
    "                )"
   ]
  },
  {
   "cell_type": "code",
   "execution_count": null,
   "id": "e3b4a0f3",
   "metadata": {},
   "outputs": [],
   "source": []
  }
 ],
 "metadata": {
  "kernelspec": {
   "display_name": "Python 3 (ipykernel)",
   "language": "python",
   "name": "python3"
  },
  "language_info": {
   "codemirror_mode": {
    "name": "ipython",
    "version": 3
   },
   "file_extension": ".py",
   "mimetype": "text/x-python",
   "name": "python",
   "nbconvert_exporter": "python",
   "pygments_lexer": "ipython3",
   "version": "3.11.5"
  }
 },
 "nbformat": 4,
 "nbformat_minor": 5
}
