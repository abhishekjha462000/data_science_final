{
 "cells": [
  {
   "cell_type": "code",
   "execution_count": 1,
   "id": "ae479d55",
   "metadata": {},
   "outputs": [],
   "source": [
    "import numpy as np\n",
    "import pandas as pd"
   ]
  },
  {
   "cell_type": "markdown",
   "id": "6775b2e8",
   "metadata": {},
   "source": [
    "# `Timestamp`\n",
    "\n",
    "    The timestamp object is used to create an instance of time. \n",
    "    \n",
    "    We create timestamp object using pd.Timestamp() method.\n",
    "    \n",
    "    The timestamp object is very similiar to python datetime object but with expanded functionality."
   ]
  },
  {
   "cell_type": "code",
   "execution_count": 2,
   "id": "a1dd0b97",
   "metadata": {},
   "outputs": [
    {
     "data": {
      "text/plain": [
       "Timestamp('2024-03-24 00:00:00')"
      ]
     },
     "execution_count": 2,
     "metadata": {},
     "output_type": "execute_result"
    }
   ],
   "source": [
    "pd.Timestamp('2024/3/24') # year/month/date"
   ]
  },
  {
   "cell_type": "code",
   "execution_count": 3,
   "id": "8d090d16",
   "metadata": {},
   "outputs": [
    {
     "data": {
      "text/plain": [
       "Timestamp('2024-03-24 00:00:00')"
      ]
     },
     "execution_count": 3,
     "metadata": {},
     "output_type": "execute_result"
    }
   ],
   "source": [
    "pd.Timestamp('2024-03-24')"
   ]
  },
  {
   "cell_type": "code",
   "execution_count": 4,
   "id": "301e1074",
   "metadata": {},
   "outputs": [
    {
     "data": {
      "text/plain": [
       "Timestamp('2024-03-24 00:00:00')"
      ]
     },
     "execution_count": 4,
     "metadata": {},
     "output_type": "execute_result"
    }
   ],
   "source": [
    "pd.Timestamp(2024, 3, 24)"
   ]
  },
  {
   "cell_type": "code",
   "execution_count": 5,
   "id": "fc3c7b06",
   "metadata": {},
   "outputs": [
    {
     "data": {
      "text/plain": [
       "Timestamp('2024-03-24 00:00:00')"
      ]
     },
     "execution_count": 5,
     "metadata": {},
     "output_type": "execute_result"
    }
   ],
   "source": [
    "pd.Timestamp('24 March 2024')"
   ]
  },
  {
   "cell_type": "code",
   "execution_count": 6,
   "id": "acf09ad3",
   "metadata": {},
   "outputs": [
    {
     "data": {
      "text/plain": [
       "Timestamp('2024-03-24 00:00:00')"
      ]
     },
     "execution_count": 6,
     "metadata": {},
     "output_type": "execute_result"
    }
   ],
   "source": [
    "pd.Timestamp('2024, 03, 24')"
   ]
  },
  {
   "cell_type": "markdown",
   "id": "9d490d10",
   "metadata": {},
   "source": [
    "#### `We can also just pass the year and pandas is smart enough to understand that.`"
   ]
  },
  {
   "cell_type": "code",
   "execution_count": 7,
   "id": "297559b4",
   "metadata": {},
   "outputs": [
    {
     "data": {
      "text/plain": [
       "Timestamp('2024-01-01 00:00:00')"
      ]
     },
     "execution_count": 7,
     "metadata": {},
     "output_type": "execute_result"
    }
   ],
   "source": [
    "pd.Timestamp('2024')"
   ]
  },
  {
   "cell_type": "code",
   "execution_count": 8,
   "id": "29730aa8",
   "metadata": {},
   "outputs": [
    {
     "data": {
      "text/plain": [
       "Timestamp('2024-01-01 00:00:00')"
      ]
     },
     "execution_count": 8,
     "metadata": {},
     "output_type": "execute_result"
    }
   ],
   "source": [
    "t = pd.Timestamp('2024')\n",
    "t"
   ]
  },
  {
   "cell_type": "code",
   "execution_count": 9,
   "id": "d82ccc40",
   "metadata": {},
   "outputs": [
    {
     "data": {
      "text/plain": [
       "pandas._libs.tslibs.timestamps.Timestamp"
      ]
     },
     "execution_count": 9,
     "metadata": {},
     "output_type": "execute_result"
    }
   ],
   "source": [
    "type(t)"
   ]
  },
  {
   "cell_type": "markdown",
   "id": "3d63dfcd",
   "metadata": {},
   "source": [
    "# `datetime index object`\n",
    "\n",
    "    We can also create an index object using multiple timestamps. This datetime index object can then be used to\n",
    "    index a series or a dataframe inside pandas."
   ]
  },
  {
   "cell_type": "code",
   "execution_count": 10,
   "id": "5172cdfa",
   "metadata": {},
   "outputs": [
    {
     "data": {
      "text/plain": [
       "DatetimeIndex(['2024-03-05', '2024-03-23', '2024-01-14'], dtype='datetime64[ns]', freq=None)"
      ]
     },
     "execution_count": 10,
     "metadata": {},
     "output_type": "execute_result"
    }
   ],
   "source": [
    "index = pd.DatetimeIndex(['2024/03/05', '2024/03/23', '2024/01/14'])\n",
    "index"
   ]
  },
  {
   "cell_type": "markdown",
   "id": "bb99befd",
   "metadata": {},
   "source": [
    "    We can also provide timestamp objects directly inside the DatetimeIndex constructor."
   ]
  },
  {
   "cell_type": "code",
   "execution_count": 11,
   "id": "d46a755b",
   "metadata": {},
   "outputs": [
    {
     "data": {
      "text/plain": [
       "DatetimeIndex(['2024-03-05', '2024-03-23', '2024-01-14'], dtype='datetime64[ns]', freq=None)"
      ]
     },
     "execution_count": 11,
     "metadata": {},
     "output_type": "execute_result"
    }
   ],
   "source": [
    "index = pd.DatetimeIndex([pd.Timestamp(2024, 3, 5), pd.Timestamp(2024, 3, 23), pd.Timestamp(2024, 1, 14)])\n",
    "index"
   ]
  },
  {
   "cell_type": "markdown",
   "id": "e2babb33",
   "metadata": {},
   "source": [
    "    We can also pass in the python's datetime objects inside the DatetimeIndex() constructor."
   ]
  },
  {
   "cell_type": "code",
   "execution_count": 12,
   "id": "c897482d",
   "metadata": {},
   "outputs": [
    {
     "data": {
      "text/plain": [
       "DatetimeIndex(['2024-03-05', '2024-03-23', '2024-01-14'], dtype='datetime64[ns]', freq=None)"
      ]
     },
     "execution_count": 12,
     "metadata": {},
     "output_type": "execute_result"
    }
   ],
   "source": [
    "import datetime as dt\n",
    "\n",
    "index = pd.DatetimeIndex([dt.datetime(2024, 3, 5), dt.datetime(2024, 3, 23), dt.datetime(2024, 1, 14)])\n",
    "index"
   ]
  },
  {
   "cell_type": "markdown",
   "id": "e84b4000",
   "metadata": {},
   "source": [
    "#### `We can now use this datatime index object as a index in a series or a dataframe or as a column.`"
   ]
  },
  {
   "cell_type": "code",
   "execution_count": 13,
   "id": "02ee46ae",
   "metadata": {},
   "outputs": [
    {
     "data": {
      "text/plain": [
       "2024-03-05    100\n",
       "2024-03-23    900\n",
       "2024-01-14    850\n",
       "dtype: int64"
      ]
     },
     "execution_count": 13,
     "metadata": {},
     "output_type": "execute_result"
    }
   ],
   "source": [
    "ser = pd.Series([100, 900, 850], index = index)\n",
    "ser"
   ]
  },
  {
   "cell_type": "code",
   "execution_count": 14,
   "id": "278e6002",
   "metadata": {},
   "outputs": [
    {
     "data": {
      "text/html": [
       "<div>\n",
       "<style scoped>\n",
       "    .dataframe tbody tr th:only-of-type {\n",
       "        vertical-align: middle;\n",
       "    }\n",
       "\n",
       "    .dataframe tbody tr th {\n",
       "        vertical-align: top;\n",
       "    }\n",
       "\n",
       "    .dataframe thead th {\n",
       "        text-align: right;\n",
       "    }\n",
       "</style>\n",
       "<table border=\"1\" class=\"dataframe\">\n",
       "  <thead>\n",
       "    <tr style=\"text-align: right;\">\n",
       "      <th></th>\n",
       "      <th>index</th>\n",
       "      <th>0</th>\n",
       "    </tr>\n",
       "  </thead>\n",
       "  <tbody>\n",
       "    <tr>\n",
       "      <th>0</th>\n",
       "      <td>2024-03-05</td>\n",
       "      <td>100</td>\n",
       "    </tr>\n",
       "    <tr>\n",
       "      <th>1</th>\n",
       "      <td>2024-03-23</td>\n",
       "      <td>900</td>\n",
       "    </tr>\n",
       "    <tr>\n",
       "      <th>2</th>\n",
       "      <td>2024-01-14</td>\n",
       "      <td>850</td>\n",
       "    </tr>\n",
       "  </tbody>\n",
       "</table>\n",
       "</div>"
      ],
      "text/plain": [
       "       index    0\n",
       "0 2024-03-05  100\n",
       "1 2024-03-23  900\n",
       "2 2024-01-14  850"
      ]
     },
     "execution_count": 14,
     "metadata": {},
     "output_type": "execute_result"
    }
   ],
   "source": [
    "df = ser.reset_index()\n",
    "df"
   ]
  },
  {
   "cell_type": "code",
   "execution_count": 15,
   "id": "f94ab25a",
   "metadata": {},
   "outputs": [
    {
     "name": "stdout",
     "output_type": "stream",
     "text": [
      "<class 'pandas.core.frame.DataFrame'>\n",
      "RangeIndex: 3 entries, 0 to 2\n",
      "Data columns (total 2 columns):\n",
      " #   Column  Non-Null Count  Dtype         \n",
      "---  ------  --------------  -----         \n",
      " 0   index   3 non-null      datetime64[ns]\n",
      " 1   0       3 non-null      int64         \n",
      "dtypes: datetime64[ns](1), int64(1)\n",
      "memory usage: 180.0 bytes\n"
     ]
    }
   ],
   "source": [
    "df.info()"
   ]
  },
  {
   "cell_type": "markdown",
   "id": "629e68c8",
   "metadata": {},
   "source": [
    "### `We can now get various details from df['index'] using the dt accessor.`"
   ]
  },
  {
   "cell_type": "code",
   "execution_count": 16,
   "id": "58a800a4",
   "metadata": {},
   "outputs": [
    {
     "data": {
      "text/plain": [
       "0     5\n",
       "1    23\n",
       "2    14\n",
       "Name: index, dtype: int32"
      ]
     },
     "execution_count": 16,
     "metadata": {},
     "output_type": "execute_result"
    }
   ],
   "source": [
    "df['index'].dt.year\n",
    "df['index'].dt.month\n",
    "df['index'].dt.day"
   ]
  },
  {
   "cell_type": "code",
   "execution_count": 17,
   "id": "88ab2abe",
   "metadata": {},
   "outputs": [
    {
     "data": {
      "text/plain": [
       "0    0\n",
       "1    0\n",
       "2    0\n",
       "Name: index, dtype: int32"
      ]
     },
     "execution_count": 17,
     "metadata": {},
     "output_type": "execute_result"
    }
   ],
   "source": [
    "df['index'].dt.minute\n",
    "df['index'].dt.hour\n",
    "df['index'].dt.second"
   ]
  },
  {
   "cell_type": "code",
   "execution_count": 18,
   "id": "35faf3fb",
   "metadata": {},
   "outputs": [
    {
     "data": {
      "text/plain": [
       "['__annotations__',\n",
       " '__class__',\n",
       " '__delattr__',\n",
       " '__dict__',\n",
       " '__dir__',\n",
       " '__doc__',\n",
       " '__eq__',\n",
       " '__format__',\n",
       " '__frozen',\n",
       " '__ge__',\n",
       " '__getattribute__',\n",
       " '__getstate__',\n",
       " '__gt__',\n",
       " '__hash__',\n",
       " '__init__',\n",
       " '__init_subclass__',\n",
       " '__le__',\n",
       " '__lt__',\n",
       " '__module__',\n",
       " '__ne__',\n",
       " '__new__',\n",
       " '__reduce__',\n",
       " '__reduce_ex__',\n",
       " '__repr__',\n",
       " '__setattr__',\n",
       " '__sizeof__',\n",
       " '__str__',\n",
       " '__subclasshook__',\n",
       " '__weakref__',\n",
       " '_accessors',\n",
       " '_add_delegate_accessors',\n",
       " '_constructor',\n",
       " '_delegate_method',\n",
       " '_delegate_property_get',\n",
       " '_delegate_property_set',\n",
       " '_dir_additions',\n",
       " '_dir_deletions',\n",
       " '_freeze',\n",
       " '_get_values',\n",
       " '_hidden_attrs',\n",
       " '_parent',\n",
       " '_reset_cache',\n",
       " 'as_unit',\n",
       " 'ceil',\n",
       " 'date',\n",
       " 'day',\n",
       " 'day_name',\n",
       " 'day_of_week',\n",
       " 'day_of_year',\n",
       " 'dayofweek',\n",
       " 'dayofyear',\n",
       " 'days_in_month',\n",
       " 'daysinmonth',\n",
       " 'floor',\n",
       " 'freq',\n",
       " 'hour',\n",
       " 'is_leap_year',\n",
       " 'is_month_end',\n",
       " 'is_month_start',\n",
       " 'is_quarter_end',\n",
       " 'is_quarter_start',\n",
       " 'is_year_end',\n",
       " 'is_year_start',\n",
       " 'isocalendar',\n",
       " 'microsecond',\n",
       " 'minute',\n",
       " 'month',\n",
       " 'month_name',\n",
       " 'nanosecond',\n",
       " 'normalize',\n",
       " 'quarter',\n",
       " 'round',\n",
       " 'second',\n",
       " 'strftime',\n",
       " 'time',\n",
       " 'timetz',\n",
       " 'to_period',\n",
       " 'to_pydatetime',\n",
       " 'tz',\n",
       " 'tz_convert',\n",
       " 'tz_localize',\n",
       " 'unit',\n",
       " 'weekday',\n",
       " 'year']"
      ]
     },
     "execution_count": 18,
     "metadata": {},
     "output_type": "execute_result"
    }
   ],
   "source": [
    "dir(df['index'].dt)"
   ]
  },
  {
   "cell_type": "code",
   "execution_count": 19,
   "id": "ba4d4912",
   "metadata": {},
   "outputs": [
    {
     "data": {
      "text/plain": [
       "0    1\n",
       "1    5\n",
       "2    6\n",
       "Name: index, dtype: int32"
      ]
     },
     "execution_count": 19,
     "metadata": {},
     "output_type": "execute_result"
    }
   ],
   "source": [
    "df['index'].dt.day_of_week"
   ]
  },
  {
   "cell_type": "code",
   "execution_count": 20,
   "id": "46c8220f",
   "metadata": {},
   "outputs": [
    {
     "data": {
      "text/plain": [
       "0      March\n",
       "1      March\n",
       "2    January\n",
       "Name: index, dtype: object"
      ]
     },
     "execution_count": 20,
     "metadata": {},
     "output_type": "execute_result"
    }
   ],
   "source": [
    "df['index'].dt.month_name()"
   ]
  },
  {
   "cell_type": "code",
   "execution_count": 21,
   "id": "ce638ee7",
   "metadata": {},
   "outputs": [
    {
     "data": {
      "text/plain": [
       "0     Tuesday\n",
       "1    Saturday\n",
       "2      Sunday\n",
       "Name: index, dtype: object"
      ]
     },
     "execution_count": 21,
     "metadata": {},
     "output_type": "execute_result"
    }
   ],
   "source": [
    "df['index'].dt.day_name()"
   ]
  },
  {
   "cell_type": "markdown",
   "id": "45adb7ef",
   "metadata": {},
   "source": [
    "### `We can also create boolean masks using dt accessor.`"
   ]
  },
  {
   "cell_type": "code",
   "execution_count": 22,
   "id": "97a5eb29",
   "metadata": {},
   "outputs": [
    {
     "data": {
      "text/plain": [
       "0    True\n",
       "1    True\n",
       "2    True\n",
       "Name: index, dtype: bool"
      ]
     },
     "execution_count": 22,
     "metadata": {},
     "output_type": "execute_result"
    }
   ],
   "source": [
    "df['index'].dt.is_leap_year"
   ]
  },
  {
   "cell_type": "code",
   "execution_count": 23,
   "id": "e49665d2",
   "metadata": {},
   "outputs": [
    {
     "data": {
      "text/plain": [
       "0    False\n",
       "1    False\n",
       "2    False\n",
       "Name: index, dtype: bool"
      ]
     },
     "execution_count": 23,
     "metadata": {},
     "output_type": "execute_result"
    }
   ],
   "source": [
    "df['index'].dt.is_month_end"
   ]
  },
  {
   "cell_type": "code",
   "execution_count": 24,
   "id": "4f9b2c8e",
   "metadata": {},
   "outputs": [
    {
     "data": {
      "text/plain": [
       "0    False\n",
       "1    False\n",
       "2    False\n",
       "Name: index, dtype: bool"
      ]
     },
     "execution_count": 24,
     "metadata": {},
     "output_type": "execute_result"
    }
   ],
   "source": [
    "df['index'].dt.is_month_start"
   ]
  },
  {
   "cell_type": "code",
   "execution_count": 25,
   "id": "341cb7cd",
   "metadata": {},
   "outputs": [
    {
     "data": {
      "text/plain": [
       "0    False\n",
       "1    False\n",
       "2    False\n",
       "Name: index, dtype: bool"
      ]
     },
     "execution_count": 25,
     "metadata": {},
     "output_type": "execute_result"
    }
   ],
   "source": [
    "df['index'].dt.is_year_end"
   ]
  },
  {
   "cell_type": "code",
   "execution_count": 26,
   "id": "453a1a4b",
   "metadata": {},
   "outputs": [
    {
     "data": {
      "text/plain": [
       "0    False\n",
       "1    False\n",
       "2    False\n",
       "Name: index, dtype: bool"
      ]
     },
     "execution_count": 26,
     "metadata": {},
     "output_type": "execute_result"
    }
   ],
   "source": [
    "df['index'].dt.is_year_start"
   ]
  },
  {
   "cell_type": "markdown",
   "id": "258ba36c",
   "metadata": {},
   "source": [
    "# `date_range()`\n",
    "\n",
    "    The date_range() object is used to create a range of pandas timestampes."
   ]
  },
  {
   "cell_type": "code",
   "execution_count": 27,
   "id": "4aab0bf4",
   "metadata": {},
   "outputs": [
    {
     "data": {
      "text/plain": [
       "DatetimeIndex(['2024-01-24', '2024-01-25', '2024-01-26', '2024-01-27',\n",
       "               '2024-01-28', '2024-01-29', '2024-01-30', '2024-01-31',\n",
       "               '2024-02-01', '2024-02-02', '2024-02-03', '2024-02-04',\n",
       "               '2024-02-05', '2024-02-06', '2024-02-07', '2024-02-08',\n",
       "               '2024-02-09', '2024-02-10', '2024-02-11', '2024-02-12',\n",
       "               '2024-02-13', '2024-02-14', '2024-02-15', '2024-02-16',\n",
       "               '2024-02-17', '2024-02-18', '2024-02-19', '2024-02-20',\n",
       "               '2024-02-21', '2024-02-22', '2024-02-23', '2024-02-24',\n",
       "               '2024-02-25', '2024-02-26', '2024-02-27', '2024-02-28',\n",
       "               '2024-02-29', '2024-03-01', '2024-03-02', '2024-03-03',\n",
       "               '2024-03-04', '2024-03-05', '2024-03-06', '2024-03-07',\n",
       "               '2024-03-08', '2024-03-09', '2024-03-10', '2024-03-11',\n",
       "               '2024-03-12', '2024-03-13', '2024-03-14', '2024-03-15',\n",
       "               '2024-03-16', '2024-03-17', '2024-03-18', '2024-03-19'],\n",
       "              dtype='datetime64[ns]', freq='D')"
      ]
     },
     "execution_count": 27,
     "metadata": {},
     "output_type": "execute_result"
    }
   ],
   "source": [
    "pd.date_range(start = '24 Jan 2024', end = '19 March 2024', freq = 'D')"
   ]
  },
  {
   "cell_type": "code",
   "execution_count": 28,
   "id": "455ab1ca",
   "metadata": {},
   "outputs": [
    {
     "data": {
      "text/plain": [
       "DatetimeIndex(['2024-01-14', '2024-01-17', '2024-01-20', '2024-01-23',\n",
       "               '2024-01-26', '2024-01-29', '2024-02-01', '2024-02-04',\n",
       "               '2024-02-07', '2024-02-10', '2024-02-13', '2024-02-16',\n",
       "               '2024-02-19', '2024-02-22', '2024-02-25', '2024-02-28',\n",
       "               '2024-03-02', '2024-03-05', '2024-03-08', '2024-03-11',\n",
       "               '2024-03-14'],\n",
       "              dtype='datetime64[ns]', freq='3D')"
      ]
     },
     "execution_count": 28,
     "metadata": {},
     "output_type": "execute_result"
    }
   ],
   "source": [
    "pd.date_range(start = '14 Jan 2024', end = '14 March 2024', freq = '3D')"
   ]
  },
  {
   "cell_type": "code",
   "execution_count": 29,
   "id": "c0e664b4",
   "metadata": {},
   "outputs": [
    {
     "data": {
      "text/plain": [
       "DatetimeIndex(['2024-01-15', '2024-01-16', '2024-01-17', '2024-01-18',\n",
       "               '2024-01-19', '2024-01-22', '2024-01-23', '2024-01-24',\n",
       "               '2024-01-25', '2024-01-26', '2024-01-29', '2024-01-30',\n",
       "               '2024-01-31', '2024-02-01', '2024-02-02', '2024-02-05',\n",
       "               '2024-02-06', '2024-02-07', '2024-02-08', '2024-02-09',\n",
       "               '2024-02-12', '2024-02-13', '2024-02-14', '2024-02-15',\n",
       "               '2024-02-16', '2024-02-19', '2024-02-20', '2024-02-21',\n",
       "               '2024-02-22', '2024-02-23', '2024-02-26', '2024-02-27',\n",
       "               '2024-02-28', '2024-02-29', '2024-03-01', '2024-03-04',\n",
       "               '2024-03-05', '2024-03-06', '2024-03-07', '2024-03-08',\n",
       "               '2024-03-11', '2024-03-12'],\n",
       "              dtype='datetime64[ns]', freq='B')"
      ]
     },
     "execution_count": 29,
     "metadata": {},
     "output_type": "execute_result"
    }
   ],
   "source": [
    "pd.date_range(start = '14 Jan 2024', end = '12 March 2024', freq = 'B') # B stands for business days -- excluding weekend"
   ]
  },
  {
   "cell_type": "code",
   "execution_count": 30,
   "id": "f3825769",
   "metadata": {},
   "outputs": [
    {
     "data": {
      "text/plain": [
       "DatetimeIndex(['2024-01-14', '2024-01-21', '2024-01-28', '2024-02-04',\n",
       "               '2024-02-11', '2024-02-18', '2024-02-25', '2024-03-03',\n",
       "               '2024-03-10'],\n",
       "              dtype='datetime64[ns]', freq='W-SUN')"
      ]
     },
     "execution_count": 30,
     "metadata": {},
     "output_type": "execute_result"
    }
   ],
   "source": [
    "pd.date_range(start = '12 Jan 2024', end = '13 March 2024', freq = 'W') # gives first day of each week --by default sunday"
   ]
  },
  {
   "cell_type": "markdown",
   "id": "997da58a",
   "metadata": {},
   "source": [
    "### `We can also specify which day we want to be considered as the first day of the week.`"
   ]
  },
  {
   "cell_type": "code",
   "execution_count": 31,
   "id": "de05fe3f",
   "metadata": {},
   "outputs": [
    {
     "data": {
      "text/plain": [
       "DatetimeIndex(['2024-01-15', '2024-01-22', '2024-01-29', '2024-02-05',\n",
       "               '2024-02-12', '2024-02-19', '2024-02-26', '2024-03-04',\n",
       "               '2024-03-11'],\n",
       "              dtype='datetime64[ns]', freq='W-MON')"
      ]
     },
     "execution_count": 31,
     "metadata": {},
     "output_type": "execute_result"
    }
   ],
   "source": [
    "pd.date_range(start = '12 Jan 2024', end = '13 March 2024', freq = 'W-MON') # considers MONDAY as the first day of the week"
   ]
  },
  {
   "cell_type": "code",
   "execution_count": 32,
   "id": "a5c59a15",
   "metadata": {},
   "outputs": [
    {
     "data": {
      "text/plain": [
       "DatetimeIndex(['2024-01-31', '2024-02-29'], dtype='datetime64[ns]', freq='M')"
      ]
     },
     "execution_count": 32,
     "metadata": {},
     "output_type": "execute_result"
    }
   ],
   "source": [
    "pd.date_range(start = '12 Jan 2024', end = '13 March 2024', freq = 'M') # consider only the month end"
   ]
  },
  {
   "cell_type": "code",
   "execution_count": 33,
   "id": "ac1102bd",
   "metadata": {},
   "outputs": [
    {
     "data": {
      "text/plain": [
       "DatetimeIndex(['2024-02-01', '2024-03-01'], dtype='datetime64[ns]', freq='MS')"
      ]
     },
     "execution_count": 33,
     "metadata": {},
     "output_type": "execute_result"
    }
   ],
   "source": [
    "pd.date_range(start = '12 Jan 2024', end = '13 March 2024', freq = 'MS') # consider only the month start"
   ]
  },
  {
   "cell_type": "markdown",
   "id": "43caa481",
   "metadata": {},
   "source": [
    "### `The date_range() method expects us to pass exactly three parameters out of four.`\n",
    "\n",
    "      The 4 parameters inside the date_range() are start, end, freq, and periods.\n",
    "      \n",
    "      We need to specify exactly three of them."
   ]
  },
  {
   "cell_type": "code",
   "execution_count": 34,
   "id": "8a4c4d68",
   "metadata": {},
   "outputs": [
    {
     "data": {
      "text/plain": [
       "DatetimeIndex(['2024-01-12', '2024-01-15', '2024-01-18', '2024-01-21',\n",
       "               '2024-01-24', '2024-01-27', '2024-01-30', '2024-02-02',\n",
       "               '2024-02-05', '2024-02-08', '2024-02-11', '2024-02-14',\n",
       "               '2024-02-17', '2024-02-20', '2024-02-23', '2024-02-26',\n",
       "               '2024-02-29', '2024-03-03', '2024-03-06', '2024-03-09',\n",
       "               '2024-03-12', '2024-03-15', '2024-03-18', '2024-03-21',\n",
       "               '2024-03-24'],\n",
       "              dtype='datetime64[ns]', freq='3D')"
      ]
     },
     "execution_count": 34,
     "metadata": {},
     "output_type": "execute_result"
    }
   ],
   "source": [
    "pd.date_range(start = '12 Jan 2024', periods = 25, freq = '3D') # periods = 25 means give me 25 such days"
   ]
  },
  {
   "cell_type": "code",
   "execution_count": 35,
   "id": "20f879de",
   "metadata": {},
   "outputs": [
    {
     "data": {
      "text/plain": [
       "DatetimeIndex(['2024-01-12 09:00:00', '2024-01-12 10:00:00',\n",
       "               '2024-01-12 11:00:00', '2024-01-12 12:00:00',\n",
       "               '2024-01-12 13:00:00', '2024-01-12 14:00:00',\n",
       "               '2024-01-12 15:00:00', '2024-01-12 16:00:00',\n",
       "               '2024-01-12 17:00:00', '2024-01-12 18:00:00',\n",
       "               '2024-01-12 19:00:00', '2024-01-12 20:00:00',\n",
       "               '2024-01-12 21:00:00', '2024-01-12 22:00:00',\n",
       "               '2024-01-12 23:00:00', '2024-01-13 00:00:00',\n",
       "               '2024-01-13 01:00:00', '2024-01-13 02:00:00',\n",
       "               '2024-01-13 03:00:00', '2024-01-13 04:00:00',\n",
       "               '2024-01-13 05:00:00', '2024-01-13 06:00:00',\n",
       "               '2024-01-13 07:00:00', '2024-01-13 08:00:00',\n",
       "               '2024-01-13 09:00:00'],\n",
       "              dtype='datetime64[ns]', freq='H')"
      ]
     },
     "execution_count": 35,
     "metadata": {},
     "output_type": "execute_result"
    }
   ],
   "source": [
    "pd.date_range(start = '12 Jan 2024 9:00AM', periods = 25, freq = 'H') # 'H' means hourly"
   ]
  },
  {
   "cell_type": "markdown",
   "id": "83cd11bd",
   "metadata": {},
   "source": [
    "# to_datetime() method"
   ]
  },
  {
   "cell_type": "code",
   "execution_count": 36,
   "id": "0864cd21",
   "metadata": {},
   "outputs": [
    {
     "data": {
      "text/html": [
       "<div>\n",
       "<style scoped>\n",
       "    .dataframe tbody tr th:only-of-type {\n",
       "        vertical-align: middle;\n",
       "    }\n",
       "\n",
       "    .dataframe tbody tr th {\n",
       "        vertical-align: top;\n",
       "    }\n",
       "\n",
       "    .dataframe thead th {\n",
       "        text-align: right;\n",
       "    }\n",
       "</style>\n",
       "<table border=\"1\" class=\"dataframe\">\n",
       "  <thead>\n",
       "    <tr style=\"text-align: right;\">\n",
       "      <th></th>\n",
       "      <th>Date</th>\n",
       "      <th>Account</th>\n",
       "      <th>Category</th>\n",
       "      <th>Subcategory</th>\n",
       "      <th>Note</th>\n",
       "      <th>INR</th>\n",
       "      <th>Income/Expense</th>\n",
       "      <th>Note.1</th>\n",
       "      <th>Amount</th>\n",
       "      <th>Currency</th>\n",
       "      <th>Account.1</th>\n",
       "    </tr>\n",
       "  </thead>\n",
       "  <tbody>\n",
       "    <tr>\n",
       "      <th>0</th>\n",
       "      <td>3/2/2022 10:11</td>\n",
       "      <td>CUB - online payment</td>\n",
       "      <td>Food</td>\n",
       "      <td>NaN</td>\n",
       "      <td>Brownie</td>\n",
       "      <td>50.0</td>\n",
       "      <td>Expense</td>\n",
       "      <td>NaN</td>\n",
       "      <td>50.0</td>\n",
       "      <td>INR</td>\n",
       "      <td>50.0</td>\n",
       "    </tr>\n",
       "    <tr>\n",
       "      <th>1</th>\n",
       "      <td>3/2/2022 10:11</td>\n",
       "      <td>CUB - online payment</td>\n",
       "      <td>Other</td>\n",
       "      <td>NaN</td>\n",
       "      <td>To lended people</td>\n",
       "      <td>300.0</td>\n",
       "      <td>Expense</td>\n",
       "      <td>NaN</td>\n",
       "      <td>300.0</td>\n",
       "      <td>INR</td>\n",
       "      <td>300.0</td>\n",
       "    </tr>\n",
       "    <tr>\n",
       "      <th>2</th>\n",
       "      <td>3/1/2022 19:50</td>\n",
       "      <td>CUB - online payment</td>\n",
       "      <td>Food</td>\n",
       "      <td>NaN</td>\n",
       "      <td>Dinner</td>\n",
       "      <td>78.0</td>\n",
       "      <td>Expense</td>\n",
       "      <td>NaN</td>\n",
       "      <td>78.0</td>\n",
       "      <td>INR</td>\n",
       "      <td>78.0</td>\n",
       "    </tr>\n",
       "    <tr>\n",
       "      <th>3</th>\n",
       "      <td>3/1/2022 18:56</td>\n",
       "      <td>CUB - online payment</td>\n",
       "      <td>Transportation</td>\n",
       "      <td>NaN</td>\n",
       "      <td>Metro</td>\n",
       "      <td>30.0</td>\n",
       "      <td>Expense</td>\n",
       "      <td>NaN</td>\n",
       "      <td>30.0</td>\n",
       "      <td>INR</td>\n",
       "      <td>30.0</td>\n",
       "    </tr>\n",
       "    <tr>\n",
       "      <th>4</th>\n",
       "      <td>3/1/2022 18:22</td>\n",
       "      <td>CUB - online payment</td>\n",
       "      <td>Food</td>\n",
       "      <td>NaN</td>\n",
       "      <td>Snacks</td>\n",
       "      <td>67.0</td>\n",
       "      <td>Expense</td>\n",
       "      <td>NaN</td>\n",
       "      <td>67.0</td>\n",
       "      <td>INR</td>\n",
       "      <td>67.0</td>\n",
       "    </tr>\n",
       "  </tbody>\n",
       "</table>\n",
       "</div>"
      ],
      "text/plain": [
       "             Date               Account        Category  Subcategory  \\\n",
       "0  3/2/2022 10:11  CUB - online payment            Food          NaN   \n",
       "1  3/2/2022 10:11  CUB - online payment           Other          NaN   \n",
       "2  3/1/2022 19:50  CUB - online payment            Food          NaN   \n",
       "3  3/1/2022 18:56  CUB - online payment  Transportation          NaN   \n",
       "4  3/1/2022 18:22  CUB - online payment            Food          NaN   \n",
       "\n",
       "               Note    INR Income/Expense  Note.1  Amount Currency  Account.1  \n",
       "0           Brownie   50.0        Expense     NaN    50.0      INR       50.0  \n",
       "1  To lended people  300.0        Expense     NaN   300.0      INR      300.0  \n",
       "2            Dinner   78.0        Expense     NaN    78.0      INR       78.0  \n",
       "3             Metro   30.0        Expense     NaN    30.0      INR       30.0  \n",
       "4            Snacks   67.0        Expense     NaN    67.0      INR       67.0  "
      ]
     },
     "execution_count": 36,
     "metadata": {},
     "output_type": "execute_result"
    }
   ],
   "source": [
    "expense = pd.read_csv('expense_data.csv')\n",
    "expense.head()"
   ]
  },
  {
   "cell_type": "code",
   "execution_count": 37,
   "id": "bf2b2b23",
   "metadata": {},
   "outputs": [
    {
     "name": "stdout",
     "output_type": "stream",
     "text": [
      "<class 'pandas.core.frame.DataFrame'>\n",
      "RangeIndex: 277 entries, 0 to 276\n",
      "Data columns (total 11 columns):\n",
      " #   Column          Non-Null Count  Dtype  \n",
      "---  ------          --------------  -----  \n",
      " 0   Date            277 non-null    object \n",
      " 1   Account         277 non-null    object \n",
      " 2   Category        277 non-null    object \n",
      " 3   Subcategory     0 non-null      float64\n",
      " 4   Note            273 non-null    object \n",
      " 5   INR             277 non-null    float64\n",
      " 6   Income/Expense  277 non-null    object \n",
      " 7   Note.1          0 non-null      float64\n",
      " 8   Amount          277 non-null    float64\n",
      " 9   Currency        277 non-null    object \n",
      " 10  Account.1       277 non-null    float64\n",
      "dtypes: float64(5), object(6)\n",
      "memory usage: 23.9+ KB\n"
     ]
    }
   ],
   "source": [
    "expense.info()"
   ]
  },
  {
   "cell_type": "code",
   "execution_count": 38,
   "id": "71411c21",
   "metadata": {},
   "outputs": [
    {
     "name": "stdout",
     "output_type": "stream",
     "text": [
      "<class 'pandas.core.frame.DataFrame'>\n",
      "RangeIndex: 277 entries, 0 to 276\n",
      "Data columns (total 11 columns):\n",
      " #   Column          Non-Null Count  Dtype         \n",
      "---  ------          --------------  -----         \n",
      " 0   Date            277 non-null    datetime64[ns]\n",
      " 1   Account         277 non-null    object        \n",
      " 2   Category        277 non-null    object        \n",
      " 3   Subcategory     0 non-null      float64       \n",
      " 4   Note            273 non-null    object        \n",
      " 5   INR             277 non-null    float64       \n",
      " 6   Income/Expense  277 non-null    object        \n",
      " 7   Note.1          0 non-null      float64       \n",
      " 8   Amount          277 non-null    float64       \n",
      " 9   Currency        277 non-null    object        \n",
      " 10  Account.1       277 non-null    float64       \n",
      "dtypes: datetime64[ns](1), float64(5), object(5)\n",
      "memory usage: 23.9+ KB\n"
     ]
    }
   ],
   "source": [
    "expense['Date'] = pd.to_datetime(expense['Date'])\n",
    "expense.info()"
   ]
  },
  {
   "cell_type": "code",
   "execution_count": 39,
   "id": "18d00522",
   "metadata": {},
   "outputs": [
    {
     "data": {
      "text/html": [
       "<div>\n",
       "<style scoped>\n",
       "    .dataframe tbody tr th:only-of-type {\n",
       "        vertical-align: middle;\n",
       "    }\n",
       "\n",
       "    .dataframe tbody tr th {\n",
       "        vertical-align: top;\n",
       "    }\n",
       "\n",
       "    .dataframe thead th {\n",
       "        text-align: right;\n",
       "    }\n",
       "</style>\n",
       "<table border=\"1\" class=\"dataframe\">\n",
       "  <thead>\n",
       "    <tr style=\"text-align: right;\">\n",
       "      <th></th>\n",
       "      <th>Date</th>\n",
       "      <th>Account</th>\n",
       "      <th>Category</th>\n",
       "      <th>Subcategory</th>\n",
       "      <th>Note</th>\n",
       "      <th>INR</th>\n",
       "      <th>Income/Expense</th>\n",
       "      <th>Note.1</th>\n",
       "      <th>Amount</th>\n",
       "      <th>Currency</th>\n",
       "      <th>Account.1</th>\n",
       "      <th>day</th>\n",
       "    </tr>\n",
       "  </thead>\n",
       "  <tbody>\n",
       "    <tr>\n",
       "      <th>0</th>\n",
       "      <td>2022-03-02 10:11:00</td>\n",
       "      <td>CUB - online payment</td>\n",
       "      <td>Food</td>\n",
       "      <td>NaN</td>\n",
       "      <td>Brownie</td>\n",
       "      <td>50.0</td>\n",
       "      <td>Expense</td>\n",
       "      <td>NaN</td>\n",
       "      <td>50.0</td>\n",
       "      <td>INR</td>\n",
       "      <td>50.0</td>\n",
       "      <td>Wednesday</td>\n",
       "    </tr>\n",
       "    <tr>\n",
       "      <th>1</th>\n",
       "      <td>2022-03-02 10:11:00</td>\n",
       "      <td>CUB - online payment</td>\n",
       "      <td>Other</td>\n",
       "      <td>NaN</td>\n",
       "      <td>To lended people</td>\n",
       "      <td>300.0</td>\n",
       "      <td>Expense</td>\n",
       "      <td>NaN</td>\n",
       "      <td>300.0</td>\n",
       "      <td>INR</td>\n",
       "      <td>300.0</td>\n",
       "      <td>Wednesday</td>\n",
       "    </tr>\n",
       "    <tr>\n",
       "      <th>2</th>\n",
       "      <td>2022-03-01 19:50:00</td>\n",
       "      <td>CUB - online payment</td>\n",
       "      <td>Food</td>\n",
       "      <td>NaN</td>\n",
       "      <td>Dinner</td>\n",
       "      <td>78.0</td>\n",
       "      <td>Expense</td>\n",
       "      <td>NaN</td>\n",
       "      <td>78.0</td>\n",
       "      <td>INR</td>\n",
       "      <td>78.0</td>\n",
       "      <td>Tuesday</td>\n",
       "    </tr>\n",
       "    <tr>\n",
       "      <th>3</th>\n",
       "      <td>2022-03-01 18:56:00</td>\n",
       "      <td>CUB - online payment</td>\n",
       "      <td>Transportation</td>\n",
       "      <td>NaN</td>\n",
       "      <td>Metro</td>\n",
       "      <td>30.0</td>\n",
       "      <td>Expense</td>\n",
       "      <td>NaN</td>\n",
       "      <td>30.0</td>\n",
       "      <td>INR</td>\n",
       "      <td>30.0</td>\n",
       "      <td>Tuesday</td>\n",
       "    </tr>\n",
       "    <tr>\n",
       "      <th>4</th>\n",
       "      <td>2022-03-01 18:22:00</td>\n",
       "      <td>CUB - online payment</td>\n",
       "      <td>Food</td>\n",
       "      <td>NaN</td>\n",
       "      <td>Snacks</td>\n",
       "      <td>67.0</td>\n",
       "      <td>Expense</td>\n",
       "      <td>NaN</td>\n",
       "      <td>67.0</td>\n",
       "      <td>INR</td>\n",
       "      <td>67.0</td>\n",
       "      <td>Tuesday</td>\n",
       "    </tr>\n",
       "  </tbody>\n",
       "</table>\n",
       "</div>"
      ],
      "text/plain": [
       "                 Date               Account        Category  Subcategory  \\\n",
       "0 2022-03-02 10:11:00  CUB - online payment            Food          NaN   \n",
       "1 2022-03-02 10:11:00  CUB - online payment           Other          NaN   \n",
       "2 2022-03-01 19:50:00  CUB - online payment            Food          NaN   \n",
       "3 2022-03-01 18:56:00  CUB - online payment  Transportation          NaN   \n",
       "4 2022-03-01 18:22:00  CUB - online payment            Food          NaN   \n",
       "\n",
       "               Note    INR Income/Expense  Note.1  Amount Currency  Account.1  \\\n",
       "0           Brownie   50.0        Expense     NaN    50.0      INR       50.0   \n",
       "1  To lended people  300.0        Expense     NaN   300.0      INR      300.0   \n",
       "2            Dinner   78.0        Expense     NaN    78.0      INR       78.0   \n",
       "3             Metro   30.0        Expense     NaN    30.0      INR       30.0   \n",
       "4            Snacks   67.0        Expense     NaN    67.0      INR       67.0   \n",
       "\n",
       "         day  \n",
       "0  Wednesday  \n",
       "1  Wednesday  \n",
       "2    Tuesday  \n",
       "3    Tuesday  \n",
       "4    Tuesday  "
      ]
     },
     "execution_count": 39,
     "metadata": {},
     "output_type": "execute_result"
    }
   ],
   "source": [
    "expense['day'] = expense['Date'].dt.day_name()\n",
    "expense.head()"
   ]
  },
  {
   "cell_type": "code",
   "execution_count": null,
   "id": "76e34e50",
   "metadata": {},
   "outputs": [],
   "source": []
  }
 ],
 "metadata": {
  "kernelspec": {
   "display_name": "Python 3 (ipykernel)",
   "language": "python",
   "name": "python3"
  },
  "language_info": {
   "codemirror_mode": {
    "name": "ipython",
    "version": 3
   },
   "file_extension": ".py",
   "mimetype": "text/x-python",
   "name": "python",
   "nbconvert_exporter": "python",
   "pygments_lexer": "ipython3",
   "version": "3.11.5"
  }
 },
 "nbformat": 4,
 "nbformat_minor": 5
}
