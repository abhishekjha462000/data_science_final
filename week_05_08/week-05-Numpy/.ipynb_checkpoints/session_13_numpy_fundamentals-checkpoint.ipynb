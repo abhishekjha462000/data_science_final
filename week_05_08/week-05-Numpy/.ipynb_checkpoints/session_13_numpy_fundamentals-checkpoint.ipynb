{
 "cells": [
  {
   "cell_type": "markdown",
   "id": "4ffb1779",
   "metadata": {},
   "source": [
    "## What is numpy?\n",
    "- NumPy is the fundamental package for scientific computing in Python. It is a Python library that provides a multidimensional array object, various derived objects (such as masked arrays and matrices), and an assortment of routines for fast operations on arrays, including mathematical, logical, shape manipulation, sorting, selecting, I/O, discrete Fourier transforms, basic linear algebra, basic statistical operations, random simulation and much more.\n",
    "\n",
    "- At the core of the NumPy package, is the ndarray object. This encapsulates n-dimensional arrays of homogeneous data types"
   ]
  },
  {
   "cell_type": "markdown",
   "id": "40f0f63a",
   "metadata": {},
   "source": [
    "## Numpy Arrays Vs Python Sequences\n",
    "1. NumPy arrays have a fixed size at creation, unlike Python lists (which can grow dynamically). Changing the size of an ndarray will create a new array and delete the original.\n",
    "\n",
    "2. The elements in a NumPy array are all required to be of the same data type, and thus will be the same size in memory.\n",
    "\n",
    "3. NumPy arrays facilitate advanced mathematical and other types of operations on large numbers of data. Typically, such operations are executed more efficiently and with less code than is possible using Python’s built-in sequences.\n",
    "\n",
    "4. A growing plethora of scientific and mathematical Python-based packages are using NumPy arrays; though these typically support Python-sequence input, they convert such input to NumPy arrays prior to processing, and they often output NumPy arrays."
   ]
  },
  {
   "cell_type": "markdown",
   "id": "82963cae",
   "metadata": {},
   "source": [
    "So basically around `2008`, people used to do data science using R programming language and Matlab. This was due to the fact that Python was considered a slow programming language(it still is to this date)."
   ]
  },
  {
   "cell_type": "markdown",
   "id": "1d1dc772",
   "metadata": {},
   "source": [
    "- So a bunch of people came around with the concept of numpy which is a library written in C language(this is one of the reasons it is very fast.)\n",
    "- and they put a wrapper around it in the form of python(as python is very easy to learn)\n",
    "- Fir kya uske baad se people started using python programming language for machine learning and data science."
   ]
  },
  {
   "cell_type": "code",
   "execution_count": null,
   "id": "6e6d6bb2",
   "metadata": {},
   "outputs": [],
   "source": []
  }
 ],
 "metadata": {
  "kernelspec": {
   "display_name": "Python 3 (ipykernel)",
   "language": "python",
   "name": "python3"
  },
  "language_info": {
   "codemirror_mode": {
    "name": "ipython",
    "version": 3
   },
   "file_extension": ".py",
   "mimetype": "text/x-python",
   "name": "python",
   "nbconvert_exporter": "python",
   "pygments_lexer": "ipython3",
   "version": "3.11.5"
  }
 },
 "nbformat": 4,
 "nbformat_minor": 5
}
