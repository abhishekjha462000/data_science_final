{
 "cells": [
  {
   "cell_type": "markdown",
   "id": "12a46d42",
   "metadata": {},
   "source": [
    "## What is numpy?\n",
    "- NumPy is the fundamental package for scientific computing in Python. It is a Python library that provides a multidimensional array object, various derived objects (such as masked arrays and matrices), and an assortment of routines for fast operations on arrays, including mathematical, logical, shape manipulation, sorting, selecting, I/O, discrete Fourier transforms, basic linear algebra, basic statistical operations, random simulation and much more.\n",
    "\n",
    "- At the core of the NumPy package, is the ndarray object. This encapsulates n-dimensional arrays of homogeneous data types"
   ]
  },
  {
   "cell_type": "markdown",
   "id": "67e13cec",
   "metadata": {},
   "source": [
    "## Numpy Arrays Vs Python Sequences\n",
    "1. NumPy arrays have a fixed size at creation, unlike Python lists (which can grow dynamically). Changing the size of an ndarray will create a new array and delete the original.\n",
    "\n",
    "2. The elements in a NumPy array are all required to be of the same data type, and thus will be the same size in memory.\n",
    "\n",
    "3. NumPy arrays facilitate advanced mathematical and other types of operations on large numbers of data. Typically, such operations are executed more efficiently and with less code than is possible using Python’s built-in sequences.\n",
    "\n",
    "4. A growing plethora of scientific and mathematical Python-based packages are using NumPy arrays; though these typically support Python-sequence input, they convert such input to NumPy arrays prior to processing, and they often output NumPy arrays."
   ]
  },
  {
   "cell_type": "markdown",
   "id": "5b6fc7c7",
   "metadata": {},
   "source": [
    "So basically around `2008`, people used to do data science using R programming language and Matlab. This was due to the fact that Python was considered a slow programming language(it still is to this date)."
   ]
  },
  {
   "cell_type": "markdown",
   "id": "4bd4d5bd",
   "metadata": {},
   "source": [
    "- So a bunch of people came around with the concept of numpy which is a library written in C language(this is one of the reasons it is very fast.)\n",
    "- and they put a wrapper around it in the form of python(as python is very easy to learn)\n",
    "- Fir kya uske baad se people started using python programming language for machine learning and data science."
   ]
  },
  {
   "cell_type": "markdown",
   "id": "299401a1",
   "metadata": {},
   "source": [
    "# Creation of numpy arrays\n",
    "- For creating a numpy array, we need to pass in a python list in the numpy.array() method.\n",
    "- We can pass in a list of any dimension"
   ]
  },
  {
   "cell_type": "code",
   "execution_count": 1,
   "id": "24a12b40",
   "metadata": {},
   "outputs": [],
   "source": [
    "import numpy as np"
   ]
  },
  {
   "cell_type": "code",
   "execution_count": 2,
   "id": "dda59e04",
   "metadata": {},
   "outputs": [
    {
     "data": {
      "text/plain": [
       "array([1, 2, 3])"
      ]
     },
     "execution_count": 2,
     "metadata": {},
     "output_type": "execute_result"
    }
   ],
   "source": [
    "l = [1, 2, 3]\n",
    "\n",
    "np.array(l)"
   ]
  },
  {
   "cell_type": "code",
   "execution_count": 3,
   "id": "9bd863e2",
   "metadata": {},
   "outputs": [],
   "source": [
    "mat = [\n",
    "        [1,2],\n",
    "        [3,4]\n",
    "    ]"
   ]
  },
  {
   "cell_type": "code",
   "execution_count": 4,
   "id": "c5b08d07",
   "metadata": {},
   "outputs": [
    {
     "data": {
      "text/plain": [
       "array([[1, 2],\n",
       "       [3, 4]])"
      ]
     },
     "execution_count": 4,
     "metadata": {},
     "output_type": "execute_result"
    }
   ],
   "source": [
    "np.array(mat)"
   ]
  },
  {
   "cell_type": "code",
   "execution_count": 5,
   "id": "09240724",
   "metadata": {},
   "outputs": [],
   "source": [
    "tensor = [\n",
    "            # first 2D array             \n",
    "            [\n",
    "                [1,2], \n",
    "                [3,4]\n",
    "            ], \n",
    "            # second 2D array \n",
    "            [\n",
    "                [11, 12],\n",
    "                [34, 56]\n",
    "            ],\n",
    "            # third 2D array\n",
    "            [\n",
    "                [-1, -5],\n",
    "                [-56, -68]\n",
    "            ]\n",
    "        ]"
   ]
  },
  {
   "cell_type": "code",
   "execution_count": 7,
   "id": "ef065ab9",
   "metadata": {},
   "outputs": [
    {
     "data": {
      "text/plain": [
       "array([[[  1,   2],\n",
       "        [  3,   4]],\n",
       "\n",
       "       [[ 11,  12],\n",
       "        [ 34,  56]],\n",
       "\n",
       "       [[ -1,  -5],\n",
       "        [-56, -68]]])"
      ]
     },
     "execution_count": 7,
     "metadata": {},
     "output_type": "execute_result"
    }
   ],
   "source": [
    "array = np.array(tensor)\n",
    "array"
   ]
  },
  {
   "cell_type": "code",
   "execution_count": 8,
   "id": "6fa0075e",
   "metadata": {},
   "outputs": [
    {
     "data": {
      "text/plain": [
       "3"
      ]
     },
     "execution_count": 8,
     "metadata": {},
     "output_type": "execute_result"
    }
   ],
   "source": [
    "array.ndim"
   ]
  },
  {
   "cell_type": "markdown",
   "id": "24dce9b5",
   "metadata": {},
   "source": [
    "- We can also create numpy arrays using the arange function. This is similar to the range() function\n",
    "- This expects us to pass in 3 parameters : start, stop and step(jump)"
   ]
  },
  {
   "cell_type": "code",
   "execution_count": 9,
   "id": "cda730f7",
   "metadata": {},
   "outputs": [
    {
     "data": {
      "text/plain": [
       "array([ 1,  4,  7, 10, 13, 16, 19])"
      ]
     },
     "execution_count": 9,
     "metadata": {},
     "output_type": "execute_result"
    }
   ],
   "source": [
    "np.arange(1, 20, 3) # 1, 4, 7, 10, 13, 16, 19"
   ]
  },
  {
   "cell_type": "markdown",
   "id": "0329902d",
   "metadata": {},
   "source": [
    "#### Note\n",
    "- It is a very common practice in data science to first create an array using arange() function and then reshape it to our convenience.\n",
    "- The reshape() method expects us to pass in a tuple into which we want to convert our array.\n",
    "- Reshaping is only possible when the number of elements match. For example, you cannot reshape a numpy array of 12 elements into a numpy array of shape (7, 2)"
   ]
  },
  {
   "cell_type": "code",
   "execution_count": 10,
   "id": "217f7bc4",
   "metadata": {},
   "outputs": [
    {
     "data": {
      "text/plain": [
       "array([[ 1,  2,  3,  4,  5],\n",
       "       [ 6,  7,  8,  9, 10],\n",
       "       [11, 12, 13, 14, 15],\n",
       "       [16, 17, 18, 19, 20],\n",
       "       [21, 22, 23, 24, 25]])"
      ]
     },
     "execution_count": 10,
     "metadata": {},
     "output_type": "execute_result"
    }
   ],
   "source": [
    "np.arange(1,26).reshape((5,5))"
   ]
  },
  {
   "cell_type": "code",
   "execution_count": 11,
   "id": "2d480488",
   "metadata": {},
   "outputs": [
    {
     "data": {
      "text/plain": [
       "array([[ 1,  2],\n",
       "       [ 3,  4],\n",
       "       [ 5,  6],\n",
       "       [ 7,  8],\n",
       "       [ 9, 10],\n",
       "       [11, 12]])"
      ]
     },
     "execution_count": 11,
     "metadata": {},
     "output_type": "execute_result"
    }
   ],
   "source": [
    "np.arange(1,13).reshape((6,2))"
   ]
  },
  {
   "cell_type": "code",
   "execution_count": 12,
   "id": "6433eade",
   "metadata": {},
   "outputs": [
    {
     "data": {
      "text/plain": [
       "array([[ 1,  2,  3,  4],\n",
       "       [ 5,  6,  7,  8],\n",
       "       [ 9, 10, 11, 12]])"
      ]
     },
     "execution_count": 12,
     "metadata": {},
     "output_type": "execute_result"
    }
   ],
   "source": [
    "np.arange(1,13).reshape((3,4))"
   ]
  },
  {
   "cell_type": "markdown",
   "id": "d726866f",
   "metadata": {},
   "source": [
    "- We can also specify the data type of the numpy array."
   ]
  },
  {
   "cell_type": "code",
   "execution_count": 2,
   "id": "3246aafc",
   "metadata": {},
   "outputs": [
    {
     "data": {
      "text/plain": [
       "array([1., 2., 3., 4., 5.])"
      ]
     },
     "execution_count": 2,
     "metadata": {},
     "output_type": "execute_result"
    }
   ],
   "source": [
    "np.array([1, 2, 3, 4, 5], dtype = float)"
   ]
  },
  {
   "cell_type": "code",
   "execution_count": 3,
   "id": "4025b7aa",
   "metadata": {},
   "outputs": [
    {
     "data": {
      "text/plain": [
       "array([ True,  True,  True,  True,  True])"
      ]
     },
     "execution_count": 3,
     "metadata": {},
     "output_type": "execute_result"
    }
   ],
   "source": [
    "np.array([1, 2, 3, 4, 5], dtype = bool)"
   ]
  },
  {
   "cell_type": "markdown",
   "id": "a0c2a308",
   "metadata": {},
   "source": [
    "# np.ones() and np.zeros()"
   ]
  },
  {
   "cell_type": "markdown",
   "id": "21817b08",
   "metadata": {},
   "source": [
    "- np.ones() and np.zeros() expects us to pass in the shape of the required matrix. \n",
    "- It is used to initialize the matrix. For example, jb hme neural networks me weights ko initial value dene ke liye we use np.ones()\n",
    "- These methods are used to initialize a matrix."
   ]
  },
  {
   "cell_type": "code",
   "execution_count": 4,
   "id": "416a18fa",
   "metadata": {},
   "outputs": [
    {
     "data": {
      "text/plain": [
       "array([[1., 1.],\n",
       "       [1., 1.],\n",
       "       [1., 1.]])"
      ]
     },
     "execution_count": 4,
     "metadata": {},
     "output_type": "execute_result"
    }
   ],
   "source": [
    "np.ones((3, 2))"
   ]
  },
  {
   "cell_type": "markdown",
   "id": "f71a1e14",
   "metadata": {},
   "source": [
    "# np.random.random()\n",
    "- This also expects us to pass the shape of the array.\n",
    "- This gives us an array in which every element is a random number between 0 and 1."
   ]
  },
  {
   "cell_type": "code",
   "execution_count": 5,
   "id": "6312f1c7",
   "metadata": {},
   "outputs": [
    {
     "data": {
      "text/plain": [
       "array([[0.59285804, 0.07746648, 0.25794081, 0.04058932],\n",
       "       [0.3285476 , 0.69953381, 0.15488714, 0.46204566],\n",
       "       [0.56683216, 0.77841539, 0.1339179 , 0.533695  ]])"
      ]
     },
     "execution_count": 5,
     "metadata": {},
     "output_type": "execute_result"
    }
   ],
   "source": [
    "np.random.random((3,4))"
   ]
  },
  {
   "cell_type": "markdown",
   "id": "83f80b60",
   "metadata": {},
   "source": [
    "# np.linspace()"
   ]
  },
  {
   "cell_type": "code",
   "execution_count": 6,
   "id": "f140ad50",
   "metadata": {},
   "outputs": [
    {
     "data": {
      "text/plain": [
       "array([-10.        ,  -9.13043478,  -8.26086957,  -7.39130435,\n",
       "        -6.52173913,  -5.65217391,  -4.7826087 ,  -3.91304348,\n",
       "        -3.04347826,  -2.17391304,  -1.30434783,  -0.43478261,\n",
       "         0.43478261,   1.30434783,   2.17391304,   3.04347826,\n",
       "         3.91304348,   4.7826087 ,   5.65217391,   6.52173913,\n",
       "         7.39130435,   8.26086957,   9.13043478,  10.        ])"
      ]
     },
     "execution_count": 6,
     "metadata": {},
     "output_type": "execute_result"
    }
   ],
   "source": [
    "np.linspace(-10, 10, 24) # gives us an array of 24 elements between -10 and 10(including both of 'em')"
   ]
  },
  {
   "cell_type": "code",
   "execution_count": 7,
   "id": "b7503a32",
   "metadata": {},
   "outputs": [
    {
     "data": {
      "text/plain": [
       "array([-10.,  10.])"
      ]
     },
     "execution_count": 7,
     "metadata": {},
     "output_type": "execute_result"
    }
   ],
   "source": [
    "np.linspace(-10, 10, 2)"
   ]
  },
  {
   "cell_type": "markdown",
   "id": "68862004",
   "metadata": {},
   "source": [
    "# np.identity()"
   ]
  },
  {
   "cell_type": "code",
   "execution_count": 8,
   "id": "16f29f51",
   "metadata": {},
   "outputs": [
    {
     "data": {
      "text/plain": [
       "array([[1., 0., 0.],\n",
       "       [0., 1., 0.],\n",
       "       [0., 0., 1.]])"
      ]
     },
     "execution_count": 8,
     "metadata": {},
     "output_type": "execute_result"
    }
   ],
   "source": [
    "np.identity(3)"
   ]
  },
  {
   "cell_type": "code",
   "execution_count": 13,
   "id": "15dfc7ad",
   "metadata": {},
   "outputs": [
    {
     "data": {
      "text/plain": [
       "array([[1., 0., 0., 0., 0.],\n",
       "       [0., 1., 0., 0., 0.],\n",
       "       [0., 0., 1., 0., 0.],\n",
       "       [0., 0., 0., 1., 0.],\n",
       "       [0., 0., 0., 0., 1.]])"
      ]
     },
     "execution_count": 13,
     "metadata": {},
     "output_type": "execute_result"
    }
   ],
   "source": [
    "np.identity(5)"
   ]
  },
  {
   "cell_type": "code",
   "execution_count": 12,
   "id": "edbc35d6",
   "metadata": {},
   "outputs": [
    {
     "data": {
      "text/plain": [
       "array([[1., 0., 0.],\n",
       "       [0., 1., 0.],\n",
       "       [0., 0., 1.]])"
      ]
     },
     "execution_count": 12,
     "metadata": {},
     "output_type": "execute_result"
    }
   ],
   "source": [
    "np.eye(3)"
   ]
  },
  {
   "cell_type": "code",
   "execution_count": 15,
   "id": "2ddbc934",
   "metadata": {},
   "outputs": [
    {
     "data": {
      "text/plain": [
       "array([[1., 0., 0., 0., 0.],\n",
       "       [0., 1., 0., 0., 0.],\n",
       "       [0., 0., 1., 0., 0.]])"
      ]
     },
     "execution_count": 15,
     "metadata": {},
     "output_type": "execute_result"
    }
   ],
   "source": [
    "np.eye(3,5)"
   ]
  },
  {
   "cell_type": "markdown",
   "id": "2fbba701",
   "metadata": {},
   "source": [
    "# Attributes"
   ]
  },
  {
   "cell_type": "code",
   "execution_count": 16,
   "id": "7eb30850",
   "metadata": {},
   "outputs": [],
   "source": [
    "a1 = np.arange(10) # vector\n",
    "a2 = np.arange(12, dtype = float).reshape((3,4)) # matrix\n",
    "a3 = np.arange(8).reshape((2,2,2)) # tensor"
   ]
  },
  {
   "cell_type": "code",
   "execution_count": 17,
   "id": "5e3aa626",
   "metadata": {},
   "outputs": [
    {
     "data": {
      "text/plain": [
       "(1, 2, 3)"
      ]
     },
     "execution_count": 17,
     "metadata": {},
     "output_type": "execute_result"
    }
   ],
   "source": [
    "a1.ndim, a2.ndim, a3.ndim # ndim gives us the number of dimensions"
   ]
  },
  {
   "cell_type": "code",
   "execution_count": 18,
   "id": "cf22038b",
   "metadata": {},
   "outputs": [
    {
     "name": "stdout",
     "output_type": "stream",
     "text": [
      "(10,)\n",
      "(3, 4)\n",
      "(2, 2, 2)\n"
     ]
    }
   ],
   "source": [
    "# shape\n",
    "print(a1.shape)\n",
    "print(a2.shape)\n",
    "print(a3.shape)\n",
    "\n",
    "# The length of shape tuple is equal to ndim"
   ]
  },
  {
   "cell_type": "code",
   "execution_count": 19,
   "id": "ce5c0057",
   "metadata": {},
   "outputs": [
    {
     "name": "stdout",
     "output_type": "stream",
     "text": [
      "10\n",
      "12\n",
      "8\n"
     ]
    }
   ],
   "source": [
    "# size\n",
    "# gives us the number of items\n",
    "print(a1.size)\n",
    "print(a2.size)\n",
    "print(a3.size)"
   ]
  },
  {
   "cell_type": "code",
   "execution_count": 20,
   "id": "1b92c339",
   "metadata": {},
   "outputs": [
    {
     "name": "stdout",
     "output_type": "stream",
     "text": [
      "4\n",
      "8\n",
      "4\n"
     ]
    }
   ],
   "source": [
    "# itemsize \n",
    "# gives us the memory occupied by each item of the nd array in bytes\n",
    "print(a1.itemsize)\n",
    "print(a2.itemsize)\n",
    "print(a3.itemsize)"
   ]
  },
  {
   "cell_type": "markdown",
   "id": "1d41830b",
   "metadata": {},
   "source": [
    "### changing the data type of nd array\n",
    "- Sometimes we may need to change the default data type of a numpy array. In this case we use the function numpy astype() method"
   ]
  },
  {
   "cell_type": "code",
   "execution_count": 21,
   "id": "52842397",
   "metadata": {},
   "outputs": [],
   "source": [
    "ages = np.array([10, 20, 30, 45, 67])"
   ]
  },
  {
   "cell_type": "code",
   "execution_count": 22,
   "id": "675b4337",
   "metadata": {},
   "outputs": [
    {
     "data": {
      "text/plain": [
       "array([10, 20, 30, 45, 67])"
      ]
     },
     "execution_count": 22,
     "metadata": {},
     "output_type": "execute_result"
    }
   ],
   "source": [
    "ages"
   ]
  },
  {
   "cell_type": "code",
   "execution_count": 23,
   "id": "dec1dcea",
   "metadata": {},
   "outputs": [
    {
     "data": {
      "text/plain": [
       "dtype('int32')"
      ]
     },
     "execution_count": 23,
     "metadata": {},
     "output_type": "execute_result"
    }
   ],
   "source": [
    "ages.dtype"
   ]
  },
  {
   "cell_type": "markdown",
   "id": "91ac4ccb",
   "metadata": {},
   "source": [
    "We do not require 32 bit integer to store the ages.\n",
    "So we will convert it into a 8 bit integer"
   ]
  },
  {
   "cell_type": "code",
   "execution_count": 26,
   "id": "0748c85a",
   "metadata": {},
   "outputs": [
    {
     "data": {
      "text/plain": [
       "array([10, 20, 30, 45, 67], dtype=uint8)"
      ]
     },
     "execution_count": 26,
     "metadata": {},
     "output_type": "execute_result"
    }
   ],
   "source": [
    "ages = ages.astype(np.uint8)\n",
    "ages"
   ]
  },
  {
   "cell_type": "code",
   "execution_count": 27,
   "id": "b6a6cc29",
   "metadata": {},
   "outputs": [
    {
     "data": {
      "text/plain": [
       "dtype('uint8')"
      ]
     },
     "execution_count": 27,
     "metadata": {},
     "output_type": "execute_result"
    }
   ],
   "source": [
    "ages.dtype"
   ]
  },
  {
   "cell_type": "markdown",
   "id": "9f07b30d",
   "metadata": {},
   "source": [
    "# Array operations\n",
    "\n",
    "- arithmetic operations (+, -, *, /, //, **)\n",
    "- relational operations (==, > , >= , <, <= , !=)\n",
    "- vector operations (adding two arrays, subtracting, mutliplying, dividing)"
   ]
  },
  {
   "cell_type": "code",
   "execution_count": 29,
   "id": "cebf6d2b",
   "metadata": {},
   "outputs": [
    {
     "data": {
      "text/plain": [
       "array([1, 2, 3, 4])"
      ]
     },
     "execution_count": 29,
     "metadata": {},
     "output_type": "execute_result"
    }
   ],
   "source": [
    "a1 = np.array([1,2,3,4])\n",
    "a1"
   ]
  },
  {
   "cell_type": "code",
   "execution_count": 33,
   "id": "8d3f7b32",
   "metadata": {},
   "outputs": [
    {
     "name": "stdout",
     "output_type": "stream",
     "text": [
      "[6 7 8 9]\n",
      "[-4 -3 -2 -1]\n",
      "[ 5 10 15 20]\n",
      "[0.2 0.4 0.6 0.8]\n",
      "[0 0 0 0]\n",
      "[   1   32  243 1024]\n"
     ]
    }
   ],
   "source": [
    "print(a1 + 5)\n",
    "print(a1 - 5)\n",
    "print(a1 * 5)\n",
    "print(a1 / 5)\n",
    "print(a1 // 5)\n",
    "print(a1 ** 5)"
   ]
  },
  {
   "cell_type": "code",
   "execution_count": 34,
   "id": "177ea22d",
   "metadata": {},
   "outputs": [
    {
     "name": "stdout",
     "output_type": "stream",
     "text": [
      "[False  True False False]\n",
      "[ True  True  True  True]\n",
      "[False False False  True]\n",
      "[False False  True  True]\n",
      "[ True  True  True  True]\n",
      "[ True False False False]\n"
     ]
    }
   ],
   "source": [
    "print(a1 == 2)\n",
    "print(a1 != 45)\n",
    "print(a1 > 3)\n",
    "print(a1 >= 3)\n",
    "print(a1 < 45)\n",
    "print(a1 <= 1)"
   ]
  },
  {
   "cell_type": "markdown",
   "id": "34d31466",
   "metadata": {},
   "source": [
    "# Array functions"
   ]
  },
  {
   "cell_type": "code",
   "execution_count": 37,
   "id": "d54ca734",
   "metadata": {},
   "outputs": [
    {
     "data": {
      "text/plain": [
       "array([[25, 40, 25, 80],\n",
       "       [34, 44, 47, 54],\n",
       "       [58, 80, 21,  8]], dtype=uint8)"
      ]
     },
     "execution_count": 37,
     "metadata": {},
     "output_type": "execute_result"
    }
   ],
   "source": [
    "a = np.random.random((3,4))\n",
    "a = np.round(a * 100)\n",
    "a = a.astype(np.uint8)\n",
    "a"
   ]
  },
  {
   "cell_type": "code",
   "execution_count": 38,
   "id": "d4eacd6a",
   "metadata": {},
   "outputs": [
    {
     "name": "stdout",
     "output_type": "stream",
     "text": [
      "516\n",
      "8\n",
      "80\n",
      "3025666048\n"
     ]
    }
   ],
   "source": [
    "# math functions\n",
    "print(np.sum(a))\n",
    "print(np.min(a))\n",
    "print(np.max(a))\n",
    "print(np.prod(a))"
   ]
  },
  {
   "cell_type": "code",
   "execution_count": 39,
   "id": "666b3fc5",
   "metadata": {},
   "outputs": [
    {
     "data": {
      "text/plain": [
       "array([[-0.1323,  0.745 , -0.1323, -0.9937],\n",
       "       [ 0.5293,  0.0177,  0.1236, -0.5586],\n",
       "       [ 0.9927, -0.9937,  0.8364,  0.9893]], dtype=float16)"
      ]
     },
     "execution_count": 39,
     "metadata": {},
     "output_type": "execute_result"
    }
   ],
   "source": [
    "# trigonometric functions\n",
    "np.sin(a)"
   ]
  },
  {
   "cell_type": "code",
   "execution_count": 40,
   "id": "761d8058",
   "metadata": {},
   "outputs": [
    {
     "name": "stdout",
     "output_type": "stream",
     "text": [
      "21.501937897160182\n",
      "43.0\n",
      "42.0\n",
      "462.3333333333333\n"
     ]
    }
   ],
   "source": [
    "# statistical functions\n",
    "print(np.std(a))\n",
    "print(np.mean(a))\n",
    "print(np.median(a))\n",
    "print(np.var(a))"
   ]
  },
  {
   "cell_type": "code",
   "execution_count": 41,
   "id": "e0ade6d3",
   "metadata": {},
   "outputs": [
    {
     "data": {
      "text/plain": [
       "array([117, 164,  93, 142], dtype=uint32)"
      ]
     },
     "execution_count": 41,
     "metadata": {},
     "output_type": "execute_result"
    }
   ],
   "source": [
    "# we can also pass in the axis along which we want to perform the operation\n",
    "np.sum(a, axis = 0) # axis = 0 means columns"
   ]
  },
  {
   "cell_type": "code",
   "execution_count": 42,
   "id": "37c23cfb",
   "metadata": {},
   "outputs": [
    {
     "data": {
      "text/plain": [
       "array([[25, 40, 25, 80],\n",
       "       [34, 44, 47, 54],\n",
       "       [58, 80, 21,  8]], dtype=uint8)"
      ]
     },
     "execution_count": 42,
     "metadata": {},
     "output_type": "execute_result"
    }
   ],
   "source": [
    "a"
   ]
  },
  {
   "cell_type": "code",
   "execution_count": 43,
   "id": "2f481171",
   "metadata": {},
   "outputs": [
    {
     "data": {
      "text/plain": [
       "array([25, 34,  8], dtype=uint8)"
      ]
     },
     "execution_count": 43,
     "metadata": {},
     "output_type": "execute_result"
    }
   ],
   "source": [
    "np.min(a, axis = 1) # axis = 1 means rows"
   ]
  },
  {
   "cell_type": "markdown",
   "id": "06a75358",
   "metadata": {},
   "source": [
    "- We also have functions which we can apply between 2 vectors or matrices.\n",
    "- For example, matrix multiplication is reffered to as dot product."
   ]
  },
  {
   "cell_type": "code",
   "execution_count": 46,
   "id": "3255edc7",
   "metadata": {},
   "outputs": [
    {
     "data": {
      "text/plain": [
       "(array([[ 0,  1,  2,  3],\n",
       "        [ 4,  5,  6,  7],\n",
       "        [ 8,  9, 10, 11]]),\n",
       " array([[12, 13, 14],\n",
       "        [15, 16, 17],\n",
       "        [18, 19, 20],\n",
       "        [21, 22, 23]]))"
      ]
     },
     "execution_count": 46,
     "metadata": {},
     "output_type": "execute_result"
    }
   ],
   "source": [
    "a = np.arange(12).reshape((3,4))\n",
    "b = np.arange(12, 24).reshape((4,3))\n",
    "a, b"
   ]
  },
  {
   "cell_type": "code",
   "execution_count": 47,
   "id": "6f8d67d9",
   "metadata": {},
   "outputs": [
    {
     "data": {
      "text/plain": [
       "array([[114, 120, 126],\n",
       "       [378, 400, 422],\n",
       "       [642, 680, 718]])"
      ]
     },
     "execution_count": 47,
     "metadata": {},
     "output_type": "execute_result"
    }
   ],
   "source": [
    "np.dot(a, b) # multiplied matrix a with matrix b"
   ]
  },
  {
   "cell_type": "markdown",
   "id": "b03044d6",
   "metadata": {},
   "source": [
    "- We also have logarithmic and exponential functions as well."
   ]
  },
  {
   "cell_type": "code",
   "execution_count": 48,
   "id": "8c4eacdd",
   "metadata": {},
   "outputs": [
    {
     "data": {
      "text/plain": [
       "array([[1.00000000e+00, 2.71828183e+00, 7.38905610e+00, 2.00855369e+01],\n",
       "       [5.45981500e+01, 1.48413159e+02, 4.03428793e+02, 1.09663316e+03],\n",
       "       [2.98095799e+03, 8.10308393e+03, 2.20264658e+04, 5.98741417e+04]])"
      ]
     },
     "execution_count": 48,
     "metadata": {},
     "output_type": "execute_result"
    }
   ],
   "source": [
    "np.exp(a)"
   ]
  },
  {
   "cell_type": "code",
   "execution_count": 51,
   "id": "a50c93fd",
   "metadata": {},
   "outputs": [
    {
     "name": "stderr",
     "output_type": "stream",
     "text": [
      "C:\\Users\\HU496FA\\AppData\\Local\\Temp\\ipykernel_24536\\176755284.py:1: RuntimeWarning: divide by zero encountered in log\n",
      "  np.log(a)\n"
     ]
    },
    {
     "data": {
      "text/plain": [
       "array([[      -inf, 0.        , 0.69314718, 1.09861229],\n",
       "       [1.38629436, 1.60943791, 1.79175947, 1.94591015],\n",
       "       [2.07944154, 2.19722458, 2.30258509, 2.39789527]])"
      ]
     },
     "execution_count": 51,
     "metadata": {},
     "output_type": "execute_result"
    }
   ],
   "source": [
    "np.log(a)"
   ]
  },
  {
   "cell_type": "markdown",
   "id": "0094bcc6",
   "metadata": {},
   "source": [
    "- round, floor, ceil"
   ]
  },
  {
   "cell_type": "code",
   "execution_count": 52,
   "id": "5b9b5dfb",
   "metadata": {},
   "outputs": [
    {
     "data": {
      "text/plain": [
       "array([[ 8., 77., 77.],\n",
       "       [81., 44., 99.]])"
      ]
     },
     "execution_count": 52,
     "metadata": {},
     "output_type": "execute_result"
    }
   ],
   "source": [
    "np.floor(np.random.random((2,3)) * 100)"
   ]
  },
  {
   "cell_type": "code",
   "execution_count": 53,
   "id": "f5d17989",
   "metadata": {},
   "outputs": [
    {
     "data": {
      "text/plain": [
       "array([[36., 36., 44.],\n",
       "       [17., 95., 67.]])"
      ]
     },
     "execution_count": 53,
     "metadata": {},
     "output_type": "execute_result"
    }
   ],
   "source": [
    "np.ceil(np.random.random((2,3)) * 100)"
   ]
  },
  {
   "cell_type": "code",
   "execution_count": 54,
   "id": "07c73898",
   "metadata": {},
   "outputs": [
    {
     "data": {
      "text/plain": [
       "array([[81., 93., 43.],\n",
       "       [46., 45.,  0.]])"
      ]
     },
     "execution_count": 54,
     "metadata": {},
     "output_type": "execute_result"
    }
   ],
   "source": [
    "np.round(np.random.random((2,3)) * 100)"
   ]
  },
  {
   "cell_type": "code",
   "execution_count": null,
   "id": "f112f31f",
   "metadata": {},
   "outputs": [],
   "source": []
  }
 ],
 "metadata": {
  "kernelspec": {
   "display_name": "Python 3 (ipykernel)",
   "language": "python",
   "name": "python3"
  },
  "language_info": {
   "codemirror_mode": {
    "name": "ipython",
    "version": 3
   },
   "file_extension": ".py",
   "mimetype": "text/x-python",
   "name": "python",
   "nbconvert_exporter": "python",
   "pygments_lexer": "ipython3",
   "version": "3.11.5"
  }
 },
 "nbformat": 4,
 "nbformat_minor": 5
}
