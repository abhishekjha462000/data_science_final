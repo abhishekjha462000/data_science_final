{
 "cells": [
  {
   "cell_type": "markdown",
   "id": "12a46d42",
   "metadata": {},
   "source": [
    "## What is numpy?\n",
    "- NumPy is the fundamental package for scientific computing in Python. It is a Python library that provides a multidimensional array object, various derived objects (such as masked arrays and matrices), and an assortment of routines for fast operations on arrays, including mathematical, logical, shape manipulation, sorting, selecting, I/O, discrete Fourier transforms, basic linear algebra, basic statistical operations, random simulation and much more.\n",
    "\n",
    "- At the core of the NumPy package, is the ndarray object. This encapsulates n-dimensional arrays of homogeneous data types"
   ]
  },
  {
   "cell_type": "markdown",
   "id": "67e13cec",
   "metadata": {},
   "source": [
    "## Numpy Arrays Vs Python Sequences\n",
    "1. NumPy arrays have a fixed size at creation, unlike Python lists (which can grow dynamically). Changing the size of an ndarray will create a new array and delete the original.\n",
    "\n",
    "2. The elements in a NumPy array are all required to be of the same data type, and thus will be the same size in memory.\n",
    "\n",
    "3. NumPy arrays facilitate advanced mathematical and other types of operations on large numbers of data. Typically, such operations are executed more efficiently and with less code than is possible using Python’s built-in sequences.\n",
    "\n",
    "4. A growing plethora of scientific and mathematical Python-based packages are using NumPy arrays; though these typically support Python-sequence input, they convert such input to NumPy arrays prior to processing, and they often output NumPy arrays."
   ]
  },
  {
   "cell_type": "markdown",
   "id": "5b6fc7c7",
   "metadata": {},
   "source": [
    "So basically around `2008`, people used to do data science using R programming language and Matlab. This was due to the fact that Python was considered a slow programming language(it still is to this date)."
   ]
  },
  {
   "cell_type": "markdown",
   "id": "4bd4d5bd",
   "metadata": {},
   "source": [
    "- So a bunch of people came around with the concept of numpy which is a library written in C language(this is one of the reasons it is very fast.)\n",
    "- and they put a wrapper around it in the form of python(as python is very easy to learn)\n",
    "- Fir kya uske baad se people started using python programming language for machine learning and data science."
   ]
  },
  {
   "cell_type": "markdown",
   "id": "299401a1",
   "metadata": {},
   "source": [
    "# Creation of numpy arrays\n",
    "- For creating a numpy array, we need to pass in a python list in the numpy.array() method.\n",
    "- We can pass in a list of any dimension"
   ]
  },
  {
   "cell_type": "code",
   "execution_count": 1,
   "id": "24a12b40",
   "metadata": {},
   "outputs": [],
   "source": [
    "import numpy as np"
   ]
  },
  {
   "cell_type": "code",
   "execution_count": 2,
   "id": "dda59e04",
   "metadata": {},
   "outputs": [
    {
     "data": {
      "text/plain": [
       "array([1, 2, 3])"
      ]
     },
     "execution_count": 2,
     "metadata": {},
     "output_type": "execute_result"
    }
   ],
   "source": [
    "l = [1, 2, 3]\n",
    "\n",
    "np.array(l)"
   ]
  },
  {
   "cell_type": "code",
   "execution_count": 3,
   "id": "9bd863e2",
   "metadata": {},
   "outputs": [],
   "source": [
    "mat = [\n",
    "        [1,2],\n",
    "        [3,4]\n",
    "    ]"
   ]
  },
  {
   "cell_type": "code",
   "execution_count": 4,
   "id": "c5b08d07",
   "metadata": {},
   "outputs": [
    {
     "data": {
      "text/plain": [
       "array([[1, 2],\n",
       "       [3, 4]])"
      ]
     },
     "execution_count": 4,
     "metadata": {},
     "output_type": "execute_result"
    }
   ],
   "source": [
    "np.array(mat)"
   ]
  },
  {
   "cell_type": "code",
   "execution_count": 5,
   "id": "09240724",
   "metadata": {},
   "outputs": [],
   "source": [
    "tensor = [\n",
    "            # first 2D array             \n",
    "            [\n",
    "                [1,2], \n",
    "                [3,4]\n",
    "            ], \n",
    "            # second 2D array \n",
    "            [\n",
    "                [11, 12],\n",
    "                [34, 56]\n",
    "            ],\n",
    "            # third 2D array\n",
    "            [\n",
    "                [-1, -5],\n",
    "                [-56, -68]\n",
    "            ]\n",
    "        ]"
   ]
  },
  {
   "cell_type": "code",
   "execution_count": 7,
   "id": "ef065ab9",
   "metadata": {},
   "outputs": [
    {
     "data": {
      "text/plain": [
       "array([[[  1,   2],\n",
       "        [  3,   4]],\n",
       "\n",
       "       [[ 11,  12],\n",
       "        [ 34,  56]],\n",
       "\n",
       "       [[ -1,  -5],\n",
       "        [-56, -68]]])"
      ]
     },
     "execution_count": 7,
     "metadata": {},
     "output_type": "execute_result"
    }
   ],
   "source": [
    "array = np.array(tensor)\n",
    "array"
   ]
  },
  {
   "cell_type": "code",
   "execution_count": 8,
   "id": "6fa0075e",
   "metadata": {},
   "outputs": [
    {
     "data": {
      "text/plain": [
       "3"
      ]
     },
     "execution_count": 8,
     "metadata": {},
     "output_type": "execute_result"
    }
   ],
   "source": [
    "array.ndim"
   ]
  },
  {
   "cell_type": "markdown",
   "id": "24dce9b5",
   "metadata": {},
   "source": [
    "- We can also create numpy arrays using the arange function. This is similar to the range() function\n",
    "- This expects us to pass in 3 parameters : start, stop and step(jump)"
   ]
  },
  {
   "cell_type": "code",
   "execution_count": 9,
   "id": "cda730f7",
   "metadata": {},
   "outputs": [
    {
     "data": {
      "text/plain": [
       "array([ 1,  4,  7, 10, 13, 16, 19])"
      ]
     },
     "execution_count": 9,
     "metadata": {},
     "output_type": "execute_result"
    }
   ],
   "source": [
    "np.arange(1, 20, 3) # 1, 4, 7, 10, 13, 16, 19"
   ]
  },
  {
   "cell_type": "markdown",
   "id": "0329902d",
   "metadata": {},
   "source": [
    "#### Note\n",
    "- It is a very common practice in data science to first create an array using arange() function and then reshape it to our convenience.\n",
    "- The reshape() method expects us to pass in a tuple into which we want to convert our array."
   ]
  },
  {
   "cell_type": "code",
   "execution_count": 10,
   "id": "217f7bc4",
   "metadata": {},
   "outputs": [
    {
     "data": {
      "text/plain": [
       "array([[ 1,  2,  3,  4,  5],\n",
       "       [ 6,  7,  8,  9, 10],\n",
       "       [11, 12, 13, 14, 15],\n",
       "       [16, 17, 18, 19, 20],\n",
       "       [21, 22, 23, 24, 25]])"
      ]
     },
     "execution_count": 10,
     "metadata": {},
     "output_type": "execute_result"
    }
   ],
   "source": [
    "np.arange(1,26).reshape((5,5))"
   ]
  },
  {
   "cell_type": "code",
   "execution_count": 11,
   "id": "2d480488",
   "metadata": {},
   "outputs": [
    {
     "data": {
      "text/plain": [
       "array([[ 1,  2],\n",
       "       [ 3,  4],\n",
       "       [ 5,  6],\n",
       "       [ 7,  8],\n",
       "       [ 9, 10],\n",
       "       [11, 12]])"
      ]
     },
     "execution_count": 11,
     "metadata": {},
     "output_type": "execute_result"
    }
   ],
   "source": [
    "np.arange(1,13).reshape((6,2))"
   ]
  },
  {
   "cell_type": "code",
   "execution_count": 12,
   "id": "6433eade",
   "metadata": {},
   "outputs": [
    {
     "data": {
      "text/plain": [
       "array([[ 1,  2,  3,  4],\n",
       "       [ 5,  6,  7,  8],\n",
       "       [ 9, 10, 11, 12]])"
      ]
     },
     "execution_count": 12,
     "metadata": {},
     "output_type": "execute_result"
    }
   ],
   "source": [
    "np.arange(1,13).reshape((3,4))"
   ]
  },
  {
   "cell_type": "code",
   "execution_count": null,
   "id": "fce93838",
   "metadata": {},
   "outputs": [],
   "source": []
  }
 ],
 "metadata": {
  "kernelspec": {
   "display_name": "Python 3 (ipykernel)",
   "language": "python",
   "name": "python3"
  },
  "language_info": {
   "codemirror_mode": {
    "name": "ipython",
    "version": 3
   },
   "file_extension": ".py",
   "mimetype": "text/x-python",
   "name": "python",
   "nbconvert_exporter": "python",
   "pygments_lexer": "ipython3",
   "version": "3.11.5"
  }
 },
 "nbformat": 4,
 "nbformat_minor": 5
}
