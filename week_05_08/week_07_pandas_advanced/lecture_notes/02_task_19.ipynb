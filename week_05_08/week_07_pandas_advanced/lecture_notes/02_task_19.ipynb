{
 "cells": [
  {
   "cell_type": "markdown",
   "metadata": {
    "id": "mGBzdavGOUdP"
   },
   "source": [
    "## **Questions based on Titanic Dataset:**\n",
    "\n",
    "To read the dataset as csv, use the below code:\n",
    "\n",
    "```python\n",
    "import pandas as pd\n",
    "\n",
    "url= \"https://raw.githubusercontent.com/sameerjha462000/data_science_final/main/week_05_08/week_07_pandas_advanced/lecture_notes/datasets/02_task_19_datasets/inside_notebooks/train%20-%20train.csv\"\n",
    "titanic_df = pd.read_csv(url)\n",
    "```"
   ]
  },
  {
   "cell_type": "markdown",
   "metadata": {
    "id": "HsmRWKRoOa0-"
   },
   "source": [
    "### `Q-1:` Using `groupby` make groups using the `\"Pclass\"` column and find out the average age and total number of missing values in the `\"Age\"` column for every group."
   ]
  },
  {
   "cell_type": "code",
   "execution_count": null,
   "metadata": {
    "id": "OdPLAvd4OVS6"
   },
   "outputs": [],
   "source": [
    "# code here"
   ]
  },
  {
   "cell_type": "markdown",
   "metadata": {
    "id": "CGBHGvCMOctq"
   },
   "source": [
    "### `Q-2:` Using `groupby` make groups using the `\"Pclass\"` column and fill every group's `\"Embarked\"` column's missing values with the mode value of that group. After that, print every group's `\"Embarked\"` column's value counts in ascending order."
   ]
  },
  {
   "cell_type": "code",
   "execution_count": null,
   "metadata": {
    "id": "eOMciiM_OfPU"
   },
   "outputs": [],
   "source": [
    "# code here"
   ]
  },
  {
   "cell_type": "markdown",
   "metadata": {
    "id": "3B4ieUtTOg2E"
   },
   "source": [
    "### `Q-3:` Make groups based on `\"Embarked\"` column. And for each of this embarked group, make another group based on `\"Pclass\"` and find out the average fare (round off up to 2 decimal places) for each \"Pclass\" for each group of \"Embarked\".\n",
    "\n",
    "**Sample Output:**\n",
    "\n",
    "```bash\n",
    "{'C': {1: 105, 2: 25, 3: 11},\n",
    " 'Q': {1: 90, 2: 12, 3: 11},\n",
    " 'S': {1: 70, 2: 20, 3: 15}}\n",
    "```"
   ]
  },
  {
   "cell_type": "code",
   "execution_count": null,
   "metadata": {
    "id": "rQvGcpCLOjEk"
   },
   "outputs": [],
   "source": [
    "# code here"
   ]
  },
  {
   "cell_type": "markdown",
   "metadata": {
    "id": "iS6vHZUIOnJy"
   },
   "source": [
    "## **Questions Based on Fifa Worldcup - 2022 Dataset:**\n",
    "\n",
    "You can read the dataset by using the below sample code\n",
    "\n",
    "```python\n",
    "import pandas as pd\n",
    "\n",
    "fifa_df = pd.read_csv(\"https://raw.githubusercontent.com/sameerjha462000/data_science_final/main/week_05_08/week_07_pandas_advanced/lecture_notes/datasets/02_task_19_datasets/inside_notebooks/Fifa%20Worldcup%202022%20-%20Sheet1.csv\")\n",
    "```"
   ]
  },
  {
   "cell_type": "markdown",
   "metadata": {
    "id": "3GPZOvh5Oqhp"
   },
   "source": [
    "### `Q-4:` Perform `groupby` based on the `\"Team\"` column and then perform Z Normalization on top of the below columns of each group:\n",
    "1. Passes\n",
    "2. Passes Completed\n",
    "3. Attempted Line Breaks\n",
    "4. Completed Line Breaks\n",
    "\n",
    "You have to make a python function named `z_normalization` which takes two arguments:\n",
    "\n",
    "1. *group:* Every group that you have created\n",
    "2. *cols_to_perform:* This parameter takes a list of columns on which you have to perform the Z-Normalization.\n",
    "\n",
    "For this problem, you have to use th `apply()` method.\n",
    "\n",
    "$\\Large Z \\ - \\ Normalization = \\frac{X_i - \\mu}{std} $\n",
    "\n",
    "After that find out the below values for each group:\n",
    "- minimum \"Passess\"\n",
    "- maximum \"Passess\"\n",
    "- minimum \"Yellow Cards\"\n",
    "- maximum \"Yellow cards\"\n",
    "- average \"Yellow Cards\"\n",
    "- maximum \"Attempted Line Breaks\"\n",
    "- minimum \"Attempted Line Breaks\"\n",
    "- standardard deviation of \"Attempted Line Breaks\"\n",
    "- average Possession"
   ]
  },
  {
   "cell_type": "code",
   "execution_count": null,
   "metadata": {
    "id": "OuGLcl3EOnxY"
   },
   "outputs": [],
   "source": [
    "# code here"
   ]
  },
  {
   "cell_type": "markdown",
   "metadata": {
    "id": "RPjqA-OtOxDD"
   },
   "source": [
    "## **Questions on IPL wala dataset**\n",
    "\n",
    "ball by ball dataset - https://raw.githubusercontent.com/sameerjha462000/data_science_final/main/week_05_08/week_07_pandas_advanced/lecture_notes/datasets/02_task_19_datasets/inside_notebooks/ipl_deliveries.csv\n",
    "\n",
    "\n",
    "\n"
   ]
  },
  {
   "cell_type": "markdown",
   "metadata": {
    "id": "IeQpV8A2O0IR"
   },
   "source": [
    "### `Q-5:` Find batsman in below category-\n",
    "* Highest score while chasing\n",
    "* Best Strike rate while chasing and have faced 100+ balls\n",
    "\n",
    "\n",
    "> Chasing mean team batting in second inning"
   ]
  },
  {
   "cell_type": "code",
   "execution_count": null,
   "metadata": {
    "id": "nwa-adpMOxl4"
   },
   "outputs": [],
   "source": [
    "# code here"
   ]
  },
  {
   "cell_type": "markdown",
   "metadata": {
    "id": "Wr443WT0O2Qw"
   },
   "source": [
    "### `Q-6` Most Successful bowler against any batsman. Find that pair of bowler and batsman.\n",
    "> Most Successful in terms of dissmissal. A bowler who have dissmissed any batsman most no of times. If any two pairs have same no of dissmisal, consider runs conceded by bowler to that batsman. Those who have concede lesser runs is more successful."
   ]
  },
  {
   "cell_type": "code",
   "execution_count": null,
   "metadata": {
    "id": "oG1P4PT8O4u4"
   },
   "outputs": [],
   "source": [
    "# code here"
   ]
  },
  {
   "cell_type": "markdown",
   "metadata": {
    "id": "7BP2EDkNO6KM"
   },
   "source": [
    "### `Q-7`: Most successful batting pair in IPL. Batting pair who have scored most runs playing together.\n"
   ]
  },
  {
   "cell_type": "code",
   "execution_count": null,
   "metadata": {
    "id": "lRlbTuarO80s"
   },
   "outputs": [],
   "source": [
    "# code here"
   ]
  },
  {
   "cell_type": "markdown",
   "metadata": {
    "id": "gVJ2CnAxO-b0"
   },
   "source": [
    "### `Q-8:` Make a dataframe for all batting pairs played together.\n",
    "```\n",
    "Batsman1 Batsman2 Runs Avg StrikeRate\n",
    "```\n",
    "\n",
    "> Just to ease this question you can count wide-balls for strike rate."
   ]
  },
  {
   "cell_type": "code",
   "execution_count": null,
   "metadata": {
    "id": "S0bgMx_dPA9Y"
   },
   "outputs": [],
   "source": [
    "# code here"
   ]
  }
 ],
 "metadata": {
  "colab": {
   "provenance": []
  },
  "kernelspec": {
   "display_name": "Python 3 (ipykernel)",
   "language": "python",
   "name": "python3"
  },
  "language_info": {
   "codemirror_mode": {
    "name": "ipython",
    "version": 3
   },
   "file_extension": ".py",
   "mimetype": "text/x-python",
   "name": "python",
   "nbconvert_exporter": "python",
   "pygments_lexer": "ipython3",
   "version": "3.11.5"
  }
 },
 "nbformat": 4,
 "nbformat_minor": 1
}
