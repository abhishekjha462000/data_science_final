{
 "cells": [
  {
   "cell_type": "code",
   "execution_count": 1,
   "metadata": {
    "id": "zxrbXftDYalU"
   },
   "outputs": [],
   "source": [
    "import numpy as np\n",
    "import pandas as pd"
   ]
  },
  {
   "cell_type": "markdown",
   "metadata": {
    "id": "MetYTZJpYfdz"
   },
   "source": [
    "### `Q-1:` Write a program to create an empty series."
   ]
  },
  {
   "cell_type": "code",
   "execution_count": 2,
   "metadata": {
    "id": "KUcgT935YgC5"
   },
   "outputs": [
    {
     "data": {
      "text/plain": [
       "Series([], dtype: object)"
      ]
     },
     "execution_count": 2,
     "metadata": {},
     "output_type": "execute_result"
    }
   ],
   "source": [
    "# code here\n",
    "pd.Series()"
   ]
  },
  {
   "cell_type": "markdown",
   "metadata": {
    "id": "jw5ybzU6YhOo"
   },
   "source": [
    "### `Q-2:` Write a Pandas program to add, subtract, multiple and divide two Pandas Series."
   ]
  },
  {
   "cell_type": "code",
   "execution_count": 3,
   "metadata": {
    "id": "EF3GgVFjYjwG"
   },
   "outputs": [
    {
     "name": "stdout",
     "output_type": "stream",
     "text": [
      "0     3\n",
      "1     7\n",
      "2    11\n",
      "3    15\n",
      "4    20\n",
      "dtype: int64\n",
      "0    1\n",
      "1    1\n",
      "2    1\n",
      "3    1\n",
      "4    0\n",
      "dtype: int64\n",
      "0      2\n",
      "1     12\n",
      "2     30\n",
      "3     56\n",
      "4    100\n",
      "dtype: int64\n",
      "0    2.000000\n",
      "1    1.333333\n",
      "2    1.200000\n",
      "3    1.142857\n",
      "4    1.000000\n",
      "dtype: float64\n"
     ]
    }
   ],
   "source": [
    "# code here\n",
    "s1 = pd.Series([2, 4, 6, 8, 10])\n",
    "s2 = pd.Series([1, 3, 5, 7, 10])\n",
    "\n",
    "print(s1 + s2)\n",
    "print(s1 - s2)\n",
    "print(s1 * s2)\n",
    "print(s1 / s2)"
   ]
  },
  {
   "cell_type": "markdown",
   "metadata": {
    "id": "TZDp25jeYlB6"
   },
   "source": [
    "### `Q-3` Write a Pandas program to compare the elements of the two Pandas Series.\n",
    "Sample Series: [2, 4, 6, 8, 10], [1, 3, 5, 7, 10]\n",
    "\n"
   ]
  },
  {
   "cell_type": "code",
   "execution_count": 4,
   "metadata": {
    "id": "gFNil8ruYp1y"
   },
   "outputs": [],
   "source": [
    "# code here\n",
    "s1 = pd.Series([2, 4, 6, 8, 10])\n",
    "s2 = pd.Series([1, 3, 5, 7, 10])"
   ]
  },
  {
   "cell_type": "code",
   "execution_count": 5,
   "metadata": {},
   "outputs": [
    {
     "data": {
      "text/plain": [
       "0    False\n",
       "1    False\n",
       "2    False\n",
       "3    False\n",
       "4     True\n",
       "dtype: bool"
      ]
     },
     "execution_count": 5,
     "metadata": {},
     "output_type": "execute_result"
    }
   ],
   "source": [
    "s1 == s2"
   ]
  },
  {
   "cell_type": "code",
   "execution_count": 6,
   "metadata": {},
   "outputs": [
    {
     "data": {
      "text/plain": [
       "0     True\n",
       "1     True\n",
       "2     True\n",
       "3     True\n",
       "4    False\n",
       "dtype: bool"
      ]
     },
     "execution_count": 6,
     "metadata": {},
     "output_type": "execute_result"
    }
   ],
   "source": [
    "s1 > s2"
   ]
  },
  {
   "cell_type": "markdown",
   "metadata": {
    "id": "HlOBn_N6YrZz"
   },
   "source": [
    "### `Q-5.`Write a function to change the data type of given a column or a Series. Function takes series and data type as input, returns the converted series.\n",
    "```\n",
    "series = pd.Series([1,2,'Python', 2.0, True, 100])\n",
    "change to float type data\n",
    "```\n",
    "Note: Read about pd.to_numeric()"
   ]
  },
  {
   "cell_type": "code",
   "execution_count": 7,
   "metadata": {
    "id": "_SWQJCUJYwXm"
   },
   "outputs": [
    {
     "data": {
      "text/plain": [
       "0      1.0\n",
       "1      2.0\n",
       "2      NaN\n",
       "3      2.0\n",
       "4      1.0\n",
       "5    100.0\n",
       "dtype: float64"
      ]
     },
     "execution_count": 7,
     "metadata": {},
     "output_type": "execute_result"
    }
   ],
   "source": [
    "# code here\n",
    "def func(ser):\n",
    "    return pd.to_numeric(ser, errors='coerce')\n",
    "\n",
    "ser = pd.Series([1,2,'Python', 2.0, True, 100])\n",
    "func(ser)"
   ]
  },
  {
   "cell_type": "markdown",
   "metadata": {
    "id": "PGp3OqRIY0Va"
   },
   "source": [
    "Download data - https://drive.google.com/file/d/1LRhXwbEodeWXtzPhJCX0X9Lf_BECzvqb/view?usp=share_link\n",
    "All Batsman runs series in IPL 2008 to 2022.\n",
    "\n",
    "Below questions are based on this data."
   ]
  },
  {
   "cell_type": "markdown",
   "metadata": {
    "id": "TxFkp-L4Y23d"
   },
   "source": [
    "### `Q-6` Find top 10 most run getter from the series."
   ]
  },
  {
   "cell_type": "code",
   "execution_count": 8,
   "metadata": {
    "id": "muBgocA6Y2Bg"
   },
   "outputs": [
    {
     "data": {
      "text/plain": [
       "A Ashish Reddy     280\n",
       "A Badoni           161\n",
       "A Chandila           4\n",
       "A Chopra            53\n",
       "A Choudhary         25\n",
       "                  ... \n",
       "Yash Dayal           0\n",
       "Yashpal Singh       47\n",
       "Younis Khan          3\n",
       "Yuvraj Singh      2754\n",
       "Z Khan             117\n",
       "Name: batsman_run, Length: 605, dtype: int64"
      ]
     },
     "execution_count": 8,
     "metadata": {},
     "output_type": "execute_result"
    }
   ],
   "source": [
    "# code here\n",
    "batters = pd.read_csv('./content/batsman_runs_series.csv', index_col = 0).squeeze(True)\n",
    "batters.index.name = None\n",
    "batters"
   ]
  },
  {
   "cell_type": "code",
   "execution_count": 9,
   "metadata": {},
   "outputs": [
    {
     "data": {
      "text/plain": [
       "V Kohli           6634\n",
       "S Dhawan          6244\n",
       "DA Warner         5883\n",
       "RG Sharma         5881\n",
       "SK Raina          5536\n",
       "AB de Villiers    5181\n",
       "CH Gayle          4997\n",
       "MS Dhoni          4978\n",
       "RV Uthappa        4954\n",
       "KD Karthik        4377\n",
       "Name: batsman_run, dtype: int64"
      ]
     },
     "execution_count": 9,
     "metadata": {},
     "output_type": "execute_result"
    }
   ],
   "source": [
    "top_10_batters = batters.sort_values(ascending = False).head(10)\n",
    "top_10_batters"
   ]
  },
  {
   "cell_type": "markdown",
   "metadata": {
    "id": "GzlCFBM_Y83g"
   },
   "source": [
    "### `Q-7` No of players having runs above 3000"
   ]
  },
  {
   "cell_type": "code",
   "execution_count": 10,
   "metadata": {
    "id": "JdNchHRWY1B-"
   },
   "outputs": [
    {
     "data": {
      "text/plain": [
       "20"
      ]
     },
     "execution_count": 10,
     "metadata": {},
     "output_type": "execute_result"
    }
   ],
   "source": [
    "# code here\n",
    "mask = batters > 3000\n",
    "mask.sum()"
   ]
  },
  {
   "cell_type": "markdown",
   "metadata": {
    "id": "pMBEoCL1Y-vh"
   },
   "source": [
    "### `Q-8` No of players having runs above mean value?"
   ]
  },
  {
   "cell_type": "code",
   "execution_count": 11,
   "metadata": {
    "id": "LgtViVFZZBIu"
   },
   "outputs": [
    {
     "data": {
      "text/plain": [
       "128"
      ]
     },
     "execution_count": 11,
     "metadata": {},
     "output_type": "execute_result"
    }
   ],
   "source": [
    "# code here\n",
    "mean = batters.mean()\n",
    "mask = batters > mean\n",
    "mask.sum()"
   ]
  },
  {
   "cell_type": "markdown",
   "metadata": {
    "id": "OAB1CgdgZEqE"
   },
   "source": [
    "Download data - https://drive.google.com/file/d/1QZuZ5bypUInfVvarHACLAi8tXXHvb8xd/view?usp=share_link\n",
    "\n",
    "file name - items.csv\n",
    "\n"
   ]
  },
  {
   "cell_type": "markdown",
   "metadata": {
    "id": "1UTQQImxZGLu"
   },
   "source": [
    "### `Q-9`\n",
    "    i. Read `items.csv` making `item_name` as index.\n",
    "    ii. Show no of nan values\n",
    "    ii. Item price is given in $, so convert it to rupees without currency symbol.\n",
    "    iii. Make data type of newly made series as float.\n",
    "    iv. Fill nan with mean of the series\n",
    "\n",
    "\n",
    "How csv file looks\n",
    "\n",
    "```\n",
    "item_name\titem_price\n",
    "Chips and Fresh Tomato Salsa\t$2.39\n",
    "Izze\t$3.39\n",
    "Nantucket Nectar\t$3.39\n",
    "Chips and Tomatillo-Green Chili Salsa\t$2.39\n",
    "Chicken Bowl\t$16.98\n",
    "\n",
    "```"
   ]
  },
  {
   "cell_type": "code",
   "execution_count": 12,
   "metadata": {
    "id": "1xaWkoMJZFNK"
   },
   "outputs": [
    {
     "data": {
      "text/plain": [
       "Chips and Fresh Tomato Salsa              $2.39 \n",
       "Izze                                      $3.39 \n",
       "Nantucket Nectar                          $3.39 \n",
       "Chips and Tomatillo-Green Chili Salsa     $2.39 \n",
       "Chicken Bowl                             $16.98 \n",
       "                                          ...   \n",
       "Steak Burrito                            $11.75 \n",
       "Steak Burrito                            $11.75 \n",
       "Chicken Salad Bowl                       $11.25 \n",
       "Chicken Salad Bowl                        $8.75 \n",
       "Chicken Salad Bowl                        $8.75 \n",
       "Name: item_price, Length: 4622, dtype: object"
      ]
     },
     "execution_count": 12,
     "metadata": {},
     "output_type": "execute_result"
    }
   ],
   "source": [
    "# code here\n",
    "items = pd.read_csv('./content/items.csv', index_col='item_name').squeeze(True)\n",
    "items.index.name = None\n",
    "items"
   ]
  },
  {
   "cell_type": "code",
   "execution_count": 13,
   "metadata": {},
   "outputs": [
    {
     "data": {
      "text/plain": [
       "50"
      ]
     },
     "execution_count": 13,
     "metadata": {},
     "output_type": "execute_result"
    }
   ],
   "source": [
    "# Number of nan values\n",
    "items.isnull().sum()"
   ]
  },
  {
   "cell_type": "code",
   "execution_count": 14,
   "metadata": {},
   "outputs": [],
   "source": [
    "def func(value):\n",
    "    try:\n",
    "        y = value[1::]\n",
    "        return float(y) * 82.83\n",
    "    except Exception as ex:\n",
    "        return np.nan"
   ]
  },
  {
   "cell_type": "code",
   "execution_count": 15,
   "metadata": {},
   "outputs": [
    {
     "data": {
      "text/plain": [
       "Chips and Fresh Tomato Salsa              197.9637\n",
       "Izze                                      280.7937\n",
       "Nantucket Nectar                          280.7937\n",
       "Chips and Tomatillo-Green Chili Salsa     197.9637\n",
       "Chicken Bowl                             1406.4534\n",
       "                                           ...    \n",
       "Steak Burrito                             973.2525\n",
       "Steak Burrito                             973.2525\n",
       "Chicken Salad Bowl                        931.8375\n",
       "Chicken Salad Bowl                        724.7625\n",
       "Chicken Salad Bowl                        724.7625\n",
       "Name: item_price, Length: 4622, dtype: float64"
      ]
     },
     "execution_count": 15,
     "metadata": {},
     "output_type": "execute_result"
    }
   ],
   "source": [
    "# Item price is given in $, so convert it to rupees without currency symbol.\n",
    "\n",
    "# my function ---> this also works fine\n",
    "# def func(value):\n",
    "#     if type(value) == float:\n",
    "#         # we have a missing value\n",
    "#         return np.nan\n",
    "#     else:\n",
    "#         # the value which we have received is not a missing value\n",
    "#         # so first remove the $ from it and make it a float\n",
    "#         # then convert this float into rupees\n",
    "#         return float(value[1::]) * 82.83\n",
    "\n",
    "new_items = items.apply(func)\n",
    "new_items"
   ]
  },
  {
   "cell_type": "code",
   "execution_count": 16,
   "metadata": {},
   "outputs": [],
   "source": [
    "# Make data type of newly made series as float.\n",
    "# already float so no code"
   ]
  },
  {
   "cell_type": "code",
   "execution_count": 17,
   "metadata": {},
   "outputs": [
    {
     "data": {
      "text/plain": [
       "618.1628988188977"
      ]
     },
     "execution_count": 17,
     "metadata": {},
     "output_type": "execute_result"
    }
   ],
   "source": [
    "# Fill nan with mean of the series\n",
    "mean_new_items = new_items[new_items.notnull()].mean()\n",
    "mean_new_items"
   ]
  },
  {
   "cell_type": "code",
   "execution_count": 18,
   "metadata": {},
   "outputs": [
    {
     "data": {
      "text/plain": [
       "Chips and Fresh Tomato Salsa              197.9637\n",
       "Izze                                      280.7937\n",
       "Nantucket Nectar                          280.7937\n",
       "Chips and Tomatillo-Green Chili Salsa     197.9637\n",
       "Chicken Bowl                             1406.4534\n",
       "                                           ...    \n",
       "Steak Burrito                             973.2525\n",
       "Steak Burrito                             973.2525\n",
       "Chicken Salad Bowl                        931.8375\n",
       "Chicken Salad Bowl                        724.7625\n",
       "Chicken Salad Bowl                        724.7625\n",
       "Name: item_price, Length: 4622, dtype: float64"
      ]
     },
     "execution_count": 18,
     "metadata": {},
     "output_type": "execute_result"
    }
   ],
   "source": [
    "new_items.fillna(value = mean_new_items, inplace = True)\n",
    "new_items"
   ]
  },
  {
   "cell_type": "markdown",
   "metadata": {
    "id": "UHc_4e9cZK8r"
   },
   "source": [
    "### `Q-10`:\n",
    "    i. Find mean price\n",
    "    ii. Find 30th and 6th percentile value\n",
    "    iii. Plot Histogram on price with bin size 50\n",
    "    iv. No of items price lies between [1000 to 2000]\n",
    "\n"
   ]
  },
  {
   "cell_type": "code",
   "execution_count": 19,
   "metadata": {
    "id": "Eh3xX9FpZNmE"
   },
   "outputs": [
    {
     "data": {
      "text/plain": [
       "618.1628988188976"
      ]
     },
     "execution_count": 19,
     "metadata": {},
     "output_type": "execute_result"
    }
   ],
   "source": [
    "# code here\n",
    "mean_price = new_items.mean()\n",
    "mean_price"
   ]
  },
  {
   "cell_type": "code",
   "execution_count": 20,
   "metadata": {},
   "outputs": [
    {
     "data": {
      "text/plain": [
       "103.5375"
      ]
     },
     "execution_count": 20,
     "metadata": {},
     "output_type": "execute_result"
    }
   ],
   "source": [
    "new_items.quantile(q = 0.3)\n",
    "new_items.quantile(q = 0.06)"
   ]
  },
  {
   "cell_type": "code",
   "execution_count": 21,
   "metadata": {},
   "outputs": [
    {
     "data": {
      "text/plain": [
       "array([368.5935, 103.5375])"
      ]
     },
     "execution_count": 21,
     "metadata": {},
     "output_type": "execute_result"
    }
   ],
   "source": [
    "np.percentile(new_items, [30, 6])"
   ]
  },
  {
   "cell_type": "code",
   "execution_count": 22,
   "metadata": {},
   "outputs": [
    {
     "data": {
      "text/plain": [
       "116"
      ]
     },
     "execution_count": 22,
     "metadata": {},
     "output_type": "execute_result"
    }
   ],
   "source": [
    "# Number of items price between [1000 and 2000]\n",
    "mask = new_items.between(1000, 2000)\n",
    "mask.sum()"
   ]
  },
  {
   "cell_type": "code",
   "execution_count": 23,
   "metadata": {},
   "outputs": [
    {
     "data": {
      "text/plain": [
       "<Axes: ylabel='Frequency'>"
      ]
     },
     "execution_count": 23,
     "metadata": {},
     "output_type": "execute_result"
    },
    {
     "data": {
      "image/png": "[encoded data removed]",
      "text/plain": [
       "<Figure size 640x480 with 1 Axes>"
      ]
     },
     "metadata": {},
     "output_type": "display_data"
    }
   ],
   "source": [
    "new_items.plot.hist(bins = 50)"
   ]
  },
  {
   "cell_type": "code",
   "execution_count": null,
   "metadata": {},
   "outputs": [],
   "source": []
  }
 ],
 "metadata": {
  "colab": {
   "provenance": []
  },
  "kernelspec": {
   "display_name": "Python 3 (ipykernel)",
   "language": "python",
   "name": "python3"
  },
  "language_info": {
   "codemirror_mode": {
    "name": "ipython",
    "version": 3
   },
   "file_extension": ".py",
   "mimetype": "text/x-python",
   "name": "python",
   "nbconvert_exporter": "python",
   "pygments_lexer": "ipython3",
   "version": "3.11.5"
  }
 },
 "nbformat": 4,
 "nbformat_minor": 1
}
