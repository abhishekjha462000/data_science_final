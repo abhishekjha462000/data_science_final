{
 "cells": [
  {
   "cell_type": "markdown",
   "id": "fa1c7316",
   "metadata": {},
   "source": [
    "# pandas"
   ]
  },
  {
   "cell_type": "markdown",
   "id": "35b6aadf",
   "metadata": {},
   "source": [
    "    Pandas stands for panel data structures. It is library built on top of numpy library.\n",
    "    \n",
    "    We have 3 kinds of data structures inside pandas.\n",
    "    \n",
    "    1. Index\n",
    "    2. Series\n",
    "    3. Dataframes\n",
    "    \n",
    "    Pandas is used in predictive analysis."
   ]
  },
  {
   "cell_type": "markdown",
   "id": "7edef6c5",
   "metadata": {},
   "source": [
    "## `importing pandas`"
   ]
  },
  {
   "cell_type": "code",
   "execution_count": 1,
   "id": "2af72207",
   "metadata": {},
   "outputs": [],
   "source": [
    "import numpy as np\n",
    "import pandas as pd"
   ]
  },
  {
   "cell_type": "markdown",
   "id": "eff84957",
   "metadata": {},
   "source": [
    "## `creating series`"
   ]
  },
  {
   "cell_type": "markdown",
   "id": "eae13781",
   "metadata": {},
   "source": [
    "- We can create pandas series using lists or dictionaries."
   ]
  },
  {
   "cell_type": "code",
   "execution_count": 2,
   "id": "d4a5e684",
   "metadata": {},
   "outputs": [
    {
     "data": {
      "text/plain": [
       "0       India\n",
       "1    Pakistan\n",
       "2         USA\n",
       "3       Nepal\n",
       "4    Srilanka\n",
       "dtype: object"
      ]
     },
     "execution_count": 2,
     "metadata": {},
     "output_type": "execute_result"
    }
   ],
   "source": [
    "country = ['India', 'Pakistan', 'USA', 'Nepal', 'Srilanka']\n",
    "\n",
    "pd.Series(country)"
   ]
  },
  {
   "cell_type": "markdown",
   "id": "4b6a768b",
   "metadata": {},
   "source": [
    "    We can also create a series where the values are integers as well."
   ]
  },
  {
   "cell_type": "code",
   "execution_count": 3,
   "id": "29ecfdc2",
   "metadata": {},
   "outputs": [
    {
     "data": {
      "text/plain": [
       "0     13\n",
       "1     24\n",
       "2     56\n",
       "3     78\n",
       "4    100\n",
       "dtype: int64"
      ]
     },
     "execution_count": 3,
     "metadata": {},
     "output_type": "execute_result"
    }
   ],
   "source": [
    "runs = [13, 24, 56, 78, 100]\n",
    "pd.Series(runs)"
   ]
  },
  {
   "cell_type": "markdown",
   "id": "1dca2cbe",
   "metadata": {},
   "source": [
    "- We can also give custom index to our series object."
   ]
  },
  {
   "cell_type": "code",
   "execution_count": 4,
   "id": "aa785e4f",
   "metadata": {},
   "outputs": [
    {
     "data": {
      "text/plain": [
       "Maths       67\n",
       "Science     57\n",
       "English     89\n",
       "Hindi      100\n",
       "dtype: int64"
      ]
     },
     "execution_count": 4,
     "metadata": {},
     "output_type": "execute_result"
    }
   ],
   "source": [
    "marks = [67, 57, 89, 100]\n",
    "subjects = ['Maths', 'Science', 'English', 'Hindi']\n",
    "\n",
    "pd.Series(marks, index=subjects)"
   ]
  },
  {
   "cell_type": "markdown",
   "id": "405decc2",
   "metadata": {},
   "source": [
    "- We may also a provide a `name` to our series."
   ]
  },
  {
   "cell_type": "code",
   "execution_count": 5,
   "id": "b41e6726",
   "metadata": {},
   "outputs": [
    {
     "data": {
      "text/plain": [
       "Maths       67\n",
       "Science     57\n",
       "English     89\n",
       "Hindi      100\n",
       "Name: Daniyaal marks, dtype: int64"
      ]
     },
     "execution_count": 5,
     "metadata": {},
     "output_type": "execute_result"
    }
   ],
   "source": [
    "marks = [67, 57, 89, 100]\n",
    "subjects = ['Maths', 'Science', 'English', 'Hindi']\n",
    "\n",
    "pd.Series(marks, index = subjects, name = 'Daniyaal marks')"
   ]
  },
  {
   "cell_type": "markdown",
   "id": "729e89fa",
   "metadata": {},
   "source": [
    "## `creating series from dictionaries`"
   ]
  },
  {
   "cell_type": "markdown",
   "id": "25e31adf",
   "metadata": {},
   "source": [
    "    We can also create a series object by passing in a dictionary in the pd.Series() method."
   ]
  },
  {
   "cell_type": "code",
   "execution_count": 6,
   "id": "523374f7",
   "metadata": {},
   "outputs": [
    {
     "data": {
      "text/plain": [
       "{'Maths': 67, 'Science': 57, 'English': 89, 'Hindi': 100}"
      ]
     },
     "execution_count": 6,
     "metadata": {},
     "output_type": "execute_result"
    }
   ],
   "source": [
    "marks_dictionary = {subject:score for subject, score in zip(subjects, marks)}\n",
    "marks_dictionary"
   ]
  },
  {
   "cell_type": "code",
   "execution_count": 16,
   "id": "86d9aaae",
   "metadata": {},
   "outputs": [
    {
     "data": {
      "text/plain": [
       "Maths       67\n",
       "Science     57\n",
       "English     89\n",
       "Hindi      100\n",
       "dtype: int64"
      ]
     },
     "execution_count": 16,
     "metadata": {},
     "output_type": "execute_result"
    }
   ],
   "source": [
    "marks_ser = pd.Series(marks_dictionary)\n",
    "marks_ser"
   ]
  },
  {
   "cell_type": "markdown",
   "id": "a7941273",
   "metadata": {},
   "source": [
    "## `attributes of series`"
   ]
  },
  {
   "cell_type": "markdown",
   "id": "1f144ebc",
   "metadata": {},
   "source": [
    "    Since at the end of day, series are python objects, each series instance has certain attributes associated to it."
   ]
  },
  {
   "cell_type": "code",
   "execution_count": 17,
   "id": "e5c7753b",
   "metadata": {},
   "outputs": [
    {
     "data": {
      "text/plain": [
       "Maths       67\n",
       "Science     57\n",
       "English     89\n",
       "Hindi      100\n",
       "dtype: int64"
      ]
     },
     "execution_count": 17,
     "metadata": {},
     "output_type": "execute_result"
    }
   ],
   "source": [
    "marks_ser"
   ]
  },
  {
   "cell_type": "code",
   "execution_count": 18,
   "id": "90d77d43",
   "metadata": {},
   "outputs": [
    {
     "data": {
      "text/plain": [
       "4"
      ]
     },
     "execution_count": 18,
     "metadata": {},
     "output_type": "execute_result"
    }
   ],
   "source": [
    "marks_ser.size"
   ]
  },
  {
   "cell_type": "code",
   "execution_count": 19,
   "id": "2d1a60de",
   "metadata": {},
   "outputs": [
    {
     "data": {
      "text/plain": [
       "dtype('int64')"
      ]
     },
     "execution_count": 19,
     "metadata": {},
     "output_type": "execute_result"
    }
   ],
   "source": [
    "marks_ser.dtype"
   ]
  },
  {
   "cell_type": "code",
   "execution_count": 20,
   "id": "5d2e62d3",
   "metadata": {},
   "outputs": [
    {
     "data": {
      "text/plain": [
       "(4,)"
      ]
     },
     "execution_count": 20,
     "metadata": {},
     "output_type": "execute_result"
    }
   ],
   "source": [
    "marks_ser.shape"
   ]
  },
  {
   "cell_type": "code",
   "execution_count": 21,
   "id": "320e8b03",
   "metadata": {},
   "outputs": [
    {
     "data": {
      "text/plain": [
       "Index(['Maths', 'Science', 'English', 'Hindi'], dtype='object')"
      ]
     },
     "execution_count": 21,
     "metadata": {},
     "output_type": "execute_result"
    }
   ],
   "source": [
    "marks_ser.index"
   ]
  },
  {
   "cell_type": "code",
   "execution_count": 22,
   "id": "695dc74f",
   "metadata": {},
   "outputs": [
    {
     "data": {
      "text/plain": [
       "array([ 67,  57,  89, 100], dtype=int64)"
      ]
     },
     "execution_count": 22,
     "metadata": {},
     "output_type": "execute_result"
    }
   ],
   "source": [
    "marks_ser.values"
   ]
  },
  {
   "cell_type": "code",
   "execution_count": 24,
   "id": "88781772",
   "metadata": {},
   "outputs": [
    {
     "data": {
      "text/plain": [
       "True"
      ]
     },
     "execution_count": 24,
     "metadata": {},
     "output_type": "execute_result"
    }
   ],
   "source": [
    "marks_ser.is_unique # Tells if all the values are unique or not"
   ]
  },
  {
   "cell_type": "code",
   "execution_count": 27,
   "id": "bad85849",
   "metadata": {},
   "outputs": [
    {
     "data": {
      "text/plain": [
       "False"
      ]
     },
     "execution_count": 27,
     "metadata": {},
     "output_type": "execute_result"
    }
   ],
   "source": [
    "pd.Series([1, 2, 3, 4, np.nan, 5, 6, np.nan]).is_unique"
   ]
  },
  {
   "cell_type": "code",
   "execution_count": 25,
   "id": "2df3e3b6",
   "metadata": {},
   "outputs": [
    {
     "data": {
      "text/plain": [
       "False"
      ]
     },
     "execution_count": 25,
     "metadata": {},
     "output_type": "execute_result"
    }
   ],
   "source": [
    "marks_ser.hasnans # Tells if the series has any missing values or not"
   ]
  },
  {
   "cell_type": "code",
   "execution_count": 26,
   "id": "d85f403c",
   "metadata": {},
   "outputs": [
    {
     "data": {
      "text/plain": [
       "True"
      ]
     },
     "execution_count": 26,
     "metadata": {},
     "output_type": "execute_result"
    }
   ],
   "source": [
    "pd.Series([1, 2, 3, 4, np.nan, 5, 6, np.nan]).hasnans"
   ]
  },
  {
   "cell_type": "markdown",
   "id": "de5f5f94",
   "metadata": {},
   "source": [
    "## `importing series from read_csv`\n",
    "\n",
    "    The read_csv() method is used primarily for reading data frames. However, if our csv file has only 2 columns or\n",
    "    1 columns, then we can squeeze it and get a series object."
   ]
  },
  {
   "cell_type": "code",
   "execution_count": 29,
   "id": "291225c4",
   "metadata": {},
   "outputs": [
    {
     "data": {
      "text/html": [
       "<div>\n",
       "<style scoped>\n",
       "    .dataframe tbody tr th:only-of-type {\n",
       "        vertical-align: middle;\n",
       "    }\n",
       "\n",
       "    .dataframe tbody tr th {\n",
       "        vertical-align: top;\n",
       "    }\n",
       "\n",
       "    .dataframe thead th {\n",
       "        text-align: right;\n",
       "    }\n",
       "</style>\n",
       "<table border=\"1\" class=\"dataframe\">\n",
       "  <thead>\n",
       "    <tr style=\"text-align: right;\">\n",
       "      <th></th>\n",
       "      <th>Subscribers gained</th>\n",
       "    </tr>\n",
       "  </thead>\n",
       "  <tbody>\n",
       "    <tr>\n",
       "      <th>0</th>\n",
       "      <td>48</td>\n",
       "    </tr>\n",
       "    <tr>\n",
       "      <th>1</th>\n",
       "      <td>57</td>\n",
       "    </tr>\n",
       "    <tr>\n",
       "      <th>2</th>\n",
       "      <td>40</td>\n",
       "    </tr>\n",
       "    <tr>\n",
       "      <th>3</th>\n",
       "      <td>43</td>\n",
       "    </tr>\n",
       "    <tr>\n",
       "      <th>4</th>\n",
       "      <td>44</td>\n",
       "    </tr>\n",
       "    <tr>\n",
       "      <th>...</th>\n",
       "      <td>...</td>\n",
       "    </tr>\n",
       "    <tr>\n",
       "      <th>360</th>\n",
       "      <td>231</td>\n",
       "    </tr>\n",
       "    <tr>\n",
       "      <th>361</th>\n",
       "      <td>226</td>\n",
       "    </tr>\n",
       "    <tr>\n",
       "      <th>362</th>\n",
       "      <td>155</td>\n",
       "    </tr>\n",
       "    <tr>\n",
       "      <th>363</th>\n",
       "      <td>144</td>\n",
       "    </tr>\n",
       "    <tr>\n",
       "      <th>364</th>\n",
       "      <td>172</td>\n",
       "    </tr>\n",
       "  </tbody>\n",
       "</table>\n",
       "<p>365 rows × 1 columns</p>\n",
       "</div>"
      ],
      "text/plain": [
       "     Subscribers gained\n",
       "0                    48\n",
       "1                    57\n",
       "2                    40\n",
       "3                    43\n",
       "4                    44\n",
       "..                  ...\n",
       "360                 231\n",
       "361                 226\n",
       "362                 155\n",
       "363                 144\n",
       "364                 172\n",
       "\n",
       "[365 rows x 1 columns]"
      ]
     },
     "execution_count": 29,
     "metadata": {},
     "output_type": "execute_result"
    }
   ],
   "source": [
    "pd.read_csv('./content/subs.csv')"
   ]
  },
  {
   "cell_type": "code",
   "execution_count": 31,
   "id": "e7603834",
   "metadata": {},
   "outputs": [
    {
     "data": {
      "text/plain": [
       "0       48\n",
       "1       57\n",
       "2       40\n",
       "3       43\n",
       "4       44\n",
       "      ... \n",
       "360    231\n",
       "361    226\n",
       "362    155\n",
       "363    144\n",
       "364    172\n",
       "Name: Subscribers gained, Length: 365, dtype: int64"
      ]
     },
     "execution_count": 31,
     "metadata": {},
     "output_type": "execute_result"
    }
   ],
   "source": [
    "subs = pd.read_csv('./content/subs.csv').squeeze(True)\n",
    "subs"
   ]
  },
  {
   "cell_type": "markdown",
   "id": "bd76be81",
   "metadata": {},
   "source": [
    "    When there are more than 1 column in the csv file, then we also need to tell pandas about which column to use as\n",
    "    index column. We can do this by passing in the name of that column in the index_col parameter or we may also pass\n",
    "    the column index of that column."
   ]
  },
  {
   "cell_type": "code",
   "execution_count": 33,
   "id": "7a5d6297",
   "metadata": {},
   "outputs": [
    {
     "data": {
      "text/html": [
       "<div>\n",
       "<style scoped>\n",
       "    .dataframe tbody tr th:only-of-type {\n",
       "        vertical-align: middle;\n",
       "    }\n",
       "\n",
       "    .dataframe tbody tr th {\n",
       "        vertical-align: top;\n",
       "    }\n",
       "\n",
       "    .dataframe thead th {\n",
       "        text-align: right;\n",
       "    }\n",
       "</style>\n",
       "<table border=\"1\" class=\"dataframe\">\n",
       "  <thead>\n",
       "    <tr style=\"text-align: right;\">\n",
       "      <th></th>\n",
       "      <th>runs</th>\n",
       "    </tr>\n",
       "    <tr>\n",
       "      <th>match_no</th>\n",
       "      <th></th>\n",
       "    </tr>\n",
       "  </thead>\n",
       "  <tbody>\n",
       "    <tr>\n",
       "      <th>1</th>\n",
       "      <td>1</td>\n",
       "    </tr>\n",
       "    <tr>\n",
       "      <th>2</th>\n",
       "      <td>23</td>\n",
       "    </tr>\n",
       "    <tr>\n",
       "      <th>3</th>\n",
       "      <td>13</td>\n",
       "    </tr>\n",
       "    <tr>\n",
       "      <th>4</th>\n",
       "      <td>12</td>\n",
       "    </tr>\n",
       "    <tr>\n",
       "      <th>5</th>\n",
       "      <td>1</td>\n",
       "    </tr>\n",
       "    <tr>\n",
       "      <th>...</th>\n",
       "      <td>...</td>\n",
       "    </tr>\n",
       "    <tr>\n",
       "      <th>211</th>\n",
       "      <td>0</td>\n",
       "    </tr>\n",
       "    <tr>\n",
       "      <th>212</th>\n",
       "      <td>20</td>\n",
       "    </tr>\n",
       "    <tr>\n",
       "      <th>213</th>\n",
       "      <td>73</td>\n",
       "    </tr>\n",
       "    <tr>\n",
       "      <th>214</th>\n",
       "      <td>25</td>\n",
       "    </tr>\n",
       "    <tr>\n",
       "      <th>215</th>\n",
       "      <td>7</td>\n",
       "    </tr>\n",
       "  </tbody>\n",
       "</table>\n",
       "<p>215 rows × 1 columns</p>\n",
       "</div>"
      ],
      "text/plain": [
       "          runs\n",
       "match_no      \n",
       "1            1\n",
       "2           23\n",
       "3           13\n",
       "4           12\n",
       "5            1\n",
       "...        ...\n",
       "211          0\n",
       "212         20\n",
       "213         73\n",
       "214         25\n",
       "215          7\n",
       "\n",
       "[215 rows x 1 columns]"
      ]
     },
     "execution_count": 33,
     "metadata": {},
     "output_type": "execute_result"
    }
   ],
   "source": [
    "pd.read_csv('./content/kohli_ipl.csv', index_col = 0)"
   ]
  },
  {
   "cell_type": "code",
   "execution_count": 42,
   "id": "05f7f538",
   "metadata": {},
   "outputs": [
    {
     "data": {
      "text/plain": [
       "match_no\n",
       "1       1\n",
       "2      23\n",
       "3      13\n",
       "4      12\n",
       "5       1\n",
       "       ..\n",
       "211     0\n",
       "212    20\n",
       "213    73\n",
       "214    25\n",
       "215     7\n",
       "Name: runs, Length: 215, dtype: int64"
      ]
     },
     "execution_count": 42,
     "metadata": {},
     "output_type": "execute_result"
    }
   ],
   "source": [
    "virat_kohli_scores = pd.read_csv('./content/kohli_ipl.csv', index_col = 0).squeeze(True)\n",
    "virat_kohli_scores"
   ]
  },
  {
   "cell_type": "code",
   "execution_count": 45,
   "id": "f5458f91",
   "metadata": {},
   "outputs": [
    {
     "data": {
      "text/plain": [
       "movie\n",
       "Uri: The Surgical Strike                   Vicky Kaushal\n",
       "Battalion 609                                Vicky Ahuja\n",
       "The Accidental Prime Minister (film)         Anupam Kher\n",
       "Why Cheat India                            Emraan Hashmi\n",
       "Evening Shadows                         Mona Ambegaonkar\n",
       "                                              ...       \n",
       "Hum Tumhare Hain Sanam                    Shah Rukh Khan\n",
       "Aankhen (2002 film)                     Amitabh Bachchan\n",
       "Saathiya (film)                             Vivek Oberoi\n",
       "Company (film)                                Ajay Devgn\n",
       "Awara Paagal Deewana                        Akshay Kumar\n",
       "Name: lead, Length: 1500, dtype: object"
      ]
     },
     "execution_count": 45,
     "metadata": {},
     "output_type": "execute_result"
    }
   ],
   "source": [
    "movies = pd.read_csv('./content/bollywood.csv', index_col = 'movie').squeeze(True)\n",
    "movies"
   ]
  },
  {
   "cell_type": "markdown",
   "id": "0f4735ea",
   "metadata": {},
   "source": [
    "    We can remove the movie which is on the top of this column."
   ]
  },
  {
   "cell_type": "code",
   "execution_count": 46,
   "id": "61f5f134",
   "metadata": {},
   "outputs": [],
   "source": [
    "movies.index.name = None"
   ]
  },
  {
   "cell_type": "code",
   "execution_count": 47,
   "id": "cda3fb87",
   "metadata": {},
   "outputs": [
    {
     "data": {
      "text/plain": [
       "Uri: The Surgical Strike                   Vicky Kaushal\n",
       "Battalion 609                                Vicky Ahuja\n",
       "The Accidental Prime Minister (film)         Anupam Kher\n",
       "Why Cheat India                            Emraan Hashmi\n",
       "Evening Shadows                         Mona Ambegaonkar\n",
       "                                              ...       \n",
       "Hum Tumhare Hain Sanam                    Shah Rukh Khan\n",
       "Aankhen (2002 film)                     Amitabh Bachchan\n",
       "Saathiya (film)                             Vivek Oberoi\n",
       "Company (film)                                Ajay Devgn\n",
       "Awara Paagal Deewana                        Akshay Kumar\n",
       "Name: lead, Length: 1500, dtype: object"
      ]
     },
     "execution_count": 47,
     "metadata": {},
     "output_type": "execute_result"
    }
   ],
   "source": [
    "movies"
   ]
  },
  {
   "cell_type": "markdown",
   "id": "72d86e05",
   "metadata": {},
   "source": [
    "## `series methods`\n",
    "\n",
    "    Since series are objects, we have certain methods associated with each series object."
   ]
  },
  {
   "cell_type": "markdown",
   "id": "0d6ab564",
   "metadata": {},
   "source": [
    "### `count()`\n",
    "- `count()` method gives us the number of non-missing values in a series. This is different from `size` attribute.\n",
    "- The `size` attribute gives the total number of values."
   ]
  },
  {
   "cell_type": "code",
   "execution_count": 48,
   "id": "c6312886",
   "metadata": {},
   "outputs": [
    {
     "data": {
      "text/plain": [
       "0    1.0\n",
       "1    2.0\n",
       "2    3.0\n",
       "3    4.0\n",
       "4    NaN\n",
       "5    6.0\n",
       "6    7.0\n",
       "7    NaN\n",
       "8    9.0\n",
       "9    NaN\n",
       "dtype: float64"
      ]
     },
     "execution_count": 48,
     "metadata": {},
     "output_type": "execute_result"
    }
   ],
   "source": [
    "exp = pd.Series([1, 2, 3, 4, np.nan, 6, 7, np.nan, 9, np.nan])\n",
    "exp"
   ]
  },
  {
   "cell_type": "code",
   "execution_count": 49,
   "id": "a83f54fd",
   "metadata": {},
   "outputs": [
    {
     "data": {
      "text/plain": [
       "(10, 7)"
      ]
     },
     "execution_count": 49,
     "metadata": {},
     "output_type": "execute_result"
    }
   ],
   "source": [
    "exp.size, exp.count()"
   ]
  },
  {
   "cell_type": "markdown",
   "id": "afa7f166",
   "metadata": {},
   "source": [
    "### `value_counts()`\n",
    "\n",
    "- The `value_counts()` method is used to give the frequency of each value in the form of a series.\n",
    "- The `value_counts()` method by default does not includes the count of `NaN`.\n",
    "- If we want to include the count of `NaN`, then we need to pass `dropna = False`."
   ]
  },
  {
   "cell_type": "code",
   "execution_count": 50,
   "id": "d60dc56d",
   "metadata": {},
   "outputs": [
    {
     "data": {
      "text/plain": [
       "Uri: The Surgical Strike                   Vicky Kaushal\n",
       "Battalion 609                                Vicky Ahuja\n",
       "The Accidental Prime Minister (film)         Anupam Kher\n",
       "Why Cheat India                            Emraan Hashmi\n",
       "Evening Shadows                         Mona Ambegaonkar\n",
       "                                              ...       \n",
       "Hum Tumhare Hain Sanam                    Shah Rukh Khan\n",
       "Aankhen (2002 film)                     Amitabh Bachchan\n",
       "Saathiya (film)                             Vivek Oberoi\n",
       "Company (film)                                Ajay Devgn\n",
       "Awara Paagal Deewana                        Akshay Kumar\n",
       "Name: lead, Length: 1500, dtype: object"
      ]
     },
     "execution_count": 50,
     "metadata": {},
     "output_type": "execute_result"
    }
   ],
   "source": [
    "movies"
   ]
  },
  {
   "cell_type": "code",
   "execution_count": 51,
   "id": "1f5437b0",
   "metadata": {},
   "outputs": [
    {
     "data": {
      "text/plain": [
       "lead\n",
       "Akshay Kumar        48\n",
       "Amitabh Bachchan    45\n",
       "Ajay Devgn          38\n",
       "Salman Khan         31\n",
       "Sanjay Dutt         26\n",
       "                    ..\n",
       "Diganth              1\n",
       "Parveen Kaur         1\n",
       "Seema Azmi           1\n",
       "Akanksha Puri        1\n",
       "Edwin Fernandes      1\n",
       "Name: count, Length: 566, dtype: int64"
      ]
     },
     "execution_count": 51,
     "metadata": {},
     "output_type": "execute_result"
    }
   ],
   "source": [
    "movies.value_counts()"
   ]
  },
  {
   "cell_type": "code",
   "execution_count": 54,
   "id": "778ed684",
   "metadata": {},
   "outputs": [
    {
     "data": {
      "text/plain": [
       "0    Abhishek\n",
       "1    Abhishek\n",
       "2     Amrusha\n",
       "3     Amrusha\n",
       "4    Priyanka\n",
       "5    Daniyaal\n",
       "6         NaN\n",
       "7         NaN\n",
       "8      Sameer\n",
       "dtype: object"
      ]
     },
     "execution_count": 54,
     "metadata": {},
     "output_type": "execute_result"
    }
   ],
   "source": [
    "names = pd.Series(['Abhishek', 'Abhishek', 'Amrusha', 'Amrusha', 'Priyanka', 'Daniyaal', np.nan, np.nan,'Sameer'])\n",
    "names"
   ]
  },
  {
   "cell_type": "code",
   "execution_count": 55,
   "id": "8eda7681",
   "metadata": {},
   "outputs": [
    {
     "data": {
      "text/plain": [
       "Abhishek    2\n",
       "Amrusha     2\n",
       "Priyanka    1\n",
       "Daniyaal    1\n",
       "Sameer      1\n",
       "Name: count, dtype: int64"
      ]
     },
     "execution_count": 55,
     "metadata": {},
     "output_type": "execute_result"
    }
   ],
   "source": [
    "names.value_counts()"
   ]
  },
  {
   "cell_type": "markdown",
   "id": "56ac71d1",
   "metadata": {},
   "source": [
    "    As we can see that it does not include the count of missing values by default. However, we can include the count\n",
    "    of missing values by setting dropna = False."
   ]
  },
  {
   "cell_type": "code",
   "execution_count": 56,
   "id": "d64f5bea",
   "metadata": {},
   "outputs": [
    {
     "data": {
      "text/plain": [
       "Abhishek    2\n",
       "Amrusha     2\n",
       "NaN         2\n",
       "Priyanka    1\n",
       "Daniyaal    1\n",
       "Sameer      1\n",
       "Name: count, dtype: int64"
      ]
     },
     "execution_count": 56,
     "metadata": {},
     "output_type": "execute_result"
    }
   ],
   "source": [
    "names.value_counts(dropna = False)"
   ]
  },
  {
   "cell_type": "markdown",
   "id": "bb29de42",
   "metadata": {},
   "source": [
    "### `head(), tail() and sample()`\n",
    "\n",
    "- These methods are used to look at the dataframe entries. They do not return us a copy of the items.\n",
    "- These methods return us a view and NOT a copy."
   ]
  },
  {
   "cell_type": "code",
   "execution_count": 57,
   "id": "e0108d8d",
   "metadata": {},
   "outputs": [
    {
     "data": {
      "text/plain": [
       "Uri: The Surgical Strike                   Vicky Kaushal\n",
       "Battalion 609                                Vicky Ahuja\n",
       "The Accidental Prime Minister (film)         Anupam Kher\n",
       "Why Cheat India                            Emraan Hashmi\n",
       "Evening Shadows                         Mona Ambegaonkar\n",
       "                                              ...       \n",
       "Hum Tumhare Hain Sanam                    Shah Rukh Khan\n",
       "Aankhen (2002 film)                     Amitabh Bachchan\n",
       "Saathiya (film)                             Vivek Oberoi\n",
       "Company (film)                                Ajay Devgn\n",
       "Awara Paagal Deewana                        Akshay Kumar\n",
       "Name: lead, Length: 1500, dtype: object"
      ]
     },
     "execution_count": 57,
     "metadata": {},
     "output_type": "execute_result"
    }
   ],
   "source": [
    "movies"
   ]
  },
  {
   "cell_type": "code",
   "execution_count": 58,
   "id": "e2690e02",
   "metadata": {},
   "outputs": [
    {
     "data": {
      "text/plain": [
       "Uri: The Surgical Strike                   Vicky Kaushal\n",
       "Battalion 609                                Vicky Ahuja\n",
       "The Accidental Prime Minister (film)         Anupam Kher\n",
       "Why Cheat India                            Emraan Hashmi\n",
       "Evening Shadows                         Mona Ambegaonkar\n",
       "Name: lead, dtype: object"
      ]
     },
     "execution_count": 58,
     "metadata": {},
     "output_type": "execute_result"
    }
   ],
   "source": [
    "movies.head() # by default it gives us the 5 movies from the start"
   ]
  },
  {
   "cell_type": "code",
   "execution_count": 59,
   "id": "afbe36f0",
   "metadata": {},
   "outputs": [
    {
     "data": {
      "text/plain": [
       "Hum Tumhare Hain Sanam      Shah Rukh Khan\n",
       "Aankhen (2002 film)       Amitabh Bachchan\n",
       "Saathiya (film)               Vivek Oberoi\n",
       "Company (film)                  Ajay Devgn\n",
       "Awara Paagal Deewana          Akshay Kumar\n",
       "Name: lead, dtype: object"
      ]
     },
     "execution_count": 59,
     "metadata": {},
     "output_type": "execute_result"
    }
   ],
   "source": [
    "movies.tail() # by default it gives us the 5 movies from the last"
   ]
  },
  {
   "cell_type": "code",
   "execution_count": 60,
   "id": "c448d702",
   "metadata": {},
   "outputs": [
    {
     "data": {
      "text/plain": [
       "Riyasat (film)    Rajesh Khanna\n",
       "Name: lead, dtype: object"
      ]
     },
     "execution_count": 60,
     "metadata": {},
     "output_type": "execute_result"
    }
   ],
   "source": [
    "movies.sample() # randomly returns us a movie from the movies dataframe"
   ]
  },
  {
   "cell_type": "code",
   "execution_count": 62,
   "id": "9d2037ea",
   "metadata": {},
   "outputs": [
    {
     "data": {
      "text/plain": [
       "Irada (2017 film)              Naseeruddin Shah\n",
       "Jhootha Hi Sahi                    John Abraham\n",
       "Shahid (film)                     Rajkummar Rao\n",
       "Beiimaan Love                       Sunny Leone\n",
       "Children of War (2014 film)       Farooq Shaikh\n",
       "Name: lead, dtype: object"
      ]
     },
     "execution_count": 62,
     "metadata": {},
     "output_type": "execute_result"
    }
   ],
   "source": [
    "movies.sample(5) # returns 5 random movies from the movies dataframe"
   ]
  },
  {
   "cell_type": "markdown",
   "id": "24feb325",
   "metadata": {},
   "source": [
    "### `sort_values() and sort_index()`\n",
    "\n",
    "    The sort_values() and sort_index() method is used to sort the series based on values and index.\n",
    "    These methods return us a new series."
   ]
  },
  {
   "cell_type": "code",
   "execution_count": 63,
   "id": "6e96230c",
   "metadata": {},
   "outputs": [
    {
     "data": {
      "text/plain": [
       "Uri: The Surgical Strike                   Vicky Kaushal\n",
       "Battalion 609                                Vicky Ahuja\n",
       "The Accidental Prime Minister (film)         Anupam Kher\n",
       "Why Cheat India                            Emraan Hashmi\n",
       "Evening Shadows                         Mona Ambegaonkar\n",
       "                                              ...       \n",
       "Hum Tumhare Hain Sanam                    Shah Rukh Khan\n",
       "Aankhen (2002 film)                     Amitabh Bachchan\n",
       "Saathiya (film)                             Vivek Oberoi\n",
       "Company (film)                                Ajay Devgn\n",
       "Awara Paagal Deewana                        Akshay Kumar\n",
       "Name: lead, Length: 1500, dtype: object"
      ]
     },
     "execution_count": 63,
     "metadata": {},
     "output_type": "execute_result"
    }
   ],
   "source": [
    "movies"
   ]
  },
  {
   "cell_type": "code",
   "execution_count": 65,
   "id": "8f6748e7",
   "metadata": {},
   "outputs": [
    {
     "data": {
      "text/plain": [
       "Qaidi Band                            Aadar Jain\n",
       "Roar: Tigers of the Sundarbans      Aadil Chahal\n",
       "Lipstick Under My Burkha            Aahana Kumra\n",
       "Raat Gayi Baat Gayi?                Aamir Bashir\n",
       "Talaash: The Answer Lies Within       Aamir Khan\n",
       "                                        ...     \n",
       "Dil Toh Deewana Hai                  Zeenat Aman\n",
       "Sallu Ki Shaadi                      Zeenat Aman\n",
       "Strings of Passion                   Zeenat Aman\n",
       "Dunno Y... Na Jaane Kyon             Zeenat Aman\n",
       "Taj Mahal: An Eternal Love Story     Zulfi Sayed\n",
       "Name: lead, Length: 1500, dtype: object"
      ]
     },
     "execution_count": 65,
     "metadata": {},
     "output_type": "execute_result"
    }
   ],
   "source": [
    "sorted_movies_by_actors = movies.sort_values()\n",
    "sorted_movies_by_actors"
   ]
  },
  {
   "cell_type": "markdown",
   "id": "79744ba8",
   "metadata": {},
   "source": [
    "- The `sorted_movies_by_actors` and `movies` are two different series objects. We can check this by `id()` method."
   ]
  },
  {
   "cell_type": "code",
   "execution_count": 66,
   "id": "17ac3f4e",
   "metadata": {},
   "outputs": [
    {
     "data": {
      "text/plain": [
       "False"
      ]
     },
     "execution_count": 66,
     "metadata": {},
     "output_type": "execute_result"
    }
   ],
   "source": [
    "id(sorted_movies_by_actors) == id(movies)"
   ]
  },
  {
   "cell_type": "markdown",
   "id": "94413e9b",
   "metadata": {},
   "source": [
    "- Similarily, we can sort by the index of a series."
   ]
  },
  {
   "cell_type": "code",
   "execution_count": 67,
   "id": "10220a42",
   "metadata": {},
   "outputs": [
    {
     "data": {
      "text/plain": [
       "1920 (film)                   Rajniesh Duggall\n",
       "1920: London                     Sharman Joshi\n",
       "1920: The Evil Returns             Vicky Ahuja\n",
       "1971 (2007 film)                Manoj Bajpayee\n",
       "2 States (2014 film)              Arjun Kapoor\n",
       "                                   ...        \n",
       "Zindagi 50-50                      Veena Malik\n",
       "Zindagi Na Milegi Dobara        Hrithik Roshan\n",
       "Zindagi Tere Naam           Mithun Chakraborty\n",
       "Zokkomon                       Darsheel Safary\n",
       "Zor Lagaa Ke...Haiya!            Meghan Jadhav\n",
       "Name: lead, Length: 1500, dtype: object"
      ]
     },
     "execution_count": 67,
     "metadata": {},
     "output_type": "execute_result"
    }
   ],
   "source": [
    "sorted_movies_by_index = movies.sort_index()\n",
    "sorted_movies_by_index"
   ]
  },
  {
   "cell_type": "markdown",
   "id": "fd03d4eb",
   "metadata": {},
   "source": [
    "- The `sorted_movies_by_index` and `movies` are 2 different objects."
   ]
  },
  {
   "cell_type": "code",
   "execution_count": 68,
   "id": "159a9faf",
   "metadata": {},
   "outputs": [
    {
     "data": {
      "text/plain": [
       "False"
      ]
     },
     "execution_count": 68,
     "metadata": {},
     "output_type": "execute_result"
    }
   ],
   "source": [
    "id(sorted_movies_by_index) == id(movies)"
   ]
  },
  {
   "cell_type": "markdown",
   "id": "04a6fe21",
   "metadata": {},
   "source": [
    "#### `inplace = True`\n",
    "\n",
    "    If we want that the sorting happens in the original series object, then we can use inplace = True."
   ]
  },
  {
   "cell_type": "markdown",
   "id": "86c33f5b",
   "metadata": {},
   "source": [
    "## `series mathematical methods`"
   ]
  },
  {
   "cell_type": "code",
   "execution_count": 71,
   "id": "a43895bf",
   "metadata": {},
   "outputs": [
    {
     "data": {
      "text/plain": [
       "match_no\n",
       "1       1\n",
       "2      23\n",
       "3      13\n",
       "4      12\n",
       "5       1\n",
       "       ..\n",
       "211     0\n",
       "212    20\n",
       "213    73\n",
       "214    25\n",
       "215     7\n",
       "Name: runs, Length: 215, dtype: int64"
      ]
     },
     "execution_count": 71,
     "metadata": {},
     "output_type": "execute_result"
    }
   ],
   "source": [
    "virat_kohli_scores"
   ]
  },
  {
   "cell_type": "code",
   "execution_count": 72,
   "id": "6393d726",
   "metadata": {},
   "outputs": [],
   "source": [
    "virat_kohli_scores.index.name = None"
   ]
  },
  {
   "cell_type": "code",
   "execution_count": 73,
   "id": "47fdf09b",
   "metadata": {},
   "outputs": [
    {
     "data": {
      "text/plain": [
       "1       1\n",
       "2      23\n",
       "3      13\n",
       "4      12\n",
       "5       1\n",
       "       ..\n",
       "211     0\n",
       "212    20\n",
       "213    73\n",
       "214    25\n",
       "215     7\n",
       "Name: runs, Length: 215, dtype: int64"
      ]
     },
     "execution_count": 73,
     "metadata": {},
     "output_type": "execute_result"
    }
   ],
   "source": [
    "virat_kohli_scores"
   ]
  },
  {
   "cell_type": "code",
   "execution_count": 74,
   "id": "6663a3d6",
   "metadata": {},
   "outputs": [
    {
     "data": {
      "text/plain": [
       "6634"
      ]
     },
     "execution_count": 74,
     "metadata": {},
     "output_type": "execute_result"
    }
   ],
   "source": [
    "virat_kohli_scores.sum()"
   ]
  },
  {
   "cell_type": "code",
   "execution_count": 75,
   "id": "18d982db",
   "metadata": {},
   "outputs": [
    {
     "data": {
      "text/plain": [
       "30.855813953488372"
      ]
     },
     "execution_count": 75,
     "metadata": {},
     "output_type": "execute_result"
    }
   ],
   "source": [
    "virat_kohli_scores.mean()"
   ]
  },
  {
   "cell_type": "code",
   "execution_count": 76,
   "id": "bf92f8ee",
   "metadata": {},
   "outputs": [
    {
     "data": {
      "text/plain": [
       "0"
      ]
     },
     "execution_count": 76,
     "metadata": {},
     "output_type": "execute_result"
    }
   ],
   "source": [
    "virat_kohli_scores.min()"
   ]
  },
  {
   "cell_type": "code",
   "execution_count": 77,
   "id": "b067e4cd",
   "metadata": {},
   "outputs": [
    {
     "data": {
      "text/plain": [
       "113"
      ]
     },
     "execution_count": 77,
     "metadata": {},
     "output_type": "execute_result"
    }
   ],
   "source": [
    "virat_kohli_scores.max()"
   ]
  },
  {
   "cell_type": "code",
   "execution_count": 78,
   "id": "e85ca677",
   "metadata": {},
   "outputs": [
    {
     "data": {
      "text/plain": [
       "0"
      ]
     },
     "execution_count": 78,
     "metadata": {},
     "output_type": "execute_result"
    }
   ],
   "source": [
    "virat_kohli_scores.prod()"
   ]
  },
  {
   "cell_type": "code",
   "execution_count": 79,
   "id": "d167caa3",
   "metadata": {},
   "outputs": [
    {
     "data": {
      "text/plain": [
       "24.0"
      ]
     },
     "execution_count": 79,
     "metadata": {},
     "output_type": "execute_result"
    }
   ],
   "source": [
    "virat_kohli_scores.median()"
   ]
  },
  {
   "cell_type": "code",
   "execution_count": 80,
   "id": "3d98ca2a",
   "metadata": {},
   "outputs": [
    {
     "data": {
      "text/plain": [
       "0    0\n",
       "Name: runs, dtype: int64"
      ]
     },
     "execution_count": 80,
     "metadata": {},
     "output_type": "execute_result"
    }
   ],
   "source": [
    "virat_kohli_scores.mode()"
   ]
  },
  {
   "cell_type": "code",
   "execution_count": 81,
   "id": "0bfef74a",
   "metadata": {},
   "outputs": [
    {
     "data": {
      "text/plain": [
       "count    215.000000\n",
       "mean      30.855814\n",
       "std       26.229801\n",
       "min        0.000000\n",
       "25%        9.000000\n",
       "50%       24.000000\n",
       "75%       48.000000\n",
       "max      113.000000\n",
       "Name: runs, dtype: float64"
      ]
     },
     "execution_count": 81,
     "metadata": {},
     "output_type": "execute_result"
    }
   ],
   "source": [
    "virat_kohli_scores.describe()"
   ]
  },
  {
   "cell_type": "markdown",
   "id": "b8c7ce0b",
   "metadata": {},
   "source": [
    "## `retrieving an item from the series`\n",
    "\n",
    "    We can either use the custom index or the pandas default numeric index in order to retrieve an item from the\n",
    "    series."
   ]
  },
  {
   "cell_type": "code",
   "execution_count": 82,
   "id": "55f16179",
   "metadata": {},
   "outputs": [
    {
     "data": {
      "text/plain": [
       "Uri: The Surgical Strike                   Vicky Kaushal\n",
       "Battalion 609                                Vicky Ahuja\n",
       "The Accidental Prime Minister (film)         Anupam Kher\n",
       "Why Cheat India                            Emraan Hashmi\n",
       "Evening Shadows                         Mona Ambegaonkar\n",
       "                                              ...       \n",
       "Hum Tumhare Hain Sanam                    Shah Rukh Khan\n",
       "Aankhen (2002 film)                     Amitabh Bachchan\n",
       "Saathiya (film)                             Vivek Oberoi\n",
       "Company (film)                                Ajay Devgn\n",
       "Awara Paagal Deewana                        Akshay Kumar\n",
       "Name: lead, Length: 1500, dtype: object"
      ]
     },
     "execution_count": 82,
     "metadata": {},
     "output_type": "execute_result"
    }
   ],
   "source": [
    "movies"
   ]
  },
  {
   "cell_type": "code",
   "execution_count": 83,
   "id": "537c21dc",
   "metadata": {},
   "outputs": [
    {
     "name": "stderr",
     "output_type": "stream",
     "text": [
      "C:\\Users\\HU496FA\\AppData\\Local\\Temp\\ipykernel_13720\\1023273493.py:1: FutureWarning: Series.__getitem__ treating keys as positions is deprecated. In a future version, integer keys will always be treated as labels (consistent with DataFrame behavior). To access a value by position, use `ser.iloc[pos]`\n",
      "  movies[1]\n"
     ]
    },
    {
     "data": {
      "text/plain": [
       "'Vicky Ahuja'"
      ]
     },
     "execution_count": 83,
     "metadata": {},
     "output_type": "execute_result"
    }
   ],
   "source": [
    "movies[1]"
   ]
  },
  {
   "cell_type": "code",
   "execution_count": 84,
   "id": "7bcd7ec9",
   "metadata": {},
   "outputs": [
    {
     "data": {
      "text/plain": [
       "'Vicky Ahuja'"
      ]
     },
     "execution_count": 84,
     "metadata": {},
     "output_type": "execute_result"
    }
   ],
   "source": [
    "movies['Battalion 609']"
   ]
  },
  {
   "cell_type": "markdown",
   "id": "987d8e36",
   "metadata": {},
   "source": [
    "- We can also do slicing in pandas series."
   ]
  },
  {
   "cell_type": "code",
   "execution_count": 85,
   "id": "0d285674",
   "metadata": {},
   "outputs": [
    {
     "data": {
      "text/plain": [
       "Battalion 609                                Vicky Ahuja\n",
       "The Accidental Prime Minister (film)         Anupam Kher\n",
       "Why Cheat India                            Emraan Hashmi\n",
       "Evening Shadows                         Mona Ambegaonkar\n",
       "Name: lead, dtype: object"
      ]
     },
     "execution_count": 85,
     "metadata": {},
     "output_type": "execute_result"
    }
   ],
   "source": [
    "movies[1:5] # pick the items from index 1 to 5(excluded)"
   ]
  },
  {
   "cell_type": "markdown",
   "id": "381f0a3b",
   "metadata": {},
   "source": [
    "- However, when we use custom indexing then the last index is also included."
   ]
  },
  {
   "cell_type": "code",
   "execution_count": 86,
   "id": "fc48d41a",
   "metadata": {},
   "outputs": [
    {
     "data": {
      "text/plain": [
       "Battalion 609                                    Vicky Ahuja\n",
       "The Accidental Prime Minister (film)             Anupam Kher\n",
       "Why Cheat India                                Emraan Hashmi\n",
       "Evening Shadows                             Mona Ambegaonkar\n",
       "Soni (film)                             Geetika Vidya Ohlyan\n",
       "                                                ...         \n",
       "Hum Tumhare Hain Sanam                        Shah Rukh Khan\n",
       "Aankhen (2002 film)                         Amitabh Bachchan\n",
       "Saathiya (film)                                 Vivek Oberoi\n",
       "Company (film)                                    Ajay Devgn\n",
       "Awara Paagal Deewana                            Akshay Kumar\n",
       "Name: lead, Length: 1499, dtype: object"
      ]
     },
     "execution_count": 86,
     "metadata": {},
     "output_type": "execute_result"
    }
   ],
   "source": [
    "movies['Battalion 609' : 'Awara Paagal Deewana']"
   ]
  },
  {
   "cell_type": "markdown",
   "id": "0da17aeb",
   "metadata": {},
   "source": [
    "## `editing series`\n",
    "\n",
    "    We can edit a value in the series just by reassigning it."
   ]
  },
  {
   "cell_type": "code",
   "execution_count": 87,
   "id": "364cbc47",
   "metadata": {},
   "outputs": [
    {
     "data": {
      "text/plain": [
       "Maths       67\n",
       "Science     57\n",
       "English     89\n",
       "Hindi      100\n",
       "dtype: int64"
      ]
     },
     "execution_count": 87,
     "metadata": {},
     "output_type": "execute_result"
    }
   ],
   "source": [
    "marks_ser"
   ]
  },
  {
   "cell_type": "code",
   "execution_count": 88,
   "id": "e0fbba3e",
   "metadata": {},
   "outputs": [],
   "source": [
    "marks_ser.loc['Maths']  = 95 # Kyunki Abhishek Maths topper tha"
   ]
  },
  {
   "cell_type": "code",
   "execution_count": 89,
   "id": "656a0531",
   "metadata": {},
   "outputs": [
    {
     "data": {
      "text/plain": [
       "Maths       95\n",
       "Science     57\n",
       "English     89\n",
       "Hindi      100\n",
       "dtype: int64"
      ]
     },
     "execution_count": 89,
     "metadata": {},
     "output_type": "execute_result"
    }
   ],
   "source": [
    "marks_ser"
   ]
  },
  {
   "cell_type": "markdown",
   "id": "ff2af748",
   "metadata": {},
   "source": [
    "- We can also add new item in the series using the same syntax as above."
   ]
  },
  {
   "cell_type": "code",
   "execution_count": 90,
   "id": "aa2e9cc9",
   "metadata": {},
   "outputs": [],
   "source": [
    "marks_ser['Physics'] = 67"
   ]
  },
  {
   "cell_type": "code",
   "execution_count": 91,
   "id": "5af91922",
   "metadata": {},
   "outputs": [
    {
     "data": {
      "text/plain": [
       "Maths       95\n",
       "Science     57\n",
       "English     89\n",
       "Hindi      100\n",
       "Physics     67\n",
       "dtype: int64"
      ]
     },
     "execution_count": 91,
     "metadata": {},
     "output_type": "execute_result"
    }
   ],
   "source": [
    "marks_ser"
   ]
  },
  {
   "cell_type": "markdown",
   "id": "5ecdb4d8",
   "metadata": {},
   "source": [
    "- We can also change multiple values at the same time using fancy indexing."
   ]
  },
  {
   "cell_type": "code",
   "execution_count": 92,
   "id": "93198a54",
   "metadata": {},
   "outputs": [],
   "source": [
    "marks_ser.loc[['Maths', 'Science', 'English']] = [99, 98, 96]"
   ]
  },
  {
   "cell_type": "code",
   "execution_count": 93,
   "id": "553b5f8f",
   "metadata": {},
   "outputs": [
    {
     "data": {
      "text/plain": [
       "Maths       99\n",
       "Science     98\n",
       "English     96\n",
       "Hindi      100\n",
       "Physics     67\n",
       "dtype: int64"
      ]
     },
     "execution_count": 93,
     "metadata": {},
     "output_type": "execute_result"
    }
   ],
   "source": [
    "marks_ser"
   ]
  },
  {
   "cell_type": "markdown",
   "id": "4b0d1130",
   "metadata": {},
   "source": [
    "- We can also change values by using slicing."
   ]
  },
  {
   "cell_type": "code",
   "execution_count": 94,
   "id": "d745d79d",
   "metadata": {},
   "outputs": [
    {
     "data": {
      "text/plain": [
       "Maths       99\n",
       "Science     98\n",
       "English     96\n",
       "Hindi      100\n",
       "Physics     67\n",
       "dtype: int64"
      ]
     },
     "execution_count": 94,
     "metadata": {},
     "output_type": "execute_result"
    }
   ],
   "source": [
    "marks_ser"
   ]
  },
  {
   "cell_type": "code",
   "execution_count": 95,
   "id": "dffafb64",
   "metadata": {},
   "outputs": [],
   "source": [
    "marks_ser[1:4] = 32 # failed in Science, English, Hindi 🥺"
   ]
  },
  {
   "cell_type": "code",
   "execution_count": 96,
   "id": "b2e24b42",
   "metadata": {},
   "outputs": [
    {
     "data": {
      "text/plain": [
       "Maths      99\n",
       "Science    32\n",
       "English    32\n",
       "Hindi      32\n",
       "Physics    67\n",
       "dtype: int64"
      ]
     },
     "execution_count": 96,
     "metadata": {},
     "output_type": "execute_result"
    }
   ],
   "source": [
    "marks_ser"
   ]
  },
  {
   "cell_type": "markdown",
   "id": "7b5e332d",
   "metadata": {},
   "source": [
    "- While using slicing, we may also use custom indexing to change the values.\n",
    "- However, in slicing using custom indexing last index would also be included."
   ]
  },
  {
   "cell_type": "code",
   "execution_count": 97,
   "id": "ffa95740",
   "metadata": {},
   "outputs": [],
   "source": [
    "marks_ser['Science' : 'Hindi'] = 99"
   ]
  },
  {
   "cell_type": "code",
   "execution_count": 99,
   "id": "481fddfa",
   "metadata": {},
   "outputs": [
    {
     "data": {
      "text/plain": [
       "Maths      99\n",
       "Science    99\n",
       "English    99\n",
       "Hindi      99\n",
       "Physics    67\n",
       "dtype: int64"
      ]
     },
     "execution_count": 99,
     "metadata": {},
     "output_type": "execute_result"
    }
   ],
   "source": [
    "marks_ser"
   ]
  },
  {
   "cell_type": "markdown",
   "id": "5c475a92",
   "metadata": {},
   "source": [
    "## `series with python functions`"
   ]
  },
  {
   "cell_type": "code",
   "execution_count": 100,
   "id": "81a44cd1",
   "metadata": {},
   "outputs": [
    {
     "data": {
      "text/plain": [
       "Maths      99\n",
       "Science    99\n",
       "English    99\n",
       "Hindi      99\n",
       "Physics    67\n",
       "dtype: int64"
      ]
     },
     "execution_count": 100,
     "metadata": {},
     "output_type": "execute_result"
    }
   ],
   "source": [
    "marks_ser"
   ]
  },
  {
   "cell_type": "code",
   "execution_count": 101,
   "id": "38e1b933",
   "metadata": {},
   "outputs": [
    {
     "data": {
      "text/plain": [
       "5"
      ]
     },
     "execution_count": 101,
     "metadata": {},
     "output_type": "execute_result"
    }
   ],
   "source": [
    "len(marks_ser)"
   ]
  },
  {
   "cell_type": "code",
   "execution_count": 102,
   "id": "b37ad2c6",
   "metadata": {},
   "outputs": [
    {
     "data": {
      "text/plain": [
       "[99, 99, 99, 99, 67]"
      ]
     },
     "execution_count": 102,
     "metadata": {},
     "output_type": "execute_result"
    }
   ],
   "source": [
    "list(marks_ser)"
   ]
  },
  {
   "cell_type": "code",
   "execution_count": 103,
   "id": "4f9b0aff",
   "metadata": {},
   "outputs": [
    {
     "data": {
      "text/plain": [
       "{'Maths': 99, 'Science': 99, 'English': 99, 'Hindi': 99, 'Physics': 67}"
      ]
     },
     "execution_count": 103,
     "metadata": {},
     "output_type": "execute_result"
    }
   ],
   "source": [
    "dict(marks_ser)"
   ]
  },
  {
   "cell_type": "code",
   "execution_count": 104,
   "id": "ab184749",
   "metadata": {},
   "outputs": [
    {
     "data": {
      "text/plain": [
       "(99, 99, 99, 99, 67)"
      ]
     },
     "execution_count": 104,
     "metadata": {},
     "output_type": "execute_result"
    }
   ],
   "source": [
    "tuple(marks_ser)"
   ]
  },
  {
   "cell_type": "code",
   "execution_count": 105,
   "id": "b02d9764",
   "metadata": {},
   "outputs": [
    {
     "data": {
      "text/plain": [
       "{67, 99}"
      ]
     },
     "execution_count": 105,
     "metadata": {},
     "output_type": "execute_result"
    }
   ],
   "source": [
    "set(marks_ser)"
   ]
  },
  {
   "cell_type": "code",
   "execution_count": 106,
   "id": "803cae10",
   "metadata": {},
   "outputs": [
    {
     "data": {
      "text/plain": [
       "[67, 99, 99, 99, 99]"
      ]
     },
     "execution_count": 106,
     "metadata": {},
     "output_type": "execute_result"
    }
   ],
   "source": [
    "sorted(marks_ser)"
   ]
  },
  {
   "cell_type": "code",
   "execution_count": 107,
   "id": "ce4a7161",
   "metadata": {},
   "outputs": [
    {
     "data": {
      "text/plain": [
       "67"
      ]
     },
     "execution_count": 107,
     "metadata": {},
     "output_type": "execute_result"
    }
   ],
   "source": [
    "min(marks_ser)"
   ]
  },
  {
   "cell_type": "code",
   "execution_count": 108,
   "id": "eed26c48",
   "metadata": {},
   "outputs": [
    {
     "data": {
      "text/plain": [
       "99"
      ]
     },
     "execution_count": 108,
     "metadata": {},
     "output_type": "execute_result"
    }
   ],
   "source": [
    "max(marks_ser)"
   ]
  },
  {
   "cell_type": "markdown",
   "id": "62287c3a",
   "metadata": {},
   "source": [
    "### `membership operator and looping in series`"
   ]
  },
  {
   "cell_type": "code",
   "execution_count": 111,
   "id": "05cc2001",
   "metadata": {},
   "outputs": [
    {
     "data": {
      "text/plain": [
       "Maths      99\n",
       "Science    99\n",
       "English    99\n",
       "Hindi      99\n",
       "Physics    67\n",
       "dtype: int64"
      ]
     },
     "execution_count": 111,
     "metadata": {},
     "output_type": "execute_result"
    }
   ],
   "source": [
    "marks_ser"
   ]
  },
  {
   "cell_type": "code",
   "execution_count": 113,
   "id": "31bd2dcf",
   "metadata": {},
   "outputs": [
    {
     "name": "stdout",
     "output_type": "stream",
     "text": [
      "99\n",
      "99\n",
      "99\n",
      "99\n",
      "67\n"
     ]
    }
   ],
   "source": [
    "for value in marks_ser: # By default the membership operator looks for values in the series and not index\n",
    "    print(value)"
   ]
  },
  {
   "cell_type": "markdown",
   "id": "87260ae4",
   "metadata": {},
   "source": [
    "    If we want to specifically look for values, then we can use index attribute while looping."
   ]
  },
  {
   "cell_type": "code",
   "execution_count": 114,
   "id": "2dbcdcc5",
   "metadata": {},
   "outputs": [
    {
     "name": "stdout",
     "output_type": "stream",
     "text": [
      "Maths\n",
      "Science\n",
      "English\n",
      "Hindi\n",
      "Physics\n"
     ]
    }
   ],
   "source": [
    "for subject in marks_ser.index:\n",
    "    print(subject)"
   ]
  },
  {
   "cell_type": "markdown",
   "id": "e77b01dc",
   "metadata": {},
   "source": [
    "    The membership operator in by default looks for keys and not for values."
   ]
  },
  {
   "cell_type": "code",
   "execution_count": 115,
   "id": "76b29a1e",
   "metadata": {},
   "outputs": [
    {
     "data": {
      "text/plain": [
       "False"
      ]
     },
     "execution_count": 115,
     "metadata": {},
     "output_type": "execute_result"
    }
   ],
   "source": [
    "99 in marks_ser # as in operator searches in keys and not values"
   ]
  },
  {
   "cell_type": "code",
   "execution_count": 116,
   "id": "595682c8",
   "metadata": {},
   "outputs": [
    {
     "data": {
      "text/plain": [
       "True"
      ]
     },
     "execution_count": 116,
     "metadata": {},
     "output_type": "execute_result"
    }
   ],
   "source": [
    "'Maths' in marks_ser"
   ]
  },
  {
   "cell_type": "markdown",
   "id": "36446f63",
   "metadata": {},
   "source": [
    "- If we want to search inside the values, then we need to use the values attribute."
   ]
  },
  {
   "cell_type": "code",
   "execution_count": 118,
   "id": "462c6d7f",
   "metadata": {},
   "outputs": [
    {
     "data": {
      "text/plain": [
       "Maths      99\n",
       "Science    99\n",
       "English    99\n",
       "Hindi      99\n",
       "Physics    67\n",
       "dtype: int64"
      ]
     },
     "execution_count": 118,
     "metadata": {},
     "output_type": "execute_result"
    }
   ],
   "source": [
    "marks_ser"
   ]
  },
  {
   "cell_type": "code",
   "execution_count": 119,
   "id": "0c74848f",
   "metadata": {},
   "outputs": [
    {
     "data": {
      "text/plain": [
       "True"
      ]
     },
     "execution_count": 119,
     "metadata": {},
     "output_type": "execute_result"
    }
   ],
   "source": [
    "99 in marks_ser.values"
   ]
  },
  {
   "cell_type": "markdown",
   "id": "e259cd0a",
   "metadata": {},
   "source": [
    "    We can iterate over keys and values at the same time using items() method. This returns a zip object\n",
    "    which we can then iterate over (as zip is an iterator)."
   ]
  },
  {
   "cell_type": "code",
   "execution_count": 123,
   "id": "f063d27f",
   "metadata": {},
   "outputs": [
    {
     "name": "stdout",
     "output_type": "stream",
     "text": [
      "Marks(Maths) = 99\n",
      "Marks(Science) = 99\n",
      "Marks(English) = 99\n",
      "Marks(Hindi) = 99\n",
      "Marks(Physics) = 67\n"
     ]
    }
   ],
   "source": [
    "for subject, marks in marks_ser.items():\n",
    "        print(f\"Marks({subject}) = {marks}\")"
   ]
  },
  {
   "cell_type": "markdown",
   "id": "dc19047c",
   "metadata": {},
   "source": [
    "## `mathematical and relational operators and boolean masking`"
   ]
  },
  {
   "cell_type": "code",
   "execution_count": 124,
   "id": "1617a8c1",
   "metadata": {},
   "outputs": [
    {
     "data": {
      "text/plain": [
       "1       1\n",
       "2      23\n",
       "3      13\n",
       "4      12\n",
       "5       1\n",
       "       ..\n",
       "211     0\n",
       "212    20\n",
       "213    73\n",
       "214    25\n",
       "215     7\n",
       "Name: runs, Length: 215, dtype: int64"
      ]
     },
     "execution_count": 124,
     "metadata": {},
     "output_type": "execute_result"
    }
   ],
   "source": [
    "virat_kohli_scores"
   ]
  },
  {
   "cell_type": "markdown",
   "id": "add21653",
   "metadata": {},
   "source": [
    "    We can add two series objects, multiply, subtract, divide, power etc...\n",
    "    Here also, we have the concept of broadcasting."
   ]
  },
  {
   "cell_type": "code",
   "execution_count": 125,
   "id": "2113cfb3",
   "metadata": {},
   "outputs": [
    {
     "data": {
      "text/plain": [
       "1      101\n",
       "2      123\n",
       "3      113\n",
       "4      112\n",
       "5      101\n",
       "      ... \n",
       "211    100\n",
       "212    120\n",
       "213    173\n",
       "214    125\n",
       "215    107\n",
       "Name: runs, Length: 215, dtype: int64"
      ]
     },
     "execution_count": 125,
     "metadata": {},
     "output_type": "execute_result"
    }
   ],
   "source": [
    "virat_kohli_scores + 100 # (broadcasting)"
   ]
  },
  {
   "cell_type": "code",
   "execution_count": 126,
   "id": "c41acfd2",
   "metadata": {},
   "outputs": [
    {
     "data": {
      "text/plain": [
       "1      -99\n",
       "2      -77\n",
       "3      -87\n",
       "4      -88\n",
       "5      -99\n",
       "      ... \n",
       "211   -100\n",
       "212    -80\n",
       "213    -27\n",
       "214    -75\n",
       "215    -93\n",
       "Name: runs, Length: 215, dtype: int64"
      ]
     },
     "execution_count": 126,
     "metadata": {},
     "output_type": "execute_result"
    }
   ],
   "source": [
    "virat_kohli_scores - 100"
   ]
  },
  {
   "cell_type": "code",
   "execution_count": 127,
   "id": "5b583f8f",
   "metadata": {},
   "outputs": [
    {
     "data": {
      "text/plain": [
       "1       100\n",
       "2      2300\n",
       "3      1300\n",
       "4      1200\n",
       "5       100\n",
       "       ... \n",
       "211       0\n",
       "212    2000\n",
       "213    7300\n",
       "214    2500\n",
       "215     700\n",
       "Name: runs, Length: 215, dtype: int64"
      ]
     },
     "execution_count": 127,
     "metadata": {},
     "output_type": "execute_result"
    }
   ],
   "source": [
    "virat_kohli_scores * 100"
   ]
  },
  {
   "cell_type": "code",
   "execution_count": 128,
   "id": "a84075c7",
   "metadata": {},
   "outputs": [
    {
     "data": {
      "text/plain": [
       "1      0.01\n",
       "2      0.23\n",
       "3      0.13\n",
       "4      0.12\n",
       "5      0.01\n",
       "       ... \n",
       "211    0.00\n",
       "212    0.20\n",
       "213    0.73\n",
       "214    0.25\n",
       "215    0.07\n",
       "Name: runs, Length: 215, dtype: float64"
      ]
     },
     "execution_count": 128,
     "metadata": {},
     "output_type": "execute_result"
    }
   ],
   "source": [
    "virat_kohli_scores / 100"
   ]
  },
  {
   "cell_type": "code",
   "execution_count": 129,
   "id": "24626675",
   "metadata": {},
   "outputs": [
    {
     "data": {
      "text/plain": [
       "1         1\n",
       "2       529\n",
       "3       169\n",
       "4       144\n",
       "5         1\n",
       "       ... \n",
       "211       0\n",
       "212     400\n",
       "213    5329\n",
       "214     625\n",
       "215      49\n",
       "Name: runs, Length: 215, dtype: int64"
      ]
     },
     "execution_count": 129,
     "metadata": {},
     "output_type": "execute_result"
    }
   ],
   "source": [
    "virat_kohli_scores ** 2"
   ]
  },
  {
   "cell_type": "markdown",
   "id": "7e2242e9",
   "metadata": {},
   "source": [
    "### `relational operators`"
   ]
  },
  {
   "cell_type": "markdown",
   "id": "afb26f3b",
   "metadata": {},
   "source": [
    "    The relational operators just return a new boolean series. We can use this series to pass\n",
    "    it inside the [] to get the filtered result."
   ]
  },
  {
   "cell_type": "code",
   "execution_count": 131,
   "id": "c65e2c22",
   "metadata": {},
   "outputs": [
    {
     "data": {
      "text/plain": [
       "1      False\n",
       "2      False\n",
       "3      False\n",
       "4      False\n",
       "5      False\n",
       "       ...  \n",
       "211    False\n",
       "212    False\n",
       "213     True\n",
       "214    False\n",
       "215    False\n",
       "Name: runs, Length: 215, dtype: bool"
      ]
     },
     "execution_count": 131,
     "metadata": {},
     "output_type": "execute_result"
    }
   ],
   "source": [
    "mask = virat_kohli_scores > 50\n",
    "mask"
   ]
  },
  {
   "cell_type": "code",
   "execution_count": 132,
   "id": "950183bf",
   "metadata": {},
   "outputs": [
    {
     "data": {
      "text/plain": [
       "34      58\n",
       "41      71\n",
       "44      56\n",
       "45      67\n",
       "52      70\n",
       "57      57\n",
       "68      73\n",
       "71      51\n",
       "73      58\n",
       "74      65\n",
       "80      57\n",
       "81      93\n",
       "82      99\n",
       "85      56\n",
       "97      67\n",
       "99      73\n",
       "103     51\n",
       "104     62\n",
       "110     82\n",
       "116     75\n",
       "117     79\n",
       "119     80\n",
       "120    100\n",
       "122     52\n",
       "123    108\n",
       "126    109\n",
       "127     75\n",
       "128    113\n",
       "129     54\n",
       "131     54\n",
       "132     62\n",
       "134     64\n",
       "137     55\n",
       "141     58\n",
       "144     57\n",
       "145     92\n",
       "148     68\n",
       "152     70\n",
       "160     84\n",
       "162     67\n",
       "164    100\n",
       "175     72\n",
       "178     90\n",
       "188     72\n",
       "197     51\n",
       "198     53\n",
       "209     58\n",
       "213     73\n",
       "Name: runs, dtype: int64"
      ]
     },
     "execution_count": 132,
     "metadata": {},
     "output_type": "execute_result"
    }
   ],
   "source": [
    "virat_kohli_scores[mask]"
   ]
  },
  {
   "cell_type": "markdown",
   "id": "111a55fd",
   "metadata": {},
   "source": [
    "### `Find all the Ajay Devgn movies.`"
   ]
  },
  {
   "cell_type": "code",
   "execution_count": 133,
   "id": "96ad9caa",
   "metadata": {},
   "outputs": [
    {
     "data": {
      "text/plain": [
       "Uri: The Surgical Strike                   Vicky Kaushal\n",
       "Battalion 609                                Vicky Ahuja\n",
       "The Accidental Prime Minister (film)         Anupam Kher\n",
       "Why Cheat India                            Emraan Hashmi\n",
       "Evening Shadows                         Mona Ambegaonkar\n",
       "                                              ...       \n",
       "Hum Tumhare Hain Sanam                    Shah Rukh Khan\n",
       "Aankhen (2002 film)                     Amitabh Bachchan\n",
       "Saathiya (film)                             Vivek Oberoi\n",
       "Company (film)                                Ajay Devgn\n",
       "Awara Paagal Deewana                        Akshay Kumar\n",
       "Name: lead, Length: 1500, dtype: object"
      ]
     },
     "execution_count": 133,
     "metadata": {},
     "output_type": "execute_result"
    }
   ],
   "source": [
    "movies"
   ]
  },
  {
   "cell_type": "code",
   "execution_count": 135,
   "id": "a2fb4605",
   "metadata": {},
   "outputs": [
    {
     "data": {
      "text/plain": [
       "Uri: The Surgical Strike                False\n",
       "Battalion 609                           False\n",
       "The Accidental Prime Minister (film)    False\n",
       "Why Cheat India                         False\n",
       "Evening Shadows                         False\n",
       "                                        ...  \n",
       "Hum Tumhare Hain Sanam                  False\n",
       "Aankhen (2002 film)                     False\n",
       "Saathiya (film)                         False\n",
       "Company (film)                           True\n",
       "Awara Paagal Deewana                    False\n",
       "Name: lead, Length: 1500, dtype: bool"
      ]
     },
     "execution_count": 135,
     "metadata": {},
     "output_type": "execute_result"
    }
   ],
   "source": [
    "mask = movies == 'Ajay Devgn'\n",
    "mask"
   ]
  },
  {
   "cell_type": "code",
   "execution_count": 136,
   "id": "3d90b44d",
   "metadata": {},
   "outputs": [
    {
     "data": {
      "text/plain": [
       "Total Dhamaal                       Ajay Devgn\n",
       "De De Pyaar De                      Ajay Devgn\n",
       "Raid (2018 film)                    Ajay Devgn\n",
       "Golmaal Again                       Ajay Devgn\n",
       "Shivaay                             Ajay Devgn\n",
       "Drishyam (2015 film)                Ajay Devgn\n",
       "Himmatwala (2013 film)              Ajay Devgn\n",
       "Son of Sardaar                      Ajay Devgn\n",
       "Dil Toh Baccha Hai Ji               Ajay Devgn\n",
       "Singham                             Ajay Devgn\n",
       "Rascals (2011 film)                 Ajay Devgn\n",
       "Once Upon a Time in Mumbaai         Ajay Devgn\n",
       "Aakrosh (2010 film)                 Ajay Devgn\n",
       "Toonpur Ka Super Hero               Ajay Devgn\n",
       "Golmaal Returns                     Ajay Devgn\n",
       "Halla Bol                           Ajay Devgn\n",
       "Sunday (2008 film)                  Ajay Devgn\n",
       "U Me Aur Hum                        Ajay Devgn\n",
       "Cash (2007 film)                    Ajay Devgn\n",
       "Golmaal: Fun Unlimited              Ajay Devgn\n",
       "Dharti Kahe Pukar Ke (2006 film)    Ajay Devgn\n",
       "Omkara (2006 film)                  Ajay Devgn\n",
       "Shikhar (film)                      Ajay Devgn\n",
       "Apaharan                            Ajay Devgn\n",
       "Blackmail (2005 film)               Ajay Devgn\n",
       "Kaal (2005 film)                    Ajay Devgn\n",
       "Main Aisa Hi Hoon                   Ajay Devgn\n",
       "Tango Charlie                       Ajay Devgn\n",
       "Zameer: The Fire Within             Ajay Devgn\n",
       "Yuva                                Ajay Devgn\n",
       "Raincoat (film)                     Ajay Devgn\n",
       "Qayamat: City Under Threat          Ajay Devgn\n",
       "Bhoot (film)                        Ajay Devgn\n",
       "Chori Chori (2003 film)             Ajay Devgn\n",
       "Gangaajal                           Ajay Devgn\n",
       "Parwana (2003 film)                 Ajay Devgn\n",
       "Zameen (2003 film)                  Ajay Devgn\n",
       "Company (film)                      Ajay Devgn\n",
       "Name: lead, dtype: object"
      ]
     },
     "execution_count": 136,
     "metadata": {},
     "output_type": "execute_result"
    }
   ],
   "source": [
    "movies[mask]"
   ]
  },
  {
   "cell_type": "markdown",
   "id": "56a42538",
   "metadata": {},
   "source": [
    "### `Find all the matches in which virat kohli scored between 80 and 100`"
   ]
  },
  {
   "cell_type": "code",
   "execution_count": 139,
   "id": "f8e0640c",
   "metadata": {},
   "outputs": [
    {
     "data": {
      "text/plain": [
       "1      False\n",
       "2      False\n",
       "3      False\n",
       "4      False\n",
       "5      False\n",
       "       ...  \n",
       "211    False\n",
       "212    False\n",
       "213    False\n",
       "214    False\n",
       "215    False\n",
       "Name: runs, Length: 215, dtype: bool"
      ]
     },
     "execution_count": 139,
     "metadata": {},
     "output_type": "execute_result"
    }
   ],
   "source": [
    "mask = (virat_kohli_scores > 80) & (virat_kohli_scores < 100)\n",
    "mask"
   ]
  },
  {
   "cell_type": "code",
   "execution_count": 140,
   "id": "c6e65f69",
   "metadata": {},
   "outputs": [
    {
     "data": {
      "text/plain": [
       "6"
      ]
     },
     "execution_count": 140,
     "metadata": {},
     "output_type": "execute_result"
    }
   ],
   "source": [
    "mask.sum() # Finds the total number of True values inside the boolean series"
   ]
  },
  {
   "cell_type": "code",
   "execution_count": 141,
   "id": "e666f90c",
   "metadata": {},
   "outputs": [
    {
     "data": {
      "text/plain": [
       "81     93\n",
       "82     99\n",
       "110    82\n",
       "145    92\n",
       "160    84\n",
       "178    90\n",
       "Name: runs, dtype: int64"
      ]
     },
     "execution_count": 141,
     "metadata": {},
     "output_type": "execute_result"
    }
   ],
   "source": [
    "virat_kohli_scores[mask]"
   ]
  },
  {
   "cell_type": "code",
   "execution_count": null,
   "id": "ab6213b1",
   "metadata": {},
   "outputs": [],
   "source": []
  }
 ],
 "metadata": {
  "kernelspec": {
   "display_name": "Python 3 (ipykernel)",
   "language": "python",
   "name": "python3"
  },
  "language_info": {
   "codemirror_mode": {
    "name": "ipython",
    "version": 3
   },
   "file_extension": ".py",
   "mimetype": "text/x-python",
   "name": "python",
   "nbconvert_exporter": "python",
   "pygments_lexer": "ipython3",
   "version": "3.11.5"
  }
 },
 "nbformat": 4,
 "nbformat_minor": 5
}
