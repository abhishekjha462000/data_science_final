{
 "cells": [
  {
   "cell_type": "markdown",
   "id": "c9e57504",
   "metadata": {},
   "source": [
    "# pandas"
   ]
  },
  {
   "cell_type": "markdown",
   "id": "a6138418",
   "metadata": {},
   "source": [
    "    Pandas stands for panel data structures. It is library built on top of numpy library.\n",
    "    \n",
    "    We have 3 kinds of data structures inside pandas.\n",
    "    \n",
    "    1. Index\n",
    "    2. Series\n",
    "    3. Dataframes\n",
    "    \n",
    "    Pandas is used in predictive analysis."
   ]
  },
  {
   "cell_type": "markdown",
   "id": "d781b9fc",
   "metadata": {},
   "source": [
    "## `importing pandas`"
   ]
  },
  {
   "cell_type": "code",
   "execution_count": 1,
   "id": "cc2b5903",
   "metadata": {},
   "outputs": [],
   "source": [
    "import numpy as np\n",
    "import pandas as pd"
   ]
  },
  {
   "cell_type": "markdown",
   "id": "995c55fb",
   "metadata": {},
   "source": [
    "## `creating series`"
   ]
  },
  {
   "cell_type": "markdown",
   "id": "f30d137c",
   "metadata": {},
   "source": [
    "- We can create pandas series using lists or dictionaries."
   ]
  },
  {
   "cell_type": "code",
   "execution_count": 2,
   "id": "5bb61e82",
   "metadata": {},
   "outputs": [
    {
     "data": {
      "text/plain": [
       "0       India\n",
       "1    Pakistan\n",
       "2         USA\n",
       "3       Nepal\n",
       "4    Srilanka\n",
       "dtype: object"
      ]
     },
     "execution_count": 2,
     "metadata": {},
     "output_type": "execute_result"
    }
   ],
   "source": [
    "country = ['India', 'Pakistan', 'USA', 'Nepal', 'Srilanka']\n",
    "\n",
    "pd.Series(country)"
   ]
  },
  {
   "cell_type": "markdown",
   "id": "b8ec1570",
   "metadata": {},
   "source": [
    "    We can also create a series where the values are integers as well."
   ]
  },
  {
   "cell_type": "code",
   "execution_count": 3,
   "id": "64a54471",
   "metadata": {},
   "outputs": [
    {
     "data": {
      "text/plain": [
       "0     13\n",
       "1     24\n",
       "2     56\n",
       "3     78\n",
       "4    100\n",
       "dtype: int64"
      ]
     },
     "execution_count": 3,
     "metadata": {},
     "output_type": "execute_result"
    }
   ],
   "source": [
    "runs = [13, 24, 56, 78, 100]\n",
    "pd.Series(runs)"
   ]
  },
  {
   "cell_type": "markdown",
   "id": "141491ec",
   "metadata": {},
   "source": [
    "- We can also give custom index to our series object."
   ]
  },
  {
   "cell_type": "code",
   "execution_count": 4,
   "id": "be9f7b71",
   "metadata": {},
   "outputs": [
    {
     "data": {
      "text/plain": [
       "Maths       67\n",
       "Science     57\n",
       "English     89\n",
       "Hindi      100\n",
       "dtype: int64"
      ]
     },
     "execution_count": 4,
     "metadata": {},
     "output_type": "execute_result"
    }
   ],
   "source": [
    "marks = [67, 57, 89, 100]\n",
    "subjects = ['Maths', 'Science', 'English', 'Hindi']\n",
    "\n",
    "pd.Series(marks, index=subjects)"
   ]
  },
  {
   "cell_type": "markdown",
   "id": "102fc605",
   "metadata": {},
   "source": [
    "- We may also a provide a `name` to our series."
   ]
  },
  {
   "cell_type": "code",
   "execution_count": 5,
   "id": "c52f503e",
   "metadata": {},
   "outputs": [
    {
     "data": {
      "text/plain": [
       "Maths       67\n",
       "Science     57\n",
       "English     89\n",
       "Hindi      100\n",
       "Name: Daniyaal marks, dtype: int64"
      ]
     },
     "execution_count": 5,
     "metadata": {},
     "output_type": "execute_result"
    }
   ],
   "source": [
    "marks = [67, 57, 89, 100]\n",
    "subjects = ['Maths', 'Science', 'English', 'Hindi']\n",
    "\n",
    "pd.Series(marks, index = subjects, name = 'Daniyaal marks')"
   ]
  },
  {
   "cell_type": "markdown",
   "id": "0e121664",
   "metadata": {},
   "source": [
    "## `creating series from dictionaries`"
   ]
  },
  {
   "cell_type": "markdown",
   "id": "918a71b0",
   "metadata": {},
   "source": [
    "    We can also create a series object by passing in a dictionary in the pd.Series() method."
   ]
  },
  {
   "cell_type": "code",
   "execution_count": 6,
   "id": "cad75718",
   "metadata": {},
   "outputs": [
    {
     "data": {
      "text/plain": [
       "{'Maths': 67, 'Science': 57, 'English': 89, 'Hindi': 100}"
      ]
     },
     "execution_count": 6,
     "metadata": {},
     "output_type": "execute_result"
    }
   ],
   "source": [
    "marks_dictionary = {subject:score for subject, score in zip(subjects, marks)}\n",
    "marks_dictionary"
   ]
  },
  {
   "cell_type": "code",
   "execution_count": 16,
   "id": "cb31d33c",
   "metadata": {},
   "outputs": [
    {
     "data": {
      "text/plain": [
       "Maths       67\n",
       "Science     57\n",
       "English     89\n",
       "Hindi      100\n",
       "dtype: int64"
      ]
     },
     "execution_count": 16,
     "metadata": {},
     "output_type": "execute_result"
    }
   ],
   "source": [
    "marks_ser = pd.Series(marks_dictionary)\n",
    "marks_ser"
   ]
  },
  {
   "cell_type": "markdown",
   "id": "822a8a16",
   "metadata": {},
   "source": [
    "## `attributes of series`"
   ]
  },
  {
   "cell_type": "markdown",
   "id": "8b97e5cc",
   "metadata": {},
   "source": [
    "    Since at the end of day, series are python objects, each series instance has certain attributes associated to it."
   ]
  },
  {
   "cell_type": "code",
   "execution_count": 17,
   "id": "6c679baa",
   "metadata": {},
   "outputs": [
    {
     "data": {
      "text/plain": [
       "Maths       67\n",
       "Science     57\n",
       "English     89\n",
       "Hindi      100\n",
       "dtype: int64"
      ]
     },
     "execution_count": 17,
     "metadata": {},
     "output_type": "execute_result"
    }
   ],
   "source": [
    "marks_ser"
   ]
  },
  {
   "cell_type": "code",
   "execution_count": 18,
   "id": "8d8c42b0",
   "metadata": {},
   "outputs": [
    {
     "data": {
      "text/plain": [
       "4"
      ]
     },
     "execution_count": 18,
     "metadata": {},
     "output_type": "execute_result"
    }
   ],
   "source": [
    "marks_ser.size"
   ]
  },
  {
   "cell_type": "code",
   "execution_count": 19,
   "id": "ea1cf60a",
   "metadata": {},
   "outputs": [
    {
     "data": {
      "text/plain": [
       "dtype('int64')"
      ]
     },
     "execution_count": 19,
     "metadata": {},
     "output_type": "execute_result"
    }
   ],
   "source": [
    "marks_ser.dtype"
   ]
  },
  {
   "cell_type": "code",
   "execution_count": 20,
   "id": "e86a9980",
   "metadata": {},
   "outputs": [
    {
     "data": {
      "text/plain": [
       "(4,)"
      ]
     },
     "execution_count": 20,
     "metadata": {},
     "output_type": "execute_result"
    }
   ],
   "source": [
    "marks_ser.shape"
   ]
  },
  {
   "cell_type": "code",
   "execution_count": 21,
   "id": "8e71e79d",
   "metadata": {},
   "outputs": [
    {
     "data": {
      "text/plain": [
       "Index(['Maths', 'Science', 'English', 'Hindi'], dtype='object')"
      ]
     },
     "execution_count": 21,
     "metadata": {},
     "output_type": "execute_result"
    }
   ],
   "source": [
    "marks_ser.index"
   ]
  },
  {
   "cell_type": "code",
   "execution_count": 22,
   "id": "204cb47d",
   "metadata": {},
   "outputs": [
    {
     "data": {
      "text/plain": [
       "array([ 67,  57,  89, 100], dtype=int64)"
      ]
     },
     "execution_count": 22,
     "metadata": {},
     "output_type": "execute_result"
    }
   ],
   "source": [
    "marks_ser.values"
   ]
  },
  {
   "cell_type": "code",
   "execution_count": 24,
   "id": "af96a011",
   "metadata": {},
   "outputs": [
    {
     "data": {
      "text/plain": [
       "True"
      ]
     },
     "execution_count": 24,
     "metadata": {},
     "output_type": "execute_result"
    }
   ],
   "source": [
    "marks_ser.is_unique # Tells if all the values are unique or not"
   ]
  },
  {
   "cell_type": "code",
   "execution_count": 27,
   "id": "ed36b096",
   "metadata": {},
   "outputs": [
    {
     "data": {
      "text/plain": [
       "False"
      ]
     },
     "execution_count": 27,
     "metadata": {},
     "output_type": "execute_result"
    }
   ],
   "source": [
    "pd.Series([1, 2, 3, 4, np.nan, 5, 6, np.nan]).is_unique"
   ]
  },
  {
   "cell_type": "code",
   "execution_count": 25,
   "id": "1db1356a",
   "metadata": {},
   "outputs": [
    {
     "data": {
      "text/plain": [
       "False"
      ]
     },
     "execution_count": 25,
     "metadata": {},
     "output_type": "execute_result"
    }
   ],
   "source": [
    "marks_ser.hasnans # Tells if the series has any missing values or not"
   ]
  },
  {
   "cell_type": "code",
   "execution_count": 26,
   "id": "c7149515",
   "metadata": {},
   "outputs": [
    {
     "data": {
      "text/plain": [
       "True"
      ]
     },
     "execution_count": 26,
     "metadata": {},
     "output_type": "execute_result"
    }
   ],
   "source": [
    "pd.Series([1, 2, 3, 4, np.nan, 5, 6, np.nan]).hasnans"
   ]
  },
  {
   "cell_type": "markdown",
   "id": "fda5c05c",
   "metadata": {},
   "source": [
    "## `importing series from read_csv`\n",
    "\n",
    "    The read_csv() method is used primarily for reading data frames. However, if our csv file has only 2 columns or\n",
    "    1 columns, then we can squeeze it and get a series object."
   ]
  },
  {
   "cell_type": "code",
   "execution_count": 29,
   "id": "743eb8d8",
   "metadata": {},
   "outputs": [
    {
     "data": {
      "text/html": [
       "<div>\n",
       "<style scoped>\n",
       "    .dataframe tbody tr th:only-of-type {\n",
       "        vertical-align: middle;\n",
       "    }\n",
       "\n",
       "    .dataframe tbody tr th {\n",
       "        vertical-align: top;\n",
       "    }\n",
       "\n",
       "    .dataframe thead th {\n",
       "        text-align: right;\n",
       "    }\n",
       "</style>\n",
       "<table border=\"1\" class=\"dataframe\">\n",
       "  <thead>\n",
       "    <tr style=\"text-align: right;\">\n",
       "      <th></th>\n",
       "      <th>Subscribers gained</th>\n",
       "    </tr>\n",
       "  </thead>\n",
       "  <tbody>\n",
       "    <tr>\n",
       "      <th>0</th>\n",
       "      <td>48</td>\n",
       "    </tr>\n",
       "    <tr>\n",
       "      <th>1</th>\n",
       "      <td>57</td>\n",
       "    </tr>\n",
       "    <tr>\n",
       "      <th>2</th>\n",
       "      <td>40</td>\n",
       "    </tr>\n",
       "    <tr>\n",
       "      <th>3</th>\n",
       "      <td>43</td>\n",
       "    </tr>\n",
       "    <tr>\n",
       "      <th>4</th>\n",
       "      <td>44</td>\n",
       "    </tr>\n",
       "    <tr>\n",
       "      <th>...</th>\n",
       "      <td>...</td>\n",
       "    </tr>\n",
       "    <tr>\n",
       "      <th>360</th>\n",
       "      <td>231</td>\n",
       "    </tr>\n",
       "    <tr>\n",
       "      <th>361</th>\n",
       "      <td>226</td>\n",
       "    </tr>\n",
       "    <tr>\n",
       "      <th>362</th>\n",
       "      <td>155</td>\n",
       "    </tr>\n",
       "    <tr>\n",
       "      <th>363</th>\n",
       "      <td>144</td>\n",
       "    </tr>\n",
       "    <tr>\n",
       "      <th>364</th>\n",
       "      <td>172</td>\n",
       "    </tr>\n",
       "  </tbody>\n",
       "</table>\n",
       "<p>365 rows × 1 columns</p>\n",
       "</div>"
      ],
      "text/plain": [
       "     Subscribers gained\n",
       "0                    48\n",
       "1                    57\n",
       "2                    40\n",
       "3                    43\n",
       "4                    44\n",
       "..                  ...\n",
       "360                 231\n",
       "361                 226\n",
       "362                 155\n",
       "363                 144\n",
       "364                 172\n",
       "\n",
       "[365 rows x 1 columns]"
      ]
     },
     "execution_count": 29,
     "metadata": {},
     "output_type": "execute_result"
    }
   ],
   "source": [
    "pd.read_csv('./content/subs.csv')"
   ]
  },
  {
   "cell_type": "code",
   "execution_count": 31,
   "id": "48483260",
   "metadata": {},
   "outputs": [
    {
     "data": {
      "text/plain": [
       "0       48\n",
       "1       57\n",
       "2       40\n",
       "3       43\n",
       "4       44\n",
       "      ... \n",
       "360    231\n",
       "361    226\n",
       "362    155\n",
       "363    144\n",
       "364    172\n",
       "Name: Subscribers gained, Length: 365, dtype: int64"
      ]
     },
     "execution_count": 31,
     "metadata": {},
     "output_type": "execute_result"
    }
   ],
   "source": [
    "subs = pd.read_csv('./content/subs.csv').squeeze(True)\n",
    "subs"
   ]
  },
  {
   "cell_type": "markdown",
   "id": "4abd5137",
   "metadata": {},
   "source": [
    "    When there are more than 1 column in the csv file, then we also need to tell pandas about which column to use as\n",
    "    index column. We can do this by passing in the name of that column in the index_col parameter or we may also pass\n",
    "    the column index of that column."
   ]
  },
  {
   "cell_type": "code",
   "execution_count": 33,
   "id": "52e38466",
   "metadata": {},
   "outputs": [
    {
     "data": {
      "text/html": [
       "<div>\n",
       "<style scoped>\n",
       "    .dataframe tbody tr th:only-of-type {\n",
       "        vertical-align: middle;\n",
       "    }\n",
       "\n",
       "    .dataframe tbody tr th {\n",
       "        vertical-align: top;\n",
       "    }\n",
       "\n",
       "    .dataframe thead th {\n",
       "        text-align: right;\n",
       "    }\n",
       "</style>\n",
       "<table border=\"1\" class=\"dataframe\">\n",
       "  <thead>\n",
       "    <tr style=\"text-align: right;\">\n",
       "      <th></th>\n",
       "      <th>runs</th>\n",
       "    </tr>\n",
       "    <tr>\n",
       "      <th>match_no</th>\n",
       "      <th></th>\n",
       "    </tr>\n",
       "  </thead>\n",
       "  <tbody>\n",
       "    <tr>\n",
       "      <th>1</th>\n",
       "      <td>1</td>\n",
       "    </tr>\n",
       "    <tr>\n",
       "      <th>2</th>\n",
       "      <td>23</td>\n",
       "    </tr>\n",
       "    <tr>\n",
       "      <th>3</th>\n",
       "      <td>13</td>\n",
       "    </tr>\n",
       "    <tr>\n",
       "      <th>4</th>\n",
       "      <td>12</td>\n",
       "    </tr>\n",
       "    <tr>\n",
       "      <th>5</th>\n",
       "      <td>1</td>\n",
       "    </tr>\n",
       "    <tr>\n",
       "      <th>...</th>\n",
       "      <td>...</td>\n",
       "    </tr>\n",
       "    <tr>\n",
       "      <th>211</th>\n",
       "      <td>0</td>\n",
       "    </tr>\n",
       "    <tr>\n",
       "      <th>212</th>\n",
       "      <td>20</td>\n",
       "    </tr>\n",
       "    <tr>\n",
       "      <th>213</th>\n",
       "      <td>73</td>\n",
       "    </tr>\n",
       "    <tr>\n",
       "      <th>214</th>\n",
       "      <td>25</td>\n",
       "    </tr>\n",
       "    <tr>\n",
       "      <th>215</th>\n",
       "      <td>7</td>\n",
       "    </tr>\n",
       "  </tbody>\n",
       "</table>\n",
       "<p>215 rows × 1 columns</p>\n",
       "</div>"
      ],
      "text/plain": [
       "          runs\n",
       "match_no      \n",
       "1            1\n",
       "2           23\n",
       "3           13\n",
       "4           12\n",
       "5            1\n",
       "...        ...\n",
       "211          0\n",
       "212         20\n",
       "213         73\n",
       "214         25\n",
       "215          7\n",
       "\n",
       "[215 rows x 1 columns]"
      ]
     },
     "execution_count": 33,
     "metadata": {},
     "output_type": "execute_result"
    }
   ],
   "source": [
    "pd.read_csv('./content/kohli_ipl.csv', index_col = 0)"
   ]
  },
  {
   "cell_type": "code",
   "execution_count": 42,
   "id": "fa70ef14",
   "metadata": {},
   "outputs": [
    {
     "data": {
      "text/plain": [
       "match_no\n",
       "1       1\n",
       "2      23\n",
       "3      13\n",
       "4      12\n",
       "5       1\n",
       "       ..\n",
       "211     0\n",
       "212    20\n",
       "213    73\n",
       "214    25\n",
       "215     7\n",
       "Name: runs, Length: 215, dtype: int64"
      ]
     },
     "execution_count": 42,
     "metadata": {},
     "output_type": "execute_result"
    }
   ],
   "source": [
    "virat_kohli_scores = pd.read_csv('./content/kohli_ipl.csv', index_col = 0).squeeze(True)\n",
    "virat_kohli_scores"
   ]
  },
  {
   "cell_type": "code",
   "execution_count": 45,
   "id": "905cafa7",
   "metadata": {},
   "outputs": [
    {
     "data": {
      "text/plain": [
       "movie\n",
       "Uri: The Surgical Strike                   Vicky Kaushal\n",
       "Battalion 609                                Vicky Ahuja\n",
       "The Accidental Prime Minister (film)         Anupam Kher\n",
       "Why Cheat India                            Emraan Hashmi\n",
       "Evening Shadows                         Mona Ambegaonkar\n",
       "                                              ...       \n",
       "Hum Tumhare Hain Sanam                    Shah Rukh Khan\n",
       "Aankhen (2002 film)                     Amitabh Bachchan\n",
       "Saathiya (film)                             Vivek Oberoi\n",
       "Company (film)                                Ajay Devgn\n",
       "Awara Paagal Deewana                        Akshay Kumar\n",
       "Name: lead, Length: 1500, dtype: object"
      ]
     },
     "execution_count": 45,
     "metadata": {},
     "output_type": "execute_result"
    }
   ],
   "source": [
    "movies = pd.read_csv('./content/bollywood.csv', index_col = 'movie').squeeze(True)\n",
    "movies"
   ]
  },
  {
   "cell_type": "markdown",
   "id": "61e01f67",
   "metadata": {},
   "source": [
    "    We can remove the movie which is on the top of this column."
   ]
  },
  {
   "cell_type": "code",
   "execution_count": 46,
   "id": "cf4faa46",
   "metadata": {},
   "outputs": [],
   "source": [
    "movies.index.name = None"
   ]
  },
  {
   "cell_type": "code",
   "execution_count": 47,
   "id": "ec9259c7",
   "metadata": {},
   "outputs": [
    {
     "data": {
      "text/plain": [
       "Uri: The Surgical Strike                   Vicky Kaushal\n",
       "Battalion 609                                Vicky Ahuja\n",
       "The Accidental Prime Minister (film)         Anupam Kher\n",
       "Why Cheat India                            Emraan Hashmi\n",
       "Evening Shadows                         Mona Ambegaonkar\n",
       "                                              ...       \n",
       "Hum Tumhare Hain Sanam                    Shah Rukh Khan\n",
       "Aankhen (2002 film)                     Amitabh Bachchan\n",
       "Saathiya (film)                             Vivek Oberoi\n",
       "Company (film)                                Ajay Devgn\n",
       "Awara Paagal Deewana                        Akshay Kumar\n",
       "Name: lead, Length: 1500, dtype: object"
      ]
     },
     "execution_count": 47,
     "metadata": {},
     "output_type": "execute_result"
    }
   ],
   "source": [
    "movies"
   ]
  },
  {
   "cell_type": "markdown",
   "id": "6b48aa8a",
   "metadata": {},
   "source": [
    "## `series methods`\n",
    "\n",
    "    Since series are objects, we have certain methods associated with each series object."
   ]
  },
  {
   "cell_type": "markdown",
   "id": "fd5af2c7",
   "metadata": {},
   "source": [
    "### `count()`\n",
    "- `count()` method gives us the number of non-missing values in a series. This is different from `size` attribute.\n",
    "- The `size` attribute gives the total number of values."
   ]
  },
  {
   "cell_type": "code",
   "execution_count": 48,
   "id": "6545a5a6",
   "metadata": {},
   "outputs": [
    {
     "data": {
      "text/plain": [
       "0    1.0\n",
       "1    2.0\n",
       "2    3.0\n",
       "3    4.0\n",
       "4    NaN\n",
       "5    6.0\n",
       "6    7.0\n",
       "7    NaN\n",
       "8    9.0\n",
       "9    NaN\n",
       "dtype: float64"
      ]
     },
     "execution_count": 48,
     "metadata": {},
     "output_type": "execute_result"
    }
   ],
   "source": [
    "exp = pd.Series([1, 2, 3, 4, np.nan, 6, 7, np.nan, 9, np.nan])\n",
    "exp"
   ]
  },
  {
   "cell_type": "code",
   "execution_count": 49,
   "id": "f0ebbf21",
   "metadata": {},
   "outputs": [
    {
     "data": {
      "text/plain": [
       "(10, 7)"
      ]
     },
     "execution_count": 49,
     "metadata": {},
     "output_type": "execute_result"
    }
   ],
   "source": [
    "exp.size, exp.count()"
   ]
  },
  {
   "cell_type": "markdown",
   "id": "c4343b04",
   "metadata": {},
   "source": [
    "### `value_counts()`\n",
    "\n",
    "- The `value_counts()` method is used to give the frequency of each value in the form of a series.\n",
    "- The `value_counts()` method by default does not includes the count of `NaN`.\n",
    "- If we want to include the count of `NaN`, then we need to pass `dropna = False`."
   ]
  },
  {
   "cell_type": "code",
   "execution_count": 50,
   "id": "fbf03024",
   "metadata": {},
   "outputs": [
    {
     "data": {
      "text/plain": [
       "Uri: The Surgical Strike                   Vicky Kaushal\n",
       "Battalion 609                                Vicky Ahuja\n",
       "The Accidental Prime Minister (film)         Anupam Kher\n",
       "Why Cheat India                            Emraan Hashmi\n",
       "Evening Shadows                         Mona Ambegaonkar\n",
       "                                              ...       \n",
       "Hum Tumhare Hain Sanam                    Shah Rukh Khan\n",
       "Aankhen (2002 film)                     Amitabh Bachchan\n",
       "Saathiya (film)                             Vivek Oberoi\n",
       "Company (film)                                Ajay Devgn\n",
       "Awara Paagal Deewana                        Akshay Kumar\n",
       "Name: lead, Length: 1500, dtype: object"
      ]
     },
     "execution_count": 50,
     "metadata": {},
     "output_type": "execute_result"
    }
   ],
   "source": [
    "movies"
   ]
  },
  {
   "cell_type": "code",
   "execution_count": 51,
   "id": "fdbaf25a",
   "metadata": {},
   "outputs": [
    {
     "data": {
      "text/plain": [
       "lead\n",
       "Akshay Kumar        48\n",
       "Amitabh Bachchan    45\n",
       "Ajay Devgn          38\n",
       "Salman Khan         31\n",
       "Sanjay Dutt         26\n",
       "                    ..\n",
       "Diganth              1\n",
       "Parveen Kaur         1\n",
       "Seema Azmi           1\n",
       "Akanksha Puri        1\n",
       "Edwin Fernandes      1\n",
       "Name: count, Length: 566, dtype: int64"
      ]
     },
     "execution_count": 51,
     "metadata": {},
     "output_type": "execute_result"
    }
   ],
   "source": [
    "movies.value_counts()"
   ]
  },
  {
   "cell_type": "code",
   "execution_count": 54,
   "id": "741b1870",
   "metadata": {},
   "outputs": [
    {
     "data": {
      "text/plain": [
       "0    Abhishek\n",
       "1    Abhishek\n",
       "2     Amrusha\n",
       "3     Amrusha\n",
       "4    Priyanka\n",
       "5    Daniyaal\n",
       "6         NaN\n",
       "7         NaN\n",
       "8      Sameer\n",
       "dtype: object"
      ]
     },
     "execution_count": 54,
     "metadata": {},
     "output_type": "execute_result"
    }
   ],
   "source": [
    "names = pd.Series(['Abhishek', 'Abhishek', 'Amrusha', 'Amrusha', 'Priyanka', 'Daniyaal', np.nan, np.nan,'Sameer'])\n",
    "names"
   ]
  },
  {
   "cell_type": "code",
   "execution_count": 55,
   "id": "aa82e438",
   "metadata": {},
   "outputs": [
    {
     "data": {
      "text/plain": [
       "Abhishek    2\n",
       "Amrusha     2\n",
       "Priyanka    1\n",
       "Daniyaal    1\n",
       "Sameer      1\n",
       "Name: count, dtype: int64"
      ]
     },
     "execution_count": 55,
     "metadata": {},
     "output_type": "execute_result"
    }
   ],
   "source": [
    "names.value_counts()"
   ]
  },
  {
   "cell_type": "markdown",
   "id": "2ed6addd",
   "metadata": {},
   "source": [
    "    As we can see that it does not include the count of missing values by default. However, we can include the count\n",
    "    of missing values by setting dropna = False."
   ]
  },
  {
   "cell_type": "code",
   "execution_count": 56,
   "id": "7f25797e",
   "metadata": {},
   "outputs": [
    {
     "data": {
      "text/plain": [
       "Abhishek    2\n",
       "Amrusha     2\n",
       "NaN         2\n",
       "Priyanka    1\n",
       "Daniyaal    1\n",
       "Sameer      1\n",
       "Name: count, dtype: int64"
      ]
     },
     "execution_count": 56,
     "metadata": {},
     "output_type": "execute_result"
    }
   ],
   "source": [
    "names.value_counts(dropna = False)"
   ]
  },
  {
   "cell_type": "code",
   "execution_count": null,
   "id": "b51747a2",
   "metadata": {},
   "outputs": [],
   "source": []
  }
 ],
 "metadata": {
  "kernelspec": {
   "display_name": "Python 3 (ipykernel)",
   "language": "python",
   "name": "python3"
  },
  "language_info": {
   "codemirror_mode": {
    "name": "ipython",
    "version": 3
   },
   "file_extension": ".py",
   "mimetype": "text/x-python",
   "name": "python",
   "nbconvert_exporter": "python",
   "pygments_lexer": "ipython3",
   "version": "3.11.5"
  }
 },
 "nbformat": 4,
 "nbformat_minor": 5
}
