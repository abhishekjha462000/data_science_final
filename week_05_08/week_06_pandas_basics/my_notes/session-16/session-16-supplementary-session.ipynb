{
 "cells": [
  {
   "cell_type": "markdown",
   "id": "761501bd",
   "metadata": {},
   "source": [
    "# `supplementary session on pandas`"
   ]
  },
  {
   "cell_type": "code",
   "execution_count": 1,
   "id": "75dfe285",
   "metadata": {},
   "outputs": [],
   "source": [
    "import numpy as np\n",
    "import pandas as pd"
   ]
  },
  {
   "cell_type": "code",
   "execution_count": 10,
   "id": "e7e43bb3",
   "metadata": {},
   "outputs": [
    {
     "data": {
      "text/plain": [
       "1       1\n",
       "2      23\n",
       "3      13\n",
       "4      12\n",
       "5       1\n",
       "       ..\n",
       "211     0\n",
       "212    20\n",
       "213    73\n",
       "214    25\n",
       "215     7\n",
       "Name: runs, Length: 215, dtype: int64"
      ]
     },
     "execution_count": 10,
     "metadata": {},
     "output_type": "execute_result"
    }
   ],
   "source": [
    "virat_kohli_scores = pd.read_csv('./content/kohli_ipl.csv', index_col = 0).squeeze(True)\n",
    "virat_kohli_scores.index.name = None\n",
    "virat_kohli_scores"
   ]
  },
  {
   "cell_type": "code",
   "execution_count": 9,
   "id": "d9e9d02d",
   "metadata": {},
   "outputs": [
    {
     "data": {
      "text/plain": [
       "Uri: The Surgical Strike                   Vicky Kaushal\n",
       "Battalion 609                                Vicky Ahuja\n",
       "The Accidental Prime Minister (film)         Anupam Kher\n",
       "Why Cheat India                            Emraan Hashmi\n",
       "Evening Shadows                         Mona Ambegaonkar\n",
       "                                              ...       \n",
       "Hum Tumhare Hain Sanam                    Shah Rukh Khan\n",
       "Aankhen (2002 film)                     Amitabh Bachchan\n",
       "Saathiya (film)                             Vivek Oberoi\n",
       "Company (film)                                Ajay Devgn\n",
       "Awara Paagal Deewana                        Akshay Kumar\n",
       "Name: lead, Length: 1500, dtype: object"
      ]
     },
     "execution_count": 9,
     "metadata": {},
     "output_type": "execute_result"
    }
   ],
   "source": [
    "movies = pd.read_csv('./content/bollywood.csv', index_col=0).squeeze(True)\n",
    "movies.index.name = None\n",
    "movies"
   ]
  },
  {
   "cell_type": "code",
   "execution_count": 12,
   "id": "b62371a1",
   "metadata": {},
   "outputs": [
    {
     "data": {
      "text/plain": [
       "0       48\n",
       "1       57\n",
       "2       40\n",
       "3       43\n",
       "4       44\n",
       "      ... \n",
       "360    231\n",
       "361    226\n",
       "362    155\n",
       "363    144\n",
       "364    172\n",
       "Name: Subscribers gained, Length: 365, dtype: int64"
      ]
     },
     "execution_count": 12,
     "metadata": {},
     "output_type": "execute_result"
    }
   ],
   "source": [
    "subs = pd.read_csv('./content/subs.csv').squeeze(True)\n",
    "subs"
   ]
  },
  {
   "cell_type": "markdown",
   "id": "2a13b61f",
   "metadata": {},
   "source": [
    "### `astype()`\n",
    "    \n",
    "    This is used to change the data type of pandas series. This is used to reduce the size of the series."
   ]
  },
  {
   "cell_type": "code",
   "execution_count": 13,
   "id": "7c44fb4d",
   "metadata": {},
   "outputs": [],
   "source": [
    "import sys"
   ]
  },
  {
   "cell_type": "code",
   "execution_count": 14,
   "id": "bf783965",
   "metadata": {},
   "outputs": [
    {
     "data": {
      "text/plain": [
       "3084"
      ]
     },
     "execution_count": 14,
     "metadata": {},
     "output_type": "execute_result"
    }
   ],
   "source": [
    "sys.getsizeof(subs)"
   ]
  },
  {
   "cell_type": "markdown",
   "id": "b08e837d",
   "metadata": {},
   "source": [
    "    Right now the size is very much as we are using the int64 data type. But we can change this using astype()\n",
    "    method."
   ]
  },
  {
   "cell_type": "code",
   "execution_count": 16,
   "id": "0114adb9",
   "metadata": {},
   "outputs": [
    {
     "data": {
      "text/plain": [
       "0       48\n",
       "1       57\n",
       "2       40\n",
       "3       43\n",
       "4       44\n",
       "      ... \n",
       "360    231\n",
       "361    226\n",
       "362    155\n",
       "363    144\n",
       "364    172\n",
       "Name: Subscribers gained, Length: 365, dtype: uint8"
      ]
     },
     "execution_count": 16,
     "metadata": {},
     "output_type": "execute_result"
    }
   ],
   "source": [
    "subs = subs.astype(np.uint8)\n",
    "subs"
   ]
  },
  {
   "cell_type": "code",
   "execution_count": 17,
   "id": "4ada4c60",
   "metadata": {},
   "outputs": [
    {
     "data": {
      "text/plain": [
       "529"
      ]
     },
     "execution_count": 17,
     "metadata": {},
     "output_type": "execute_result"
    }
   ],
   "source": [
    "sys.getsizeof(subs)"
   ]
  },
  {
   "cell_type": "markdown",
   "id": "a99bdf54",
   "metadata": {},
   "source": [
    "    See the humungous difference 😀"
   ]
  },
  {
   "cell_type": "markdown",
   "id": "5f776aea",
   "metadata": {},
   "source": [
    "## `between`\n",
    "\n",
    "    This is used to return a boolean series which can then be used to pass it as a mask to the original series."
   ]
  },
  {
   "cell_type": "code",
   "execution_count": 21,
   "id": "512abde0",
   "metadata": {},
   "outputs": [
    {
     "data": {
      "text/plain": [
       "1      False\n",
       "2      False\n",
       "3      False\n",
       "4      False\n",
       "5      False\n",
       "       ...  \n",
       "211    False\n",
       "212    False\n",
       "213    False\n",
       "214    False\n",
       "215    False\n",
       "Name: runs, Length: 215, dtype: bool"
      ]
     },
     "execution_count": 21,
     "metadata": {},
     "output_type": "execute_result"
    }
   ],
   "source": [
    "mask = virat_kohli_scores.between(80, 100)\n",
    "mask"
   ]
  },
  {
   "cell_type": "code",
   "execution_count": 22,
   "id": "1a3d8de8",
   "metadata": {},
   "outputs": [
    {
     "data": {
      "text/plain": [
       "81      93\n",
       "82      99\n",
       "110     82\n",
       "119     80\n",
       "120    100\n",
       "145     92\n",
       "160     84\n",
       "164    100\n",
       "178     90\n",
       "Name: runs, dtype: int64"
      ]
     },
     "execution_count": 22,
     "metadata": {},
     "output_type": "execute_result"
    }
   ],
   "source": [
    "virat_kohli_scores[mask]"
   ]
  },
  {
   "cell_type": "markdown",
   "id": "4c959853",
   "metadata": {},
   "source": [
    "## `clip`\n",
    "\n",
    "    clip is used to clip the values between a range. Suppose if we have clip(100, 200) then all values\n",
    "    which are greater than 200 would be changed to 200 and all the values which are less than 100 would be changed\n",
    "    to 100."
   ]
  },
  {
   "cell_type": "code",
   "execution_count": 23,
   "id": "51f26a34",
   "metadata": {},
   "outputs": [
    {
     "data": {
      "text/plain": [
       "0       48\n",
       "1       57\n",
       "2       40\n",
       "3       43\n",
       "4       44\n",
       "      ... \n",
       "360    231\n",
       "361    226\n",
       "362    155\n",
       "363    144\n",
       "364    172\n",
       "Name: Subscribers gained, Length: 365, dtype: uint8"
      ]
     },
     "execution_count": 23,
     "metadata": {},
     "output_type": "execute_result"
    }
   ],
   "source": [
    "subs"
   ]
  },
  {
   "cell_type": "code",
   "execution_count": 24,
   "id": "9c686ad0",
   "metadata": {},
   "outputs": [
    {
     "data": {
      "text/plain": [
       "0      100\n",
       "1      100\n",
       "2      100\n",
       "3      100\n",
       "4      100\n",
       "      ... \n",
       "360    200\n",
       "361    200\n",
       "362    155\n",
       "363    144\n",
       "364    172\n",
       "Name: Subscribers gained, Length: 365, dtype: uint8"
      ]
     },
     "execution_count": 24,
     "metadata": {},
     "output_type": "execute_result"
    }
   ],
   "source": [
    "subs.clip(100, 200)"
   ]
  },
  {
   "cell_type": "markdown",
   "id": "f99f70b1",
   "metadata": {},
   "source": [
    "## `drop_duplicates()`\n",
    "\n",
    "    The drop_duplicates() is used to drop the duplicate values."
   ]
  },
  {
   "cell_type": "code",
   "execution_count": 25,
   "id": "389da60a",
   "metadata": {},
   "outputs": [
    {
     "data": {
      "text/plain": [
       "0    1.0\n",
       "1    1.0\n",
       "2    2.0\n",
       "3    2.0\n",
       "4    3.0\n",
       "5    NaN\n",
       "6    NaN\n",
       "7    5.0\n",
       "8    6.0\n",
       "dtype: float64"
      ]
     },
     "execution_count": 25,
     "metadata": {},
     "output_type": "execute_result"
    }
   ],
   "source": [
    "temp = pd.Series([1, 1, 2, 2, 3, np.nan, np.nan, 5, 6])\n",
    "temp"
   ]
  },
  {
   "cell_type": "code",
   "execution_count": 26,
   "id": "11b84d54",
   "metadata": {},
   "outputs": [
    {
     "data": {
      "text/plain": [
       "1    1.0\n",
       "3    2.0\n",
       "4    3.0\n",
       "6    NaN\n",
       "7    5.0\n",
       "8    6.0\n",
       "dtype: float64"
      ]
     },
     "execution_count": 26,
     "metadata": {},
     "output_type": "execute_result"
    }
   ],
   "source": [
    "temp.drop_duplicates(keep = 'last') # Keep the last occurence of each element"
   ]
  },
  {
   "cell_type": "code",
   "execution_count": 32,
   "id": "737ff9eb",
   "metadata": {},
   "outputs": [
    {
     "data": {
      "text/plain": [
       "0    1.0\n",
       "2    2.0\n",
       "4    3.0\n",
       "5    NaN\n",
       "7    5.0\n",
       "8    6.0\n",
       "dtype: float64"
      ]
     },
     "execution_count": 32,
     "metadata": {},
     "output_type": "execute_result"
    }
   ],
   "source": [
    "temp.drop_duplicates(keep = 'first')"
   ]
  },
  {
   "cell_type": "code",
   "execution_count": 33,
   "id": "e2f462d6",
   "metadata": {},
   "outputs": [
    {
     "data": {
      "text/plain": [
       "4    3.0\n",
       "7    5.0\n",
       "8    6.0\n",
       "dtype: float64"
      ]
     },
     "execution_count": 33,
     "metadata": {},
     "output_type": "execute_result"
    }
   ],
   "source": [
    "temp.drop_duplicates(keep = False) # drops all duplicates"
   ]
  },
  {
   "cell_type": "markdown",
   "id": "ca9578b0",
   "metadata": {},
   "source": [
    "## `dealing with missing values`\n",
    "\n",
    "    The first one we have is isnull() and notnull() methods. These returns us a boolean mask with True where missing \n",
    "    value is present."
   ]
  },
  {
   "cell_type": "code",
   "execution_count": 34,
   "id": "095da4fa",
   "metadata": {},
   "outputs": [
    {
     "data": {
      "text/plain": [
       "0      1.0\n",
       "1      2.0\n",
       "2      3.0\n",
       "3      4.0\n",
       "4      NaN\n",
       "5      6.0\n",
       "6      NaN\n",
       "7      7.0\n",
       "8      8.0\n",
       "9      NaN\n",
       "10     9.0\n",
       "11     NaN\n",
       "12    10.0\n",
       "dtype: float64"
      ]
     },
     "execution_count": 34,
     "metadata": {},
     "output_type": "execute_result"
    }
   ],
   "source": [
    "exp = pd.Series([1, 2, 3, 4, np.nan, 6, np.nan, 7, 8, np.nan, 9, np.nan, 10])\n",
    "exp"
   ]
  },
  {
   "cell_type": "code",
   "execution_count": 35,
   "id": "f819654f",
   "metadata": {},
   "outputs": [
    {
     "data": {
      "text/plain": [
       "0     False\n",
       "1     False\n",
       "2     False\n",
       "3     False\n",
       "4      True\n",
       "5     False\n",
       "6      True\n",
       "7     False\n",
       "8     False\n",
       "9      True\n",
       "10    False\n",
       "11     True\n",
       "12    False\n",
       "dtype: bool"
      ]
     },
     "execution_count": 35,
     "metadata": {},
     "output_type": "execute_result"
    }
   ],
   "source": [
    "exp.isnull() # gives True wherever it finds the null values"
   ]
  },
  {
   "cell_type": "code",
   "execution_count": 36,
   "id": "3cbdc306",
   "metadata": {},
   "outputs": [
    {
     "data": {
      "text/plain": [
       "4"
      ]
     },
     "execution_count": 36,
     "metadata": {},
     "output_type": "execute_result"
    }
   ],
   "source": [
    "exp.isnull().sum() # gives the total number of missing values"
   ]
  },
  {
   "cell_type": "code",
   "execution_count": 37,
   "id": "93e62476",
   "metadata": {
    "scrolled": true
   },
   "outputs": [
    {
     "data": {
      "text/plain": [
       "0      True\n",
       "1      True\n",
       "2      True\n",
       "3      True\n",
       "4     False\n",
       "5      True\n",
       "6     False\n",
       "7      True\n",
       "8      True\n",
       "9     False\n",
       "10     True\n",
       "11    False\n",
       "12     True\n",
       "dtype: bool"
      ]
     },
     "execution_count": 37,
     "metadata": {},
     "output_type": "execute_result"
    }
   ],
   "source": [
    "exp.notnull()"
   ]
  },
  {
   "cell_type": "code",
   "execution_count": 38,
   "id": "8c0ae000",
   "metadata": {},
   "outputs": [
    {
     "data": {
      "text/plain": [
       "9"
      ]
     },
     "execution_count": 38,
     "metadata": {},
     "output_type": "execute_result"
    }
   ],
   "source": [
    "exp.notnull().sum() # gives the total number of non missing values"
   ]
  },
  {
   "cell_type": "code",
   "execution_count": 40,
   "id": "138598f9",
   "metadata": {},
   "outputs": [
    {
     "data": {
      "text/plain": [
       "9"
      ]
     },
     "execution_count": 40,
     "metadata": {},
     "output_type": "execute_result"
    }
   ],
   "source": [
    "exp.count() # == exp.notnull().sum()"
   ]
  },
  {
   "cell_type": "code",
   "execution_count": 41,
   "id": "64b53441",
   "metadata": {},
   "outputs": [
    {
     "data": {
      "text/plain": [
       "13"
      ]
     },
     "execution_count": 41,
     "metadata": {},
     "output_type": "execute_result"
    }
   ],
   "source": [
    "exp.size # gives the total size of the series"
   ]
  },
  {
   "cell_type": "markdown",
   "id": "aab60366",
   "metadata": {},
   "source": [
    "## `strategies to deal with missing values`\n",
    "\n",
    "    We may decide to completely remove the missing values if the number of missing values is very small in \n",
    "    comparison to the size of the series. ORR We may decide to fill the missing values with some value if the\n",
    "    number of missing value is comparable to the size of the series.\n",
    "    \n",
    "    Following this theory we have 2 methods.\n",
    "    1. dropna() - Used to drop the missing values\n",
    "    2. fillna() - Used to fill the missing values"
   ]
  },
  {
   "cell_type": "code",
   "execution_count": 42,
   "id": "7f336133",
   "metadata": {},
   "outputs": [
    {
     "data": {
      "text/plain": [
       "0      1.0\n",
       "1      2.0\n",
       "2      3.0\n",
       "3      4.0\n",
       "4      NaN\n",
       "5      6.0\n",
       "6      NaN\n",
       "7      7.0\n",
       "8      8.0\n",
       "9      NaN\n",
       "10     9.0\n",
       "11     NaN\n",
       "12    10.0\n",
       "dtype: float64"
      ]
     },
     "execution_count": 42,
     "metadata": {},
     "output_type": "execute_result"
    }
   ],
   "source": [
    "exp"
   ]
  },
  {
   "cell_type": "code",
   "execution_count": 43,
   "id": "c77d3302",
   "metadata": {},
   "outputs": [
    {
     "data": {
      "text/plain": [
       "0      1.0\n",
       "1      2.0\n",
       "2      3.0\n",
       "3      4.0\n",
       "5      6.0\n",
       "7      7.0\n",
       "8      8.0\n",
       "10     9.0\n",
       "12    10.0\n",
       "dtype: float64"
      ]
     },
     "execution_count": 43,
     "metadata": {},
     "output_type": "execute_result"
    }
   ],
   "source": [
    "exp.dropna() # drops all the missing values and returns us a new series"
   ]
  },
  {
   "cell_type": "code",
   "execution_count": 44,
   "id": "51582c1b",
   "metadata": {},
   "outputs": [
    {
     "data": {
      "text/plain": [
       "0      1.0\n",
       "1      2.0\n",
       "2      3.0\n",
       "3      4.0\n",
       "4      NaN\n",
       "5      6.0\n",
       "6      NaN\n",
       "7      7.0\n",
       "8      8.0\n",
       "9      NaN\n",
       "10     9.0\n",
       "11     NaN\n",
       "12    10.0\n",
       "dtype: float64"
      ]
     },
     "execution_count": 44,
     "metadata": {},
     "output_type": "execute_result"
    }
   ],
   "source": [
    "exp # The series is not changed as the above operation was non mutational operation."
   ]
  },
  {
   "cell_type": "code",
   "execution_count": 45,
   "id": "bea42cf9",
   "metadata": {},
   "outputs": [],
   "source": [
    "exp.dropna(inplace=True) # modifes the series itself"
   ]
  },
  {
   "cell_type": "code",
   "execution_count": 46,
   "id": "18ff808d",
   "metadata": {},
   "outputs": [
    {
     "data": {
      "text/plain": [
       "0      1.0\n",
       "1      2.0\n",
       "2      3.0\n",
       "3      4.0\n",
       "5      6.0\n",
       "7      7.0\n",
       "8      8.0\n",
       "10     9.0\n",
       "12    10.0\n",
       "dtype: float64"
      ]
     },
     "execution_count": 46,
     "metadata": {},
     "output_type": "execute_result"
    }
   ],
   "source": [
    "exp"
   ]
  },
  {
   "cell_type": "markdown",
   "id": "02efeaaa",
   "metadata": {},
   "source": [
    "#### `Side Note`\n",
    "\n",
    "    In the above series, since now we have removed the missing values we can change the data type of the resultant\n",
    "    series."
   ]
  },
  {
   "cell_type": "code",
   "execution_count": 48,
   "id": "8c16abde",
   "metadata": {},
   "outputs": [
    {
     "data": {
      "text/plain": [
       "176"
      ]
     },
     "execution_count": 48,
     "metadata": {},
     "output_type": "execute_result"
    }
   ],
   "source": [
    "sys.getsizeof(exp)"
   ]
  },
  {
   "cell_type": "code",
   "execution_count": 50,
   "id": "ba23a4b2",
   "metadata": {},
   "outputs": [
    {
     "name": "stdout",
     "output_type": "stream",
     "text": [
      "113\n"
     ]
    },
    {
     "data": {
      "text/plain": [
       "0      1\n",
       "1      2\n",
       "2      3\n",
       "3      4\n",
       "5      6\n",
       "7      7\n",
       "8      8\n",
       "10     9\n",
       "12    10\n",
       "dtype: uint8"
      ]
     },
     "execution_count": 50,
     "metadata": {},
     "output_type": "execute_result"
    }
   ],
   "source": [
    "exp = exp.astype(np.uint8)\n",
    "print(sys.getsizeof(exp))\n",
    "exp"
   ]
  },
  {
   "cell_type": "markdown",
   "id": "dad469d3",
   "metadata": {},
   "source": [
    "### `filling missing values`"
   ]
  },
  {
   "cell_type": "code",
   "execution_count": 52,
   "id": "b18f6af4",
   "metadata": {},
   "outputs": [
    {
     "data": {
      "text/plain": [
       "0      1.0\n",
       "1      2.0\n",
       "2      3.0\n",
       "3      4.0\n",
       "4      NaN\n",
       "5      6.0\n",
       "6      NaN\n",
       "7      7.0\n",
       "8      8.0\n",
       "9      NaN\n",
       "10     9.0\n",
       "11     NaN\n",
       "12    10.0\n",
       "dtype: float64"
      ]
     },
     "execution_count": 52,
     "metadata": {},
     "output_type": "execute_result"
    }
   ],
   "source": [
    "exp = pd.Series([1, 2, 3, 4, np.nan, 6, np.nan, 7, 8, np.nan, 9, np.nan, 10])\n",
    "exp"
   ]
  },
  {
   "cell_type": "code",
   "execution_count": 56,
   "id": "8eb64886",
   "metadata": {},
   "outputs": [
    {
     "data": {
      "text/plain": [
       "0      1.0\n",
       "1      2.0\n",
       "2      3.0\n",
       "3      4.0\n",
       "4      0.0\n",
       "5      6.0\n",
       "6      0.0\n",
       "7      7.0\n",
       "8      8.0\n",
       "9      0.0\n",
       "10     9.0\n",
       "11     0.0\n",
       "12    10.0\n",
       "dtype: float64"
      ]
     },
     "execution_count": 56,
     "metadata": {},
     "output_type": "execute_result"
    }
   ],
   "source": [
    "exp = exp.fillna(value = 0) # exp.fillna(0, inplace=True)\n",
    "exp"
   ]
  },
  {
   "cell_type": "markdown",
   "id": "489eba5a",
   "metadata": {},
   "source": [
    "#### `Let us create a very large series and fill every 3rd value with missing value. and let's clean it.` "
   ]
  },
  {
   "cell_type": "code",
   "execution_count": 62,
   "id": "40588628",
   "metadata": {},
   "outputs": [
    {
     "data": {
      "text/plain": [
       "2           NaN\n",
       "3           1.0\n",
       "4           2.0\n",
       "5           NaN\n",
       "6           4.0\n",
       "          ...  \n",
       "9997     9995.0\n",
       "9998        NaN\n",
       "9999     9997.0\n",
       "10000    9998.0\n",
       "10001       NaN\n",
       "Length: 10000, dtype: float64"
      ]
     },
     "execution_count": 62,
     "metadata": {},
     "output_type": "execute_result"
    }
   ],
   "source": [
    "very_large_series = pd.Series({\n",
    "    i+2 : (i if i % 3 != 0 else np.nan)  for i in range(100_00)\n",
    "})\n",
    "\n",
    "very_large_series"
   ]
  },
  {
   "cell_type": "code",
   "execution_count": 63,
   "id": "0d2bc820",
   "metadata": {},
   "outputs": [
    {
     "data": {
      "text/plain": [
       "160032"
      ]
     },
     "execution_count": 63,
     "metadata": {},
     "output_type": "execute_result"
    }
   ],
   "source": [
    "sys.getsizeof(very_large_series)"
   ]
  },
  {
   "cell_type": "code",
   "execution_count": 64,
   "id": "04140b0f",
   "metadata": {},
   "outputs": [
    {
     "data": {
      "text/plain": [
       "3           1.0\n",
       "4           2.0\n",
       "6           4.0\n",
       "7           5.0\n",
       "9           7.0\n",
       "          ...  \n",
       "9994     9992.0\n",
       "9996     9994.0\n",
       "9997     9995.0\n",
       "9999     9997.0\n",
       "10000    9998.0\n",
       "Length: 6666, dtype: float64"
      ]
     },
     "execution_count": 64,
     "metadata": {},
     "output_type": "execute_result"
    }
   ],
   "source": [
    "very_large_series = very_large_series.dropna()\n",
    "very_large_series"
   ]
  },
  {
   "cell_type": "code",
   "execution_count": 65,
   "id": "77bb39fa",
   "metadata": {},
   "outputs": [
    {
     "data": {
      "text/plain": [
       "106688"
      ]
     },
     "execution_count": 65,
     "metadata": {},
     "output_type": "execute_result"
    }
   ],
   "source": [
    "sys.getsizeof(very_large_series)"
   ]
  },
  {
   "cell_type": "markdown",
   "id": "375e4a2d",
   "metadata": {},
   "source": [
    "    We can further reduce the size of the very_large_series by changing its data type to np.uint16"
   ]
  },
  {
   "cell_type": "code",
   "execution_count": 66,
   "id": "8252a7d7",
   "metadata": {},
   "outputs": [
    {
     "data": {
      "text/plain": [
       "3           1\n",
       "4           2\n",
       "6           4\n",
       "7           5\n",
       "9           7\n",
       "         ... \n",
       "9994     9992\n",
       "9996     9994\n",
       "9997     9995\n",
       "9999     9997\n",
       "10000    9998\n",
       "Length: 6666, dtype: uint32"
      ]
     },
     "execution_count": 66,
     "metadata": {},
     "output_type": "execute_result"
    }
   ],
   "source": [
    "very_large_series = very_large_series.astype(np.uint32)\n",
    "very_large_series"
   ]
  },
  {
   "cell_type": "code",
   "execution_count": 68,
   "id": "011dfc60",
   "metadata": {},
   "outputs": [
    {
     "data": {
      "text/plain": [
       "80024"
      ]
     },
     "execution_count": 68,
     "metadata": {},
     "output_type": "execute_result"
    }
   ],
   "source": [
    "sys.getsizeof(very_large_series)"
   ]
  },
  {
   "cell_type": "markdown",
   "id": "cc93b79e",
   "metadata": {},
   "source": [
    "# `isin()`\n",
    "    \n",
    "    The isin() method is used to return us a boolean series. This series can then be used to filter out the original\n",
    "    series."
   ]
  },
  {
   "cell_type": "code",
   "execution_count": 69,
   "id": "586bc3d8",
   "metadata": {},
   "outputs": [
    {
     "data": {
      "text/plain": [
       "Uri: The Surgical Strike                False\n",
       "Battalion 609                           False\n",
       "The Accidental Prime Minister (film)    False\n",
       "Why Cheat India                         False\n",
       "Evening Shadows                         False\n",
       "                                        ...  \n",
       "Hum Tumhare Hain Sanam                   True\n",
       "Aankhen (2002 film)                     False\n",
       "Saathiya (film)                         False\n",
       "Company (film)                          False\n",
       "Awara Paagal Deewana                     True\n",
       "Name: lead, Length: 1500, dtype: bool"
      ]
     },
     "execution_count": 69,
     "metadata": {},
     "output_type": "execute_result"
    }
   ],
   "source": [
    "mask = movies.isin(['Akshay Kumar', 'Shah Rukh Khan', 'Salman Khan'])\n",
    "mask"
   ]
  },
  {
   "cell_type": "code",
   "execution_count": 70,
   "id": "85595cfb",
   "metadata": {},
   "outputs": [
    {
     "data": {
      "text/plain": [
       "Kesari (film)                 Akshay Kumar\n",
       "Mission Mangal                Akshay Kumar\n",
       "Housefull 4                   Akshay Kumar\n",
       "Dabangg 3                      Salman Khan\n",
       "Good Newwz                    Akshay Kumar\n",
       "                                 ...      \n",
       "Andaaz                        Akshay Kumar\n",
       "Tere Naam                      Salman Khan\n",
       "Devdas (2002 Hindi film)    Shah Rukh Khan\n",
       "Hum Tumhare Hain Sanam      Shah Rukh Khan\n",
       "Awara Paagal Deewana          Akshay Kumar\n",
       "Name: lead, Length: 101, dtype: object"
      ]
     },
     "execution_count": 70,
     "metadata": {},
     "output_type": "execute_result"
    }
   ],
   "source": [
    "movies[mask]"
   ]
  },
  {
   "cell_type": "code",
   "execution_count": 71,
   "id": "ac210f06",
   "metadata": {},
   "outputs": [
    {
     "data": {
      "text/plain": [
       "<Axes: ylabel='count'>"
      ]
     },
     "execution_count": 71,
     "metadata": {},
     "output_type": "execute_result"
    },
    {
     "data": {
      "image/png": "[encoded data removed]",
      "text/plain": [
       "<Figure size 640x480 with 1 Axes>"
      ]
     },
     "metadata": {},
     "output_type": "display_data"
    }
   ],
   "source": [
    "movies[mask].value_counts().plot(kind = 'pie')"
   ]
  },
  {
   "cell_type": "markdown",
   "id": "9ec2b9be",
   "metadata": {},
   "source": [
    "## `apply()` method\n",
    "\n",
    "    The apply() method is used to apply a function to each and every value of a series. This applies the function in\n",
    "    a vectorized manner."
   ]
  },
  {
   "cell_type": "code",
   "execution_count": 72,
   "id": "851e42ff",
   "metadata": {},
   "outputs": [
    {
     "data": {
      "text/plain": [
       "0       48\n",
       "1       57\n",
       "2       40\n",
       "3       43\n",
       "4       44\n",
       "      ... \n",
       "360    231\n",
       "361    226\n",
       "362    155\n",
       "363    144\n",
       "364    172\n",
       "Name: Subscribers gained, Length: 365, dtype: uint8"
      ]
     },
     "execution_count": 72,
     "metadata": {},
     "output_type": "execute_result"
    }
   ],
   "source": [
    "subs"
   ]
  },
  {
   "cell_type": "markdown",
   "id": "4ab7f65f",
   "metadata": {},
   "source": [
    "### `lets call all the days when the number of subscribers gained was more than the mean as 'good' and rest 'bad'.`"
   ]
  },
  {
   "cell_type": "code",
   "execution_count": 74,
   "id": "18db2f14",
   "metadata": {},
   "outputs": [
    {
     "data": {
      "text/plain": [
       "0       bad\n",
       "1       bad\n",
       "2       bad\n",
       "3       bad\n",
       "4       bad\n",
       "       ... \n",
       "360    good\n",
       "361    good\n",
       "362    good\n",
       "363    good\n",
       "364    good\n",
       "Name: Subscribers gained, Length: 365, dtype: object"
      ]
     },
     "execution_count": 74,
     "metadata": {},
     "output_type": "execute_result"
    }
   ],
   "source": [
    "mean_subs = subs.mean()\n",
    "performance_matrics = subs.apply(lambda x : 'good' if x > mean_subs else 'bad')\n",
    "performance_matrics"
   ]
  },
  {
   "cell_type": "code",
   "execution_count": 79,
   "id": "cf202ea7",
   "metadata": {},
   "outputs": [
    {
     "data": {
      "text/plain": [
       "<Axes: ylabel='count'>"
      ]
     },
     "execution_count": 79,
     "metadata": {},
     "output_type": "execute_result"
    },
    {
     "data": {
      "image/png": "[encoded data removed]",
      "text/plain": [
       "<Figure size 640x480 with 1 Axes>"
      ]
     },
     "metadata": {},
     "output_type": "display_data"
    }
   ],
   "source": [
    "performance_matrics.value_counts().plot(kind = 'pie')"
   ]
  },
  {
   "cell_type": "code",
   "execution_count": null,
   "id": "4ae3e766",
   "metadata": {},
   "outputs": [],
   "source": []
  }
 ],
 "metadata": {
  "kernelspec": {
   "display_name": "Python 3 (ipykernel)",
   "language": "python",
   "name": "python3"
  },
  "language_info": {
   "codemirror_mode": {
    "name": "ipython",
    "version": 3
   },
   "file_extension": ".py",
   "mimetype": "text/x-python",
   "name": "python",
   "nbconvert_exporter": "python",
   "pygments_lexer": "ipython3",
   "version": "3.11.5"
  }
 },
 "nbformat": 4,
 "nbformat_minor": 5
}
