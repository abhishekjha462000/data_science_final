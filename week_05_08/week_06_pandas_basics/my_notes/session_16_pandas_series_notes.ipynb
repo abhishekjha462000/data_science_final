{
 "cells": [
  {
   "cell_type": "markdown",
   "id": "56a4ef1d",
   "metadata": {},
   "source": [
    "# Pandas\n",
    "\n",
    "    Pandas stands for panel data structures. This is built on top of numpy library and is used for data analysis, extraction\n",
    "    and cleaning.\n",
    "    \n",
    "    We have 3 kinds of data structures inside pandas:\n",
    "    1. Index (1D)\n",
    "    2. Series (1 column)\n",
    "    3. Dataframes (multiple columns)\n",
    "    \n",
    "    Before starting with dataframes, we would first study"
   ]
  },
  {
   "cell_type": "code",
   "execution_count": null,
   "id": "c05a4f76",
   "metadata": {},
   "outputs": [],
   "source": []
  }
 ],
 "metadata": {
  "kernelspec": {
   "display_name": "Python 3 (ipykernel)",
   "language": "python",
   "name": "python3"
  },
  "language_info": {
   "codemirror_mode": {
    "name": "ipython",
    "version": 3
   },
   "file_extension": ".py",
   "mimetype": "text/x-python",
   "name": "python",
   "nbconvert_exporter": "python",
   "pygments_lexer": "ipython3",
   "version": "3.11.5"
  }
 },
 "nbformat": 4,
 "nbformat_minor": 5
}
