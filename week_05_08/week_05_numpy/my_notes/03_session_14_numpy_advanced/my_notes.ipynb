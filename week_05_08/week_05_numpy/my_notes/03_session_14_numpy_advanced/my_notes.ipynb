{
 "cells": [
  {
   "cell_type": "markdown",
   "id": "4b8e35a0",
   "metadata": {},
   "source": [
    "# Speed comparison of list and nd array"
   ]
  },
  {
   "cell_type": "markdown",
   "id": "56d31f26",
   "metadata": {},
   "source": [
    "### speed demonstration"
   ]
  },
  {
   "cell_type": "code",
   "execution_count": 1,
   "id": "81c5243e",
   "metadata": {},
   "outputs": [],
   "source": [
    "import numpy as np"
   ]
  },
  {
   "cell_type": "code",
   "execution_count": 2,
   "id": "0e95ff87",
   "metadata": {},
   "outputs": [
    {
     "name": "stdout",
     "output_type": "stream",
     "text": [
      "time elapsed: 1.846043586730957\n"
     ]
    }
   ],
   "source": [
    "from time import time\n",
    "\n",
    "a = [i for i in range(1000_00_00)]\n",
    "b = [i for i in range(1000_00_00, 2000_00_00)]\n",
    "\n",
    "start = time()\n",
    "c = [a[i]+b[i] for i in range(1000_00_00)]\n",
    "end = time()\n",
    "print(f\"time elapsed: {end-start}\")"
   ]
  },
  {
   "cell_type": "code",
   "execution_count": 3,
   "id": "1dec679f",
   "metadata": {},
   "outputs": [
    {
     "name": "stdout",
     "output_type": "stream",
     "text": [
      "time elapsed: 0.20426273345947266\n"
     ]
    }
   ],
   "source": [
    "a = np.arange(1000_00_00)\n",
    "b = np.arange(1000_00_00, 2000_00_00)\n",
    "\n",
    "start = time() # start the timer\n",
    "c = a + b\n",
    "end = time() # end the timer\n",
    "print(f\"time elapsed: {end-start}\")"
   ]
  },
  {
   "cell_type": "code",
   "execution_count": 4,
   "id": "6ac8b451",
   "metadata": {},
   "outputs": [
    {
     "data": {
      "text/plain": [
       "55.53716232243054"
      ]
     },
     "execution_count": 4,
     "metadata": {},
     "output_type": "execute_result"
    }
   ],
   "source": [
    "11.344172584562097/0.20426273345947266"
   ]
  },
  {
   "cell_type": "markdown",
   "id": "f4e6d329",
   "metadata": {},
   "source": [
    "## speed demonstration 2"
   ]
  },
  {
   "cell_type": "code",
   "execution_count": 5,
   "id": "581452c3",
   "metadata": {},
   "outputs": [
    {
     "name": "stdout",
     "output_type": "stream",
     "text": [
      "719 µs ± 87.5 µs per loop (mean ± std. dev. of 7 runs, 1,000 loops each)\n"
     ]
    }
   ],
   "source": [
    "%timeit -n 1000 [i ** 2 for i in range(10000)]"
   ]
  },
  {
   "cell_type": "code",
   "execution_count": 6,
   "id": "4aaf0ed3",
   "metadata": {},
   "outputs": [
    {
     "name": "stdout",
     "output_type": "stream",
     "text": [
      "25.3 µs ± 7.28 µs per loop (mean ± std. dev. of 7 runs, 1,000 loops each)\n"
     ]
    }
   ],
   "source": [
    "%timeit -n 1000 (np.arange(10000) ** 2)"
   ]
  },
  {
   "cell_type": "code",
   "execution_count": 8,
   "id": "d4a77645",
   "metadata": {},
   "outputs": [
    {
     "data": {
      "text/plain": [
       "28.41897233201581"
      ]
     },
     "execution_count": 8,
     "metadata": {},
     "output_type": "execute_result"
    }
   ],
   "source": [
    "719/25.3"
   ]
  },
  {
   "cell_type": "markdown",
   "id": "503a68d1",
   "metadata": {},
   "source": [
    "# controlling memory space with numpy"
   ]
  },
  {
   "cell_type": "markdown",
   "id": "9b5c169b",
   "metadata": {},
   "source": [
    "- We can not control the size of python list."
   ]
  },
  {
   "cell_type": "code",
   "execution_count": 9,
   "id": "2a7a0fbe",
   "metadata": {},
   "outputs": [],
   "source": [
    "import sys"
   ]
  },
  {
   "cell_type": "code",
   "execution_count": 10,
   "id": "876fd9d9",
   "metadata": {},
   "outputs": [],
   "source": [
    "a = [i for i in range(1000_00_00)]"
   ]
  },
  {
   "cell_type": "code",
   "execution_count": 11,
   "id": "1635ffd0",
   "metadata": {},
   "outputs": [
    {
     "data": {
      "text/plain": [
       "89095160"
      ]
     },
     "execution_count": 11,
     "metadata": {},
     "output_type": "execute_result"
    }
   ],
   "source": [
    "sys.getsizeof(a)"
   ]
  },
  {
   "cell_type": "markdown",
   "id": "0ee3343b",
   "metadata": {},
   "source": [
    "We cannot control the size of this a variable. However, we can do the customization in numpy array."
   ]
  },
  {
   "cell_type": "code",
   "execution_count": 12,
   "id": "eff72ef8",
   "metadata": {},
   "outputs": [
    {
     "data": {
      "text/plain": [
       "40000112"
      ]
     },
     "execution_count": 12,
     "metadata": {},
     "output_type": "execute_result"
    }
   ],
   "source": [
    "a = np.arange(1000_00_00)\n",
    "sys.getsizeof(a)"
   ]
  },
  {
   "cell_type": "code",
   "execution_count": 13,
   "id": "c803ff6e",
   "metadata": {},
   "outputs": [
    {
     "data": {
      "text/plain": [
       "dtype('int32')"
      ]
     },
     "execution_count": 13,
     "metadata": {},
     "output_type": "execute_result"
    }
   ],
   "source": [
    "a.dtype # numpy automatically decided that it should\n",
    "# use int32"
   ]
  },
  {
   "cell_type": "markdown",
   "id": "17b54fbe",
   "metadata": {},
   "source": [
    "# Broadcasting"
   ]
  },
  {
   "cell_type": "markdown",
   "id": "1b7aed7a",
   "metadata": {},
   "source": [
    "The term broadcasting describes how NumPy treats arrays with different shapes during arithmetic operations."
   ]
  },
  {
   "cell_type": "markdown",
   "id": "fd733426",
   "metadata": {},
   "source": [
    "The smaller array is broadcasted across the larger array so that they have compatible shapes."
   ]
  },
  {
   "cell_type": "markdown",
   "id": "da774c27",
   "metadata": {},
   "source": [
    "    Rules of broadcasting\n",
    "    \n",
    "    1. First make the number of dimensions of both array same. This is done by appending 1 to the head of the smaller array.\n",
    "       For example, if we have two arrays of shape (4, 3) and (3,), then we prepend 1 to the smaller array and make it \n",
    "       (1, 3).\n",
    "      \n",
    "    2. After the first step, when both the arrays have same dimension then we make all 1's equal to the non-one value of the\n",
    "       second array. For example, in the above case we make (1, 3) equal to (4, 3).\n",
    "       \n",
    "    3. If after the steps 1 and 2, the shape of both the arrays is same, then operation is possible."
   ]
  },
  {
   "cell_type": "markdown",
   "id": "13e9687b",
   "metadata": {},
   "source": [
    "### Example 1\n",
    "\n",
    "    - (4,3) and (3,)\n",
    "    \n",
    "    1. After step 1, (3, ) ---> (1, 3)\n",
    "       Now we have 2 arrays (4, 3) and (1, 3)\n",
    "    \n",
    "    2. Now we make 1 to non-1 value of the other shape\n",
    "       (1, 3) --> (4, 3)\n",
    "    \n",
    "    3. Now that shapes are same, we can now do the operation."
   ]
  },
  {
   "cell_type": "code",
   "execution_count": 14,
   "id": "586bcc4c",
   "metadata": {},
   "outputs": [
    {
     "name": "stdout",
     "output_type": "stream",
     "text": [
      "[[ 0  2  4]\n",
      " [ 3  5  7]\n",
      " [ 6  8 10]\n",
      " [ 9 11 13]]\n"
     ]
    }
   ],
   "source": [
    "a = np.arange(12).reshape((4,3))\n",
    "b = np.arange(3)\n",
    "\n",
    "print(a+b) # allowed"
   ]
  },
  {
   "cell_type": "markdown",
   "id": "ccf715f1",
   "metadata": {},
   "source": [
    "## Example 2\n",
    "\n",
    "    - (3, 4) and (3, )\n",
    "    \n",
    "    1. After step 1, (3, ) ---> (1, 3)\n",
    "    \n",
    "    2. Now we make 1 to non-1 value of the other shape\n",
    "       (1, 3) ---> (3, 3)\n",
    "    \n",
    "    3. Now that we have done the broadcasting and still the shapes are not same,\n",
    "       we cannot do the operation."
   ]
  },
  {
   "cell_type": "code",
   "execution_count": 17,
   "id": "446400fa",
   "metadata": {},
   "outputs": [
    {
     "name": "stdout",
     "output_type": "stream",
     "text": [
      "operands could not be broadcast together with shapes (3,4) (3,) \n"
     ]
    }
   ],
   "source": [
    "a = np.arange(12).reshape((3, 4))\n",
    "b = np.arange(3)\n",
    "try:\n",
    "    print(a+b)\n",
    "except ValueError as ex:\n",
    "    print(ex)"
   ]
  },
  {
   "cell_type": "markdown",
   "id": "c078ae7c",
   "metadata": {},
   "source": [
    "## Example 3\n",
    "\n",
    "    - (1, 3) and (4, 1)\n",
    "    \n",
    "    1. Since dimensions are same, we go to step no 2.\n",
    "    2. Make 1's to non-1 values of the other shapes\n",
    "       (1, 3) ---> (4, 3)\n",
    "       (4, 1) ---> (4, 3)\n",
    "    3. Now both the arrays have same shape and thus we can do the operation."
   ]
  },
  {
   "cell_type": "code",
   "execution_count": 20,
   "id": "ababb6c0",
   "metadata": {},
   "outputs": [
    {
     "name": "stdout",
     "output_type": "stream",
     "text": [
      "[[0 1 2]\n",
      " [1 2 3]\n",
      " [2 3 4]\n",
      " [3 4 5]]\n"
     ]
    }
   ],
   "source": [
    "a = np.arange(3).reshape(1,3)\n",
    "b = np.arange(4).reshape(4,1)\n",
    "\n",
    "try:\n",
    "    print(a+b)\n",
    "except ValueError as ex:\n",
    "    print(ex)"
   ]
  },
  {
   "cell_type": "markdown",
   "id": "93876ed9",
   "metadata": {},
   "source": [
    "## Example 4\n",
    "\n",
    "    - (1,) and (2,2)\n",
    "    \n",
    "    1. First we will make the dimensions equal, (1, ) ---> (1, 1)\n",
    "    2. After making dimensions equal, we make all 1's equal to the non-1's\n",
    "       of the other array.\n",
    "       (1,1) ---> (2, 2)\n",
    "    3. Since the shapes have come out to be same, we can now perform the\n",
    "       operation."
   ]
  },
  {
   "cell_type": "code",
   "execution_count": 22,
   "id": "68e9577d",
   "metadata": {},
   "outputs": [
    {
     "name": "stdout",
     "output_type": "stream",
     "text": [
      "[[1 2]\n",
      " [3 4]]\n"
     ]
    }
   ],
   "source": [
    "a = np.array([1])\n",
    "b = np.arange(4).reshape((2,2))\n",
    "\n",
    "print(a + b)"
   ]
  },
  {
   "cell_type": "markdown",
   "id": "14dd9a27",
   "metadata": {},
   "source": [
    "## Example 5\n",
    "\n",
    "    - (3,4) and (4,3)\n",
    "    \n",
    "    1. Since we cannot do any sort of broadcasting here, hence we cannot do\n",
    "       any operation bewteen them(except matrix multiplication)."
   ]
  },
  {
   "cell_type": "code",
   "execution_count": 24,
   "id": "237dc92a",
   "metadata": {},
   "outputs": [
    {
     "name": "stdout",
     "output_type": "stream",
     "text": [
      "operands could not be broadcast together with shapes (3,4) (4,3) \n"
     ]
    }
   ],
   "source": [
    "a = np.arange(12).reshape((3,4))\n",
    "b = np.arange(12).reshape((4,3))\n",
    "\n",
    "try:\n",
    "    print(a+b)\n",
    "except ValueError as ex:\n",
    "    print(ex)"
   ]
  },
  {
   "cell_type": "markdown",
   "id": "fa5ba459",
   "metadata": {},
   "source": [
    "## Example 6\n",
    "    - (4,4) and (2,2)\n",
    "    \n",
    "    1. Since dimensions are same and also there is not a single 1 in the \n",
    "       shape of any shape, we cannot apply any sort of broadcasting rule.\n",
    "    2. Also, shapes are also NOT equal. We cannot do any operation between \n",
    "       them."
   ]
  },
  {
   "cell_type": "code",
   "execution_count": 27,
   "id": "3ef07ca7",
   "metadata": {},
   "outputs": [
    {
     "name": "stdout",
     "output_type": "stream",
     "text": [
      "operands could not be broadcast together with shapes (4,4) (2,2) \n"
     ]
    }
   ],
   "source": [
    "a = np.arange(16).reshape((4,4))\n",
    "b = np.arange(4).reshape((2,2))\n",
    "\n",
    "try:\n",
    "    print(a+b)\n",
    "except ValueError as ex:\n",
    "    print(ex)"
   ]
  },
  {
   "cell_type": "markdown",
   "id": "e87c5033",
   "metadata": {},
   "source": [
    "# working with mathematical functions"
   ]
  },
  {
   "cell_type": "code",
   "execution_count": 28,
   "id": "1d185f9a",
   "metadata": {},
   "outputs": [
    {
     "data": {
      "text/plain": [
       "array([ 0.        ,  0.84147098,  0.90929743,  0.14112001, -0.7568025 ,\n",
       "       -0.95892427, -0.2794155 ,  0.6569866 ,  0.98935825,  0.41211849])"
      ]
     },
     "execution_count": 28,
     "metadata": {},
     "output_type": "execute_result"
    }
   ],
   "source": [
    "a = np.arange(10)\n",
    "np.sin(a)"
   ]
  },
  {
   "cell_type": "markdown",
   "id": "227271c4",
   "metadata": {},
   "source": [
    "## sigmoid"
   ]
  },
  {
   "cell_type": "code",
   "execution_count": 42,
   "id": "285b479c",
   "metadata": {},
   "outputs": [
    {
     "data": {
      "text/html": [
       "<img src=\"https://wikimedia.org/api/rest_v1/media/math/render/svg/faaa0c014ae28ac67db5c49b3f3e8b08415a3f2b\" width=\"100\" height=\"100\"/>"
      ],
      "text/plain": [
       "<IPython.core.display.Image object>"
      ]
     },
     "execution_count": 42,
     "metadata": {},
     "output_type": "execute_result"
    }
   ],
   "source": [
    "# import image module \n",
    "from IPython.display import Image \n",
    "\n",
    "image_url = \"https://wikimedia.org/api/rest_v1/media/math/render/svg/faaa0c014ae28ac67db5c49b3f3e8b08415a3f2b\"\n",
    "Image(url=image_url, width=100, height=100) "
   ]
  },
  {
   "cell_type": "code",
   "execution_count": 36,
   "id": "d1a3ed61",
   "metadata": {},
   "outputs": [],
   "source": [
    "def sigmoid(arr):\n",
    "    return 1 / (1 + np.exp(-arr))"
   ]
  },
  {
   "cell_type": "code",
   "execution_count": 37,
   "id": "f0feede9",
   "metadata": {},
   "outputs": [
    {
     "data": {
      "text/plain": [
       "array([0.5       , 0.73105858, 0.88079708, 0.95257413, 0.98201379,\n",
       "       0.99330715, 0.99752738, 0.99908895, 0.99966465, 0.99987661])"
      ]
     },
     "execution_count": 37,
     "metadata": {},
     "output_type": "execute_result"
    }
   ],
   "source": [
    "a = np.arange(10)\n",
    "sigmoid(a)"
   ]
  },
  {
   "cell_type": "markdown",
   "id": "18583b52",
   "metadata": {},
   "source": [
    "## mean squared error loss function"
   ]
  },
  {
   "cell_type": "code",
   "execution_count": 43,
   "id": "21f2ee84",
   "metadata": {},
   "outputs": [],
   "source": [
    "actual = np.random.randint(1, 100, (25, ))\n",
    "predicted = np.random.randint(1, 100, (25, ))"
   ]
  },
  {
   "cell_type": "code",
   "execution_count": 44,
   "id": "0743b381",
   "metadata": {},
   "outputs": [
    {
     "data": {
      "text/plain": [
       "array([44,  8, 43, 12, 74, 29, 63, 38, 25, 60,  2, 66, 11, 16, 81, 28, 90,\n",
       "       21, 82, 13, 44, 66, 85, 46, 75])"
      ]
     },
     "execution_count": 44,
     "metadata": {},
     "output_type": "execute_result"
    }
   ],
   "source": [
    "actual"
   ]
  },
  {
   "cell_type": "code",
   "execution_count": 45,
   "id": "fbfbaec6",
   "metadata": {},
   "outputs": [
    {
     "data": {
      "text/plain": [
       "array([48, 79, 42, 76, 17, 47,  3, 80, 16, 23, 14, 22, 26, 32, 75, 38, 12,\n",
       "        4, 61, 47,  4, 47, 98, 72, 78])"
      ]
     },
     "execution_count": 45,
     "metadata": {},
     "output_type": "execute_result"
    }
   ],
   "source": [
    "predicted"
   ]
  },
  {
   "cell_type": "code",
   "execution_count": 48,
   "id": "63e97900",
   "metadata": {},
   "outputs": [],
   "source": [
    "def mse(actual, predicted):\n",
    "    return np.mean((actual-predicted) ** 2)"
   ]
  },
  {
   "cell_type": "code",
   "execution_count": 49,
   "id": "1f049b9f",
   "metadata": {},
   "outputs": [
    {
     "data": {
      "text/plain": [
       "1320.92"
      ]
     },
     "execution_count": 49,
     "metadata": {},
     "output_type": "execute_result"
    }
   ],
   "source": [
    "mse(actual, predicted)"
   ]
  },
  {
   "cell_type": "markdown",
   "id": "622b2715",
   "metadata": {},
   "source": [
    "# missing values"
   ]
  },
  {
   "cell_type": "markdown",
   "id": "e704118d",
   "metadata": {},
   "source": [
    "    np.nan is used for missing values. It is different from None.\n",
    "    None is not considered missing value. All the code of numpy has\n",
    "    been written keeping in mind None as missing value."
   ]
  },
  {
   "cell_type": "code",
   "execution_count": 50,
   "id": "9b1c62e8",
   "metadata": {},
   "outputs": [],
   "source": [
    "a = np.array([1,2,3, np.nan, 5,6])"
   ]
  },
  {
   "cell_type": "code",
   "execution_count": 51,
   "id": "f46808a8",
   "metadata": {},
   "outputs": [
    {
     "data": {
      "text/plain": [
       "array([ 1.,  2.,  3., nan,  5.,  6.])"
      ]
     },
     "execution_count": 51,
     "metadata": {},
     "output_type": "execute_result"
    }
   ],
   "source": [
    "a"
   ]
  },
  {
   "cell_type": "markdown",
   "id": "59635ea6",
   "metadata": {},
   "source": [
    "    To find out the missing value we have a vectorized top level function\n",
    "    in the numpy library called as np.isnan(). This returns us a boolean\n",
    "    mask which can then be used for boolean masking."
   ]
  },
  {
   "cell_type": "code",
   "execution_count": 53,
   "id": "17f8040c",
   "metadata": {},
   "outputs": [
    {
     "data": {
      "text/plain": [
       "array([False, False, False,  True, False, False])"
      ]
     },
     "execution_count": 53,
     "metadata": {},
     "output_type": "execute_result"
    }
   ],
   "source": [
    "mask = np.isnan(a)\n",
    "mask"
   ]
  },
  {
   "cell_type": "markdown",
   "id": "4d956c13",
   "metadata": {},
   "source": [
    "    Now to filter out the missing values from the a, we can then pass\n",
    "    this mask into the a."
   ]
  },
  {
   "cell_type": "code",
   "execution_count": 55,
   "id": "333dce6a",
   "metadata": {},
   "outputs": [
    {
     "data": {
      "text/plain": [
       "array([1., 2., 3., 5., 6.])"
      ]
     },
     "execution_count": 55,
     "metadata": {},
     "output_type": "execute_result"
    }
   ],
   "source": [
    "a[~mask] # We have now filtered out the missing values"
   ]
  },
  {
   "cell_type": "markdown",
   "id": "5bfd5854",
   "metadata": {},
   "source": [
    "# plotting graph"
   ]
  },
  {
   "cell_type": "code",
   "execution_count": 56,
   "id": "72dda5de",
   "metadata": {},
   "outputs": [],
   "source": [
    "import matplotlib.pyplot as plt\n",
    "%matplotlib inline"
   ]
  },
  {
   "cell_type": "markdown",
   "id": "f72e8777",
   "metadata": {},
   "source": [
    "## Example 1\n",
    "     \n",
    "     Plot the graph of y = x"
   ]
  },
  {
   "cell_type": "code",
   "execution_count": 81,
   "id": "814430fb",
   "metadata": {},
   "outputs": [],
   "source": [
    "x = np.linspace(-10, 10, 100)\n",
    "y = x"
   ]
  },
  {
   "cell_type": "code",
   "execution_count": 82,
   "id": "fdf30749",
   "metadata": {},
   "outputs": [
    {
     "data": {
      "image/png": "[encoded data removed]",
      "text/plain": [
       "<Figure size 640x480 with 1 Axes>"
      ]
     },
     "metadata": {},
     "output_type": "display_data"
    }
   ],
   "source": [
    "plt.plot(x, y)\n",
    "plt.show()"
   ]
  },
  {
   "cell_type": "markdown",
   "id": "30e8e0d1",
   "metadata": {},
   "source": [
    "## Example 2\n",
    "    y = x ** 2"
   ]
  },
  {
   "cell_type": "code",
   "execution_count": 80,
   "id": "050e55ef",
   "metadata": {},
   "outputs": [
    {
     "data": {
      "image/png": "[encoded data removed]",
      "text/plain": [
       "<Figure size 640x480 with 1 Axes>"
      ]
     },
     "metadata": {},
     "output_type": "display_data"
    }
   ],
   "source": [
    "x = np.linspace(-10, 10, 20)\n",
    "y = x ** 2\n",
    "\n",
    "plt.plot(x,y)\n",
    "plt.show()\n"
   ]
  },
  {
   "cell_type": "markdown",
   "id": "1bb853ed",
   "metadata": {},
   "source": [
    "## Example 3\n",
    "\n",
    "    y = sin(x)"
   ]
  },
  {
   "cell_type": "code",
   "execution_count": 88,
   "id": "68aad706",
   "metadata": {},
   "outputs": [
    {
     "data": {
      "image/png": "[encoded data removed]",
      "text/plain": [
       "<Figure size 640x480 with 1 Axes>"
      ]
     },
     "metadata": {},
     "output_type": "display_data"
    }
   ],
   "source": [
    "x = np.linspace(-10, 10, 200)\n",
    "y = np.sin(x)\n",
    "\n",
    "plt.plot(x, y, 'r--')\n",
    "plt.grid()\n",
    "plt.show()"
   ]
  },
  {
   "cell_type": "markdown",
   "id": "4388b8cb",
   "metadata": {},
   "source": [
    "## Example 4\n",
    "\n",
    "    sigmoid function"
   ]
  },
  {
   "cell_type": "code",
   "execution_count": 91,
   "id": "8d024b77",
   "metadata": {},
   "outputs": [
    {
     "data": {
      "image/png": "[encoded data removed]",
      "text/plain": [
       "<Figure size 640x480 with 1 Axes>"
      ]
     },
     "metadata": {},
     "output_type": "display_data"
    }
   ],
   "source": [
    "x = np.linspace(-10, 10, 50)\n",
    "y = 1 / (1 + np.exp(-x))\n",
    "\n",
    "plt.plot(x, y)\n",
    "plt.grid()\n",
    "plt.show()"
   ]
  },
  {
   "cell_type": "code",
   "execution_count": null,
   "id": "74b465de",
   "metadata": {},
   "outputs": [],
   "source": []
  }
 ],
 "metadata": {
  "kernelspec": {
   "display_name": "Python 3 (ipykernel)",
   "language": "python",
   "name": "python3"
  },
  "language_info": {
   "codemirror_mode": {
    "name": "ipython",
    "version": 3
   },
   "file_extension": ".py",
   "mimetype": "text/x-python",
   "name": "python",
   "nbconvert_exporter": "python",
   "pygments_lexer": "ipython3",
   "version": "3.11.5"
  }
 },
 "nbformat": 4,
 "nbformat_minor": 5
}
