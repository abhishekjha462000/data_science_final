{
 "cells": [
  {
   "cell_type": "markdown",
   "id": "4b8e35a0",
   "metadata": {},
   "source": [
    "# Speed comparison of list and nd array"
   ]
  },
  {
   "cell_type": "markdown",
   "id": "56d31f26",
   "metadata": {},
   "source": [
    "### speed demonstration"
   ]
  },
  {
   "cell_type": "code",
   "execution_count": 1,
   "id": "81c5243e",
   "metadata": {},
   "outputs": [],
   "source": [
    "import numpy as np"
   ]
  },
  {
   "cell_type": "code",
   "execution_count": 2,
   "id": "0e95ff87",
   "metadata": {},
   "outputs": [
    {
     "name": "stdout",
     "output_type": "stream",
     "text": [
      "time elapsed: 1.846043586730957\n"
     ]
    }
   ],
   "source": [
    "from time import time\n",
    "\n",
    "a = [i for i in range(1000_00_00)]\n",
    "b = [i for i in range(1000_00_00, 2000_00_00)]\n",
    "\n",
    "start = time()\n",
    "c = [a[i]+b[i] for i in range(1000_00_00)]\n",
    "end = time()\n",
    "print(f\"time elapsed: {end-start}\")"
   ]
  },
  {
   "cell_type": "code",
   "execution_count": 3,
   "id": "1dec679f",
   "metadata": {},
   "outputs": [
    {
     "name": "stdout",
     "output_type": "stream",
     "text": [
      "time elapsed: 0.20426273345947266\n"
     ]
    }
   ],
   "source": [
    "a = np.arange(1000_00_00)\n",
    "b = np.arange(1000_00_00, 2000_00_00)\n",
    "\n",
    "start = time() # start the timer\n",
    "c = a + b\n",
    "end = time() # end the timer\n",
    "print(f\"time elapsed: {end-start}\")"
   ]
  },
  {
   "cell_type": "code",
   "execution_count": 4,
   "id": "6ac8b451",
   "metadata": {},
   "outputs": [
    {
     "data": {
      "text/plain": [
       "55.53716232243054"
      ]
     },
     "execution_count": 4,
     "metadata": {},
     "output_type": "execute_result"
    }
   ],
   "source": [
    "11.344172584562097/0.20426273345947266"
   ]
  },
  {
   "cell_type": "markdown",
   "id": "f4e6d329",
   "metadata": {},
   "source": [
    "## speed demonstration 2"
   ]
  },
  {
   "cell_type": "code",
   "execution_count": 5,
   "id": "581452c3",
   "metadata": {},
   "outputs": [
    {
     "name": "stdout",
     "output_type": "stream",
     "text": [
      "719 µs ± 87.5 µs per loop (mean ± std. dev. of 7 runs, 1,000 loops each)\n"
     ]
    }
   ],
   "source": [
    "%timeit -n 1000 [i ** 2 for i in range(10000)]"
   ]
  },
  {
   "cell_type": "code",
   "execution_count": 6,
   "id": "4aaf0ed3",
   "metadata": {},
   "outputs": [
    {
     "name": "stdout",
     "output_type": "stream",
     "text": [
      "25.3 µs ± 7.28 µs per loop (mean ± std. dev. of 7 runs, 1,000 loops each)\n"
     ]
    }
   ],
   "source": [
    "%timeit -n 1000 (np.arange(10000) ** 2)"
   ]
  },
  {
   "cell_type": "code",
   "execution_count": 8,
   "id": "d4a77645",
   "metadata": {},
   "outputs": [
    {
     "data": {
      "text/plain": [
       "28.41897233201581"
      ]
     },
     "execution_count": 8,
     "metadata": {},
     "output_type": "execute_result"
    }
   ],
   "source": [
    "719/25.3"
   ]
  },
  {
   "cell_type": "markdown",
   "id": "503a68d1",
   "metadata": {},
   "source": [
    "# controlling memory space with numpy"
   ]
  },
  {
   "cell_type": "markdown",
   "id": "9b5c169b",
   "metadata": {},
   "source": [
    "- We can not control the size of python list."
   ]
  },
  {
   "cell_type": "code",
   "execution_count": 9,
   "id": "2a7a0fbe",
   "metadata": {},
   "outputs": [],
   "source": [
    "import sys"
   ]
  },
  {
   "cell_type": "code",
   "execution_count": 10,
   "id": "876fd9d9",
   "metadata": {},
   "outputs": [],
   "source": [
    "a = [i for i in range(1000_00_00)]"
   ]
  },
  {
   "cell_type": "code",
   "execution_count": 11,
   "id": "1635ffd0",
   "metadata": {},
   "outputs": [
    {
     "data": {
      "text/plain": [
       "89095160"
      ]
     },
     "execution_count": 11,
     "metadata": {},
     "output_type": "execute_result"
    }
   ],
   "source": [
    "sys.getsizeof(a)"
   ]
  },
  {
   "cell_type": "markdown",
   "id": "0ee3343b",
   "metadata": {},
   "source": [
    "We cannot control the size of this a variable. However, we can do the customization in numpy array."
   ]
  },
  {
   "cell_type": "code",
   "execution_count": 12,
   "id": "eff72ef8",
   "metadata": {},
   "outputs": [
    {
     "data": {
      "text/plain": [
       "40000112"
      ]
     },
     "execution_count": 12,
     "metadata": {},
     "output_type": "execute_result"
    }
   ],
   "source": [
    "a = np.arange(1000_00_00)\n",
    "sys.getsizeof(a)"
   ]
  },
  {
   "cell_type": "code",
   "execution_count": 13,
   "id": "c803ff6e",
   "metadata": {},
   "outputs": [
    {
     "data": {
      "text/plain": [
       "dtype('int32')"
      ]
     },
     "execution_count": 13,
     "metadata": {},
     "output_type": "execute_result"
    }
   ],
   "source": [
    "a.dtype # numpy automatically decided that it should\n",
    "# use int32"
   ]
  },
  {
   "cell_type": "markdown",
   "id": "17b54fbe",
   "metadata": {},
   "source": [
    "# Broadcasting"
   ]
  },
  {
   "cell_type": "markdown",
   "id": "1b7aed7a",
   "metadata": {},
   "source": [
    "The term broadcasting describes how NumPy treats arrays with different shapes during arithmetic operations."
   ]
  },
  {
   "cell_type": "markdown",
   "id": "fd733426",
   "metadata": {},
   "source": [
    "The smaller array is broadcasted across the larger array so that they have compatible shapes."
   ]
  },
  {
   "cell_type": "markdown",
   "id": "9991d205",
   "metadata": {},
   "source": [
    "    Rules of broadcasting\n",
    "    \n",
    "    1. First make the number of dimensions of both array same. This is done by appending 1 to the head of the smaller array.\n",
    "       For example, if we have two arrays of shape (4, 3) and (3,), then we prepend 1 to the smaller array and make it \n",
    "       (1, 3).\n",
    "      \n",
    "    2. After the first step, when both the arrays have same dimension then we make all 1's equal to the non-one value of the\n",
    "       second array. For example, in the above case we make (1, 3) equal to (4, 3).\n",
    "       \n",
    "    3. If after the steps 1 and 2, the shape of both the arrays is same, then operation is possible."
   ]
  },
  {
   "cell_type": "markdown",
   "id": "20d55381",
   "metadata": {},
   "source": [
    "### Example 1\n",
    "\n",
    "    - (4,3) and (3,)\n",
    "    \n",
    "    1. After step 1, (3, ) ---> (1, 3)\n",
    "       Now we have 2 arrays (4, 3) and (1, 3)\n",
    "    \n",
    "    2. Now we make 1 to non-1 value of the other shape\n",
    "       (1, 3) --> (4, 3)\n",
    "    \n",
    "    3. Now that shapes are same, we can now do the operation."
   ]
  },
  {
   "cell_type": "code",
   "execution_count": 14,
   "id": "916ce02a",
   "metadata": {},
   "outputs": [
    {
     "name": "stdout",
     "output_type": "stream",
     "text": [
      "[[ 0  2  4]\n",
      " [ 3  5  7]\n",
      " [ 6  8 10]\n",
      " [ 9 11 13]]\n"
     ]
    }
   ],
   "source": [
    "a = np.arange(12).reshape((4,3))\n",
    "b = np.arange(3)\n",
    "\n",
    "print(a+b) # allowed"
   ]
  },
  {
   "cell_type": "markdown",
   "id": "28acd787",
   "metadata": {},
   "source": [
    "## Example 2\n",
    "\n",
    "    - (3, 4) and (3, )\n",
    "    \n",
    "    1. After step 1, (3, ) ---> (1, 3)\n",
    "    \n",
    "    2. Now we make 1 to non-1 value of the other shape\n",
    "       (1, 3) ---> (3, 3)\n",
    "    \n",
    "    3. Now that we have done the broadcasting and still the shapes are not same,\n",
    "       we cannot do the operation."
   ]
  },
  {
   "cell_type": "code",
   "execution_count": 17,
   "id": "8dfa5951",
   "metadata": {},
   "outputs": [
    {
     "name": "stdout",
     "output_type": "stream",
     "text": [
      "operands could not be broadcast together with shapes (3,4) (3,) \n"
     ]
    }
   ],
   "source": [
    "a = np.arange(12).reshape((3, 4))\n",
    "b = np.arange(3)\n",
    "try:\n",
    "    print(a+b)\n",
    "except ValueError as ex:\n",
    "    print(ex)"
   ]
  },
  {
   "cell_type": "markdown",
   "id": "b2b6ca44",
   "metadata": {},
   "source": [
    "## Example 3\n",
    "\n",
    "    - (1, 3) and (4, 1)\n",
    "    \n",
    "    1. Since dimensions are same, we go to step no 2.\n",
    "    2. Make 1's to non-1 values of the other shapes\n",
    "       (1, 3) ---> (4, 3)\n",
    "       (4, 1) ---> (4, 3)\n",
    "    3. Now both the arrays have same shape and thus we can do the operation."
   ]
  },
  {
   "cell_type": "code",
   "execution_count": 20,
   "id": "fe60d10c",
   "metadata": {},
   "outputs": [
    {
     "name": "stdout",
     "output_type": "stream",
     "text": [
      "[[0 1 2]\n",
      " [1 2 3]\n",
      " [2 3 4]\n",
      " [3 4 5]]\n"
     ]
    }
   ],
   "source": [
    "a = np.arange(3).reshape(1,3)\n",
    "b = np.arange(4).reshape(4,1)\n",
    "\n",
    "try:\n",
    "    print(a+b)\n",
    "except ValueError as ex:\n",
    "    print(ex)"
   ]
  },
  {
   "cell_type": "markdown",
   "id": "63565dd4",
   "metadata": {},
   "source": [
    "## Example 4\n",
    "\n",
    "    - (1,) and (2,2)\n",
    "    \n",
    "    1. First we will make the dimensions equal, (1, ) ---> (1, 1)\n",
    "    2. After making dimensions equal, we make all 1's equal to the non-1's\n",
    "       of the other array.\n",
    "       (1,1) ---> (2, 2)\n",
    "    3. Since the shapes have come out to be same, we can now perform the\n",
    "       operation."
   ]
  },
  {
   "cell_type": "code",
   "execution_count": 22,
   "id": "0276c601",
   "metadata": {},
   "outputs": [
    {
     "name": "stdout",
     "output_type": "stream",
     "text": [
      "[[1 2]\n",
      " [3 4]]\n"
     ]
    }
   ],
   "source": [
    "a = np.array([1])\n",
    "b = np.arange(4).reshape((2,2))\n",
    "\n",
    "print(a + b)"
   ]
  },
  {
   "cell_type": "markdown",
   "id": "37ef83e4",
   "metadata": {},
   "source": [
    "## Example 5\n",
    "\n",
    "    - (3,4) and (4,3)\n",
    "    \n",
    "    1. Since we cannot do any sort of broadcasting here, hence we cannot do\n",
    "       any operation bewteen them(except matrix multiplication)."
   ]
  },
  {
   "cell_type": "code",
   "execution_count": 24,
   "id": "420d0e22",
   "metadata": {},
   "outputs": [
    {
     "name": "stdout",
     "output_type": "stream",
     "text": [
      "operands could not be broadcast together with shapes (3,4) (4,3) \n"
     ]
    }
   ],
   "source": [
    "a = np.arange(12).reshape((3,4))\n",
    "b = np.arange(12).reshape((4,3))\n",
    "\n",
    "try:\n",
    "    print(a+b)\n",
    "except ValueError as ex:\n",
    "    print(ex)"
   ]
  },
  {
   "cell_type": "markdown",
   "id": "7cd1e98a",
   "metadata": {},
   "source": [
    "## Example 6\n",
    "    - (4,4) and (2,2)\n",
    "    \n",
    "    1. Since dimensions are same and also there is not a single 1 in the \n",
    "       shape of any shape, we cannot apply any sort of broadcasting rule.\n",
    "    2. Also, shapes are also NOT equal. We cannot do any operation between \n",
    "       them."
   ]
  },
  {
   "cell_type": "code",
   "execution_count": 27,
   "id": "b3a626c6",
   "metadata": {},
   "outputs": [
    {
     "name": "stdout",
     "output_type": "stream",
     "text": [
      "operands could not be broadcast together with shapes (4,4) (2,2) \n"
     ]
    }
   ],
   "source": [
    "a = np.arange(16).reshape((4,4))\n",
    "b = np.arange(4).reshape((2,2))\n",
    "\n",
    "try:\n",
    "    print(a+b)\n",
    "except ValueError as ex:\n",
    "    print(ex)"
   ]
  },
  {
   "cell_type": "code",
   "execution_count": null,
   "id": "a97f9dcb",
   "metadata": {},
   "outputs": [],
   "source": []
  }
 ],
 "metadata": {
  "kernelspec": {
   "display_name": "Python 3 (ipykernel)",
   "language": "python",
   "name": "python3"
  },
  "language_info": {
   "codemirror_mode": {
    "name": "ipython",
    "version": 3
   },
   "file_extension": ".py",
   "mimetype": "text/x-python",
   "name": "python",
   "nbconvert_exporter": "python",
   "pygments_lexer": "ipython3",
   "version": "3.11.5"
  }
 },
 "nbformat": 4,
 "nbformat_minor": 5
}
