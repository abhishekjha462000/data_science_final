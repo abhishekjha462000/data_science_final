{
 "cells": [
  {
   "cell_type": "markdown",
   "id": "4b8e35a0",
   "metadata": {},
   "source": [
    "# Speed comparison of list and nd array"
   ]
  },
  {
   "cell_type": "markdown",
   "id": "56d31f26",
   "metadata": {},
   "source": [
    "### speed demonstration"
   ]
  },
  {
   "cell_type": "code",
   "execution_count": 1,
   "id": "81c5243e",
   "metadata": {},
   "outputs": [],
   "source": [
    "import numpy as np"
   ]
  },
  {
   "cell_type": "code",
   "execution_count": 4,
   "id": "0e95ff87",
   "metadata": {},
   "outputs": [
    {
     "name": "stdout",
     "output_type": "stream",
     "text": [
      "time elapsed: 3.2921464443206787\n"
     ]
    }
   ],
   "source": [
    "from time import time\n",
    "\n",
    "a = [i for i in range(1000_00_00)]\n",
    "b = [i for i in range(1000_00_00, 2000_00_00)]\n",
    "\n",
    "start = time()\n",
    "c = [a[i]+b[i] for i in range(1000_00_00)]\n",
    "end = time()\n",
    "print(f\"time elapsed: {end-start}\")"
   ]
  },
  {
   "cell_type": "code",
   "execution_count": 5,
   "id": "1dec679f",
   "metadata": {},
   "outputs": [
    {
     "name": "stdout",
     "output_type": "stream",
     "text": [
      "time elapsed: 0.2902059555053711\n"
     ]
    }
   ],
   "source": [
    "a = np.arange(1000_00_00)\n",
    "b = np.arange(1000_00_00, 2000_00_00)\n",
    "\n",
    "start = time() # start the timer\n",
    "c = a + b\n",
    "end = time() # end the timer\n",
    "print(f\"time elapsed: {end-start}\")"
   ]
  },
  {
   "cell_type": "code",
   "execution_count": 6,
   "id": "6ac8b451",
   "metadata": {},
   "outputs": [
    {
     "data": {
      "text/plain": [
       "11.344172584562097"
      ]
     },
     "execution_count": 6,
     "metadata": {},
     "output_type": "execute_result"
    }
   ],
   "source": [
    "3.2921464443206787/0.2902059555053711"
   ]
  },
  {
   "cell_type": "markdown",
   "id": "f4e6d329",
   "metadata": {},
   "source": [
    "## speed demonstration 2"
   ]
  },
  {
   "cell_type": "code",
   "execution_count": 12,
   "id": "581452c3",
   "metadata": {},
   "outputs": [
    {
     "name": "stdout",
     "output_type": "stream",
     "text": [
      "2.16 ms ± 175 µs per loop (mean ± std. dev. of 7 runs, 1,000 loops each)\n"
     ]
    }
   ],
   "source": [
    "%timeit -n 1000 [i ** 2 for i in range(10000)]"
   ]
  },
  {
   "cell_type": "code",
   "execution_count": 13,
   "id": "4aaf0ed3",
   "metadata": {},
   "outputs": [
    {
     "name": "stdout",
     "output_type": "stream",
     "text": [
      "51.8 µs ± 6.21 µs per loop (mean ± std. dev. of 7 runs, 1,000 loops each)\n"
     ]
    }
   ],
   "source": [
    "%timeit -n 1000 (np.arange(10000) ** 2)"
   ]
  },
  {
   "cell_type": "code",
   "execution_count": 14,
   "id": "d4a77645",
   "metadata": {},
   "outputs": [
    {
     "data": {
      "text/plain": [
       "4169.88416988417"
      ]
     },
     "execution_count": 14,
     "metadata": {},
     "output_type": "execute_result"
    }
   ],
   "source": [
    "(216* 1000)/51.8"
   ]
  },
  {
   "cell_type": "markdown",
   "id": "503a68d1",
   "metadata": {},
   "source": [
    "# controlling memory space with numpy"
   ]
  },
  {
   "cell_type": "markdown",
   "id": "9b5c169b",
   "metadata": {},
   "source": [
    "- We can not control the size of python list."
   ]
  },
  {
   "cell_type": "code",
   "execution_count": 15,
   "id": "2a7a0fbe",
   "metadata": {},
   "outputs": [],
   "source": [
    "import sys"
   ]
  },
  {
   "cell_type": "code",
   "execution_count": 16,
   "id": "876fd9d9",
   "metadata": {},
   "outputs": [],
   "source": [
    "a = [i for i in range(1000_00_00)]"
   ]
  },
  {
   "cell_type": "code",
   "execution_count": 17,
   "id": "1635ffd0",
   "metadata": {},
   "outputs": [
    {
     "data": {
      "text/plain": [
       "89095160"
      ]
     },
     "execution_count": 17,
     "metadata": {},
     "output_type": "execute_result"
    }
   ],
   "source": [
    "sys.getsizeof(a)"
   ]
  },
  {
   "cell_type": "markdown",
   "id": "0ee3343b",
   "metadata": {},
   "source": [
    "We cannot control the size of this a variable. However, we can do the customization in numpy array."
   ]
  },
  {
   "cell_type": "code",
   "execution_count": 19,
   "id": "eff72ef8",
   "metadata": {},
   "outputs": [
    {
     "data": {
      "text/plain": [
       "40000112"
      ]
     },
     "execution_count": 19,
     "metadata": {},
     "output_type": "execute_result"
    }
   ],
   "source": [
    "a = np.arange(1000_00_00)\n",
    "sys.getsizeof(a)"
   ]
  },
  {
   "cell_type": "code",
   "execution_count": 20,
   "id": "c803ff6e",
   "metadata": {},
   "outputs": [
    {
     "data": {
      "text/plain": [
       "dtype('int32')"
      ]
     },
     "execution_count": 20,
     "metadata": {},
     "output_type": "execute_result"
    }
   ],
   "source": [
    "a.dtype # numpy automatically decided that it should\n",
    "# use int32"
   ]
  },
  {
   "cell_type": "markdown",
   "id": "17b54fbe",
   "metadata": {},
   "source": [
    "# Broadcasting"
   ]
  },
  {
   "cell_type": "markdown",
   "id": "1b7aed7a",
   "metadata": {},
   "source": [
    "The term broadcasting describes how NumPy treats arrays with different shapes during arithmetic operations."
   ]
  },
  {
   "cell_type": "markdown",
   "id": "fd733426",
   "metadata": {},
   "source": [
    "The smaller array is broadcasted across the larger array so that they have compatible shapes."
   ]
  },
  {
   "cell_type": "code",
   "execution_count": null,
   "id": "f5b4cc6f",
   "metadata": {},
   "outputs": [],
   "source": []
  }
 ],
 "metadata": {
  "kernelspec": {
   "display_name": "Python 3 (ipykernel)",
   "language": "python",
   "name": "python3"
  },
  "language_info": {
   "codemirror_mode": {
    "name": "ipython",
    "version": 3
   },
   "file_extension": ".py",
   "mimetype": "text/x-python",
   "name": "python",
   "nbconvert_exporter": "python",
   "pygments_lexer": "ipython3",
   "version": "3.11.5"
  }
 },
 "nbformat": 4,
 "nbformat_minor": 5
}
