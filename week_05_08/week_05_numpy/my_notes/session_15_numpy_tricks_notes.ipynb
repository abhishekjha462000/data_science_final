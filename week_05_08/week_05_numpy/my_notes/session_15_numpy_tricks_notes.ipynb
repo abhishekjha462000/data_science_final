{
 "cells": [
  {
   "cell_type": "markdown",
   "id": "4def217e",
   "metadata": {},
   "source": [
    "# Numpy tricks"
   ]
  },
  {
   "cell_type": "code",
   "execution_count": 1,
   "id": "c48cfb29",
   "metadata": {},
   "outputs": [],
   "source": [
    "import numpy as np"
   ]
  },
  {
   "cell_type": "markdown",
   "id": "844590bd",
   "metadata": {},
   "source": [
    "# np.sort()\n",
    "\n",
    "    This top-level method is used to return us a sorted nd-array from a given nd-array."
   ]
  },
  {
   "cell_type": "code",
   "execution_count": 30,
   "id": "ece6d3b8",
   "metadata": {},
   "outputs": [
    {
     "data": {
      "text/plain": [
       "array([0.98027082, 0.4854332 , 0.51180143, 0.13952073, 0.86404506,\n",
       "       0.15538173, 0.50136511, 0.34880586, 0.28674002, 0.95228457])"
      ]
     },
     "execution_count": 30,
     "metadata": {},
     "output_type": "execute_result"
    }
   ],
   "source": [
    "a = np.random.random((10, ))\n",
    "a"
   ]
  },
  {
   "cell_type": "code",
   "execution_count": 31,
   "id": "8bf57f4e",
   "metadata": {},
   "outputs": [
    {
     "data": {
      "text/plain": [
       "array([0.13952073, 0.15538173, 0.28674002, 0.34880586, 0.4854332 ,\n",
       "       0.50136511, 0.51180143, 0.86404506, 0.95228457, 0.98027082])"
      ]
     },
     "execution_count": 31,
     "metadata": {},
     "output_type": "execute_result"
    }
   ],
   "source": [
    "np.sort(a)"
   ]
  },
  {
   "cell_type": "markdown",
   "id": "fa9ccbc5",
   "metadata": {},
   "source": [
    "    We can also sort a 2D array but then by default it sorts row-wise. If we want to sort acc to our convenience\n",
    "    then we can use the axis parameter. axis = 0 stands for rows and axis = 1 stands for columns"
   ]
  },
  {
   "cell_type": "code",
   "execution_count": 4,
   "id": "548d7e25",
   "metadata": {},
   "outputs": [
    {
     "data": {
      "text/plain": [
       "array([[ 4, 68, 95, 90, 26],\n",
       "       [40, 98, 21, 50, 26],\n",
       "       [81,  3, 39,  7, 22],\n",
       "       [43, 73, 20,  9, 20]])"
      ]
     },
     "execution_count": 4,
     "metadata": {},
     "output_type": "execute_result"
    }
   ],
   "source": [
    "b = np.random.randint(1, 100, (4, 5))\n",
    "b"
   ]
  },
  {
   "cell_type": "code",
   "execution_count": 5,
   "id": "b05e90c9",
   "metadata": {},
   "outputs": [
    {
     "data": {
      "text/plain": [
       "array([[ 4, 26, 68, 90, 95],\n",
       "       [21, 26, 40, 50, 98],\n",
       "       [ 3,  7, 22, 39, 81],\n",
       "       [ 9, 20, 20, 43, 73]])"
      ]
     },
     "execution_count": 5,
     "metadata": {},
     "output_type": "execute_result"
    }
   ],
   "source": [
    "np.sort(b)"
   ]
  },
  {
   "cell_type": "code",
   "execution_count": 6,
   "id": "5e933b06",
   "metadata": {},
   "outputs": [
    {
     "data": {
      "text/plain": [
       "array([[ 4,  3, 20,  7, 20],\n",
       "       [40, 68, 21,  9, 22],\n",
       "       [43, 73, 39, 50, 26],\n",
       "       [81, 98, 95, 90, 26]])"
      ]
     },
     "execution_count": 6,
     "metadata": {},
     "output_type": "execute_result"
    }
   ],
   "source": [
    "np.sort(b, axis = 0)"
   ]
  },
  {
   "cell_type": "markdown",
   "id": "2482ace4",
   "metadata": {},
   "source": [
    "# np.append()\n",
    "\n",
    "    - This is used to append a value to a numpy nd-array.\n",
    "    - Numpy arrays are immutable. This method returns us a new array with the appended value"
   ]
  },
  {
   "cell_type": "code",
   "execution_count": 7,
   "id": "df36c9cd",
   "metadata": {},
   "outputs": [],
   "source": [
    "import numpy as np"
   ]
  },
  {
   "cell_type": "code",
   "execution_count": 8,
   "id": "c46e410e",
   "metadata": {},
   "outputs": [
    {
     "data": {
      "text/plain": [
       "array([ 1,  2,  3,  4,  5, 45])"
      ]
     },
     "execution_count": 8,
     "metadata": {},
     "output_type": "execute_result"
    }
   ],
   "source": [
    "a = np.array([1,2,3,4,5])\n",
    "np.append(a, 45)"
   ]
  },
  {
   "cell_type": "code",
   "execution_count": 9,
   "id": "39e9fb14",
   "metadata": {},
   "outputs": [
    {
     "data": {
      "text/plain": [
       "array([[23, 20, 62, 92, 32, 97, 57],\n",
       "       [21, 91, 55,  1, 58, 93, 52],\n",
       "       [58, 61, 96, 73, 64, 89, 58],\n",
       "       [99, 72, 15, 46, 82, 16, 81],\n",
       "       [71, 11, 70, 52, 88, 39, 54]])"
      ]
     },
     "execution_count": 9,
     "metadata": {},
     "output_type": "execute_result"
    }
   ],
   "source": [
    "b = np.random.randint(1, 100, (5, 7))\n",
    "b"
   ]
  },
  {
   "cell_type": "code",
   "execution_count": 12,
   "id": "2680a7c3",
   "metadata": {},
   "outputs": [
    {
     "data": {
      "text/plain": [
       "array([1., 1., 1., 1., 1.])"
      ]
     },
     "execution_count": 12,
     "metadata": {},
     "output_type": "execute_result"
    }
   ],
   "source": [
    "ones = np.ones((5, ))\n",
    "ones"
   ]
  },
  {
   "cell_type": "markdown",
   "id": "dc5515bd",
   "metadata": {},
   "source": [
    "    We can now append ones as a column to b"
   ]
  },
  {
   "cell_type": "code",
   "execution_count": 16,
   "id": "b9c0847b",
   "metadata": {},
   "outputs": [
    {
     "data": {
      "text/plain": [
       "array([[23., 20., 62., 92., 32., 97., 57.,  1.],\n",
       "       [21., 91., 55.,  1., 58., 93., 52.,  1.],\n",
       "       [58., 61., 96., 73., 64., 89., 58.,  1.],\n",
       "       [99., 72., 15., 46., 82., 16., 81.,  1.],\n",
       "       [71., 11., 70., 52., 88., 39., 54.,  1.]])"
      ]
     },
     "execution_count": 16,
     "metadata": {},
     "output_type": "execute_result"
    }
   ],
   "source": [
    "np.append(b, ones[::, np.newaxis], axis = 1)"
   ]
  },
  {
   "cell_type": "markdown",
   "id": "7fdb22f2",
   "metadata": {},
   "source": [
    "    or may be we could have appended like below"
   ]
  },
  {
   "cell_type": "code",
   "execution_count": 18,
   "id": "50e64040",
   "metadata": {},
   "outputs": [
    {
     "data": {
      "text/plain": [
       "array([[23., 20., 62., 92., 32., 97., 57.,  1.],\n",
       "       [21., 91., 55.,  1., 58., 93., 52.,  1.],\n",
       "       [58., 61., 96., 73., 64., 89., 58.,  1.],\n",
       "       [99., 72., 15., 46., 82., 16., 81.,  1.],\n",
       "       [71., 11., 70., 52., 88., 39., 54.,  1.]])"
      ]
     },
     "execution_count": 18,
     "metadata": {},
     "output_type": "execute_result"
    }
   ],
   "source": [
    "np.append(b, np.ones((5, 1)), axis = 1)"
   ]
  },
  {
   "cell_type": "markdown",
   "id": "c382bf49",
   "metadata": {},
   "source": [
    "# np.concatenate()\n",
    "\n",
    "    This is the wrapper for hstack and vstack. It gives us the functionality of both the stack functions. We just need to\n",
    "    pass in the axis parameter and it would perform the stacking along that direction."
   ]
  },
  {
   "cell_type": "code",
   "execution_count": 22,
   "id": "1ef01b39",
   "metadata": {},
   "outputs": [
    {
     "data": {
      "text/plain": [
       "array([[ 0,  1],\n",
       "       [ 2,  3],\n",
       "       [ 4,  5],\n",
       "       [ 6,  7],\n",
       "       [ 8,  9],\n",
       "       [10, 11]])"
      ]
     },
     "execution_count": 22,
     "metadata": {},
     "output_type": "execute_result"
    }
   ],
   "source": [
    "a = np.arange(12).reshape((6,2)) # 6 rows 2 columnss\n",
    "a"
   ]
  },
  {
   "cell_type": "code",
   "execution_count": 25,
   "id": "83c75d5b",
   "metadata": {},
   "outputs": [
    {
     "data": {
      "text/plain": [
       "array([[-10,  -9,  -8,  -7],\n",
       "       [ -7,  -6,  -5,  -4],\n",
       "       [ -3,  -2,  -1,   0],\n",
       "       [  0,   1,   2,   3],\n",
       "       [  4,   5,   6,   7],\n",
       "       [  7,   8,   9,  10]])"
      ]
     },
     "execution_count": 25,
     "metadata": {},
     "output_type": "execute_result"
    }
   ],
   "source": [
    "b = np.round(np.linspace(-10, 10, 24)).astype(int).reshape((6,4))\n",
    "b"
   ]
  },
  {
   "cell_type": "markdown",
   "id": "c18ff390",
   "metadata": {},
   "source": [
    "    Since the number of rows in a and b is same (6), we could only stack them along the horizontal axis. Stacking along that\n",
    "    direction would increase the number of columns i.e increase the second value of the shape tuple. Thus axis = 1."
   ]
  },
  {
   "cell_type": "code",
   "execution_count": 26,
   "id": "094bb6e3",
   "metadata": {},
   "outputs": [
    {
     "data": {
      "text/plain": [
       "array([[  0,   1, -10,  -9,  -8,  -7],\n",
       "       [  2,   3,  -7,  -6,  -5,  -4],\n",
       "       [  4,   5,  -3,  -2,  -1,   0],\n",
       "       [  6,   7,   0,   1,   2,   3],\n",
       "       [  8,   9,   4,   5,   6,   7],\n",
       "       [ 10,  11,   7,   8,   9,  10]])"
      ]
     },
     "execution_count": 26,
     "metadata": {},
     "output_type": "execute_result"
    }
   ],
   "source": [
    "np.concatenate((a, b), axis = 1)"
   ]
  },
  {
   "cell_type": "code",
   "execution_count": 27,
   "id": "d59aefd2",
   "metadata": {},
   "outputs": [
    {
     "data": {
      "text/plain": [
       "array([[-40, -33, -25, -18, -11,  -4],\n",
       "       [  4,  11,  18,  25,  33,  40]])"
      ]
     },
     "execution_count": 27,
     "metadata": {},
     "output_type": "execute_result"
    }
   ],
   "source": [
    "a = np.round(np.linspace(-40, 40, 12)).astype(int).reshape((2, 6))\n",
    "a"
   ]
  },
  {
   "cell_type": "code",
   "execution_count": 28,
   "id": "f2fa9da7",
   "metadata": {},
   "outputs": [
    {
     "data": {
      "text/plain": [
       "array([[-23, -19, -15, -11,  -7,  -3],\n",
       "       [  1,   5,   9,  13,  17,  21],\n",
       "       [ 25,  29,  33,  37,  41,  45]])"
      ]
     },
     "execution_count": 28,
     "metadata": {},
     "output_type": "execute_result"
    }
   ],
   "source": [
    "b = np.round(np.linspace(-23, 45, 18)).astype(int).reshape((3,6))\n",
    "b"
   ]
  },
  {
   "cell_type": "markdown",
   "id": "b88f3152",
   "metadata": {},
   "source": [
    "    Stacking a and b is only possible in the vertical direction which would then increase the number of rows in the \n",
    "    final resulting matrix. Thus, axis = 0"
   ]
  },
  {
   "cell_type": "code",
   "execution_count": 29,
   "id": "0900c4f1",
   "metadata": {},
   "outputs": [
    {
     "data": {
      "text/plain": [
       "array([[-40, -33, -25, -18, -11,  -4],\n",
       "       [  4,  11,  18,  25,  33,  40],\n",
       "       [-23, -19, -15, -11,  -7,  -3],\n",
       "       [  1,   5,   9,  13,  17,  21],\n",
       "       [ 25,  29,  33,  37,  41,  45]])"
      ]
     },
     "execution_count": 29,
     "metadata": {},
     "output_type": "execute_result"
    }
   ],
   "source": [
    "np.concatenate((a, b), axis = 0)"
   ]
  },
  {
   "cell_type": "markdown",
   "id": "5680f099",
   "metadata": {},
   "source": [
    "# np.unique()\n",
    "\n",
    "    This is used to return the unique values in an array."
   ]
  },
  {
   "cell_type": "code",
   "execution_count": 32,
   "id": "ef1351a2",
   "metadata": {},
   "outputs": [
    {
     "data": {
      "text/plain": [
       "array([1, 2, 3])"
      ]
     },
     "execution_count": 32,
     "metadata": {},
     "output_type": "execute_result"
    }
   ],
   "source": [
    "e = np.array([1,2,3])\n",
    "e"
   ]
  },
  {
   "cell_type": "code",
   "execution_count": 33,
   "id": "7fc7720c",
   "metadata": {},
   "outputs": [
    {
     "data": {
      "text/plain": [
       "array([1, 2, 3, 1, 2, 3, 1, 2, 3])"
      ]
     },
     "execution_count": 33,
     "metadata": {},
     "output_type": "execute_result"
    }
   ],
   "source": [
    "e = np.tile(e, 3)\n",
    "e"
   ]
  },
  {
   "cell_type": "code",
   "execution_count": 35,
   "id": "d9735234",
   "metadata": {},
   "outputs": [
    {
     "data": {
      "text/plain": [
       "array([1, 1, 1, 2, 2, 2, 3, 3, 3, 1, 1, 1, 2, 2, 2, 3, 3, 3, 1, 1, 1, 2,\n",
       "       2, 2, 3, 3, 3])"
      ]
     },
     "execution_count": 35,
     "metadata": {},
     "output_type": "execute_result"
    }
   ],
   "source": [
    "f = np.repeat(e, 3)\n",
    "f"
   ]
  },
  {
   "cell_type": "code",
   "execution_count": 36,
   "id": "476c7b89",
   "metadata": {},
   "outputs": [
    {
     "data": {
      "text/plain": [
       "array([1, 2, 3])"
      ]
     },
     "execution_count": 36,
     "metadata": {},
     "output_type": "execute_result"
    }
   ],
   "source": [
    "np.unique(e)"
   ]
  },
  {
   "cell_type": "code",
   "execution_count": 37,
   "id": "9d6e492f",
   "metadata": {},
   "outputs": [
    {
     "data": {
      "text/plain": [
       "array([1, 2, 3])"
      ]
     },
     "execution_count": 37,
     "metadata": {},
     "output_type": "execute_result"
    }
   ],
   "source": [
    "np.unique(f)"
   ]
  },
  {
   "cell_type": "markdown",
   "id": "ad6fd7b2",
   "metadata": {},
   "source": [
    "# np.where()\n",
    "\n",
    "    This function expects us to pass in a boolean mask and it would return us the indices of all the true positions in\n",
    "    the mask."
   ]
  },
  {
   "cell_type": "code",
   "execution_count": 54,
   "id": "83a1ec5f",
   "metadata": {},
   "outputs": [],
   "source": [
    "mask = [True, False, True, True, True, False, True, False]"
   ]
  },
  {
   "cell_type": "code",
   "execution_count": 57,
   "id": "f475298c",
   "metadata": {},
   "outputs": [
    {
     "data": {
      "text/plain": [
       "(array([0, 2, 3, 4, 6], dtype=int64),)"
      ]
     },
     "execution_count": 57,
     "metadata": {},
     "output_type": "execute_result"
    }
   ],
   "source": [
    "np.where(mask)"
   ]
  },
  {
   "cell_type": "markdown",
   "id": "0ef12fa1",
   "metadata": {},
   "source": [
    "    We can also replace the values where we get True and False with some values. These values can be provided as an\n",
    "    extra argument to the np.where() method."
   ]
  },
  {
   "cell_type": "code",
   "execution_count": 58,
   "id": "cb5013d8",
   "metadata": {},
   "outputs": [
    {
     "data": {
      "text/plain": [
       "array([93, 20, 49, 66, 92,  3, 77, 31, 23, 64, 97,  1])"
      ]
     },
     "execution_count": 58,
     "metadata": {},
     "output_type": "execute_result"
    }
   ],
   "source": [
    "a = np.random.randint(1, 100, (12, ))\n",
    "a"
   ]
  },
  {
   "cell_type": "code",
   "execution_count": 60,
   "id": "2c1013aa",
   "metadata": {},
   "outputs": [
    {
     "data": {
      "text/plain": [
       "array(['odd', 'even', 'odd', 'even', 'even', 'odd', 'odd', 'odd', 'odd',\n",
       "       'even', 'odd', 'odd'], dtype='<U4')"
      ]
     },
     "execution_count": 60,
     "metadata": {},
     "output_type": "execute_result"
    }
   ],
   "source": [
    "np.where(a % 2 == 0, # mask\n",
    "         'even', # array for True values (must be broadcastable to the shape of mask)\n",
    "         'odd' # array for False values (must be broadcastable to the shape of mask)\n",
    "        )"
   ]
  },
  {
   "cell_type": "markdown",
   "id": "eba95c46",
   "metadata": {},
   "source": [
    "# np.argmax() and np.argmin()\n",
    "\n",
    "    These functions are used to find the index of maximum and minimum values in an array.\n",
    "    \n",
    "    - np.argmax() is used to find the index of the maximum value.\n",
    "    - In case of multiple occurrences of the maximum values, the indices corresponding to the first \n",
    "      occurrence are returned."
   ]
  },
  {
   "cell_type": "code",
   "execution_count": 61,
   "id": "7115d717",
   "metadata": {},
   "outputs": [
    {
     "data": {
      "text/plain": [
       "array([16, 94, 22, 10, 57, 57, 31, 78, 19, 49, 22, 46, 69, 12, 11, 26,  7,\n",
       "       23, 83, 10, 97,  5, 65, 26, 59, 54, 36, 13, 48, 64, 34, 34, 17, 20,\n",
       "       11, 35, 73, 89, 30, 75, 48,  8, 97, 44,  9, 13, 11, 44, 62, 53, 84,\n",
       "       16, 26, 45, 78, 10,  7, 15, 12, 83, 71, 33, 86, 12, 91, 89, 54, 36,\n",
       "        1, 44, 76, 33, 47, 85, 62, 90, 63, 86, 12, 31, 85, 10,  8, 98, 87,\n",
       "       53, 55, 29, 14, 13, 45, 23, 21, 86, 94, 33, 63, 48, 29, 93])"
      ]
     },
     "execution_count": 61,
     "metadata": {},
     "output_type": "execute_result"
    }
   ],
   "source": [
    "a = np.random.randint(1, 100, (100, ))\n",
    "a"
   ]
  },
  {
   "cell_type": "code",
   "execution_count": 62,
   "id": "933aa780",
   "metadata": {},
   "outputs": [
    {
     "data": {
      "text/plain": [
       "83"
      ]
     },
     "execution_count": 62,
     "metadata": {},
     "output_type": "execute_result"
    }
   ],
   "source": [
    "np.argmax(a)"
   ]
  },
  {
   "cell_type": "code",
   "execution_count": 63,
   "id": "7930703e",
   "metadata": {},
   "outputs": [
    {
     "data": {
      "text/plain": [
       "98"
      ]
     },
     "execution_count": 63,
     "metadata": {},
     "output_type": "execute_result"
    }
   ],
   "source": [
    "# maximum value\n",
    "a[83]"
   ]
  },
  {
   "cell_type": "markdown",
   "id": "e286569f",
   "metadata": {},
   "source": [
    "    We can also use this function to find the index of maximum values in a 2D array as well."
   ]
  },
  {
   "cell_type": "code",
   "execution_count": 65,
   "id": "838c9fb0",
   "metadata": {},
   "outputs": [
    {
     "data": {
      "text/plain": [
       "array([[ 6, 57, 65, 60, 35, 65, 27, 12, 58],\n",
       "       [83, 21, 82, 21, 66, 63, 89, 41, 94],\n",
       "       [34, 36, 56, 46, 77, 88, 13,  2, 35],\n",
       "       [45, 41, 30, 69, 40, 14, 41, 60, 69]])"
      ]
     },
     "execution_count": 65,
     "metadata": {},
     "output_type": "execute_result"
    }
   ],
   "source": [
    "b = np.random.randint(1, 100, (4, 9))\n",
    "b"
   ]
  },
  {
   "cell_type": "markdown",
   "id": "af867b2e",
   "metadata": {},
   "source": [
    "    To find the indices of the maximum elements in the downward direction, we use axis = 0"
   ]
  },
  {
   "cell_type": "code",
   "execution_count": 66,
   "id": "7e83e6e8",
   "metadata": {},
   "outputs": [
    {
     "data": {
      "text/plain": [
       "array([1, 0, 1, 3, 2, 2, 1, 3, 1], dtype=int64)"
      ]
     },
     "execution_count": 66,
     "metadata": {},
     "output_type": "execute_result"
    }
   ],
   "source": [
    "np.argmax(b, axis = 0)"
   ]
  },
  {
   "cell_type": "markdown",
   "id": "9a002395",
   "metadata": {},
   "source": [
    "    To find the indices of the maximum elements in the horizontal direction, we use axis = 1"
   ]
  },
  {
   "cell_type": "code",
   "execution_count": 67,
   "id": "e1637d9b",
   "metadata": {},
   "outputs": [
    {
     "data": {
      "text/plain": [
       "array([2, 8, 5, 3], dtype=int64)"
      ]
     },
     "execution_count": 67,
     "metadata": {},
     "output_type": "execute_result"
    }
   ],
   "source": [
    "np.argmax(b, axis = 1)"
   ]
  },
  {
   "cell_type": "markdown",
   "id": "a332478e",
   "metadata": {},
   "source": [
    "# cumprod() and cumsum()"
   ]
  },
  {
   "cell_type": "code",
   "execution_count": 68,
   "id": "b357b417",
   "metadata": {},
   "outputs": [],
   "source": [
    "import numpy as np"
   ]
  },
  {
   "cell_type": "code",
   "execution_count": 72,
   "id": "6fdf8919",
   "metadata": {},
   "outputs": [
    {
     "data": {
      "text/plain": [
       "array([8, 5, 8, 7, 8, 4, 8, 3, 3, 1])"
      ]
     },
     "execution_count": 72,
     "metadata": {},
     "output_type": "execute_result"
    }
   ],
   "source": [
    "a = np.random.randint(1, 10, (10, ))\n",
    "a"
   ]
  },
  {
   "cell_type": "code",
   "execution_count": 73,
   "id": "0baddf85",
   "metadata": {},
   "outputs": [
    {
     "data": {
      "text/plain": [
       "array([ 8, 13, 21, 28, 36, 40, 48, 51, 54, 55])"
      ]
     },
     "execution_count": 73,
     "metadata": {},
     "output_type": "execute_result"
    }
   ],
   "source": [
    "np.cumsum(a)"
   ]
  },
  {
   "cell_type": "code",
   "execution_count": 74,
   "id": "ca973d75",
   "metadata": {},
   "outputs": [
    {
     "data": {
      "text/plain": [
       "array([      8,      40,     320,    2240,   17920,   71680,  573440,\n",
       "       1720320, 5160960, 5160960])"
      ]
     },
     "execution_count": 74,
     "metadata": {},
     "output_type": "execute_result"
    }
   ],
   "source": [
    "np.cumproduct(a)"
   ]
  },
  {
   "cell_type": "markdown",
   "id": "f311748d",
   "metadata": {},
   "source": [
    "    We can also do the same for 2D arrays as well. We just need to pass in the value of the axis parameter as well."
   ]
  },
  {
   "cell_type": "code",
   "execution_count": 76,
   "id": "906f269d",
   "metadata": {},
   "outputs": [
    {
     "data": {
      "text/plain": [
       "array([[64, 90, 18,  6,  9, 96, 36, 22],\n",
       "       [18,  9, 76, 72, 98, 36, 87, 30],\n",
       "       [99, 40, 65,  9, 40,  2, 41, 35],\n",
       "       [73, 85,  6, 86, 99, 95, 79, 76],\n",
       "       [68, 17,  9, 47, 23, 98, 19, 31],\n",
       "       [54, 63, 91, 89, 92, 21,  2, 19],\n",
       "       [26,  3, 95, 93, 60,  4, 78, 18]])"
      ]
     },
     "execution_count": 76,
     "metadata": {},
     "output_type": "execute_result"
    }
   ],
   "source": [
    "b = np.random.randint(1, 100, (7, 8))\n",
    "b"
   ]
  },
  {
   "cell_type": "code",
   "execution_count": 77,
   "id": "24731601",
   "metadata": {},
   "outputs": [
    {
     "data": {
      "text/plain": [
       "array([[ 64,  90,  18,   6,   9,  96,  36,  22],\n",
       "       [ 82,  99,  94,  78, 107, 132, 123,  52],\n",
       "       [181, 139, 159,  87, 147, 134, 164,  87],\n",
       "       [254, 224, 165, 173, 246, 229, 243, 163],\n",
       "       [322, 241, 174, 220, 269, 327, 262, 194],\n",
       "       [376, 304, 265, 309, 361, 348, 264, 213],\n",
       "       [402, 307, 360, 402, 421, 352, 342, 231]])"
      ]
     },
     "execution_count": 77,
     "metadata": {},
     "output_type": "execute_result"
    }
   ],
   "source": [
    "np.cumsum(b, axis = 0) # cummulative sum in downward direction"
   ]
  },
  {
   "cell_type": "code",
   "execution_count": 78,
   "id": "8cdce8aa",
   "metadata": {},
   "outputs": [
    {
     "data": {
      "text/plain": [
       "array([[ 64, 154, 172, 178, 187, 283, 319, 341],\n",
       "       [ 18,  27, 103, 175, 273, 309, 396, 426],\n",
       "       [ 99, 139, 204, 213, 253, 255, 296, 331],\n",
       "       [ 73, 158, 164, 250, 349, 444, 523, 599],\n",
       "       [ 68,  85,  94, 141, 164, 262, 281, 312],\n",
       "       [ 54, 117, 208, 297, 389, 410, 412, 431],\n",
       "       [ 26,  29, 124, 217, 277, 281, 359, 377]])"
      ]
     },
     "execution_count": 78,
     "metadata": {},
     "output_type": "execute_result"
    }
   ],
   "source": [
    "np.cumsum(b, axis = 1) # cummulative sum in horizontal direction"
   ]
  },
  {
   "cell_type": "code",
   "execution_count": null,
   "id": "1c91ffed",
   "metadata": {},
   "outputs": [],
   "source": []
  },
  {
   "cell_type": "code",
   "execution_count": null,
   "id": "667ed9ca",
   "metadata": {},
   "outputs": [],
   "source": []
  },
  {
   "cell_type": "code",
   "execution_count": null,
   "id": "a2f8ed88",
   "metadata": {},
   "outputs": [],
   "source": []
  }
 ],
 "metadata": {
  "kernelspec": {
   "display_name": "Python 3 (ipykernel)",
   "language": "python",
   "name": "python3"
  },
  "language_info": {
   "codemirror_mode": {
    "name": "ipython",
    "version": 3
   },
   "file_extension": ".py",
   "mimetype": "text/x-python",
   "name": "python",
   "nbconvert_exporter": "python",
   "pygments_lexer": "ipython3",
   "version": "3.11.5"
  }
 },
 "nbformat": 4,
 "nbformat_minor": 5
}
