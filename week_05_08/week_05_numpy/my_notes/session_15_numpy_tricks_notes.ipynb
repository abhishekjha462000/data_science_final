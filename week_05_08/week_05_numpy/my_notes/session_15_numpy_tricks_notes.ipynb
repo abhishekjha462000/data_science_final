{
 "cells": [
  {
   "cell_type": "markdown",
   "id": "4def217e",
   "metadata": {},
   "source": [
    "# Numpy tricks"
   ]
  },
  {
   "cell_type": "code",
   "execution_count": 1,
   "id": "c48cfb29",
   "metadata": {},
   "outputs": [],
   "source": [
    "import numpy as np"
   ]
  },
  {
   "cell_type": "markdown",
   "id": "844590bd",
   "metadata": {},
   "source": [
    "# np.sort()\n",
    "\n",
    "    This top-level method is used to return us a sorted nd-array from a given nd-array."
   ]
  },
  {
   "cell_type": "code",
   "execution_count": 30,
   "id": "ece6d3b8",
   "metadata": {},
   "outputs": [
    {
     "data": {
      "text/plain": [
       "array([0.98027082, 0.4854332 , 0.51180143, 0.13952073, 0.86404506,\n",
       "       0.15538173, 0.50136511, 0.34880586, 0.28674002, 0.95228457])"
      ]
     },
     "execution_count": 30,
     "metadata": {},
     "output_type": "execute_result"
    }
   ],
   "source": [
    "a = np.random.random((10, ))\n",
    "a"
   ]
  },
  {
   "cell_type": "code",
   "execution_count": 31,
   "id": "8bf57f4e",
   "metadata": {},
   "outputs": [
    {
     "data": {
      "text/plain": [
       "array([0.13952073, 0.15538173, 0.28674002, 0.34880586, 0.4854332 ,\n",
       "       0.50136511, 0.51180143, 0.86404506, 0.95228457, 0.98027082])"
      ]
     },
     "execution_count": 31,
     "metadata": {},
     "output_type": "execute_result"
    }
   ],
   "source": [
    "np.sort(a)"
   ]
  },
  {
   "cell_type": "markdown",
   "id": "fa9ccbc5",
   "metadata": {},
   "source": [
    "    We can also sort a 2D array but then by default it sorts row-wise. If we want to sort acc to our convenience\n",
    "    then we can use the axis parameter. axis = 0 stands for rows and axis = 1 stands for columns"
   ]
  },
  {
   "cell_type": "code",
   "execution_count": 4,
   "id": "548d7e25",
   "metadata": {},
   "outputs": [
    {
     "data": {
      "text/plain": [
       "array([[ 4, 68, 95, 90, 26],\n",
       "       [40, 98, 21, 50, 26],\n",
       "       [81,  3, 39,  7, 22],\n",
       "       [43, 73, 20,  9, 20]])"
      ]
     },
     "execution_count": 4,
     "metadata": {},
     "output_type": "execute_result"
    }
   ],
   "source": [
    "b = np.random.randint(1, 100, (4, 5))\n",
    "b"
   ]
  },
  {
   "cell_type": "code",
   "execution_count": 5,
   "id": "b05e90c9",
   "metadata": {},
   "outputs": [
    {
     "data": {
      "text/plain": [
       "array([[ 4, 26, 68, 90, 95],\n",
       "       [21, 26, 40, 50, 98],\n",
       "       [ 3,  7, 22, 39, 81],\n",
       "       [ 9, 20, 20, 43, 73]])"
      ]
     },
     "execution_count": 5,
     "metadata": {},
     "output_type": "execute_result"
    }
   ],
   "source": [
    "np.sort(b)"
   ]
  },
  {
   "cell_type": "code",
   "execution_count": 6,
   "id": "5e933b06",
   "metadata": {},
   "outputs": [
    {
     "data": {
      "text/plain": [
       "array([[ 4,  3, 20,  7, 20],\n",
       "       [40, 68, 21,  9, 22],\n",
       "       [43, 73, 39, 50, 26],\n",
       "       [81, 98, 95, 90, 26]])"
      ]
     },
     "execution_count": 6,
     "metadata": {},
     "output_type": "execute_result"
    }
   ],
   "source": [
    "np.sort(b, axis = 0)"
   ]
  },
  {
   "cell_type": "markdown",
   "id": "2482ace4",
   "metadata": {},
   "source": [
    "# np.append()\n",
    "\n",
    "    - This is used to append a value to a numpy nd-array.\n",
    "    - Numpy arrays are immutable. This method returns us a new array with the appended value"
   ]
  },
  {
   "cell_type": "code",
   "execution_count": 7,
   "id": "df36c9cd",
   "metadata": {},
   "outputs": [],
   "source": [
    "import numpy as np"
   ]
  },
  {
   "cell_type": "code",
   "execution_count": 8,
   "id": "c46e410e",
   "metadata": {},
   "outputs": [
    {
     "data": {
      "text/plain": [
       "array([ 1,  2,  3,  4,  5, 45])"
      ]
     },
     "execution_count": 8,
     "metadata": {},
     "output_type": "execute_result"
    }
   ],
   "source": [
    "a = np.array([1,2,3,4,5])\n",
    "np.append(a, 45)"
   ]
  },
  {
   "cell_type": "code",
   "execution_count": 9,
   "id": "39e9fb14",
   "metadata": {},
   "outputs": [
    {
     "data": {
      "text/plain": [
       "array([[23, 20, 62, 92, 32, 97, 57],\n",
       "       [21, 91, 55,  1, 58, 93, 52],\n",
       "       [58, 61, 96, 73, 64, 89, 58],\n",
       "       [99, 72, 15, 46, 82, 16, 81],\n",
       "       [71, 11, 70, 52, 88, 39, 54]])"
      ]
     },
     "execution_count": 9,
     "metadata": {},
     "output_type": "execute_result"
    }
   ],
   "source": [
    "b = np.random.randint(1, 100, (5, 7))\n",
    "b"
   ]
  },
  {
   "cell_type": "code",
   "execution_count": 12,
   "id": "2680a7c3",
   "metadata": {},
   "outputs": [
    {
     "data": {
      "text/plain": [
       "array([1., 1., 1., 1., 1.])"
      ]
     },
     "execution_count": 12,
     "metadata": {},
     "output_type": "execute_result"
    }
   ],
   "source": [
    "ones = np.ones((5, ))\n",
    "ones"
   ]
  },
  {
   "cell_type": "markdown",
   "id": "dc5515bd",
   "metadata": {},
   "source": [
    "    We can now append ones as a column to b"
   ]
  },
  {
   "cell_type": "code",
   "execution_count": 16,
   "id": "b9c0847b",
   "metadata": {},
   "outputs": [
    {
     "data": {
      "text/plain": [
       "array([[23., 20., 62., 92., 32., 97., 57.,  1.],\n",
       "       [21., 91., 55.,  1., 58., 93., 52.,  1.],\n",
       "       [58., 61., 96., 73., 64., 89., 58.,  1.],\n",
       "       [99., 72., 15., 46., 82., 16., 81.,  1.],\n",
       "       [71., 11., 70., 52., 88., 39., 54.,  1.]])"
      ]
     },
     "execution_count": 16,
     "metadata": {},
     "output_type": "execute_result"
    }
   ],
   "source": [
    "np.append(b, ones[::, np.newaxis], axis = 1)"
   ]
  },
  {
   "cell_type": "markdown",
   "id": "7fdb22f2",
   "metadata": {},
   "source": [
    "    or may be we could have appended like below"
   ]
  },
  {
   "cell_type": "code",
   "execution_count": 18,
   "id": "50e64040",
   "metadata": {},
   "outputs": [
    {
     "data": {
      "text/plain": [
       "array([[23., 20., 62., 92., 32., 97., 57.,  1.],\n",
       "       [21., 91., 55.,  1., 58., 93., 52.,  1.],\n",
       "       [58., 61., 96., 73., 64., 89., 58.,  1.],\n",
       "       [99., 72., 15., 46., 82., 16., 81.,  1.],\n",
       "       [71., 11., 70., 52., 88., 39., 54.,  1.]])"
      ]
     },
     "execution_count": 18,
     "metadata": {},
     "output_type": "execute_result"
    }
   ],
   "source": [
    "np.append(b, np.ones((5, 1)), axis = 1)"
   ]
  },
  {
   "cell_type": "markdown",
   "id": "c382bf49",
   "metadata": {},
   "source": [
    "# np.concatenate()\n",
    "\n",
    "    This is the wrapper for hstack and vstack. It gives us the functionality of both the stack functions. We just need to\n",
    "    pass in the axis parameter and it would perform the stacking along that direction."
   ]
  },
  {
   "cell_type": "code",
   "execution_count": 22,
   "id": "1ef01b39",
   "metadata": {},
   "outputs": [
    {
     "data": {
      "text/plain": [
       "array([[ 0,  1],\n",
       "       [ 2,  3],\n",
       "       [ 4,  5],\n",
       "       [ 6,  7],\n",
       "       [ 8,  9],\n",
       "       [10, 11]])"
      ]
     },
     "execution_count": 22,
     "metadata": {},
     "output_type": "execute_result"
    }
   ],
   "source": [
    "a = np.arange(12).reshape((6,2)) # 6 rows 2 columnss\n",
    "a"
   ]
  },
  {
   "cell_type": "code",
   "execution_count": 25,
   "id": "83c75d5b",
   "metadata": {},
   "outputs": [
    {
     "data": {
      "text/plain": [
       "array([[-10,  -9,  -8,  -7],\n",
       "       [ -7,  -6,  -5,  -4],\n",
       "       [ -3,  -2,  -1,   0],\n",
       "       [  0,   1,   2,   3],\n",
       "       [  4,   5,   6,   7],\n",
       "       [  7,   8,   9,  10]])"
      ]
     },
     "execution_count": 25,
     "metadata": {},
     "output_type": "execute_result"
    }
   ],
   "source": [
    "b = np.round(np.linspace(-10, 10, 24)).astype(int).reshape((6,4))\n",
    "b"
   ]
  },
  {
   "cell_type": "markdown",
   "id": "c18ff390",
   "metadata": {},
   "source": [
    "    Since the number of rows in a and b is same (6), we could only stack them along the horizontal axis. Stacking along that\n",
    "    direction would increase the number of columns i.e increase the second value of the shape tuple. Thus axis = 1."
   ]
  },
  {
   "cell_type": "code",
   "execution_count": 26,
   "id": "094bb6e3",
   "metadata": {},
   "outputs": [
    {
     "data": {
      "text/plain": [
       "array([[  0,   1, -10,  -9,  -8,  -7],\n",
       "       [  2,   3,  -7,  -6,  -5,  -4],\n",
       "       [  4,   5,  -3,  -2,  -1,   0],\n",
       "       [  6,   7,   0,   1,   2,   3],\n",
       "       [  8,   9,   4,   5,   6,   7],\n",
       "       [ 10,  11,   7,   8,   9,  10]])"
      ]
     },
     "execution_count": 26,
     "metadata": {},
     "output_type": "execute_result"
    }
   ],
   "source": [
    "np.concatenate((a, b), axis = 1)"
   ]
  },
  {
   "cell_type": "code",
   "execution_count": 27,
   "id": "d59aefd2",
   "metadata": {},
   "outputs": [
    {
     "data": {
      "text/plain": [
       "array([[-40, -33, -25, -18, -11,  -4],\n",
       "       [  4,  11,  18,  25,  33,  40]])"
      ]
     },
     "execution_count": 27,
     "metadata": {},
     "output_type": "execute_result"
    }
   ],
   "source": [
    "a = np.round(np.linspace(-40, 40, 12)).astype(int).reshape((2, 6))\n",
    "a"
   ]
  },
  {
   "cell_type": "code",
   "execution_count": 28,
   "id": "f2fa9da7",
   "metadata": {},
   "outputs": [
    {
     "data": {
      "text/plain": [
       "array([[-23, -19, -15, -11,  -7,  -3],\n",
       "       [  1,   5,   9,  13,  17,  21],\n",
       "       [ 25,  29,  33,  37,  41,  45]])"
      ]
     },
     "execution_count": 28,
     "metadata": {},
     "output_type": "execute_result"
    }
   ],
   "source": [
    "b = np.round(np.linspace(-23, 45, 18)).astype(int).reshape((3,6))\n",
    "b"
   ]
  },
  {
   "cell_type": "markdown",
   "id": "b88f3152",
   "metadata": {},
   "source": [
    "    Stacking a and b is only possible in the vertical direction which would then increase the number of rows in the \n",
    "    final resulting matrix. Thus, axis = 0"
   ]
  },
  {
   "cell_type": "code",
   "execution_count": 29,
   "id": "0900c4f1",
   "metadata": {},
   "outputs": [
    {
     "data": {
      "text/plain": [
       "array([[-40, -33, -25, -18, -11,  -4],\n",
       "       [  4,  11,  18,  25,  33,  40],\n",
       "       [-23, -19, -15, -11,  -7,  -3],\n",
       "       [  1,   5,   9,  13,  17,  21],\n",
       "       [ 25,  29,  33,  37,  41,  45]])"
      ]
     },
     "execution_count": 29,
     "metadata": {},
     "output_type": "execute_result"
    }
   ],
   "source": [
    "np.concatenate((a, b), axis = 0)"
   ]
  },
  {
   "cell_type": "markdown",
   "id": "5680f099",
   "metadata": {},
   "source": [
    "# np.unique()\n",
    "\n",
    "    This is used to return the unique values in an array."
   ]
  },
  {
   "cell_type": "code",
   "execution_count": 32,
   "id": "ef1351a2",
   "metadata": {},
   "outputs": [
    {
     "data": {
      "text/plain": [
       "array([1, 2, 3])"
      ]
     },
     "execution_count": 32,
     "metadata": {},
     "output_type": "execute_result"
    }
   ],
   "source": [
    "e = np.array([1,2,3])\n",
    "e"
   ]
  },
  {
   "cell_type": "code",
   "execution_count": 33,
   "id": "7fc7720c",
   "metadata": {},
   "outputs": [
    {
     "data": {
      "text/plain": [
       "array([1, 2, 3, 1, 2, 3, 1, 2, 3])"
      ]
     },
     "execution_count": 33,
     "metadata": {},
     "output_type": "execute_result"
    }
   ],
   "source": [
    "e = np.tile(e, 3)\n",
    "e"
   ]
  },
  {
   "cell_type": "code",
   "execution_count": 35,
   "id": "d9735234",
   "metadata": {},
   "outputs": [
    {
     "data": {
      "text/plain": [
       "array([1, 1, 1, 2, 2, 2, 3, 3, 3, 1, 1, 1, 2, 2, 2, 3, 3, 3, 1, 1, 1, 2,\n",
       "       2, 2, 3, 3, 3])"
      ]
     },
     "execution_count": 35,
     "metadata": {},
     "output_type": "execute_result"
    }
   ],
   "source": [
    "f = np.repeat(e, 3)\n",
    "f"
   ]
  },
  {
   "cell_type": "code",
   "execution_count": 36,
   "id": "476c7b89",
   "metadata": {},
   "outputs": [
    {
     "data": {
      "text/plain": [
       "array([1, 2, 3])"
      ]
     },
     "execution_count": 36,
     "metadata": {},
     "output_type": "execute_result"
    }
   ],
   "source": [
    "np.unique(e)"
   ]
  },
  {
   "cell_type": "code",
   "execution_count": 37,
   "id": "9d6e492f",
   "metadata": {},
   "outputs": [
    {
     "data": {
      "text/plain": [
       "array([1, 2, 3])"
      ]
     },
     "execution_count": 37,
     "metadata": {},
     "output_type": "execute_result"
    }
   ],
   "source": [
    "np.unique(f)"
   ]
  },
  {
   "cell_type": "markdown",
   "id": "ad6fd7b2",
   "metadata": {},
   "source": [
    "# np.where()\n",
    "\n",
    "    This function expects us to pass in a boolean mask and it would return us the indices of all the true positions in\n",
    "    the mask."
   ]
  },
  {
   "cell_type": "code",
   "execution_count": 54,
   "id": "83a1ec5f",
   "metadata": {},
   "outputs": [],
   "source": [
    "mask = [True, False, True, True, True, False, True, False]"
   ]
  },
  {
   "cell_type": "code",
   "execution_count": 57,
   "id": "f475298c",
   "metadata": {},
   "outputs": [
    {
     "data": {
      "text/plain": [
       "(array([0, 2, 3, 4, 6], dtype=int64),)"
      ]
     },
     "execution_count": 57,
     "metadata": {},
     "output_type": "execute_result"
    }
   ],
   "source": [
    "np.where(mask)"
   ]
  },
  {
   "cell_type": "markdown",
   "id": "0ef12fa1",
   "metadata": {},
   "source": [
    "    We can also replace the values where we get True and False with some values. These values can be provided as an\n",
    "    extra argument to the np.where() method."
   ]
  },
  {
   "cell_type": "code",
   "execution_count": 58,
   "id": "cb5013d8",
   "metadata": {},
   "outputs": [
    {
     "data": {
      "text/plain": [
       "array([93, 20, 49, 66, 92,  3, 77, 31, 23, 64, 97,  1])"
      ]
     },
     "execution_count": 58,
     "metadata": {},
     "output_type": "execute_result"
    }
   ],
   "source": [
    "a = np.random.randint(1, 100, (12, ))\n",
    "a"
   ]
  },
  {
   "cell_type": "code",
   "execution_count": 60,
   "id": "2c1013aa",
   "metadata": {},
   "outputs": [
    {
     "data": {
      "text/plain": [
       "array(['odd', 'even', 'odd', 'even', 'even', 'odd', 'odd', 'odd', 'odd',\n",
       "       'even', 'odd', 'odd'], dtype='<U4')"
      ]
     },
     "execution_count": 60,
     "metadata": {},
     "output_type": "execute_result"
    }
   ],
   "source": [
    "np.where(a % 2 == 0, # mask\n",
    "         'even', # array for True values (must be broadcastable to the shape of mask)\n",
    "         'odd' # array for False values (must be broadcastable to the shape of mask)\n",
    "        )"
   ]
  },
  {
   "cell_type": "markdown",
   "id": "eba95c46",
   "metadata": {},
   "source": [
    "# np.argmax() and np.argmin()\n",
    "\n",
    "    These functions are used to find the index of maximum and minimum values in an array.\n",
    "    \n",
    "    - np.argmax() is used to find the index of the maximum value.\n",
    "    - In case of multiple occurrences of the maximum values, the indices corresponding to the first \n",
    "      occurrence are returned."
   ]
  },
  {
   "cell_type": "code",
   "execution_count": 61,
   "id": "7115d717",
   "metadata": {},
   "outputs": [
    {
     "data": {
      "text/plain": [
       "array([16, 94, 22, 10, 57, 57, 31, 78, 19, 49, 22, 46, 69, 12, 11, 26,  7,\n",
       "       23, 83, 10, 97,  5, 65, 26, 59, 54, 36, 13, 48, 64, 34, 34, 17, 20,\n",
       "       11, 35, 73, 89, 30, 75, 48,  8, 97, 44,  9, 13, 11, 44, 62, 53, 84,\n",
       "       16, 26, 45, 78, 10,  7, 15, 12, 83, 71, 33, 86, 12, 91, 89, 54, 36,\n",
       "        1, 44, 76, 33, 47, 85, 62, 90, 63, 86, 12, 31, 85, 10,  8, 98, 87,\n",
       "       53, 55, 29, 14, 13, 45, 23, 21, 86, 94, 33, 63, 48, 29, 93])"
      ]
     },
     "execution_count": 61,
     "metadata": {},
     "output_type": "execute_result"
    }
   ],
   "source": [
    "a = np.random.randint(1, 100, (100, ))\n",
    "a"
   ]
  },
  {
   "cell_type": "code",
   "execution_count": 62,
   "id": "933aa780",
   "metadata": {},
   "outputs": [
    {
     "data": {
      "text/plain": [
       "83"
      ]
     },
     "execution_count": 62,
     "metadata": {},
     "output_type": "execute_result"
    }
   ],
   "source": [
    "np.argmax(a)"
   ]
  },
  {
   "cell_type": "code",
   "execution_count": 63,
   "id": "7930703e",
   "metadata": {},
   "outputs": [
    {
     "data": {
      "text/plain": [
       "98"
      ]
     },
     "execution_count": 63,
     "metadata": {},
     "output_type": "execute_result"
    }
   ],
   "source": [
    "# maximum value\n",
    "a[83]"
   ]
  },
  {
   "cell_type": "markdown",
   "id": "e286569f",
   "metadata": {},
   "source": [
    "    We can also use this function to find the index of maximum values in a 2D array as well."
   ]
  },
  {
   "cell_type": "code",
   "execution_count": 65,
   "id": "838c9fb0",
   "metadata": {},
   "outputs": [
    {
     "data": {
      "text/plain": [
       "array([[ 6, 57, 65, 60, 35, 65, 27, 12, 58],\n",
       "       [83, 21, 82, 21, 66, 63, 89, 41, 94],\n",
       "       [34, 36, 56, 46, 77, 88, 13,  2, 35],\n",
       "       [45, 41, 30, 69, 40, 14, 41, 60, 69]])"
      ]
     },
     "execution_count": 65,
     "metadata": {},
     "output_type": "execute_result"
    }
   ],
   "source": [
    "b = np.random.randint(1, 100, (4, 9))\n",
    "b"
   ]
  },
  {
   "cell_type": "markdown",
   "id": "af867b2e",
   "metadata": {},
   "source": [
    "    To find the indices of the maximum elements in the downward direction, we use axis = 0"
   ]
  },
  {
   "cell_type": "code",
   "execution_count": 66,
   "id": "7e83e6e8",
   "metadata": {},
   "outputs": [
    {
     "data": {
      "text/plain": [
       "array([1, 0, 1, 3, 2, 2, 1, 3, 1], dtype=int64)"
      ]
     },
     "execution_count": 66,
     "metadata": {},
     "output_type": "execute_result"
    }
   ],
   "source": [
    "np.argmax(b, axis = 0)"
   ]
  },
  {
   "cell_type": "markdown",
   "id": "9a002395",
   "metadata": {},
   "source": [
    "    To find the indices of the maximum elements in the horizontal direction, we use axis = 1"
   ]
  },
  {
   "cell_type": "code",
   "execution_count": 67,
   "id": "e1637d9b",
   "metadata": {},
   "outputs": [
    {
     "data": {
      "text/plain": [
       "array([2, 8, 5, 3], dtype=int64)"
      ]
     },
     "execution_count": 67,
     "metadata": {},
     "output_type": "execute_result"
    }
   ],
   "source": [
    "np.argmax(b, axis = 1)"
   ]
  },
  {
   "cell_type": "markdown",
   "id": "a332478e",
   "metadata": {},
   "source": [
    "# cumprod() and cumsum()\n",
    "\n",
    "    These functions are used to perform the operation of cumulative sum and cumulative product of an array.\n",
    "    In case of 1D arrays this is very simple as we do not need to pass in the value of axis. However, when\n",
    "    we use these functions on a 2D array we have the option of passing in the value of axis as well."
   ]
  },
  {
   "cell_type": "code",
   "execution_count": 68,
   "id": "b357b417",
   "metadata": {},
   "outputs": [],
   "source": [
    "import numpy as np"
   ]
  },
  {
   "cell_type": "code",
   "execution_count": 72,
   "id": "6fdf8919",
   "metadata": {},
   "outputs": [
    {
     "data": {
      "text/plain": [
       "array([8, 5, 8, 7, 8, 4, 8, 3, 3, 1])"
      ]
     },
     "execution_count": 72,
     "metadata": {},
     "output_type": "execute_result"
    }
   ],
   "source": [
    "a = np.random.randint(1, 10, (10, ))\n",
    "a"
   ]
  },
  {
   "cell_type": "code",
   "execution_count": 73,
   "id": "0baddf85",
   "metadata": {},
   "outputs": [
    {
     "data": {
      "text/plain": [
       "array([ 8, 13, 21, 28, 36, 40, 48, 51, 54, 55])"
      ]
     },
     "execution_count": 73,
     "metadata": {},
     "output_type": "execute_result"
    }
   ],
   "source": [
    "np.cumsum(a)"
   ]
  },
  {
   "cell_type": "code",
   "execution_count": 74,
   "id": "ca973d75",
   "metadata": {},
   "outputs": [
    {
     "data": {
      "text/plain": [
       "array([      8,      40,     320,    2240,   17920,   71680,  573440,\n",
       "       1720320, 5160960, 5160960])"
      ]
     },
     "execution_count": 74,
     "metadata": {},
     "output_type": "execute_result"
    }
   ],
   "source": [
    "np.cumproduct(a)"
   ]
  },
  {
   "cell_type": "markdown",
   "id": "f311748d",
   "metadata": {},
   "source": [
    "    We can also do the same for 2D arrays as well. We just need to pass in the value of the axis parameter as well."
   ]
  },
  {
   "cell_type": "code",
   "execution_count": 76,
   "id": "906f269d",
   "metadata": {},
   "outputs": [
    {
     "data": {
      "text/plain": [
       "array([[64, 90, 18,  6,  9, 96, 36, 22],\n",
       "       [18,  9, 76, 72, 98, 36, 87, 30],\n",
       "       [99, 40, 65,  9, 40,  2, 41, 35],\n",
       "       [73, 85,  6, 86, 99, 95, 79, 76],\n",
       "       [68, 17,  9, 47, 23, 98, 19, 31],\n",
       "       [54, 63, 91, 89, 92, 21,  2, 19],\n",
       "       [26,  3, 95, 93, 60,  4, 78, 18]])"
      ]
     },
     "execution_count": 76,
     "metadata": {},
     "output_type": "execute_result"
    }
   ],
   "source": [
    "b = np.random.randint(1, 100, (7, 8))\n",
    "b"
   ]
  },
  {
   "cell_type": "code",
   "execution_count": 77,
   "id": "24731601",
   "metadata": {},
   "outputs": [
    {
     "data": {
      "text/plain": [
       "array([[ 64,  90,  18,   6,   9,  96,  36,  22],\n",
       "       [ 82,  99,  94,  78, 107, 132, 123,  52],\n",
       "       [181, 139, 159,  87, 147, 134, 164,  87],\n",
       "       [254, 224, 165, 173, 246, 229, 243, 163],\n",
       "       [322, 241, 174, 220, 269, 327, 262, 194],\n",
       "       [376, 304, 265, 309, 361, 348, 264, 213],\n",
       "       [402, 307, 360, 402, 421, 352, 342, 231]])"
      ]
     },
     "execution_count": 77,
     "metadata": {},
     "output_type": "execute_result"
    }
   ],
   "source": [
    "np.cumsum(b, axis = 0) # cummulative sum in downward direction"
   ]
  },
  {
   "cell_type": "code",
   "execution_count": 78,
   "id": "8cdce8aa",
   "metadata": {},
   "outputs": [
    {
     "data": {
      "text/plain": [
       "array([[ 64, 154, 172, 178, 187, 283, 319, 341],\n",
       "       [ 18,  27, 103, 175, 273, 309, 396, 426],\n",
       "       [ 99, 139, 204, 213, 253, 255, 296, 331],\n",
       "       [ 73, 158, 164, 250, 349, 444, 523, 599],\n",
       "       [ 68,  85,  94, 141, 164, 262, 281, 312],\n",
       "       [ 54, 117, 208, 297, 389, 410, 412, 431],\n",
       "       [ 26,  29, 124, 217, 277, 281, 359, 377]])"
      ]
     },
     "execution_count": 78,
     "metadata": {},
     "output_type": "execute_result"
    }
   ],
   "source": [
    "np.cumsum(b, axis = 1) # cummulative sum in horizontal direction"
   ]
  },
  {
   "cell_type": "markdown",
   "id": "fdc1aab4",
   "metadata": {},
   "source": [
    "# np.histogram()\n",
    "\n",
    "    This is to count the frequency of elements in bin. We make certain number of bins in an array and then\n",
    "    we count the number of elements of an array which lie in that bin."
   ]
  },
  {
   "cell_type": "code",
   "execution_count": 6,
   "id": "667ed9ca",
   "metadata": {},
   "outputs": [
    {
     "data": {
      "text/plain": [
       "(array([2, 4, 3], dtype=int64), array([ 0, 10, 20, 30]))"
      ]
     },
     "execution_count": 6,
     "metadata": {},
     "output_type": "execute_result"
    }
   ],
   "source": [
    "nums = [1, 2, 13, 11, 12, 13, 21, 22, 23]\n",
    "np.histogram(nums, bins = [0, 10, 20, 30])"
   ]
  },
  {
   "cell_type": "markdown",
   "id": "d971443b",
   "metadata": {},
   "source": [
    "### `Q - 1` Given an array a, find the number of elements which are between i and j ( i < j )."
   ]
  },
  {
   "cell_type": "code",
   "execution_count": 7,
   "id": "aa683e32",
   "metadata": {},
   "outputs": [],
   "source": [
    "def no_elements(a, i, j):\n",
    "    return np.histogram(a, bins = [i, j])[0][0]"
   ]
  },
  {
   "cell_type": "code",
   "execution_count": 8,
   "id": "bc27bf2d",
   "metadata": {},
   "outputs": [
    {
     "data": {
      "text/plain": [
       "2"
      ]
     },
     "execution_count": 8,
     "metadata": {},
     "output_type": "execute_result"
    }
   ],
   "source": [
    "no_elements([1,2,2,3,5,56,32,21,45,67,33,44], 40, 50)"
   ]
  },
  {
   "cell_type": "markdown",
   "id": "7cd69dc3",
   "metadata": {},
   "source": [
    "# np.corrcoef()\n",
    "\n",
    "    This is used to find the coffecient of correlation between two or more set of values."
   ]
  },
  {
   "cell_type": "code",
   "execution_count": 9,
   "id": "c74d2a74",
   "metadata": {},
   "outputs": [],
   "source": [
    "salary = np.array([10000, 40000, 25000, 35000, 60000])\n",
    "experience = np.array([1, 3, 2, 4, 2])"
   ]
  },
  {
   "cell_type": "code",
   "execution_count": 16,
   "id": "85ce8f10",
   "metadata": {},
   "outputs": [
    {
     "data": {
      "text/plain": [
       "array([[1.        , 0.37912989],\n",
       "       [0.37912989, 1.        ]])"
      ]
     },
     "execution_count": 16,
     "metadata": {},
     "output_type": "execute_result"
    }
   ],
   "source": [
    "coff = np.corrcoef(salary, experience)\n",
    "coff"
   ]
  },
  {
   "cell_type": "code",
   "execution_count": 17,
   "id": "00b26be9",
   "metadata": {},
   "outputs": [
    {
     "data": {
      "text/plain": [
       "array([[1.  , 0.38],\n",
       "       [0.38, 1.  ]])"
      ]
     },
     "execution_count": 17,
     "metadata": {},
     "output_type": "execute_result"
    }
   ],
   "source": [
    "coff = np.round(coff, 2) # round all the values to 2 decimal places\n",
    "coff"
   ]
  },
  {
   "cell_type": "markdown",
   "id": "382682eb",
   "metadata": {},
   "source": [
    "# np.flip()\n",
    "\n",
    "    The np.flip() method is used to flip an array along a axis.\n",
    "    \n",
    "    In case of 1D arrays, it just reverses the array."
   ]
  },
  {
   "cell_type": "code",
   "execution_count": 18,
   "id": "00f6b107",
   "metadata": {},
   "outputs": [
    {
     "data": {
      "text/plain": [
       "array([-10,  -9,  -7,  -6,  -4,  -3,  -1,   0,   2,   3])"
      ]
     },
     "execution_count": 18,
     "metadata": {},
     "output_type": "execute_result"
    }
   ],
   "source": [
    "a = np.round(np.linspace(-10, 3, 10)).astype(int)\n",
    "a"
   ]
  },
  {
   "cell_type": "code",
   "execution_count": 19,
   "id": "fb12b990",
   "metadata": {},
   "outputs": [
    {
     "data": {
      "text/plain": [
       "array([  3,   2,   0,  -1,  -3,  -4,  -6,  -7,  -9, -10])"
      ]
     },
     "execution_count": 19,
     "metadata": {},
     "output_type": "execute_result"
    }
   ],
   "source": [
    "np.flip(a) # It would just reverse the array since a is 1D"
   ]
  },
  {
   "cell_type": "code",
   "execution_count": 20,
   "id": "b642c772",
   "metadata": {},
   "outputs": [
    {
     "data": {
      "text/plain": [
       "array([[10, 89,  9, 99, 19],\n",
       "       [17, 20, 33, 20,  8],\n",
       "       [72, 41, 21, 86,  2],\n",
       "       [43,  4, 44, 28, 99]])"
      ]
     },
     "execution_count": 20,
     "metadata": {},
     "output_type": "execute_result"
    }
   ],
   "source": [
    "b = np.random.randint(1, 100, (4,5))\n",
    "b"
   ]
  },
  {
   "cell_type": "markdown",
   "id": "4768ca3e",
   "metadata": {},
   "source": [
    "        In case of 2D arrays, we can pass the value of the axis parameter as well. If axis = 0, then\n",
    "        it would take the mirror image of the array with respect to the horizontal line."
   ]
  },
  {
   "cell_type": "code",
   "execution_count": 21,
   "id": "fb8ba876",
   "metadata": {},
   "outputs": [
    {
     "data": {
      "text/plain": [
       "array([[43,  4, 44, 28, 99],\n",
       "       [72, 41, 21, 86,  2],\n",
       "       [17, 20, 33, 20,  8],\n",
       "       [10, 89,  9, 99, 19]])"
      ]
     },
     "execution_count": 21,
     "metadata": {},
     "output_type": "execute_result"
    }
   ],
   "source": [
    "np.flip(b, axis = 0)"
   ]
  },
  {
   "cell_type": "markdown",
   "id": "8bcd3f0d",
   "metadata": {},
   "source": [
    "    If we pass axis = 1, then it would take the mirror image with respect to the vertical line bisecting the array"
   ]
  },
  {
   "cell_type": "code",
   "execution_count": 22,
   "id": "6f46c36f",
   "metadata": {},
   "outputs": [
    {
     "data": {
      "text/plain": [
       "array([[19, 99,  9, 89, 10],\n",
       "       [ 8, 20, 33, 20, 17],\n",
       "       [ 2, 86, 21, 41, 72],\n",
       "       [99, 28, 44,  4, 43]])"
      ]
     },
     "execution_count": 22,
     "metadata": {},
     "output_type": "execute_result"
    }
   ],
   "source": [
    "np.flip(b, axis = 1)"
   ]
  },
  {
   "cell_type": "markdown",
   "id": "4c87b3aa",
   "metadata": {},
   "source": [
    "    If we however, do not specify the value of the axis parameter, then it would flip subsequently by taking axis = 0\n",
    "    and then axis = 1."
   ]
  },
  {
   "cell_type": "code",
   "execution_count": 23,
   "id": "dd036db8",
   "metadata": {},
   "outputs": [
    {
     "data": {
      "text/plain": [
       "array([[99, 28, 44,  4, 43],\n",
       "       [ 2, 86, 21, 41, 72],\n",
       "       [ 8, 20, 33, 20, 17],\n",
       "       [19, 99,  9, 89, 10]])"
      ]
     },
     "execution_count": 23,
     "metadata": {},
     "output_type": "execute_result"
    }
   ],
   "source": [
    "np.flip(b)"
   ]
  },
  {
   "cell_type": "markdown",
   "id": "967a3d44",
   "metadata": {},
   "source": [
    "# np.put()\n",
    "\n",
    "    This is used to modify an array. It takes the following parameters:\n",
    "    1. array to be modified.\n",
    "    2. list of indices where modification needs to be done.\n",
    "    3. values which need to inserted in the place of those to be modified indices."
   ]
  },
  {
   "cell_type": "code",
   "execution_count": 30,
   "id": "aac03de4",
   "metadata": {},
   "outputs": [],
   "source": [
    "a = np.array([1,2,3,4,5,6,7])"
   ]
  },
  {
   "cell_type": "code",
   "execution_count": 31,
   "id": "bded4c5c",
   "metadata": {},
   "outputs": [],
   "source": [
    "np.put(a, [0,-1], [10, 70]) # replace the values at index 0 and -1 with values 10 and 70"
   ]
  },
  {
   "cell_type": "code",
   "execution_count": 32,
   "id": "d03dc4e0",
   "metadata": {},
   "outputs": [
    {
     "data": {
      "text/plain": [
       "array([10,  2,  3,  4,  5,  6, 70])"
      ]
     },
     "execution_count": 32,
     "metadata": {},
     "output_type": "execute_result"
    }
   ],
   "source": [
    "a"
   ]
  },
  {
   "cell_type": "markdown",
   "id": "23569727",
   "metadata": {},
   "source": [
    "### `Question` Given an array `nums` with missing values. Replace all the missing values with the -786."
   ]
  },
  {
   "cell_type": "code",
   "execution_count": 55,
   "id": "5795f5fa",
   "metadata": {},
   "outputs": [],
   "source": [
    "arr = np.array([1,2,3,4,5,5, np.nan, 34, 45, 3,12, 12, 2, np.nan])"
   ]
  },
  {
   "cell_type": "code",
   "execution_count": 56,
   "id": "a8fbc7bf",
   "metadata": {},
   "outputs": [],
   "source": [
    "def replace_nans(arr):    \n",
    "    # find all the indices where we have missing values\n",
    "    indices = np.where(np.isnan(arr))\n",
    "    # print(indices)\n",
    "    return np.put(arr, indices, -786)"
   ]
  },
  {
   "cell_type": "code",
   "execution_count": 58,
   "id": "8bc64465",
   "metadata": {},
   "outputs": [
    {
     "data": {
      "text/plain": [
       "array([   1.,    2.,    3.,    4.,    5.,    5., -786.,   34.,   45.,\n",
       "          3.,   12.,   12.,    2., -786.])"
      ]
     },
     "execution_count": 58,
     "metadata": {},
     "output_type": "execute_result"
    }
   ],
   "source": [
    "replace_nans(arr)\n",
    "arr"
   ]
  },
  {
   "cell_type": "markdown",
   "id": "a62e0506",
   "metadata": {},
   "source": [
    "# np.clip()\n",
    "\n",
    "    used to clip the values of an array in a range."
   ]
  },
  {
   "cell_type": "code",
   "execution_count": 59,
   "id": "529d785f",
   "metadata": {},
   "outputs": [
    {
     "data": {
      "text/plain": [
       "array([  1.,  10.,  19.,  28.,  37.,  46.,  55.,  64.,  73.,  82.,  91.,\n",
       "       100.])"
      ]
     },
     "execution_count": 59,
     "metadata": {},
     "output_type": "execute_result"
    }
   ],
   "source": [
    "a = np.round(np.linspace(1, 100, 12))\n",
    "a"
   ]
  },
  {
   "cell_type": "code",
   "execution_count": 60,
   "id": "4aec64a6",
   "metadata": {},
   "outputs": [
    {
     "data": {
      "text/plain": [
       "array([30., 30., 30., 30., 37., 46., 50., 50., 50., 50., 50., 50.])"
      ]
     },
     "execution_count": 60,
     "metadata": {},
     "output_type": "execute_result"
    }
   ],
   "source": [
    "np.clip(a, a_min = 30, a_max = 50) # any value lower than 30 would be replaced by 30\n",
    "# any value greater than 50 would be replaced with 50"
   ]
  },
  {
   "cell_type": "code",
   "execution_count": 61,
   "id": "2c265788",
   "metadata": {},
   "outputs": [
    {
     "data": {
      "text/plain": [
       "array([  1.,  10.,  19.,  28.,  37.,  46.,  55.,  64.,  73.,  82.,  91.,\n",
       "       100.])"
      ]
     },
     "execution_count": 61,
     "metadata": {},
     "output_type": "execute_result"
    }
   ],
   "source": [
    "a"
   ]
  },
  {
   "cell_type": "code",
   "execution_count": null,
   "id": "891b3da8",
   "metadata": {},
   "outputs": [],
   "source": []
  }
 ],
 "metadata": {
  "kernelspec": {
   "display_name": "Python 3 (ipykernel)",
   "language": "python",
   "name": "python3"
  },
  "language_info": {
   "codemirror_mode": {
    "name": "ipython",
    "version": 3
   },
   "file_extension": ".py",
   "mimetype": "text/x-python",
   "name": "python",
   "nbconvert_exporter": "python",
   "pygments_lexer": "ipython3",
   "version": "3.11.5"
  }
 },
 "nbformat": 4,
 "nbformat_minor": 5
}
