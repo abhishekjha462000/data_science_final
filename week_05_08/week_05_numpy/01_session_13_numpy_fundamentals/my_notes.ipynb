{
 "cells": [
  {
   "cell_type": "markdown",
   "id": "12a46d42",
   "metadata": {},
   "source": [
    "## What is numpy?\n",
    "- NumPy is the fundamental package for scientific computing in Python. It is a Python library that provides a multidimensional array object, various derived objects (such as masked arrays and matrices), and an assortment of routines for fast operations on arrays, including mathematical, logical, shape manipulation, sorting, selecting, I/O, discrete Fourier transforms, basic linear algebra, basic statistical operations, random simulation and much more.\n",
    "\n",
    "- At the core of the NumPy package, is the ndarray object. This encapsulates n-dimensional arrays of homogeneous data types"
   ]
  },
  {
   "cell_type": "markdown",
   "id": "67e13cec",
   "metadata": {},
   "source": [
    "## Numpy Arrays Vs Python Sequences\n",
    "1. NumPy arrays have a fixed size at creation, unlike Python lists (which can grow dynamically). Changing the size of an ndarray will create a new array and delete the original.\n",
    "\n",
    "2. The elements in a NumPy array are all required to be of the same data type, and thus will be the same size in memory.\n",
    "\n",
    "3. NumPy arrays facilitate advanced mathematical and other types of operations on large numbers of data. Typically, such operations are executed more efficiently and with less code than is possible using Python’s built-in sequences.\n",
    "\n",
    "4. A growing plethora of scientific and mathematical Python-based packages are using NumPy arrays; though these typically support Python-sequence input, they convert such input to NumPy arrays prior to processing, and they often output NumPy arrays."
   ]
  },
  {
   "cell_type": "markdown",
   "id": "5b6fc7c7",
   "metadata": {},
   "source": [
    "So basically around `2008`, people used to do data science using R programming language and Matlab. This was due to the fact that Python was considered a slow programming language(it still is to this date)."
   ]
  },
  {
   "cell_type": "markdown",
   "id": "4bd4d5bd",
   "metadata": {},
   "source": [
    "- So a bunch of people came around with the concept of numpy which is a library written in C language(this is one of the reasons it is very fast.)\n",
    "- and they put a wrapper around it in the form of python(as python is very easy to learn)\n",
    "- Fir kya uske baad se people started using python programming language for machine learning and data science."
   ]
  },
  {
   "cell_type": "markdown",
   "id": "299401a1",
   "metadata": {},
   "source": [
    "# Creation of numpy arrays\n",
    "- For creating a numpy array, we need to pass in a python list in the numpy.array() method.\n",
    "- We can pass in a list of any dimension"
   ]
  },
  {
   "cell_type": "code",
   "execution_count": 1,
   "id": "24a12b40",
   "metadata": {},
   "outputs": [],
   "source": [
    "import numpy as np"
   ]
  },
  {
   "cell_type": "code",
   "execution_count": 2,
   "id": "dda59e04",
   "metadata": {},
   "outputs": [
    {
     "data": {
      "text/plain": [
       "array([1, 2, 3])"
      ]
     },
     "execution_count": 2,
     "metadata": {},
     "output_type": "execute_result"
    }
   ],
   "source": [
    "l = [1, 2, 3]\n",
    "\n",
    "np.array(l)"
   ]
  },
  {
   "cell_type": "code",
   "execution_count": 3,
   "id": "9bd863e2",
   "metadata": {},
   "outputs": [],
   "source": [
    "mat = [\n",
    "        [1,2],\n",
    "        [3,4]\n",
    "    ]"
   ]
  },
  {
   "cell_type": "code",
   "execution_count": 4,
   "id": "c5b08d07",
   "metadata": {},
   "outputs": [
    {
     "data": {
      "text/plain": [
       "array([[1, 2],\n",
       "       [3, 4]])"
      ]
     },
     "execution_count": 4,
     "metadata": {},
     "output_type": "execute_result"
    }
   ],
   "source": [
    "np.array(mat)"
   ]
  },
  {
   "cell_type": "code",
   "execution_count": 5,
   "id": "09240724",
   "metadata": {},
   "outputs": [],
   "source": [
    "tensor = [\n",
    "            # first 2D array             \n",
    "            [\n",
    "                [1,2], \n",
    "                [3,4]\n",
    "            ], \n",
    "            # second 2D array \n",
    "            [\n",
    "                [11, 12],\n",
    "                [34, 56]\n",
    "            ],\n",
    "            # third 2D array\n",
    "            [\n",
    "                [-1, -5],\n",
    "                [-56, -68]\n",
    "            ]\n",
    "        ]"
   ]
  },
  {
   "cell_type": "code",
   "execution_count": 6,
   "id": "ef065ab9",
   "metadata": {},
   "outputs": [
    {
     "data": {
      "text/plain": [
       "array([[[  1,   2],\n",
       "        [  3,   4]],\n",
       "\n",
       "       [[ 11,  12],\n",
       "        [ 34,  56]],\n",
       "\n",
       "       [[ -1,  -5],\n",
       "        [-56, -68]]])"
      ]
     },
     "execution_count": 6,
     "metadata": {},
     "output_type": "execute_result"
    }
   ],
   "source": [
    "array = np.array(tensor)\n",
    "array"
   ]
  },
  {
   "cell_type": "code",
   "execution_count": 7,
   "id": "6fa0075e",
   "metadata": {},
   "outputs": [
    {
     "data": {
      "text/plain": [
       "3"
      ]
     },
     "execution_count": 7,
     "metadata": {},
     "output_type": "execute_result"
    }
   ],
   "source": [
    "array.ndim"
   ]
  },
  {
   "cell_type": "markdown",
   "id": "24dce9b5",
   "metadata": {},
   "source": [
    "- We can also create numpy arrays using the arange function. This is similar to the range() function\n",
    "- This expects us to pass in 3 parameters : start, stop and step(jump)"
   ]
  },
  {
   "cell_type": "code",
   "execution_count": 8,
   "id": "cda730f7",
   "metadata": {},
   "outputs": [
    {
     "data": {
      "text/plain": [
       "array([ 1,  4,  7, 10, 13, 16, 19])"
      ]
     },
     "execution_count": 8,
     "metadata": {},
     "output_type": "execute_result"
    }
   ],
   "source": [
    "np.arange(1, 20, 3) # 1, 4, 7, 10, 13, 16, 19"
   ]
  },
  {
   "cell_type": "markdown",
   "id": "0329902d",
   "metadata": {},
   "source": [
    "#### Note\n",
    "- It is a very common practice in data science to first create an array using arange() function and then reshape it to our convenience.\n",
    "- The reshape() method expects us to pass in a tuple into which we want to convert our array.\n",
    "- Reshaping is only possible when the number of elements match. For example, you cannot reshape a numpy array of 12 elements into a numpy array of shape (7, 2)"
   ]
  },
  {
   "cell_type": "code",
   "execution_count": 10,
   "id": "217f7bc4",
   "metadata": {},
   "outputs": [
    {
     "data": {
      "text/plain": [
       "array([[ 1,  2,  3,  4,  5],\n",
       "       [ 6,  7,  8,  9, 10],\n",
       "       [11, 12, 13, 14, 15],\n",
       "       [16, 17, 18, 19, 20],\n",
       "       [21, 22, 23, 24, 25]])"
      ]
     },
     "execution_count": 10,
     "metadata": {},
     "output_type": "execute_result"
    }
   ],
   "source": [
    "np.arange(1,26).reshape((5,5))"
   ]
  },
  {
   "cell_type": "code",
   "execution_count": 11,
   "id": "2d480488",
   "metadata": {},
   "outputs": [
    {
     "data": {
      "text/plain": [
       "array([[ 1,  2],\n",
       "       [ 3,  4],\n",
       "       [ 5,  6],\n",
       "       [ 7,  8],\n",
       "       [ 9, 10],\n",
       "       [11, 12]])"
      ]
     },
     "execution_count": 11,
     "metadata": {},
     "output_type": "execute_result"
    }
   ],
   "source": [
    "np.arange(1,13).reshape((6,2))"
   ]
  },
  {
   "cell_type": "code",
   "execution_count": 12,
   "id": "6433eade",
   "metadata": {},
   "outputs": [
    {
     "data": {
      "text/plain": [
       "array([[ 1,  2,  3,  4],\n",
       "       [ 5,  6,  7,  8],\n",
       "       [ 9, 10, 11, 12]])"
      ]
     },
     "execution_count": 12,
     "metadata": {},
     "output_type": "execute_result"
    }
   ],
   "source": [
    "np.arange(1,13).reshape((3,4))"
   ]
  },
  {
   "cell_type": "markdown",
   "id": "9fe435da",
   "metadata": {},
   "source": [
    "- We can also specify the data type of the numpy array."
   ]
  },
  {
   "cell_type": "code",
   "execution_count": 2,
   "id": "4b7febf0",
   "metadata": {},
   "outputs": [
    {
     "data": {
      "text/plain": [
       "array([1., 2., 3., 4., 5.])"
      ]
     },
     "execution_count": 2,
     "metadata": {},
     "output_type": "execute_result"
    }
   ],
   "source": [
    "np.array([1, 2, 3, 4, 5], dtype = float)"
   ]
  },
  {
   "cell_type": "code",
   "execution_count": 3,
   "id": "a9682064",
   "metadata": {},
   "outputs": [
    {
     "data": {
      "text/plain": [
       "array([ True,  True,  True,  True,  True])"
      ]
     },
     "execution_count": 3,
     "metadata": {},
     "output_type": "execute_result"
    }
   ],
   "source": [
    "np.array([1, 2, 3, 4, 5], dtype = bool)"
   ]
  },
  {
   "cell_type": "markdown",
   "id": "53f10027",
   "metadata": {},
   "source": [
    "# np.ones() and np.zeros()"
   ]
  },
  {
   "cell_type": "markdown",
   "id": "79503145",
   "metadata": {},
   "source": [
    "- np.ones() and np.zeros() expects us to pass in the shape of the required matrix. \n",
    "- It is used to initialize the matrix. For example, jb hme neural networks me weights ko initial value dene ke liye we use np.ones()\n",
    "- These methods are used to initialize a matrix."
   ]
  },
  {
   "cell_type": "code",
   "execution_count": 4,
   "id": "f1225916",
   "metadata": {},
   "outputs": [
    {
     "data": {
      "text/plain": [
       "array([[1., 1.],\n",
       "       [1., 1.],\n",
       "       [1., 1.]])"
      ]
     },
     "execution_count": 4,
     "metadata": {},
     "output_type": "execute_result"
    }
   ],
   "source": [
    "np.ones((3, 2))"
   ]
  },
  {
   "cell_type": "markdown",
   "id": "f560b2d2",
   "metadata": {},
   "source": [
    "# np.random.random()\n",
    "- This also expects us to pass the shape of the array.\n",
    "- This gives us an array in which every element is a random number between 0 and 1."
   ]
  },
  {
   "cell_type": "code",
   "execution_count": 5,
   "id": "a586423a",
   "metadata": {},
   "outputs": [
    {
     "data": {
      "text/plain": [
       "array([[0.59285804, 0.07746648, 0.25794081, 0.04058932],\n",
       "       [0.3285476 , 0.69953381, 0.15488714, 0.46204566],\n",
       "       [0.56683216, 0.77841539, 0.1339179 , 0.533695  ]])"
      ]
     },
     "execution_count": 5,
     "metadata": {},
     "output_type": "execute_result"
    }
   ],
   "source": [
    "np.random.random((3,4))"
   ]
  },
  {
   "cell_type": "markdown",
   "id": "c67d044a",
   "metadata": {},
   "source": [
    "# np.linspace()"
   ]
  },
  {
   "cell_type": "code",
   "execution_count": 6,
   "id": "47d03e21",
   "metadata": {},
   "outputs": [
    {
     "data": {
      "text/plain": [
       "array([-10.        ,  -9.13043478,  -8.26086957,  -7.39130435,\n",
       "        -6.52173913,  -5.65217391,  -4.7826087 ,  -3.91304348,\n",
       "        -3.04347826,  -2.17391304,  -1.30434783,  -0.43478261,\n",
       "         0.43478261,   1.30434783,   2.17391304,   3.04347826,\n",
       "         3.91304348,   4.7826087 ,   5.65217391,   6.52173913,\n",
       "         7.39130435,   8.26086957,   9.13043478,  10.        ])"
      ]
     },
     "execution_count": 6,
     "metadata": {},
     "output_type": "execute_result"
    }
   ],
   "source": [
    "np.linspace(-10, 10, 24) # gives us an array of 24 elements between -10 and 10(including both of 'em')"
   ]
  },
  {
   "cell_type": "code",
   "execution_count": 7,
   "id": "291db7d1",
   "metadata": {},
   "outputs": [
    {
     "data": {
      "text/plain": [
       "array([-10.,  10.])"
      ]
     },
     "execution_count": 7,
     "metadata": {},
     "output_type": "execute_result"
    }
   ],
   "source": [
    "np.linspace(-10, 10, 2)"
   ]
  },
  {
   "cell_type": "markdown",
   "id": "a803f40c",
   "metadata": {},
   "source": [
    "# np.identity()"
   ]
  },
  {
   "cell_type": "code",
   "execution_count": 8,
   "id": "b08326b8",
   "metadata": {},
   "outputs": [
    {
     "data": {
      "text/plain": [
       "array([[1., 0., 0.],\n",
       "       [0., 1., 0.],\n",
       "       [0., 0., 1.]])"
      ]
     },
     "execution_count": 8,
     "metadata": {},
     "output_type": "execute_result"
    }
   ],
   "source": [
    "np.identity(3)"
   ]
  },
  {
   "cell_type": "code",
   "execution_count": 13,
   "id": "17d6be46",
   "metadata": {},
   "outputs": [
    {
     "data": {
      "text/plain": [
       "array([[1., 0., 0., 0., 0.],\n",
       "       [0., 1., 0., 0., 0.],\n",
       "       [0., 0., 1., 0., 0.],\n",
       "       [0., 0., 0., 1., 0.],\n",
       "       [0., 0., 0., 0., 1.]])"
      ]
     },
     "execution_count": 13,
     "metadata": {},
     "output_type": "execute_result"
    }
   ],
   "source": [
    "np.identity(5)"
   ]
  },
  {
   "cell_type": "code",
   "execution_count": 12,
   "id": "3d7bda1c",
   "metadata": {},
   "outputs": [
    {
     "data": {
      "text/plain": [
       "array([[1., 0., 0.],\n",
       "       [0., 1., 0.],\n",
       "       [0., 0., 1.]])"
      ]
     },
     "execution_count": 12,
     "metadata": {},
     "output_type": "execute_result"
    }
   ],
   "source": [
    "np.eye(3)"
   ]
  },
  {
   "cell_type": "code",
   "execution_count": 15,
   "id": "7e5a9efe",
   "metadata": {},
   "outputs": [
    {
     "data": {
      "text/plain": [
       "array([[1., 0., 0., 0., 0.],\n",
       "       [0., 1., 0., 0., 0.],\n",
       "       [0., 0., 1., 0., 0.]])"
      ]
     },
     "execution_count": 15,
     "metadata": {},
     "output_type": "execute_result"
    }
   ],
   "source": [
    "np.eye(3,5)"
   ]
  },
  {
   "cell_type": "markdown",
   "id": "d9682834",
   "metadata": {},
   "source": [
    "# Attributes"
   ]
  },
  {
   "cell_type": "code",
   "execution_count": 16,
   "id": "334c80ac",
   "metadata": {},
   "outputs": [],
   "source": [
    "a1 = np.arange(10) # vector\n",
    "a2 = np.arange(12, dtype = float).reshape((3,4)) # matrix\n",
    "a3 = np.arange(8).reshape((2,2,2)) # tensor"
   ]
  },
  {
   "cell_type": "code",
   "execution_count": 17,
   "id": "61f98312",
   "metadata": {},
   "outputs": [
    {
     "data": {
      "text/plain": [
       "(1, 2, 3)"
      ]
     },
     "execution_count": 17,
     "metadata": {},
     "output_type": "execute_result"
    }
   ],
   "source": [
    "a1.ndim, a2.ndim, a3.ndim # ndim gives us the number of dimensions"
   ]
  },
  {
   "cell_type": "code",
   "execution_count": 18,
   "id": "6940dcbc",
   "metadata": {},
   "outputs": [
    {
     "name": "stdout",
     "output_type": "stream",
     "text": [
      "(10,)\n",
      "(3, 4)\n",
      "(2, 2, 2)\n"
     ]
    }
   ],
   "source": [
    "# shape\n",
    "print(a1.shape)\n",
    "print(a2.shape)\n",
    "print(a3.shape)\n",
    "\n",
    "# The length of shape tuple is equal to ndim"
   ]
  },
  {
   "cell_type": "code",
   "execution_count": 19,
   "id": "057b8513",
   "metadata": {},
   "outputs": [
    {
     "name": "stdout",
     "output_type": "stream",
     "text": [
      "10\n",
      "12\n",
      "8\n"
     ]
    }
   ],
   "source": [
    "# size\n",
    "# gives us the number of items\n",
    "print(a1.size)\n",
    "print(a2.size)\n",
    "print(a3.size)"
   ]
  },
  {
   "cell_type": "code",
   "execution_count": 20,
   "id": "39e2b6f9",
   "metadata": {},
   "outputs": [
    {
     "name": "stdout",
     "output_type": "stream",
     "text": [
      "4\n",
      "8\n",
      "4\n"
     ]
    }
   ],
   "source": [
    "# itemsize \n",
    "# gives us the memory occupied by each item of the nd array in bytes\n",
    "print(a1.itemsize)\n",
    "print(a2.itemsize)\n",
    "print(a3.itemsize)"
   ]
  },
  {
   "cell_type": "markdown",
   "id": "d8331916",
   "metadata": {},
   "source": [
    "### changing the data type of nd array\n",
    "- Sometimes we may need to change the default data type of a numpy array. In this case we use the function numpy astype() method"
   ]
  },
  {
   "cell_type": "code",
   "execution_count": 21,
   "id": "00417569",
   "metadata": {},
   "outputs": [],
   "source": [
    "ages = np.array([10, 20, 30, 45, 67])"
   ]
  },
  {
   "cell_type": "code",
   "execution_count": 22,
   "id": "25059c14",
   "metadata": {},
   "outputs": [
    {
     "data": {
      "text/plain": [
       "array([10, 20, 30, 45, 67])"
      ]
     },
     "execution_count": 22,
     "metadata": {},
     "output_type": "execute_result"
    }
   ],
   "source": [
    "ages"
   ]
  },
  {
   "cell_type": "code",
   "execution_count": 23,
   "id": "03555f4c",
   "metadata": {},
   "outputs": [
    {
     "data": {
      "text/plain": [
       "dtype('int32')"
      ]
     },
     "execution_count": 23,
     "metadata": {},
     "output_type": "execute_result"
    }
   ],
   "source": [
    "ages.dtype"
   ]
  },
  {
   "cell_type": "markdown",
   "id": "00968849",
   "metadata": {},
   "source": [
    "We do not require 32 bit integer to store the ages.\n",
    "So we will convert it into a 8 bit integer"
   ]
  },
  {
   "cell_type": "code",
   "execution_count": 26,
   "id": "d7c1f801",
   "metadata": {},
   "outputs": [
    {
     "data": {
      "text/plain": [
       "array([10, 20, 30, 45, 67], dtype=uint8)"
      ]
     },
     "execution_count": 26,
     "metadata": {},
     "output_type": "execute_result"
    }
   ],
   "source": [
    "ages = ages.astype(np.uint8)\n",
    "ages"
   ]
  },
  {
   "cell_type": "code",
   "execution_count": 27,
   "id": "2f1605e5",
   "metadata": {},
   "outputs": [
    {
     "data": {
      "text/plain": [
       "dtype('uint8')"
      ]
     },
     "execution_count": 27,
     "metadata": {},
     "output_type": "execute_result"
    }
   ],
   "source": [
    "ages.dtype"
   ]
  },
  {
   "cell_type": "markdown",
   "id": "2b6793ca",
   "metadata": {},
   "source": [
    "# Array operations\n",
    "\n",
    "- arithmetic operations (+, -, *, /, //, **)\n",
    "- relational operations (==, > , >= , <, <= , !=)\n",
    "- vector operations (adding two arrays, subtracting, mutliplying, dividing)"
   ]
  },
  {
   "cell_type": "code",
   "execution_count": 29,
   "id": "b24e6c50",
   "metadata": {},
   "outputs": [
    {
     "data": {
      "text/plain": [
       "array([1, 2, 3, 4])"
      ]
     },
     "execution_count": 29,
     "metadata": {},
     "output_type": "execute_result"
    }
   ],
   "source": [
    "a1 = np.array([1,2,3,4])\n",
    "a1"
   ]
  },
  {
   "cell_type": "code",
   "execution_count": 33,
   "id": "8f6eabde",
   "metadata": {},
   "outputs": [
    {
     "name": "stdout",
     "output_type": "stream",
     "text": [
      "[6 7 8 9]\n",
      "[-4 -3 -2 -1]\n",
      "[ 5 10 15 20]\n",
      "[0.2 0.4 0.6 0.8]\n",
      "[0 0 0 0]\n",
      "[   1   32  243 1024]\n"
     ]
    }
   ],
   "source": [
    "print(a1 + 5)\n",
    "print(a1 - 5)\n",
    "print(a1 * 5)\n",
    "print(a1 / 5)\n",
    "print(a1 // 5)\n",
    "print(a1 ** 5)"
   ]
  },
  {
   "cell_type": "code",
   "execution_count": 34,
   "id": "8a1e9542",
   "metadata": {},
   "outputs": [
    {
     "name": "stdout",
     "output_type": "stream",
     "text": [
      "[False  True False False]\n",
      "[ True  True  True  True]\n",
      "[False False False  True]\n",
      "[False False  True  True]\n",
      "[ True  True  True  True]\n",
      "[ True False False False]\n"
     ]
    }
   ],
   "source": [
    "print(a1 == 2)\n",
    "print(a1 != 45)\n",
    "print(a1 > 3)\n",
    "print(a1 >= 3)\n",
    "print(a1 < 45)\n",
    "print(a1 <= 1)"
   ]
  },
  {
   "cell_type": "markdown",
   "id": "ca6f58c4",
   "metadata": {},
   "source": [
    "# Array functions"
   ]
  },
  {
   "cell_type": "code",
   "execution_count": 37,
   "id": "031b6f6a",
   "metadata": {},
   "outputs": [
    {
     "data": {
      "text/plain": [
       "array([[25, 40, 25, 80],\n",
       "       [34, 44, 47, 54],\n",
       "       [58, 80, 21,  8]], dtype=uint8)"
      ]
     },
     "execution_count": 37,
     "metadata": {},
     "output_type": "execute_result"
    }
   ],
   "source": [
    "a = np.random.random((3,4))\n",
    "a = np.round(a * 100)\n",
    "a = a.astype(np.uint8)\n",
    "a"
   ]
  },
  {
   "cell_type": "code",
   "execution_count": 38,
   "id": "227673a5",
   "metadata": {},
   "outputs": [
    {
     "name": "stdout",
     "output_type": "stream",
     "text": [
      "516\n",
      "8\n",
      "80\n",
      "3025666048\n"
     ]
    }
   ],
   "source": [
    "# math functions\n",
    "print(np.sum(a))\n",
    "print(np.min(a))\n",
    "print(np.max(a))\n",
    "print(np.prod(a))"
   ]
  },
  {
   "cell_type": "code",
   "execution_count": 39,
   "id": "b143170d",
   "metadata": {},
   "outputs": [
    {
     "data": {
      "text/plain": [
       "array([[-0.1323,  0.745 , -0.1323, -0.9937],\n",
       "       [ 0.5293,  0.0177,  0.1236, -0.5586],\n",
       "       [ 0.9927, -0.9937,  0.8364,  0.9893]], dtype=float16)"
      ]
     },
     "execution_count": 39,
     "metadata": {},
     "output_type": "execute_result"
    }
   ],
   "source": [
    "# trigonometric functions\n",
    "np.sin(a)"
   ]
  },
  {
   "cell_type": "code",
   "execution_count": 40,
   "id": "8bbaede8",
   "metadata": {},
   "outputs": [
    {
     "name": "stdout",
     "output_type": "stream",
     "text": [
      "21.501937897160182\n",
      "43.0\n",
      "42.0\n",
      "462.3333333333333\n"
     ]
    }
   ],
   "source": [
    "# statistical functions\n",
    "print(np.std(a))\n",
    "print(np.mean(a))\n",
    "print(np.median(a))\n",
    "print(np.var(a))"
   ]
  },
  {
   "cell_type": "code",
   "execution_count": 41,
   "id": "d78d6406",
   "metadata": {},
   "outputs": [
    {
     "data": {
      "text/plain": [
       "array([117, 164,  93, 142], dtype=uint32)"
      ]
     },
     "execution_count": 41,
     "metadata": {},
     "output_type": "execute_result"
    }
   ],
   "source": [
    "# we can also pass in the axis along which we want to perform the operation\n",
    "np.sum(a, axis = 0) # axis = 0 means columns"
   ]
  },
  {
   "cell_type": "code",
   "execution_count": 42,
   "id": "66446486",
   "metadata": {},
   "outputs": [
    {
     "data": {
      "text/plain": [
       "array([[25, 40, 25, 80],\n",
       "       [34, 44, 47, 54],\n",
       "       [58, 80, 21,  8]], dtype=uint8)"
      ]
     },
     "execution_count": 42,
     "metadata": {},
     "output_type": "execute_result"
    }
   ],
   "source": [
    "a"
   ]
  },
  {
   "cell_type": "code",
   "execution_count": 43,
   "id": "0a8214b5",
   "metadata": {},
   "outputs": [
    {
     "data": {
      "text/plain": [
       "array([25, 34,  8], dtype=uint8)"
      ]
     },
     "execution_count": 43,
     "metadata": {},
     "output_type": "execute_result"
    }
   ],
   "source": [
    "np.min(a, axis = 1) # axis = 1 means rows"
   ]
  },
  {
   "cell_type": "markdown",
   "id": "b8746d12",
   "metadata": {},
   "source": [
    "- We also have functions which we can apply between 2 vectors or matrices.\n",
    "- For example, matrix multiplication is reffered to as dot product."
   ]
  },
  {
   "cell_type": "code",
   "execution_count": 46,
   "id": "bec90fce",
   "metadata": {},
   "outputs": [
    {
     "data": {
      "text/plain": [
       "(array([[ 0,  1,  2,  3],\n",
       "        [ 4,  5,  6,  7],\n",
       "        [ 8,  9, 10, 11]]),\n",
       " array([[12, 13, 14],\n",
       "        [15, 16, 17],\n",
       "        [18, 19, 20],\n",
       "        [21, 22, 23]]))"
      ]
     },
     "execution_count": 46,
     "metadata": {},
     "output_type": "execute_result"
    }
   ],
   "source": [
    "a = np.arange(12).reshape((3,4))\n",
    "b = np.arange(12, 24).reshape((4,3))\n",
    "a, b"
   ]
  },
  {
   "cell_type": "code",
   "execution_count": 47,
   "id": "b0301cc3",
   "metadata": {},
   "outputs": [
    {
     "data": {
      "text/plain": [
       "array([[114, 120, 126],\n",
       "       [378, 400, 422],\n",
       "       [642, 680, 718]])"
      ]
     },
     "execution_count": 47,
     "metadata": {},
     "output_type": "execute_result"
    }
   ],
   "source": [
    "np.dot(a, b) # multiplied matrix a with matrix b"
   ]
  },
  {
   "cell_type": "markdown",
   "id": "4bf3da76",
   "metadata": {},
   "source": [
    "- We also have logarithmic and exponential functions as well."
   ]
  },
  {
   "cell_type": "code",
   "execution_count": 48,
   "id": "682a3a04",
   "metadata": {},
   "outputs": [
    {
     "data": {
      "text/plain": [
       "array([[1.00000000e+00, 2.71828183e+00, 7.38905610e+00, 2.00855369e+01],\n",
       "       [5.45981500e+01, 1.48413159e+02, 4.03428793e+02, 1.09663316e+03],\n",
       "       [2.98095799e+03, 8.10308393e+03, 2.20264658e+04, 5.98741417e+04]])"
      ]
     },
     "execution_count": 48,
     "metadata": {},
     "output_type": "execute_result"
    }
   ],
   "source": [
    "np.exp(a)"
   ]
  },
  {
   "cell_type": "code",
   "execution_count": 51,
   "id": "41f81e9b",
   "metadata": {},
   "outputs": [
    {
     "name": "stderr",
     "output_type": "stream",
     "text": [
      "C:\\Users\\HU496FA\\AppData\\Local\\Temp\\ipykernel_24536\\176755284.py:1: RuntimeWarning: divide by zero encountered in log\n",
      "  np.log(a)\n"
     ]
    },
    {
     "data": {
      "text/plain": [
       "array([[      -inf, 0.        , 0.69314718, 1.09861229],\n",
       "       [1.38629436, 1.60943791, 1.79175947, 1.94591015],\n",
       "       [2.07944154, 2.19722458, 2.30258509, 2.39789527]])"
      ]
     },
     "execution_count": 51,
     "metadata": {},
     "output_type": "execute_result"
    }
   ],
   "source": [
    "np.log(a)"
   ]
  },
  {
   "cell_type": "markdown",
   "id": "425b3377",
   "metadata": {},
   "source": [
    "- round, floor, ceil"
   ]
  },
  {
   "cell_type": "code",
   "execution_count": 55,
   "id": "eb3b4d54",
   "metadata": {},
   "outputs": [
    {
     "data": {
      "text/plain": [
       "array([[15.66873756, 42.1544118 , 10.19257288],\n",
       "       [55.90902418, 68.16800253, 23.41172917]])"
      ]
     },
     "execution_count": 55,
     "metadata": {},
     "output_type": "execute_result"
    }
   ],
   "source": [
    "a = np.random.random((2,3)) * 100\n",
    "a"
   ]
  },
  {
   "cell_type": "code",
   "execution_count": 56,
   "id": "53b91a24",
   "metadata": {},
   "outputs": [
    {
     "data": {
      "text/plain": [
       "array([[15., 42., 10.],\n",
       "       [55., 68., 23.]])"
      ]
     },
     "execution_count": 56,
     "metadata": {},
     "output_type": "execute_result"
    }
   ],
   "source": [
    "np.floor(a)"
   ]
  },
  {
   "cell_type": "code",
   "execution_count": 57,
   "id": "b3e48112",
   "metadata": {},
   "outputs": [
    {
     "data": {
      "text/plain": [
       "array([[16., 43., 11.],\n",
       "       [56., 69., 24.]])"
      ]
     },
     "execution_count": 57,
     "metadata": {},
     "output_type": "execute_result"
    }
   ],
   "source": [
    "np.ceil(a)"
   ]
  },
  {
   "cell_type": "code",
   "execution_count": 58,
   "id": "67790d15",
   "metadata": {},
   "outputs": [
    {
     "data": {
      "text/plain": [
       "array([[16., 42., 10.],\n",
       "       [56., 68., 23.]])"
      ]
     },
     "execution_count": 58,
     "metadata": {},
     "output_type": "execute_result"
    }
   ],
   "source": [
    "np.round(a)"
   ]
  },
  {
   "cell_type": "markdown",
   "id": "4f4f92ec",
   "metadata": {},
   "source": [
    "# Indexing and slicing"
   ]
  },
  {
   "cell_type": "code",
   "execution_count": 59,
   "id": "9acc3c76",
   "metadata": {},
   "outputs": [
    {
     "data": {
      "text/plain": [
       "array([1, 2, 3, 4, 5, 6, 7, 8, 9])"
      ]
     },
     "execution_count": 59,
     "metadata": {},
     "output_type": "execute_result"
    }
   ],
   "source": [
    "a1 = np.arange(1, 10)\n",
    "a1"
   ]
  },
  {
   "cell_type": "code",
   "execution_count": 60,
   "id": "ffecc47d",
   "metadata": {},
   "outputs": [
    {
     "data": {
      "text/plain": [
       "(1, 8)"
      ]
     },
     "execution_count": 60,
     "metadata": {},
     "output_type": "execute_result"
    }
   ],
   "source": [
    "a1[0], a1[-2]"
   ]
  },
  {
   "cell_type": "code",
   "execution_count": 61,
   "id": "92d3a345",
   "metadata": {},
   "outputs": [
    {
     "data": {
      "text/plain": [
       "array([[ 0,  1,  2,  3],\n",
       "       [ 4,  5,  6,  7],\n",
       "       [ 8,  9, 10, 11]])"
      ]
     },
     "execution_count": 61,
     "metadata": {},
     "output_type": "execute_result"
    }
   ],
   "source": [
    "a2 = np.arange(12).reshape((3,4))\n",
    "a2"
   ]
  },
  {
   "cell_type": "code",
   "execution_count": 62,
   "id": "9e7a3fec",
   "metadata": {},
   "outputs": [
    {
     "data": {
      "text/plain": [
       "6"
      ]
     },
     "execution_count": 62,
     "metadata": {},
     "output_type": "execute_result"
    }
   ],
   "source": [
    "a2[1, 2] # a2[row_number, col_number]"
   ]
  },
  {
   "cell_type": "code",
   "execution_count": 63,
   "id": "8d9e3640",
   "metadata": {},
   "outputs": [
    {
     "data": {
      "text/plain": [
       "array([[[0, 1],\n",
       "        [2, 3]],\n",
       "\n",
       "       [[4, 5],\n",
       "        [6, 7]]])"
      ]
     },
     "execution_count": 63,
     "metadata": {},
     "output_type": "execute_result"
    }
   ],
   "source": [
    "a3 = np.arange(8).reshape((2,2,2))\n",
    "a3"
   ]
  },
  {
   "cell_type": "code",
   "execution_count": 64,
   "id": "ca2eab88",
   "metadata": {},
   "outputs": [
    {
     "data": {
      "text/plain": [
       "5"
      ]
     },
     "execution_count": 64,
     "metadata": {},
     "output_type": "execute_result"
    }
   ],
   "source": [
    "a3[1,0,1]"
   ]
  },
  {
   "cell_type": "code",
   "execution_count": 65,
   "id": "05ed133d",
   "metadata": {},
   "outputs": [
    {
     "data": {
      "text/plain": [
       "2"
      ]
     },
     "execution_count": 65,
     "metadata": {},
     "output_type": "execute_result"
    }
   ],
   "source": [
    "a3[0,1,0]"
   ]
  },
  {
   "cell_type": "code",
   "execution_count": 66,
   "id": "c2457598",
   "metadata": {},
   "outputs": [
    {
     "data": {
      "text/plain": [
       "0"
      ]
     },
     "execution_count": 66,
     "metadata": {},
     "output_type": "execute_result"
    }
   ],
   "source": [
    "# fetch 0\n",
    "a3[0, 0, 0]"
   ]
  },
  {
   "cell_type": "markdown",
   "id": "a4a1cc00",
   "metadata": {},
   "source": [
    "- Slicing"
   ]
  },
  {
   "cell_type": "code",
   "execution_count": 69,
   "id": "498111ef",
   "metadata": {},
   "outputs": [],
   "source": [
    "a1 = np.arange(5,11)"
   ]
  },
  {
   "cell_type": "code",
   "execution_count": 70,
   "id": "25c7c6e5",
   "metadata": {},
   "outputs": [
    {
     "data": {
      "text/plain": [
       "array([ 5,  6,  7,  8,  9, 10])"
      ]
     },
     "execution_count": 70,
     "metadata": {},
     "output_type": "execute_result"
    }
   ],
   "source": [
    "a1"
   ]
  },
  {
   "cell_type": "code",
   "execution_count": 71,
   "id": "05f68d8b",
   "metadata": {},
   "outputs": [
    {
     "data": {
      "text/plain": [
       "array([7, 8, 9])"
      ]
     },
     "execution_count": 71,
     "metadata": {},
     "output_type": "execute_result"
    }
   ],
   "source": [
    "a1[2:5]"
   ]
  },
  {
   "cell_type": "code",
   "execution_count": 84,
   "id": "ec52de72",
   "metadata": {},
   "outputs": [],
   "source": [
    "a2 = np.arange(12).reshape((3,4))"
   ]
  },
  {
   "cell_type": "code",
   "execution_count": 85,
   "id": "5d4a1c6f",
   "metadata": {},
   "outputs": [
    {
     "data": {
      "text/plain": [
       "array([[ 0,  1,  2,  3],\n",
       "       [ 4,  5,  6,  7],\n",
       "       [ 8,  9, 10, 11]])"
      ]
     },
     "execution_count": 85,
     "metadata": {},
     "output_type": "execute_result"
    }
   ],
   "source": [
    "a2"
   ]
  },
  {
   "cell_type": "code",
   "execution_count": 86,
   "id": "8604b57e",
   "metadata": {},
   "outputs": [
    {
     "data": {
      "text/plain": [
       "array([[ 8,  9, 10]])"
      ]
     },
     "execution_count": 86,
     "metadata": {},
     "output_type": "execute_result"
    }
   ],
   "source": [
    "a2[2:, 0:3] \n",
    "# all rows after and including 2nd row and \n",
    "# all columns from 0th column to 2nd column(including)"
   ]
  },
  {
   "cell_type": "code",
   "execution_count": 87,
   "id": "40b388b2",
   "metadata": {},
   "outputs": [
    {
     "data": {
      "text/plain": [
       "array([ 2,  6, 10])"
      ]
     },
     "execution_count": 87,
     "metadata": {},
     "output_type": "execute_result"
    }
   ],
   "source": [
    "# give me the 3rd column\n",
    "a2[::, 2]"
   ]
  },
  {
   "cell_type": "code",
   "execution_count": 88,
   "id": "b3f6f462",
   "metadata": {},
   "outputs": [
    {
     "data": {
      "text/plain": [
       "array([[ 0,  1,  2,  3],\n",
       "       [ 4,  5,  6,  7],\n",
       "       [ 8,  9, 10, 11]])"
      ]
     },
     "execution_count": 88,
     "metadata": {},
     "output_type": "execute_result"
    }
   ],
   "source": [
    "a2"
   ]
  },
  {
   "cell_type": "code",
   "execution_count": 89,
   "id": "c4809a42",
   "metadata": {},
   "outputs": [
    {
     "data": {
      "text/plain": [
       "array([[ 5,  6],\n",
       "       [ 9, 10]])"
      ]
     },
     "execution_count": 89,
     "metadata": {},
     "output_type": "execute_result"
    }
   ],
   "source": [
    "# i want 5, 6, 9, 10\n",
    "a2[1:, 1:3]"
   ]
  },
  {
   "cell_type": "code",
   "execution_count": 90,
   "id": "77dc4945",
   "metadata": {},
   "outputs": [
    {
     "data": {
      "text/plain": [
       "array([[ 0,  3],\n",
       "       [ 8, 11]])"
      ]
     },
     "execution_count": 90,
     "metadata": {},
     "output_type": "execute_result"
    }
   ],
   "source": [
    "# give me 0, 3, 8, 11 -- all corners\n",
    "a2[0::2, 0::3]"
   ]
  },
  {
   "cell_type": "code",
   "execution_count": 91,
   "id": "e6c16805",
   "metadata": {},
   "outputs": [
    {
     "data": {
      "text/plain": [
       "array([[ 1,  3],\n",
       "       [ 9, 11]])"
      ]
     },
     "execution_count": 91,
     "metadata": {},
     "output_type": "execute_result"
    }
   ],
   "source": [
    "# give me 1, 3, 9, 11\n",
    "a2[::2, 1::2]"
   ]
  },
  {
   "cell_type": "markdown",
   "id": "de80e837",
   "metadata": {},
   "source": [
    "    Give the following output\n",
    "        [\n",
    "            [1,2,3],\n",
    "            [5,6,7]\n",
    "        ]\n"
   ]
  },
  {
   "cell_type": "code",
   "execution_count": 92,
   "id": "7688c5fe",
   "metadata": {},
   "outputs": [
    {
     "data": {
      "text/plain": [
       "array([[ 0,  1,  2,  3],\n",
       "       [ 4,  5,  6,  7],\n",
       "       [ 8,  9, 10, 11]])"
      ]
     },
     "execution_count": 92,
     "metadata": {},
     "output_type": "execute_result"
    }
   ],
   "source": [
    "a2"
   ]
  },
  {
   "cell_type": "code",
   "execution_count": 93,
   "id": "2fbf0094",
   "metadata": {},
   "outputs": [
    {
     "data": {
      "text/plain": [
       "array([[1, 2, 3],\n",
       "       [5, 6, 7]])"
      ]
     },
     "execution_count": 93,
     "metadata": {},
     "output_type": "execute_result"
    }
   ],
   "source": [
    "a2[:2, 1::]"
   ]
  },
  {
   "cell_type": "markdown",
   "id": "9f9bdb3c",
   "metadata": {},
   "source": [
    "# Mega question -- indexing and slicing"
   ]
  },
  {
   "cell_type": "code",
   "execution_count": 94,
   "id": "56a2e5c6",
   "metadata": {},
   "outputs": [
    {
     "data": {
      "text/plain": [
       "array([[[ 0,  1,  2],\n",
       "        [ 3,  4,  5],\n",
       "        [ 6,  7,  8]],\n",
       "\n",
       "       [[ 9, 10, 11],\n",
       "        [12, 13, 14],\n",
       "        [15, 16, 17]],\n",
       "\n",
       "       [[18, 19, 20],\n",
       "        [21, 22, 23],\n",
       "        [24, 25, 26]]])"
      ]
     },
     "execution_count": 94,
     "metadata": {},
     "output_type": "execute_result"
    }
   ],
   "source": [
    "a3 = np.arange(27).reshape((3,3,3))\n",
    "a3"
   ]
  },
  {
   "cell_type": "markdown",
   "id": "dca2bbe9",
   "metadata": {},
   "source": [
    "    Q1. Give the following output\n",
    "    [\n",
    "        [ 9, 10, 11],\n",
    "        [12, 13, 14],\n",
    "        [15, 16, 17]\n",
    "    ]"
   ]
  },
  {
   "cell_type": "code",
   "execution_count": 95,
   "id": "36e09e61",
   "metadata": {},
   "outputs": [
    {
     "data": {
      "text/plain": [
       "array([[ 9, 10, 11],\n",
       "       [12, 13, 14],\n",
       "       [15, 16, 17]])"
      ]
     },
     "execution_count": 95,
     "metadata": {},
     "output_type": "execute_result"
    }
   ],
   "source": [
    "a3[1]"
   ]
  },
  {
   "cell_type": "markdown",
   "id": "8b0ce764",
   "metadata": {},
   "source": [
    "    Give the first and last 2D arrays"
   ]
  },
  {
   "cell_type": "code",
   "execution_count": 96,
   "id": "c5ecaeb1",
   "metadata": {},
   "outputs": [
    {
     "data": {
      "text/plain": [
       "array([[[ 0,  1,  2],\n",
       "        [ 3,  4,  5],\n",
       "        [ 6,  7,  8]],\n",
       "\n",
       "       [[18, 19, 20],\n",
       "        [21, 22, 23],\n",
       "        [24, 25, 26]]])"
      ]
     },
     "execution_count": 96,
     "metadata": {},
     "output_type": "execute_result"
    }
   ],
   "source": [
    "a3[0::2] # or a3[::2]"
   ]
  },
  {
   "cell_type": "markdown",
   "id": "531d5d12",
   "metadata": {},
   "source": [
    "    Give the second row of first 2D array of a3"
   ]
  },
  {
   "cell_type": "code",
   "execution_count": 97,
   "id": "936f1ef7",
   "metadata": {},
   "outputs": [
    {
     "data": {
      "text/plain": [
       "array([3, 4, 5])"
      ]
     },
     "execution_count": 97,
     "metadata": {},
     "output_type": "execute_result"
    }
   ],
   "source": [
    "a3[0,1,::]"
   ]
  },
  {
   "cell_type": "markdown",
   "id": "e36f3917",
   "metadata": {},
   "source": [
    "    Give me the following output\n",
    "    [\n",
    "        [22, 23],\n",
    "        [25, 26]\n",
    "    ]"
   ]
  },
  {
   "cell_type": "code",
   "execution_count": 98,
   "id": "2d41e9f9",
   "metadata": {},
   "outputs": [
    {
     "data": {
      "text/plain": [
       "array([[[ 0,  1,  2],\n",
       "        [ 3,  4,  5],\n",
       "        [ 6,  7,  8]],\n",
       "\n",
       "       [[ 9, 10, 11],\n",
       "        [12, 13, 14],\n",
       "        [15, 16, 17]],\n",
       "\n",
       "       [[18, 19, 20],\n",
       "        [21, 22, 23],\n",
       "        [24, 25, 26]]])"
      ]
     },
     "execution_count": 98,
     "metadata": {},
     "output_type": "execute_result"
    }
   ],
   "source": [
    "a3"
   ]
  },
  {
   "cell_type": "code",
   "execution_count": 99,
   "id": "903ad1e9",
   "metadata": {},
   "outputs": [
    {
     "data": {
      "text/plain": [
       "array([[22, 23],\n",
       "       [25, 26]])"
      ]
     },
     "execution_count": 99,
     "metadata": {},
     "output_type": "execute_result"
    }
   ],
   "source": [
    "a3[2, 1::, 1::]"
   ]
  },
  {
   "cell_type": "markdown",
   "id": "900a1d65",
   "metadata": {},
   "source": [
    "    Q. Give the following output\n",
    "    [\n",
    "        [0, 2],\n",
    "        [18, 20]\n",
    "    ]"
   ]
  },
  {
   "cell_type": "code",
   "execution_count": 100,
   "id": "f12b7eea",
   "metadata": {},
   "outputs": [
    {
     "data": {
      "text/plain": [
       "array([[ 0,  2],\n",
       "       [18, 20]])"
      ]
     },
     "execution_count": 100,
     "metadata": {},
     "output_type": "execute_result"
    }
   ],
   "source": [
    "a3[::2, 0, ::2]"
   ]
  },
  {
   "cell_type": "markdown",
   "id": "a71d175e",
   "metadata": {},
   "source": [
    "# Iterating over numpy arrays"
   ]
  },
  {
   "cell_type": "code",
   "execution_count": 103,
   "id": "4e2c91dc",
   "metadata": {},
   "outputs": [],
   "source": [
    "a1 = np.arange(12)\n",
    "a2 = np.arange(12).reshape((3,4))\n",
    "a3 = np.arange(24).reshape((3,4,2))"
   ]
  },
  {
   "cell_type": "code",
   "execution_count": 105,
   "id": "4d5413ed",
   "metadata": {},
   "outputs": [
    {
     "name": "stdout",
     "output_type": "stream",
     "text": [
      "0 1 2 3 4 5 6 7 8 9 10 11 "
     ]
    }
   ],
   "source": [
    "for i in a1:\n",
    "    print(i, end = ' ')"
   ]
  },
  {
   "cell_type": "code",
   "execution_count": 106,
   "id": "c25b93ab",
   "metadata": {},
   "outputs": [
    {
     "name": "stdout",
     "output_type": "stream",
     "text": [
      "[0 1 2 3] [4 5 6 7] [ 8  9 10 11] "
     ]
    }
   ],
   "source": [
    "for i in a2:\n",
    "    print(i, end = ' ')"
   ]
  },
  {
   "cell_type": "code",
   "execution_count": 113,
   "id": "deadd128",
   "metadata": {},
   "outputs": [
    {
     "name": "stdout",
     "output_type": "stream",
     "text": [
      "[[0 1]\n",
      " [2 3]\n",
      " [4 5]\n",
      " [6 7]]\n",
      "=================\n",
      "[[ 8  9]\n",
      " [10 11]\n",
      " [12 13]\n",
      " [14 15]]\n",
      "=================\n",
      "[[16 17]\n",
      " [18 19]\n",
      " [20 21]\n",
      " [22 23]]\n",
      "=================\n"
     ]
    }
   ],
   "source": [
    "for i in a3:\n",
    "    print(i,end = \"\\n=================\\n\")"
   ]
  },
  {
   "cell_type": "markdown",
   "id": "3e1618a0",
   "metadata": {},
   "source": [
    "    In order that we iterate over each and every element of the array, we use np.nditer() method."
   ]
  },
  {
   "cell_type": "code",
   "execution_count": 114,
   "id": "36031234",
   "metadata": {},
   "outputs": [
    {
     "name": "stdout",
     "output_type": "stream",
     "text": [
      "0 1 2 3 4 5 6 7 8 9 10 11 12 13 14 15 16 17 18 19 20 21 22 23 "
     ]
    }
   ],
   "source": [
    "for i in np.nditer(a3):\n",
    "    print(i, end = ' ')"
   ]
  },
  {
   "cell_type": "code",
   "execution_count": 117,
   "id": "77af8a88",
   "metadata": {},
   "outputs": [
    {
     "name": "stdout",
     "output_type": "stream",
     "text": [
      "0 1 2 3 4 5 6 7 8 9 10 11 "
     ]
    }
   ],
   "source": [
    "for i in np.nditer(a2):\n",
    "    print(i, end = ' ')"
   ]
  },
  {
   "cell_type": "markdown",
   "id": "72b1603d",
   "metadata": {},
   "source": [
    "# Reshaping an array"
   ]
  },
  {
   "cell_type": "code",
   "execution_count": 118,
   "id": "5e2457ff",
   "metadata": {},
   "outputs": [],
   "source": [
    "# reshape"
   ]
  },
  {
   "cell_type": "code",
   "execution_count": 119,
   "id": "44e3aa4a",
   "metadata": {},
   "outputs": [
    {
     "data": {
      "text/plain": [
       "array([[ 0,  1,  2,  3],\n",
       "       [ 4,  5,  6,  7],\n",
       "       [ 8,  9, 10, 11]])"
      ]
     },
     "execution_count": 119,
     "metadata": {},
     "output_type": "execute_result"
    }
   ],
   "source": [
    "# transpose\n",
    "a2 = np.arange(12).reshape((3,4))\n",
    "a2"
   ]
  },
  {
   "cell_type": "code",
   "execution_count": 120,
   "id": "91504145",
   "metadata": {},
   "outputs": [
    {
     "data": {
      "text/plain": [
       "array([[ 0,  4,  8],\n",
       "       [ 1,  5,  9],\n",
       "       [ 2,  6, 10],\n",
       "       [ 3,  7, 11]])"
      ]
     },
     "execution_count": 120,
     "metadata": {},
     "output_type": "execute_result"
    }
   ],
   "source": [
    "np.transpose(a2)"
   ]
  },
  {
   "cell_type": "code",
   "execution_count": 121,
   "id": "b5a87e63",
   "metadata": {},
   "outputs": [
    {
     "data": {
      "text/plain": [
       "array([[ 0,  4,  8],\n",
       "       [ 1,  5,  9],\n",
       "       [ 2,  6, 10],\n",
       "       [ 3,  7, 11]])"
      ]
     },
     "execution_count": 121,
     "metadata": {},
     "output_type": "execute_result"
    }
   ],
   "source": [
    "a2.T"
   ]
  },
  {
   "cell_type": "code",
   "execution_count": 122,
   "id": "f8b08c50",
   "metadata": {},
   "outputs": [],
   "source": [
    "# ravel -- it is used to flatten a nth-dimensional array"
   ]
  },
  {
   "cell_type": "code",
   "execution_count": 123,
   "id": "3df391a8",
   "metadata": {},
   "outputs": [
    {
     "data": {
      "text/plain": [
       "array([ 0,  1,  2,  3,  4,  5,  6,  7,  8,  9, 10, 11])"
      ]
     },
     "execution_count": 123,
     "metadata": {},
     "output_type": "execute_result"
    }
   ],
   "source": [
    "a2.ravel()"
   ]
  },
  {
   "cell_type": "markdown",
   "id": "c2c707bc",
   "metadata": {},
   "source": [
    "# stacking"
   ]
  },
  {
   "cell_type": "code",
   "execution_count": 124,
   "id": "e21e26ee",
   "metadata": {},
   "outputs": [],
   "source": [
    "# horizontal stacking"
   ]
  },
  {
   "cell_type": "code",
   "execution_count": 126,
   "id": "9e9d7330",
   "metadata": {},
   "outputs": [
    {
     "data": {
      "text/plain": [
       "array([[ 0,  1,  2,  3],\n",
       "       [ 4,  5,  6,  7],\n",
       "       [ 8,  9, 10, 11]])"
      ]
     },
     "execution_count": 126,
     "metadata": {},
     "output_type": "execute_result"
    }
   ],
   "source": [
    "a1 = np.arange(12).reshape((3,4))\n",
    "a1"
   ]
  },
  {
   "cell_type": "code",
   "execution_count": 129,
   "id": "513d7548",
   "metadata": {},
   "outputs": [
    {
     "data": {
      "text/plain": [
       "array([[12, 13, 14, 15, 16],\n",
       "       [17, 18, 19, 20, 21],\n",
       "       [22, 23, 24, 25, 26]])"
      ]
     },
     "execution_count": 129,
     "metadata": {},
     "output_type": "execute_result"
    }
   ],
   "source": [
    "a2 = np.arange(12, 27).reshape((3,5))\n",
    "a2"
   ]
  },
  {
   "cell_type": "code",
   "execution_count": 130,
   "id": "bccd17b0",
   "metadata": {},
   "outputs": [
    {
     "data": {
      "text/plain": [
       "array([[ 0,  1,  2,  3, 12, 13, 14, 15, 16],\n",
       "       [ 4,  5,  6,  7, 17, 18, 19, 20, 21],\n",
       "       [ 8,  9, 10, 11, 22, 23, 24, 25, 26]])"
      ]
     },
     "execution_count": 130,
     "metadata": {},
     "output_type": "execute_result"
    }
   ],
   "source": [
    "np.hstack((a1, a2))"
   ]
  },
  {
   "cell_type": "code",
   "execution_count": 131,
   "id": "b66377f3",
   "metadata": {},
   "outputs": [],
   "source": [
    "# vertical stacking"
   ]
  },
  {
   "cell_type": "code",
   "execution_count": 132,
   "id": "ea37449a",
   "metadata": {},
   "outputs": [
    {
     "data": {
      "text/plain": [
       "array([[0, 1],\n",
       "       [2, 3]])"
      ]
     },
     "execution_count": 132,
     "metadata": {},
     "output_type": "execute_result"
    }
   ],
   "source": [
    "b1 = np.arange(4).reshape((2,2))\n",
    "b1"
   ]
  },
  {
   "cell_type": "code",
   "execution_count": 134,
   "id": "eb40ca89",
   "metadata": {},
   "outputs": [
    {
     "data": {
      "text/plain": [
       "array([[ 4,  5],\n",
       "       [ 6,  7],\n",
       "       [ 8,  9],\n",
       "       [10, 11],\n",
       "       [12, 13],\n",
       "       [14, 15]])"
      ]
     },
     "execution_count": 134,
     "metadata": {},
     "output_type": "execute_result"
    }
   ],
   "source": [
    "b2 = np.arange(4, 16).reshape((6,2))\n",
    "b2"
   ]
  },
  {
   "cell_type": "code",
   "execution_count": 135,
   "id": "cd10ae14",
   "metadata": {},
   "outputs": [
    {
     "data": {
      "text/plain": [
       "array([[ 0,  1],\n",
       "       [ 2,  3],\n",
       "       [ 4,  5],\n",
       "       [ 6,  7],\n",
       "       [ 8,  9],\n",
       "       [10, 11],\n",
       "       [12, 13],\n",
       "       [14, 15]])"
      ]
     },
     "execution_count": 135,
     "metadata": {},
     "output_type": "execute_result"
    }
   ],
   "source": [
    "np.vstack((b1, b2))"
   ]
  },
  {
   "cell_type": "markdown",
   "id": "8f0bf119",
   "metadata": {},
   "source": [
    "# hsplit and vsplit\n",
    "\n",
    "- These functions are used to split a numpy array into equal parts.\n",
    "\n",
    "- The divided parts are then returned in a list."
   ]
  },
  {
   "cell_type": "code",
   "execution_count": 136,
   "id": "428f54ad",
   "metadata": {},
   "outputs": [
    {
     "data": {
      "text/plain": [
       "array([[ 1,  2,  3,  4],\n",
       "       [ 5,  6,  7,  8],\n",
       "       [ 9, 10, 11, 12],\n",
       "       [13, 14, 15, 16],\n",
       "       [17, 18, 19, 20],\n",
       "       [21, 22, 23, 24]])"
      ]
     },
     "execution_count": 136,
     "metadata": {},
     "output_type": "execute_result"
    }
   ],
   "source": [
    "a = np.arange(1, 25).reshape((6,4))\n",
    "a"
   ]
  },
  {
   "cell_type": "code",
   "execution_count": 138,
   "id": "699c46e5",
   "metadata": {},
   "outputs": [],
   "source": [
    "part_one, part_two = np.hsplit(a, 2)"
   ]
  },
  {
   "cell_type": "code",
   "execution_count": 139,
   "id": "606444d4",
   "metadata": {},
   "outputs": [
    {
     "data": {
      "text/plain": [
       "array([[ 1,  2],\n",
       "       [ 5,  6],\n",
       "       [ 9, 10],\n",
       "       [13, 14],\n",
       "       [17, 18],\n",
       "       [21, 22]])"
      ]
     },
     "execution_count": 139,
     "metadata": {},
     "output_type": "execute_result"
    }
   ],
   "source": [
    "part_one"
   ]
  },
  {
   "cell_type": "code",
   "execution_count": 140,
   "id": "cc2c87b7",
   "metadata": {},
   "outputs": [
    {
     "data": {
      "text/plain": [
       "array([[ 3,  4],\n",
       "       [ 7,  8],\n",
       "       [11, 12],\n",
       "       [15, 16],\n",
       "       [19, 20],\n",
       "       [23, 24]])"
      ]
     },
     "execution_count": 140,
     "metadata": {},
     "output_type": "execute_result"
    }
   ],
   "source": [
    "part_two"
   ]
  },
  {
   "cell_type": "markdown",
   "id": "ee569ada",
   "metadata": {},
   "source": [
    "    Similiarily, We can split the array vertically into equal parts."
   ]
  },
  {
   "cell_type": "code",
   "execution_count": 141,
   "id": "3da36f6a",
   "metadata": {},
   "outputs": [
    {
     "data": {
      "text/plain": [
       "array([[ 1,  2,  3,  4],\n",
       "       [ 5,  6,  7,  8],\n",
       "       [ 9, 10, 11, 12],\n",
       "       [13, 14, 15, 16],\n",
       "       [17, 18, 19, 20],\n",
       "       [21, 22, 23, 24]])"
      ]
     },
     "execution_count": 141,
     "metadata": {},
     "output_type": "execute_result"
    }
   ],
   "source": [
    "a"
   ]
  },
  {
   "cell_type": "code",
   "execution_count": 142,
   "id": "08be8a8e",
   "metadata": {},
   "outputs": [],
   "source": [
    "x, y, z = np.vsplit(a, 3)"
   ]
  },
  {
   "cell_type": "code",
   "execution_count": 143,
   "id": "6f322025",
   "metadata": {},
   "outputs": [
    {
     "data": {
      "text/plain": [
       "array([[1, 2, 3, 4],\n",
       "       [5, 6, 7, 8]])"
      ]
     },
     "execution_count": 143,
     "metadata": {},
     "output_type": "execute_result"
    }
   ],
   "source": [
    "x"
   ]
  },
  {
   "cell_type": "code",
   "execution_count": 144,
   "id": "b017235c",
   "metadata": {},
   "outputs": [
    {
     "data": {
      "text/plain": [
       "array([[ 9, 10, 11, 12],\n",
       "       [13, 14, 15, 16]])"
      ]
     },
     "execution_count": 144,
     "metadata": {},
     "output_type": "execute_result"
    }
   ],
   "source": [
    "y"
   ]
  },
  {
   "cell_type": "code",
   "execution_count": 145,
   "id": "1ef0b7af",
   "metadata": {},
   "outputs": [
    {
     "data": {
      "text/plain": [
       "array([[17, 18, 19, 20],\n",
       "       [21, 22, 23, 24]])"
      ]
     },
     "execution_count": 145,
     "metadata": {},
     "output_type": "execute_result"
    }
   ],
   "source": [
    "z"
   ]
  },
  {
   "cell_type": "code",
   "execution_count": null,
   "id": "919d9cc8",
   "metadata": {},
   "outputs": [],
   "source": []
  }
 ],
 "metadata": {
  "kernelspec": {
   "display_name": "Python 3 (ipykernel)",
   "language": "python",
   "name": "python3"
  },
  "language_info": {
   "codemirror_mode": {
    "name": "ipython",
    "version": 3
   },
   "file_extension": ".py",
   "mimetype": "text/x-python",
   "name": "python",
   "nbconvert_exporter": "python",
   "pygments_lexer": "ipython3",
   "version": "3.11.5"
  }
 },
 "nbformat": 4,
 "nbformat_minor": 5
}
