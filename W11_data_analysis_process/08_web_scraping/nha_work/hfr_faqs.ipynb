{
 "cells": [
  {
   "cell_type": "code",
   "execution_count": 1,
   "id": "6d1c2f81-7cc9-4fd3-a22d-6c6a30307687",
   "metadata": {},
   "outputs": [],
   "source": [
    "from selenium import webdriver\n",
    "import time"
   ]
  },
  {
   "cell_type": "code",
   "execution_count": 2,
   "id": "8a502176-f8e5-43b8-ab3e-c6274754de87",
   "metadata": {},
   "outputs": [],
   "source": [
    "from bs4 import BeautifulSoup\n",
    "import requests"
   ]
  },
  {
   "cell_type": "code",
   "execution_count": 3,
   "id": "7bb8eb8c-48c2-4aa1-bc2d-72787321219c",
   "metadata": {},
   "outputs": [],
   "source": [
    "from selenium.webdriver.chrome.service import Service\n",
    "from selenium.webdriver.common.by import By"
   ]
  },
  {
   "cell_type": "code",
   "execution_count": 4,
   "id": "48d3e0a1-c2a3-4ad6-a833-b529fc948aba",
   "metadata": {},
   "outputs": [],
   "source": [
    "s = Service(path = 'https://github.com/sameerjha462000/data_science_final/blob/main/W11_data_analysis_process/08_web_scraping/chromedriver.exe')"
   ]
  },
  {
   "cell_type": "code",
   "execution_count": 5,
   "id": "077338f0-d851-4c7f-8575-ee5eb8ed5774",
   "metadata": {},
   "outputs": [],
   "source": [
    "headers={'User-Agent':'Mozilla/5.0 (Windows NT 6.3; Win 64 ; x64) Apple WeKit /537.36(KHTML , like Gecko) Chrome/80.0.3987.162 Safari/537.36'}"
   ]
  },
  {
   "cell_type": "code",
   "execution_count": 12,
   "id": "992e5ba2-69ef-4aac-b768-3701217b9e8d",
   "metadata": {},
   "outputs": [],
   "source": [
    "url = 'https://facility.abdm.gov.in/faq'"
   ]
  },
  {
   "cell_type": "code",
   "execution_count": 13,
   "id": "f8ce17ac-f3fc-4107-a0da-ef50234b262d",
   "metadata": {},
   "outputs": [
    {
     "data": {
      "text/plain": [
       "'<html><head>\\n<!-- Google tag (gtag.js) -->\\n<script async=\"\" src=\"https://www.googletagmanager.com/gtag/js?id=G-FM0HNRYQSR\"></script>\\n<script>\\n  window.dataLayer = window.dataLayer || [];\\n  function gtag(){dataLayer.push(arguments);}\\n  gtag(\\'js\\', new Date());\\n\\n  gtag(\\'config\\', \\'G-FM0HNRYQSR\\');\\n</script>\\n<meta charset=\"utf-8\">\\n<link rel=\"apple-touch-icon\" sizes=\"76x76\" href=\"/img/apple-icon.png\">\\n  <link rel=\"icon\" type=\"image/png\" href=\"/img/favicon.png\">\\n  <meta http-equiv=\"X-UA-Compatible\" content=\"IE=edge,chrome=1\">\\n <title>\\n\\tHFR\\n  </title>\\n  <meta content=\"width=device-width, initial-scale=1.0, shrink-to-fit=no\" name=\"viewport\">\\n  <!--     Fonts and icons     -->\\n  <link href=\"https://fonts.googleapis.com/css?family=Montserrat:400,700,200\" rel=\"stylesheet\">\\n  <!-- CSS Files -->\\n <link href=\"./assets/css/bootstrap.min.css?v=0.8354949395750721\" rel=\"stylesheet\">\\n <link href=\"./assets/css/now-ui-kit.css?v=0.1936116196895995\" rel=\"stylesheet\">\\n <link href=\"./assets/font-awesome/css/font-awesome.min.css?v=0.9419553536074835\" rel=\"stylesheet\">\\n    \\n <link href=\"./assets/css/select2.min.css?v=0.2170478729721972\" rel=\"stylesheet\">\\n <link href=\"./assets/css/select2-bootstrap.css?v=0.904779654418273\" rel=\"stylesheet\">\\n <link href=\"./assets/demo/demo.css?v=0.7879353491296787\" rel=\"stylesheet\">\\n<script src=\"./assets/js/core/crypto-js.min.js?v=0.7330586549950314\" type=\"text/javascript\"></script></head></html>'"
      ]
     },
     "execution_count": 13,
     "metadata": {},
     "output_type": "execute_result"
    }
   ],
   "source": [
    "driver = webdriver.Chrome(service = s)\n",
    "driver.get(url)\n",
    "\n",
    "html = driver.page_source\n",
    "\n",
    "html"
   ]
  },
  {
   "cell_type": "code",
   "execution_count": 14,
   "id": "b96496bd-8e52-4f43-9639-859567a326cd",
   "metadata": {},
   "outputs": [
    {
     "data": {
      "text/plain": [
       "<Response [400]>"
      ]
     },
     "execution_count": 14,
     "metadata": {},
     "output_type": "execute_result"
    }
   ],
   "source": [
    "requests.get('https://facility.abdm.gov.in/faq', headers = headers)\n"
   ]
  },
  {
   "cell_type": "code",
   "execution_count": null,
   "id": "be92d8e7-4f27-4747-9d71-1c43bcacadd4",
   "metadata": {},
   "outputs": [],
   "source": []
  }
 ],
 "metadata": {
  "kernelspec": {
   "display_name": "Python 3 (ipykernel)",
   "language": "python",
   "name": "python3"
  },
  "language_info": {
   "codemirror_mode": {
    "name": "ipython",
    "version": 3
   },
   "file_extension": ".py",
   "mimetype": "text/x-python",
   "name": "python",
   "nbconvert_exporter": "python",
   "pygments_lexer": "ipython3",
   "version": "3.11.7"
  }
 },
 "nbformat": 4,
 "nbformat_minor": 5
}
