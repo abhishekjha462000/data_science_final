{
  "nbformat": 4,
  "nbformat_minor": 0,
  "metadata": {
    "colab": {
      "provenance": []
    },
    "kernelspec": {
      "name": "python3",
      "display_name": "Python 3"
    },
    "language_info": {
      "name": "python"
    }
  },
  "cells": [
    {
      "cell_type": "markdown",
      "source": [
        "**Problem:**\n",
        "\n",
        "You are given the following dataset:\n",
        "1. **Audible Data** : audible_uncleaned.xlsx\n",
        "\n",
        "Your task is to:\n",
        "- Find the problems with the datasets.\n",
        "- Define the Data Quality Dimensions.\n",
        "- Try to clean the datasets."
      ],
      "metadata": {
        "id": "1-EbgBO3hInD"
      }
    },
    {
      "cell_type": "code",
      "source": [],
      "metadata": {
        "id": "nxoqZxJMhI_y"
      },
      "execution_count": null,
      "outputs": []
    }
  ]
}