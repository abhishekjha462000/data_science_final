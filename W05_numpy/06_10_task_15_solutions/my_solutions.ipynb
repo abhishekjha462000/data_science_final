{
 "cells": [
  {
   "cell_type": "code",
   "execution_count": 1,
   "metadata": {
    "id": "K9VDgsipSNov"
   },
   "outputs": [],
   "source": [
    "import numpy as np"
   ]
  },
  {
   "cell_type": "markdown",
   "metadata": {
    "id": "J88qfqQEk_sT"
   },
   "source": [
    "### `Q-1:` Create a random 3x4 matrix with value between 0-100. And perform below tasks\n",
    "\n",
    "    i. Sort this matrix. np.sort()\n",
    "    ii. Sort this matrix based on values in 2nd column.\n",
    "    iii. Sort this matrix based on max value in each row.\n",
    "    iv. Sort based on elements value.\n"
   ]
  },
  {
   "cell_type": "markdown",
   "metadata": {
    "id": "xpOwOdhqlE9R"
   },
   "source": [
    "See examples:\n",
    "```\n",
    "arr =\n",
    "    [[92 90 74]\n",
    "    [ 6 63 93]\n",
    "    [15 93 96]\n",
    "    [70 60 48]]\n",
    "```\n",
    "```\n",
    "i. np.sort\n",
    "[[74 90 92]\n",
    " [ 6 63 93]\n",
    " [15 93 96]\n",
    " [48 60 70]]\n",
    "\n",
    "ii. based on 2nd column\n",
    "[[70 60 48]\n",
    " [ 6 63 93]\n",
    " [92 90 74]\n",
    " [15 93 96]]\n",
    "\n",
    "iii. based on row max- ascending\n",
    "[[15 93 96]\n",
    " [ 6 63 93]\n",
    " [92 90 74]\n",
    " [70 60 48]]\n",
    "\n",
    "iv. based on elements value\n",
    "[[ 6 15 48]\n",
    " [60 63 70]\n",
    " [74 90 92]\n",
    " [93 93 96]]\n",
    "\n",
    "```"
   ]
  },
  {
   "cell_type": "code",
   "execution_count": 2,
   "metadata": {
    "id": "Auy-guUwlALv",
    "outputId": "9235a111-c15b-47fd-e81e-3c29da84a0f1"
   },
   "outputs": [
    {
     "data": {
      "text/plain": [
       "array([[78, 64, 32],\n",
       "       [81, 95, 24],\n",
       "       [43, 40, 19],\n",
       "       [90, 59, 41]])"
      ]
     },
     "execution_count": 2,
     "metadata": {},
     "output_type": "execute_result"
    }
   ],
   "source": [
    "arr = np.random.randint(0, 100, (4,3))\n",
    "arr"
   ]
  },
  {
   "cell_type": "markdown",
   "metadata": {},
   "source": [
    "### `1 based on individual rows`"
   ]
  },
  {
   "cell_type": "code",
   "execution_count": 3,
   "metadata": {},
   "outputs": [
    {
     "data": {
      "text/plain": [
       "array([[32, 64, 78],\n",
       "       [24, 81, 95],\n",
       "       [19, 40, 43],\n",
       "       [41, 59, 90]])"
      ]
     },
     "execution_count": 3,
     "metadata": {},
     "output_type": "execute_result"
    }
   ],
   "source": [
    "np.sort(arr) # sorts individual rows"
   ]
  },
  {
   "cell_type": "code",
   "execution_count": 7,
   "metadata": {},
   "outputs": [
    {
     "data": {
      "text/plain": [
       "array([64, 95, 40, 59])"
      ]
     },
     "execution_count": 7,
     "metadata": {},
     "output_type": "execute_result"
    }
   ],
   "source": [
    "nums = arr[::, 1]\n",
    "nums"
   ]
  },
  {
   "cell_type": "code",
   "execution_count": 8,
   "metadata": {},
   "outputs": [
    {
     "data": {
      "text/plain": [
       "array([2, 3, 0, 1], dtype=int64)"
      ]
     },
     "execution_count": 8,
     "metadata": {},
     "output_type": "execute_result"
    }
   ],
   "source": [
    "indices_which_will_sort_the_nums = arr[::, 1].argsort()\n",
    "indices_which_will_sort_the_nums"
   ]
  },
  {
   "cell_type": "code",
   "execution_count": 9,
   "metadata": {},
   "outputs": [
    {
     "data": {
      "text/plain": [
       "array([40, 59, 64, 95])"
      ]
     },
     "execution_count": 9,
     "metadata": {},
     "output_type": "execute_result"
    }
   ],
   "source": [
    "nums[indices_which_will_sort_the_nums]"
   ]
  },
  {
   "cell_type": "markdown",
   "metadata": {},
   "source": [
    "### `2 based on values of first column`"
   ]
  },
  {
   "cell_type": "code",
   "execution_count": 11,
   "metadata": {},
   "outputs": [
    {
     "data": {
      "text/plain": [
       "array([[43, 40, 19],\n",
       "       [90, 59, 41],\n",
       "       [78, 64, 32],\n",
       "       [81, 95, 24]])"
      ]
     },
     "execution_count": 11,
     "metadata": {},
     "output_type": "execute_result"
    }
   ],
   "source": [
    "arr[indices_which_will_sort_the_nums, ::]"
   ]
  },
  {
   "cell_type": "markdown",
   "metadata": {},
   "source": [
    "### `4 based on values`"
   ]
  },
  {
   "cell_type": "code",
   "execution_count": 12,
   "metadata": {},
   "outputs": [
    {
     "data": {
      "text/plain": [
       "array([[78, 64, 32],\n",
       "       [81, 95, 24],\n",
       "       [43, 40, 19],\n",
       "       [90, 59, 41]])"
      ]
     },
     "execution_count": 12,
     "metadata": {},
     "output_type": "execute_result"
    }
   ],
   "source": [
    "arr"
   ]
  },
  {
   "cell_type": "markdown",
   "metadata": {},
   "source": [
    "`When we use np.sort() method with axis = None, it flattens the array and then sorts it.`"
   ]
  },
  {
   "cell_type": "code",
   "execution_count": 13,
   "metadata": {},
   "outputs": [
    {
     "data": {
      "text/plain": [
       "array([19, 24, 32, 40, 41, 43, 59, 64, 78, 81, 90, 95])"
      ]
     },
     "execution_count": 13,
     "metadata": {},
     "output_type": "execute_result"
    }
   ],
   "source": [
    "np.sort(arr, axis = None)"
   ]
  },
  {
   "cell_type": "code",
   "execution_count": 15,
   "metadata": {},
   "outputs": [
    {
     "data": {
      "text/plain": [
       "array([[19, 24, 32],\n",
       "       [40, 41, 43],\n",
       "       [59, 64, 78],\n",
       "       [81, 90, 95]])"
      ]
     },
     "execution_count": 15,
     "metadata": {},
     "output_type": "execute_result"
    }
   ],
   "source": [
    "np.sort(arr, axis = None).reshape(arr.shape)"
   ]
  },
  {
   "cell_type": "code",
   "execution_count": null,
   "metadata": {},
   "outputs": [],
   "source": []
  },
  {
   "cell_type": "code",
   "execution_count": null,
   "metadata": {},
   "outputs": [],
   "source": []
  },
  {
   "cell_type": "markdown",
   "metadata": {
    "id": "Jx_I3gx9lBay"
   },
   "source": [
    "### `Q-2:` There is an array of marks of 5 students in 4 subjects. Further you are asked to perform below task.\n",
    "    i. Add marks every student of an extra subject in the same array.\n",
    "    ii. Add two new students marks in respective 5 subjects.(one subject added in above task)\n",
    "    iii. Add extra column with sum of all subjects(5-subjects) marks\n",
    "    iv. Sort the array(non-ascending order) on total marks column--one added in above task. Show top 2 rows.\n",
    "\n",
    "Note: Change dimension of arrays during concatenation or appending if required."
   ]
  },
  {
   "cell_type": "markdown",
   "metadata": {
    "id": "lXF-CE6ylNIw"
   },
   "source": [
    "Given Array-\n",
    "```\n",
    "marks = [[13, 10,  9, 33],\n",
    "       [63, 46, 90, 42],\n",
    "       [39, 76, 13, 29],\n",
    "       [82,  9, 29, 78],\n",
    "       [67, 61, 59, 36]]\n",
    "\n",
    "extra_subject = [41, 87, 72, 36, 92]\n",
    "#Two extra students record-\n",
    "rec1 = [77, 83, 98, 95, 89]\n",
    "rec2 = [92, 71, 52, 61, 53]\n",
    "```"
   ]
  },
  {
   "cell_type": "code",
   "execution_count": 17,
   "metadata": {},
   "outputs": [
    {
     "data": {
      "text/plain": [
       "array([[13, 10,  9, 33],\n",
       "       [63, 46, 90, 42],\n",
       "       [39, 76, 13, 29],\n",
       "       [82,  9, 29, 78],\n",
       "       [67, 61, 59, 36]])"
      ]
     },
     "execution_count": 17,
     "metadata": {},
     "output_type": "execute_result"
    }
   ],
   "source": [
    "marks = np.array([[13, 10,  9, 33],\n",
    "       [63, 46, 90, 42],\n",
    "       [39, 76, 13, 29],\n",
    "       [82,  9, 29, 78],\n",
    "       [67, 61, 59, 36]])\n",
    "\n",
    "marks"
   ]
  },
  {
   "cell_type": "markdown",
   "metadata": {},
   "source": [
    "`When we want to change the dimension of a 1D array to 2D. We reshape it with (-1, 1). The -1 is used to add an extra dimension.`"
   ]
  },
  {
   "cell_type": "code",
   "execution_count": 31,
   "metadata": {},
   "outputs": [
    {
     "data": {
      "text/plain": [
       "array([[41],\n",
       "       [87],\n",
       "       [72],\n",
       "       [36],\n",
       "       [92]])"
      ]
     },
     "execution_count": 31,
     "metadata": {},
     "output_type": "execute_result"
    }
   ],
   "source": [
    "extra_subject = np.array([41, 87, 72, 36, 92]).reshape((-1, 1))\n",
    "extra_subject"
   ]
  },
  {
   "cell_type": "code",
   "execution_count": 32,
   "metadata": {},
   "outputs": [
    {
     "data": {
      "text/plain": [
       "array([[13, 10,  9, 33, 41],\n",
       "       [63, 46, 90, 42, 87],\n",
       "       [39, 76, 13, 29, 72],\n",
       "       [82,  9, 29, 78, 36],\n",
       "       [67, 61, 59, 36, 92]])"
      ]
     },
     "execution_count": 32,
     "metadata": {},
     "output_type": "execute_result"
    }
   ],
   "source": [
    "marks = np.concatenate([marks, extra_subject], axis = 1)\n",
    "marks"
   ]
  },
  {
   "cell_type": "markdown",
   "metadata": {},
   "source": [
    "### `ii Add two new students marks in respective 5 subjects.(one subject added in above task)`"
   ]
  },
  {
   "cell_type": "code",
   "execution_count": 33,
   "metadata": {},
   "outputs": [],
   "source": [
    "rec1 = np.array([77, 83, 98, 95, 89]).reshape(1, -1)\n",
    "rec2 = np.array( [92, 71, 52, 61, 53]).reshape(1, -1)"
   ]
  },
  {
   "cell_type": "code",
   "execution_count": 34,
   "metadata": {},
   "outputs": [
    {
     "data": {
      "text/plain": [
       "array([[13, 10,  9, 33, 41],\n",
       "       [63, 46, 90, 42, 87],\n",
       "       [39, 76, 13, 29, 72],\n",
       "       [82,  9, 29, 78, 36],\n",
       "       [67, 61, 59, 36, 92]])"
      ]
     },
     "execution_count": 34,
     "metadata": {},
     "output_type": "execute_result"
    }
   ],
   "source": [
    "marks"
   ]
  },
  {
   "cell_type": "code",
   "execution_count": 35,
   "metadata": {},
   "outputs": [
    {
     "data": {
      "text/plain": [
       "array([[77, 83, 98, 95, 89]])"
      ]
     },
     "execution_count": 35,
     "metadata": {},
     "output_type": "execute_result"
    }
   ],
   "source": [
    "rec1"
   ]
  },
  {
   "cell_type": "code",
   "execution_count": 36,
   "metadata": {},
   "outputs": [
    {
     "data": {
      "text/plain": [
       "array([[92, 71, 52, 61, 53]])"
      ]
     },
     "execution_count": 36,
     "metadata": {},
     "output_type": "execute_result"
    }
   ],
   "source": [
    "rec2"
   ]
  },
  {
   "cell_type": "code",
   "execution_count": 37,
   "metadata": {},
   "outputs": [
    {
     "data": {
      "text/plain": [
       "array([[13, 10,  9, 33, 41],\n",
       "       [63, 46, 90, 42, 87],\n",
       "       [39, 76, 13, 29, 72],\n",
       "       [82,  9, 29, 78, 36],\n",
       "       [67, 61, 59, 36, 92],\n",
       "       [77, 83, 98, 95, 89],\n",
       "       [92, 71, 52, 61, 53]])"
      ]
     },
     "execution_count": 37,
     "metadata": {},
     "output_type": "execute_result"
    }
   ],
   "source": [
    "marks = np.concatenate([marks, rec1, rec2], axis = 0)\n",
    "marks"
   ]
  },
  {
   "cell_type": "markdown",
   "metadata": {},
   "source": [
    "### `iii. Add extra column with sum of all subjects(5-subjects) marks`"
   ]
  },
  {
   "cell_type": "code",
   "execution_count": 39,
   "metadata": {},
   "outputs": [
    {
     "data": {
      "text/plain": [
       "array([106, 328, 229, 234, 315, 442, 329])"
      ]
     },
     "execution_count": 39,
     "metadata": {},
     "output_type": "execute_result"
    }
   ],
   "source": [
    "_sum = np.sum(marks, axis = 1)\n",
    "_sum"
   ]
  },
  {
   "cell_type": "code",
   "execution_count": 40,
   "metadata": {},
   "outputs": [
    {
     "data": {
      "text/plain": [
       "array([[106],\n",
       "       [328],\n",
       "       [229],\n",
       "       [234],\n",
       "       [315],\n",
       "       [442],\n",
       "       [329]])"
      ]
     },
     "execution_count": 40,
     "metadata": {},
     "output_type": "execute_result"
    }
   ],
   "source": [
    "_sum = _sum.reshape((-1, 1))\n",
    "_sum"
   ]
  },
  {
   "cell_type": "code",
   "execution_count": 42,
   "metadata": {},
   "outputs": [
    {
     "data": {
      "text/plain": [
       "array([[ 13,  10,   9,  33,  41, 106],\n",
       "       [ 63,  46,  90,  42,  87, 328],\n",
       "       [ 39,  76,  13,  29,  72, 229],\n",
       "       [ 82,   9,  29,  78,  36, 234],\n",
       "       [ 67,  61,  59,  36,  92, 315],\n",
       "       [ 77,  83,  98,  95,  89, 442],\n",
       "       [ 92,  71,  52,  61,  53, 329]])"
      ]
     },
     "execution_count": 42,
     "metadata": {},
     "output_type": "execute_result"
    }
   ],
   "source": [
    "marks = np.concatenate([marks, _sum], axis = 1)\n",
    "marks"
   ]
  },
  {
   "cell_type": "markdown",
   "metadata": {},
   "source": [
    "### `iv. Sort the array(non-ascending order) on total marks column--one added in above task. Show top 2 rows.`"
   ]
  },
  {
   "cell_type": "code",
   "execution_count": 44,
   "metadata": {},
   "outputs": [
    {
     "data": {
      "text/plain": [
       "[array([ 13,  10,   9,  33,  41, 106]),\n",
       " array([ 39,  76,  13,  29,  72, 229]),\n",
       " array([ 82,   9,  29,  78,  36, 234]),\n",
       " array([ 67,  61,  59,  36,  92, 315]),\n",
       " array([ 63,  46,  90,  42,  87, 328]),\n",
       " array([ 92,  71,  52,  61,  53, 329]),\n",
       " array([ 77,  83,  98,  95,  89, 442])]"
      ]
     },
     "execution_count": 44,
     "metadata": {},
     "output_type": "execute_result"
    }
   ],
   "source": [
    "sorted(marks, key = lambda row : row[-1])"
   ]
  },
  {
   "cell_type": "code",
   "execution_count": 45,
   "metadata": {},
   "outputs": [
    {
     "data": {
      "text/plain": [
       "[array([ 77,  83,  98,  95,  89, 442]),\n",
       " array([ 92,  71,  52,  61,  53, 329]),\n",
       " array([ 63,  46,  90,  42,  87, 328]),\n",
       " array([ 67,  61,  59,  36,  92, 315]),\n",
       " array([ 82,   9,  29,  78,  36, 234]),\n",
       " array([ 39,  76,  13,  29,  72, 229]),\n",
       " array([ 13,  10,   9,  33,  41, 106])]"
      ]
     },
     "execution_count": 45,
     "metadata": {},
     "output_type": "execute_result"
    }
   ],
   "source": [
    "sorted(marks, key = lambda row : row[-1], reverse = True)"
   ]
  },
  {
   "cell_type": "code",
   "execution_count": 47,
   "metadata": {},
   "outputs": [
    {
     "data": {
      "text/plain": [
       "array([[ 77,  83,  98,  95,  89, 442],\n",
       "       [ 92,  71,  52,  61,  53, 329],\n",
       "       [ 63,  46,  90,  42,  87, 328],\n",
       "       [ 67,  61,  59,  36,  92, 315],\n",
       "       [ 82,   9,  29,  78,  36, 234],\n",
       "       [ 39,  76,  13,  29,  72, 229],\n",
       "       [ 13,  10,   9,  33,  41, 106]])"
      ]
     },
     "execution_count": 47,
     "metadata": {},
     "output_type": "execute_result"
    }
   ],
   "source": [
    "np.array(sorted(marks, key = lambda row : row[-1], reverse = True)).reshape(marks.shape)"
   ]
  },
  {
   "cell_type": "markdown",
   "metadata": {
    "id": "VmOyK_8klRqR"
   },
   "source": [
    "### `Q-3:` Find unique arrays from a 2D array column wise and row wise.\n",
    "```\n",
    "arr = np.array([[1,2,3,3,1,1],\n",
    "                [0,9,1,2,8,8],\n",
    "                [1,2,3,8,8,8],\n",
    "                [1,2,3,3,1,1]])\n",
    "```\n",
    "Expected Result-\n",
    "```\n",
    "Row Wise\n",
    "[[0 9 1 2 8 8]\n",
    " [1 2 3 3 1 1]\n",
    " [1 2 3 8 8 8]]\n",
    "\n",
    "Col Wise\n",
    "[[1 1 2 3 3]\n",
    " [0 8 9 1 2]\n",
    " [1 8 2 3 8]\n",
    " [1 1 2 3 3]]\n",
    "```"
   ]
  },
  {
   "cell_type": "code",
   "execution_count": 48,
   "metadata": {
    "id": "LJl10VQrlU5q",
    "outputId": "b79c2e7e-7558-4955-b08e-06477bbb7dbb"
   },
   "outputs": [
    {
     "name": "stdout",
     "output_type": "stream",
     "text": [
      "[[0 9 1 2 8 8]\n",
      " [1 2 3 3 1 1]\n",
      " [1 2 3 8 8 8]]\n",
      "[[1 1 2 3 3]\n",
      " [0 8 9 1 2]\n",
      " [1 8 2 3 8]\n",
      " [1 1 2 3 3]]\n"
     ]
    }
   ],
   "source": [
    "arr = np.array([[1,2,3,3,1,1],\n",
    "                [0,9,1,2,8,8],\n",
    "                [1,2,3,8,8,8],\n",
    "                [1,2,3,3,1,1]])\n",
    "#1\n",
    "print(np.unique(arr, axis = 0))\n",
    "#2\n",
    "print(np.unique(arr, axis = 1))"
   ]
  },
  {
   "cell_type": "markdown",
   "metadata": {
    "id": "RaXwVkywlWY2"
   },
   "source": [
    "### `Q-4:` Flip given 2-D array along both axes at the same time."
   ]
  },
  {
   "cell_type": "code",
   "execution_count": 49,
   "metadata": {
    "id": "mN7-4G8Kleeq",
    "outputId": "6dec4035-b340-455d-a968-924e1a874040"
   },
   "outputs": [
    {
     "data": {
      "text/plain": [
       "array([[-1,  8, -2, 14, 19, 10],\n",
       "       [ 7, 11,  2,  1,  6,  0],\n",
       "       [ 1,  1,  3,  3,  2,  1],\n",
       "       [ 8,  8,  8,  3,  2,  1],\n",
       "       [ 8,  8,  2,  1,  9,  0],\n",
       "       [ 1,  1,  3,  3,  2,  1]])"
      ]
     },
     "execution_count": 49,
     "metadata": {},
     "output_type": "execute_result"
    }
   ],
   "source": [
    "# code here\n",
    "arr = np.array([[1,2,3,3,1,1],\n",
    "               [0,9,1,2,8,8],\n",
    "               [1,2,3,8,8,8],\n",
    "               [1,2,3,3,1,1],\n",
    "               [0,6,1,2,11,7],\n",
    "               [10,19,14,-2,8,-1]])\n",
    "np.flip(arr, axis = [0, 1])"
   ]
  },
  {
   "cell_type": "markdown",
   "metadata": {
    "id": "X0S7BUNTlfoq"
   },
   "source": [
    "### `Q-5:` Get row numbers of NumPy array having element larger than X.\n",
    "```\n",
    "arr = [[1,2,3,4,5],\n",
    "      [10,-3,30,4,5],\n",
    "      [3,2,5,-4,5],\n",
    "      [9,7,3,6,5]]\n",
    "\n",
    "X = 6\n",
    "```"
   ]
  },
  {
   "cell_type": "code",
   "execution_count": 50,
   "metadata": {
    "id": "bi8jRmWhlkBU",
    "outputId": "935e14c5-f208-441d-8dbf-ef68aaa395f2"
   },
   "outputs": [
    {
     "data": {
      "text/plain": [
       "(array([1, 3], dtype=int64),)"
      ]
     },
     "execution_count": 50,
     "metadata": {},
     "output_type": "execute_result"
    }
   ],
   "source": [
    "arr = np.array([[1,2,3,4,5],\n",
    "      [10,-3,30,4,5],\n",
    "      [3,2,5,-4,5],\n",
    "      [9,7,3,6,5]] )\n",
    "X = 6\n",
    "\n",
    "np.where(np.any(arr > X, axis = 1))"
   ]
  },
  {
   "cell_type": "markdown",
   "metadata": {
    "id": "DSCQMo4mlnDG"
   },
   "source": [
    "### `Q-6:` How to convert an array of arrays into a flat 1d array?\n"
   ]
  },
  {
   "cell_type": "code",
   "execution_count": 51,
   "metadata": {
    "id": "QZhSkUT2lsJW"
   },
   "outputs": [],
   "source": [
    "# These arrays are given.\n",
    "arr1 = np.arange(3)\n",
    "arr2 = np.arange(3,7)\n",
    "arr3 = np.arange(7,10)"
   ]
  },
  {
   "cell_type": "code",
   "execution_count": 52,
   "metadata": {
    "id": "f42OXNrFls0I",
    "outputId": "ab939a0f-3697-4be7-c4eb-28a1e4e2bdd5"
   },
   "outputs": [
    {
     "data": {
      "text/plain": [
       "array([0, 1, 2, 3, 4, 5, 6, 7, 8, 9])"
      ]
     },
     "execution_count": 52,
     "metadata": {},
     "output_type": "execute_result"
    }
   ],
   "source": [
    "np.concatenate([arr1, arr2, arr3])"
   ]
  },
  {
   "cell_type": "markdown",
   "metadata": {
    "id": "A1J4oOVCluqO"
   },
   "source": [
    "### `Q-7:` You are given a array. You have to find the minimum and maximum array element and remove that from the array.\n",
    "\n",
    "```python\n",
    "import numpy as np\n",
    "\n",
    "np.random.seed(400)\n",
    "arr = np.random.randint(100, 1000, 200).reshape((1, 200))\n",
    "```"
   ]
  },
  {
   "cell_type": "code",
   "execution_count": null,
   "metadata": {
    "id": "c6kmgtUJlybZ",
    "outputId": "7da2b935-ae36-44b1-9199-4937160aebb9"
   },
   "outputs": [
    {
     "name": "stdout",
     "output_type": "stream",
     "text": [
      "[[448 563 418 240 507 362 345 236 719 291 298 639 458 387 262 613 267 882\n",
      "  181 425 790 635 889 818 872 967 277 470 336 920 917 295 557 830 506 385\n",
      "  353 975 592 997 137 340 222 215 472 459 617 649 935 956 914 932 645 952\n",
      "  921 490 527 972 278 307 840 958 246 449 251 957 103 627 920 824 356 825\n",
      "  173 323 372 960 710 464 244 782 763 635 436 774 171 469 178 458 624 211\n",
      "  771 270 308 231 952 514 699 702 433 900 373 318 998 265 503 320 230 324\n",
      "  922 967 620 743 527 117 566 804 123 946 587 227 853 757 944 328 855 930\n",
      "  325 729 426 514 296 879 575 936 705 209 191 743 510 513 628 559 658 528\n",
      "  395 525 922 136 496 225 895 975 263 908 420 711 800 976 786 235 930 859\n",
      "  618 226 695 460 218 483 490 803 621 453 193 607 677 637 728 724 534 748\n",
      "  291 194 761 875 687 569 228 482 781 554 654 739 885 197 266 228 892 207\n",
      "  883 588]]\n",
      "998 103\n",
      "997 117\n"
     ]
    }
   ],
   "source": [
    "# code here\n",
    "np.random.seed(400)\n",
    "arr = np.random.randint(100, 1000, 200).reshape((1, 200))\n",
    "print(arr)\n",
    "max_element = arr.argmax()\n",
    "min_element = arr.argmin()\n",
    "print(arr.max(), arr.min())\n",
    "arr = np.delete(arr, max_element, axis = 1)\n",
    "arr = np.delete(arr, min_element, axis = 1)\n",
    "print(arr.max(), arr.min())"
   ]
  },
  {
   "cell_type": "markdown",
   "metadata": {
    "id": "0dHN1sdnl0Jy"
   },
   "source": [
    "### `Q-8:` You are given an arrays. You have to limit this array's elements between 100 to 200. $arr ∈ [100, 200]$. So replace those values accordingly with the minimum and maximum value. Then sort the array and perform the cumulative sum of that array."
   ]
  },
  {
   "cell_type": "code",
   "execution_count": null,
   "metadata": {
    "id": "a3YF_E-Hlza7",
    "outputId": "543cdada-5fd5-4a1a-fc39-7f37adbcc12f"
   },
   "outputs": [
    {
     "data": {
      "text/plain": [
       "array([  100,   200,   300,   400,   500,   600,   700,   800,   900,\n",
       "        1000,  1100,  1200,  1300,  1400,  1500,  1600,  1700,  1800,\n",
       "        1900,  2000,  2100,  2205,  2320,  2436,  2553,  2677,  2811,\n",
       "        2947,  3094,  3242,  3395,  3552,  3712,  3873,  4044,  4221,\n",
       "        4399,  4592,  4786,  4986,  5186,  5386,  5586,  5786,  5986,\n",
       "        6186,  6386,  6586,  6786,  6986,  7186,  7386,  7586,  7786,\n",
       "        7986,  8186,  8386,  8586,  8786,  8986,  9186,  9386,  9586,\n",
       "        9786,  9986, 10186, 10386, 10586, 10786, 10986, 11186, 11386,\n",
       "       11586, 11786, 11986, 12186, 12386, 12586, 12786, 12986, 13186,\n",
       "       13386, 13586, 13786, 13986, 14186, 14386, 14586, 14786, 14986,\n",
       "       15186, 15386, 15586, 15786, 15986, 16186, 16386, 16586, 16786,\n",
       "       16986, 17186, 17386, 17586, 17786, 17986, 18186, 18386, 18586,\n",
       "       18786, 18986, 19186, 19386, 19586, 19786, 19986, 20186, 20386,\n",
       "       20586, 20786, 20986, 21186, 21386, 21586, 21786, 21986, 22186,\n",
       "       22386, 22586, 22786, 22986, 23186, 23386, 23586, 23786, 23986,\n",
       "       24186, 24386, 24586, 24786, 24986, 25186, 25386, 25586, 25786,\n",
       "       25986, 26186, 26386, 26586, 26786, 26986, 27186, 27386, 27586,\n",
       "       27786, 27986, 28186, 28386, 28586, 28786, 28986, 29186, 29386,\n",
       "       29586, 29786, 29986, 30186, 30386, 30586, 30786, 30986, 31186,\n",
       "       31386, 31586, 31786, 31986, 32186, 32386, 32586, 32786, 32986,\n",
       "       33186, 33386, 33586, 33786, 33986, 34186, 34386, 34586, 34786,\n",
       "       34986, 35186, 35386, 35586, 35786, 35986, 36186, 36386, 36586,\n",
       "       36786, 36986, 37186, 37386, 37586, 37786, 37986, 38186, 38386,\n",
       "       38586, 38786, 38986, 39186, 39386, 39586, 39786, 39986, 40186,\n",
       "       40386, 40586, 40786, 40986, 41186, 41386, 41586, 41786, 41986,\n",
       "       42186, 42386, 42586, 42786, 42986, 43186, 43386, 43586, 43786,\n",
       "       43986, 44186, 44386, 44586, 44786, 44986, 45186, 45386, 45586,\n",
       "       45786, 45986, 46186, 46386, 46586, 46786, 46986, 47186, 47386,\n",
       "       47586, 47786, 47986, 48186, 48386, 48586, 48786, 48986, 49186,\n",
       "       49386, 49586, 49786, 49986, 50186, 50386, 50586, 50786, 50986,\n",
       "       51186, 51386, 51586, 51786, 51986, 52186, 52386, 52586, 52786,\n",
       "       52986, 53186, 53386, 53586, 53786, 53986, 54186, 54386, 54586,\n",
       "       54786, 54986, 55186, 55386, 55586, 55786, 55986, 56186, 56386,\n",
       "       56586, 56786, 56986, 57186, 57386, 57586, 57786, 57986, 58186,\n",
       "       58386, 58586, 58786, 58986, 59186, 59386, 59586, 59786, 59986,\n",
       "       60186, 60386, 60586, 60786, 60986, 61186, 61386, 61586, 61786,\n",
       "       61986, 62186, 62386, 62586, 62786, 62986, 63186, 63386, 63586,\n",
       "       63786, 63986, 64186, 64386, 64586, 64786, 64986, 65186, 65386,\n",
       "       65586, 65786, 65986, 66186, 66386, 66586, 66786, 66986, 67186,\n",
       "       67386, 67586, 67786, 67986, 68186, 68386, 68586, 68786, 68986,\n",
       "       69186, 69386, 69586, 69786, 69986, 70186, 70386, 70586, 70786,\n",
       "       70986, 71186, 71386, 71586, 71786, 71986, 72186, 72386, 72586,\n",
       "       72786, 72986, 73186, 73386, 73586, 73786, 73986, 74186, 74386,\n",
       "       74586, 74786, 74986, 75186, 75386, 75586, 75786, 75986, 76186,\n",
       "       76386, 76586, 76786, 76986, 77186, 77386, 77586, 77786, 77986,\n",
       "       78186, 78386, 78586, 78786, 78986, 79186, 79386, 79586, 79786,\n",
       "       79986, 80186, 80386, 80586, 80786, 80986, 81186, 81386, 81586,\n",
       "       81786, 81986, 82186, 82386, 82586, 82786, 82986, 83186, 83386,\n",
       "       83586, 83786, 83986, 84186, 84386, 84586, 84786, 84986, 85186,\n",
       "       85386, 85586, 85786, 85986, 86186, 86386, 86586, 86786, 86986,\n",
       "       87186, 87386, 87586, 87786, 87986, 88186, 88386, 88586, 88786,\n",
       "       88986, 89186, 89386, 89586, 89786, 89986, 90186, 90386, 90586,\n",
       "       90786, 90986, 91186, 91386, 91586, 91786, 91986, 92186, 92386,\n",
       "       92586, 92786, 92986, 93186, 93386, 93586, 93786, 93986, 94186,\n",
       "       94386, 94586, 94786, 94986, 95186, 95386, 95586, 95786, 95986,\n",
       "       96186, 96386, 96586, 96786, 96986], dtype=int32)"
      ]
     },
     "execution_count": 44,
     "metadata": {},
     "output_type": "execute_result"
    }
   ],
   "source": [
    "# code here\n",
    "arr = np.random.randint(0, 2000, 500)\n",
    "np.cumsum(np.sort(np.clip(arr, 100, 200)))"
   ]
  },
  {
   "cell_type": "markdown",
   "metadata": {
    "id": "cXj90Susl4-I"
   },
   "source": [
    "### `Q-9:` You are given a array ($arr ∈ [0, 1]$). First you have round off the elements upto 3 decimal places and compare that\n",
    "- 0th percentile == minimum value of the array\n",
    "- 100th percentile == maximum value of the array\n",
    "- also find the difference betwen 51th percenile and 50th percentile values"
   ]
  },
  {
   "cell_type": "code",
   "execution_count": null,
   "metadata": {
    "id": "SgBEHodgl7Lo",
    "outputId": "46cdba25-d679-4510-f90b-7584c668702b"
   },
   "outputs": [
    {
     "name": "stdout",
     "output_type": "stream",
     "text": [
      "0th percentile == minimum value of the array:  True\n",
      "100th percentile == maximum value of the array:  True\n",
      "difference betwen 51th percenile and 50th percentile values:  0.014919999999999933\n"
     ]
    }
   ],
   "source": [
    "# code here\n",
    "arr = np.random.random(100)\n",
    "arr = np.around(arr, decimals = 3)\n",
    "\n",
    "print(\"0th percentile == minimum value of the array: \", (np.percentile(arr, 0) == arr.min()))\n",
    "print(\"100th percentile == maximum value of the array: \", (np.percentile(arr, 100) == arr.max()))\n",
    "print(\"difference betwen 51th percenile and 50th percentile values: \", (np.percentile(arr, 51) - np.percentile(arr, 50)))"
   ]
  },
  {
   "cell_type": "code",
   "execution_count": null,
   "metadata": {
    "id": "32FxHxCkSNpG"
   },
   "outputs": [],
   "source": []
  }
 ],
 "metadata": {
  "colab": {
   "provenance": []
  },
  "kernelspec": {
   "display_name": "Python 3 (ipykernel)",
   "language": "python",
   "name": "python3"
  },
  "language_info": {
   "codemirror_mode": {
    "name": "ipython",
    "version": 3
   },
   "file_extension": ".py",
   "mimetype": "text/x-python",
   "name": "python",
   "nbconvert_exporter": "python",
   "pygments_lexer": "ipython3",
   "version": "3.11.5"
  }
 },
 "nbformat": 4,
 "nbformat_minor": 1
}
