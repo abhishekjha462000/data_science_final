{
 "cells": [
  {
   "cell_type": "code",
   "execution_count": 1,
   "id": "4f36d5a9",
   "metadata": {},
   "outputs": [],
   "source": [
    "import os, zipfile"
   ]
  },
  {
   "cell_type": "code",
   "execution_count": 2,
   "id": "abe205ca",
   "metadata": {},
   "outputs": [],
   "source": [
    "path = 'D:\\Pepcoding\\FJP7-DSA(complete)\\9November'"
   ]
  },
  {
   "cell_type": "code",
   "execution_count": 3,
   "id": "bdc22873",
   "metadata": {},
   "outputs": [],
   "source": [
    "os.chdir(path)"
   ]
  },
  {
   "cell_type": "code",
   "execution_count": 7,
   "id": "db24e79d",
   "metadata": {},
   "outputs": [],
   "source": [
    "for item in os.listdir(path):\n",
    "#     print(item)\n",
    "    if item.endswith('.zip'):\n",
    "        file_name = os.path.abspath(item) # get full path of files\n",
    "        zip_ref = zipfile.ZipFile(file_name) # create zipfile object\n",
    "        zip_ref.extractall(path) # extract file to dir\n",
    "        zip_ref.close() # close file\n",
    "        os.remove(file_name) # delete zipped file\n",
    "#         print(file_name)"
   ]
  },
  {
   "cell_type": "code",
   "execution_count": null,
   "id": "dbb61ff5",
   "metadata": {},
   "outputs": [],
   "source": []
  }
 ],
 "metadata": {
  "kernelspec": {
   "display_name": "Python 3 (ipykernel)",
   "language": "python",
   "name": "python3"
  },
  "language_info": {
   "codemirror_mode": {
    "name": "ipython",
    "version": 3
   },
   "file_extension": ".py",
   "mimetype": "text/x-python",
   "name": "python",
   "nbconvert_exporter": "python",
   "pygments_lexer": "ipython3",
   "version": "3.11.4"
  }
 },
 "nbformat": 4,
 "nbformat_minor": 5
}
